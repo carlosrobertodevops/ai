{
  "nbformat": 4,
  "nbformat_minor": 0,
  "metadata": {
    "colab": {
      "provenance": [],
      "collapsed_sections": [
        "5fg4HvEjMqSa"
      ]
    },
    "kernelspec": {
      "display_name": "Python 3",
      "language": "python",
      "name": "python3"
    },
    "language_info": {
      "codemirror_mode": {
        "name": "ipython",
        "version": 3
      },
      "file_extension": ".py",
      "mimetype": "text/x-python",
      "name": "python",
      "nbconvert_exporter": "python",
      "pygments_lexer": "ipython3",
      "version": "3.7.6"
    },
    "toc": {
      "base_numbering": 1,
      "nav_menu": {},
      "number_sections": true,
      "sideBar": true,
      "skip_h1_title": false,
      "title_cell": "Table of Contents",
      "title_sidebar": "Contents",
      "toc_cell": false,
      "toc_position": {},
      "toc_section_display": true,
      "toc_window_display": false
    }
  },
  "cells": [
    {
      "cell_type": "markdown",
      "metadata": {
        "id": "GBJGN8UStBUW"
      },
      "source": [
        "---\n",
        "# Exercício Breast Cancer - Balanceamento, kNN, Regressão Logística\n",
        "---\n",
        "**Machine Learning em Projetos (Erick Muzart e Fernando melo)**   \n",
        "Tópicos:\n",
        "- Knn\n",
        "- Regressão logística\n",
        "- Matriz de confusão\n",
        "\n",
        "<br>\n",
        "------------------------------------------------\n",
        "\n"
      ]
    },
    {
      "cell_type": "markdown",
      "metadata": {
        "id": "3AlRiG7EoRTu"
      },
      "source": [
        "#### **Descrição do projeto de machine learning**\n",
        "Antes de escrever qualquer código, precisamos entender o problema que queremos resolver e fazer uma descrição eficiente do projeto, visando a comunicação  simples e rápida do objetivo do projeto para técnicos, gestores e colaboradores.  \n",
        "  \n",
        "**1- Descrição do problema ou tarefa:**  \n",
        "Prever se o câncer de mama é maligno ou benigno com base nas características da imagem digitalizada de um aspirado por agulha fina (FNA) de uma massa mamária.   \n",
        "**2- Descrição da solução de IA:**  \n",
        "Treinamento supervisionado de modelo de classificação de câncer de mama em 2 classes (benigno/maligno) com base nas características dos núcleos celulares presentes na imagem.   \n",
        "**3- Fonte de dados:**  \n",
        "Os dados foram obtidos a partir de uma imagem digitalizada de um aspirado por agulha fina (FNA) de uma massa mamária. Eles descrevem as características dos núcleos celulares presentes na imagem.   \n",
        "Fonte dados: https://scikit-learn.org/stable/modules/generated/sklearn.datasets.load_breast_cancer.html   \n",
        "**4- Variáveis independentes (preditoras ou \"features\"):**  \n",
        "'mean radius', 'mean texture', 'mean perimeter', 'mean area',\n",
        "       'mean smoothness', 'mean compactness', 'mean concavity',\n",
        "       'mean concave points', 'mean symmetry', 'mean fractal dimension',\n",
        "       'radius error', 'texture error', 'perimeter error', 'area error',\n",
        "       'smoothness error', 'compactness error', 'concavity error',\n",
        "       'concave points error', 'symmetry error',\n",
        "       'fractal dimension error', 'worst radius', 'worst texture',\n",
        "       'worst perimeter', 'worst area', 'worst smoothness',\n",
        "       'worst compactness', 'worst concavity', 'worst concave points',\n",
        "       'worst symmetry', 'worst fractal dimension'     \n",
        "**5- Variável dependente (resposta ou \"target\"):**  \n",
        "Tipo de câncer benigno ou maligno"
      ]
    },
    {
      "cell_type": "markdown",
      "metadata": {
        "id": "5fg4HvEjMqSa"
      },
      "source": [
        "## Carregar bibliotecas"
      ]
    },
    {
      "cell_type": "code",
      "metadata": {
        "id": "5NirYVDyswYv"
      },
      "source": [
        "# Importar bibliotecas pandas, plot_confusion_matrix, train_test_split, matplotlib, seaborn, metrics\n",
        "import pandas as pd\n",
        "from sklearn.metrics import ConfusionMatrixDisplay\n",
        "from sklearn.model_selection import train_test_split\n",
        "import matplotlib.pyplot as plt \n",
        "from sklearn import metrics\n",
        "import seaborn as sns"
      ],
      "execution_count": null,
      "outputs": []
    },
    {
      "cell_type": "markdown",
      "metadata": {
        "id": "nwTweJlpTY7i"
      },
      "source": [
        "## Análise exploratória dos dados"
      ]
    },
    {
      "cell_type": "code",
      "metadata": {
        "id": "TPi9MudCxt4I"
      },
      "source": [
        "# Importar  e instanciar dataset\n",
        "from sklearn.datasets import load_breast_cancer\n",
        "cancer = load_breast_cancer()"
      ],
      "execution_count": null,
      "outputs": []
    },
    {
      "cell_type": "code",
      "metadata": {
        "colab": {
          "base_uri": "https://localhost:8080/",
          "height": 352
        },
        "id": "hnEjAR7mxt4Q",
        "outputId": "657a31a6-bdfb-49bf-d661-badf4fdab896"
      },
      "source": [
        "# Converter sklearn dataset em pandas dataframe\n",
        "df=pd.DataFrame(cancer.data,columns=cancer.feature_names)\n",
        "# Cria nova coluna target\n",
        "df['target']= list(pd.Series(cancer.target).astype(int))\n",
        "# Mostra as dimensões do dataset e as primeiras linhas\n",
        "print(\"Dimensões do dataset: \", df.shape)\n",
        "df.head()"
      ],
      "execution_count": null,
      "outputs": [
        {
          "output_type": "stream",
          "name": "stdout",
          "text": [
            "Dimensões do dataset:  (569, 31)\n"
          ]
        },
        {
          "output_type": "execute_result",
          "data": {
            "text/plain": [
              "   mean radius  mean texture  mean perimeter  mean area  mean smoothness  \\\n",
              "0        17.99         10.38          122.80     1001.0          0.11840   \n",
              "1        20.57         17.77          132.90     1326.0          0.08474   \n",
              "2        19.69         21.25          130.00     1203.0          0.10960   \n",
              "3        11.42         20.38           77.58      386.1          0.14250   \n",
              "4        20.29         14.34          135.10     1297.0          0.10030   \n",
              "\n",
              "   mean compactness  mean concavity  mean concave points  mean symmetry  \\\n",
              "0           0.27760          0.3001              0.14710         0.2419   \n",
              "1           0.07864          0.0869              0.07017         0.1812   \n",
              "2           0.15990          0.1974              0.12790         0.2069   \n",
              "3           0.28390          0.2414              0.10520         0.2597   \n",
              "4           0.13280          0.1980              0.10430         0.1809   \n",
              "\n",
              "   mean fractal dimension  ...  worst texture  worst perimeter  worst area  \\\n",
              "0                 0.07871  ...          17.33           184.60      2019.0   \n",
              "1                 0.05667  ...          23.41           158.80      1956.0   \n",
              "2                 0.05999  ...          25.53           152.50      1709.0   \n",
              "3                 0.09744  ...          26.50            98.87       567.7   \n",
              "4                 0.05883  ...          16.67           152.20      1575.0   \n",
              "\n",
              "   worst smoothness  worst compactness  worst concavity  worst concave points  \\\n",
              "0            0.1622             0.6656           0.7119                0.2654   \n",
              "1            0.1238             0.1866           0.2416                0.1860   \n",
              "2            0.1444             0.4245           0.4504                0.2430   \n",
              "3            0.2098             0.8663           0.6869                0.2575   \n",
              "4            0.1374             0.2050           0.4000                0.1625   \n",
              "\n",
              "   worst symmetry  worst fractal dimension  target  \n",
              "0          0.4601                  0.11890       0  \n",
              "1          0.2750                  0.08902       0  \n",
              "2          0.3613                  0.08758       0  \n",
              "3          0.6638                  0.17300       0  \n",
              "4          0.2364                  0.07678       0  \n",
              "\n",
              "[5 rows x 31 columns]"
            ],
            "text/html": [
              "\n",
              "  <div id=\"df-5adb2d83-2536-44c5-91e3-fee32f5e485f\">\n",
              "    <div class=\"colab-df-container\">\n",
              "      <div>\n",
              "<style scoped>\n",
              "    .dataframe tbody tr th:only-of-type {\n",
              "        vertical-align: middle;\n",
              "    }\n",
              "\n",
              "    .dataframe tbody tr th {\n",
              "        vertical-align: top;\n",
              "    }\n",
              "\n",
              "    .dataframe thead th {\n",
              "        text-align: right;\n",
              "    }\n",
              "</style>\n",
              "<table border=\"1\" class=\"dataframe\">\n",
              "  <thead>\n",
              "    <tr style=\"text-align: right;\">\n",
              "      <th></th>\n",
              "      <th>mean radius</th>\n",
              "      <th>mean texture</th>\n",
              "      <th>mean perimeter</th>\n",
              "      <th>mean area</th>\n",
              "      <th>mean smoothness</th>\n",
              "      <th>mean compactness</th>\n",
              "      <th>mean concavity</th>\n",
              "      <th>mean concave points</th>\n",
              "      <th>mean symmetry</th>\n",
              "      <th>mean fractal dimension</th>\n",
              "      <th>...</th>\n",
              "      <th>worst texture</th>\n",
              "      <th>worst perimeter</th>\n",
              "      <th>worst area</th>\n",
              "      <th>worst smoothness</th>\n",
              "      <th>worst compactness</th>\n",
              "      <th>worst concavity</th>\n",
              "      <th>worst concave points</th>\n",
              "      <th>worst symmetry</th>\n",
              "      <th>worst fractal dimension</th>\n",
              "      <th>target</th>\n",
              "    </tr>\n",
              "  </thead>\n",
              "  <tbody>\n",
              "    <tr>\n",
              "      <th>0</th>\n",
              "      <td>17.99</td>\n",
              "      <td>10.38</td>\n",
              "      <td>122.80</td>\n",
              "      <td>1001.0</td>\n",
              "      <td>0.11840</td>\n",
              "      <td>0.27760</td>\n",
              "      <td>0.3001</td>\n",
              "      <td>0.14710</td>\n",
              "      <td>0.2419</td>\n",
              "      <td>0.07871</td>\n",
              "      <td>...</td>\n",
              "      <td>17.33</td>\n",
              "      <td>184.60</td>\n",
              "      <td>2019.0</td>\n",
              "      <td>0.1622</td>\n",
              "      <td>0.6656</td>\n",
              "      <td>0.7119</td>\n",
              "      <td>0.2654</td>\n",
              "      <td>0.4601</td>\n",
              "      <td>0.11890</td>\n",
              "      <td>0</td>\n",
              "    </tr>\n",
              "    <tr>\n",
              "      <th>1</th>\n",
              "      <td>20.57</td>\n",
              "      <td>17.77</td>\n",
              "      <td>132.90</td>\n",
              "      <td>1326.0</td>\n",
              "      <td>0.08474</td>\n",
              "      <td>0.07864</td>\n",
              "      <td>0.0869</td>\n",
              "      <td>0.07017</td>\n",
              "      <td>0.1812</td>\n",
              "      <td>0.05667</td>\n",
              "      <td>...</td>\n",
              "      <td>23.41</td>\n",
              "      <td>158.80</td>\n",
              "      <td>1956.0</td>\n",
              "      <td>0.1238</td>\n",
              "      <td>0.1866</td>\n",
              "      <td>0.2416</td>\n",
              "      <td>0.1860</td>\n",
              "      <td>0.2750</td>\n",
              "      <td>0.08902</td>\n",
              "      <td>0</td>\n",
              "    </tr>\n",
              "    <tr>\n",
              "      <th>2</th>\n",
              "      <td>19.69</td>\n",
              "      <td>21.25</td>\n",
              "      <td>130.00</td>\n",
              "      <td>1203.0</td>\n",
              "      <td>0.10960</td>\n",
              "      <td>0.15990</td>\n",
              "      <td>0.1974</td>\n",
              "      <td>0.12790</td>\n",
              "      <td>0.2069</td>\n",
              "      <td>0.05999</td>\n",
              "      <td>...</td>\n",
              "      <td>25.53</td>\n",
              "      <td>152.50</td>\n",
              "      <td>1709.0</td>\n",
              "      <td>0.1444</td>\n",
              "      <td>0.4245</td>\n",
              "      <td>0.4504</td>\n",
              "      <td>0.2430</td>\n",
              "      <td>0.3613</td>\n",
              "      <td>0.08758</td>\n",
              "      <td>0</td>\n",
              "    </tr>\n",
              "    <tr>\n",
              "      <th>3</th>\n",
              "      <td>11.42</td>\n",
              "      <td>20.38</td>\n",
              "      <td>77.58</td>\n",
              "      <td>386.1</td>\n",
              "      <td>0.14250</td>\n",
              "      <td>0.28390</td>\n",
              "      <td>0.2414</td>\n",
              "      <td>0.10520</td>\n",
              "      <td>0.2597</td>\n",
              "      <td>0.09744</td>\n",
              "      <td>...</td>\n",
              "      <td>26.50</td>\n",
              "      <td>98.87</td>\n",
              "      <td>567.7</td>\n",
              "      <td>0.2098</td>\n",
              "      <td>0.8663</td>\n",
              "      <td>0.6869</td>\n",
              "      <td>0.2575</td>\n",
              "      <td>0.6638</td>\n",
              "      <td>0.17300</td>\n",
              "      <td>0</td>\n",
              "    </tr>\n",
              "    <tr>\n",
              "      <th>4</th>\n",
              "      <td>20.29</td>\n",
              "      <td>14.34</td>\n",
              "      <td>135.10</td>\n",
              "      <td>1297.0</td>\n",
              "      <td>0.10030</td>\n",
              "      <td>0.13280</td>\n",
              "      <td>0.1980</td>\n",
              "      <td>0.10430</td>\n",
              "      <td>0.1809</td>\n",
              "      <td>0.05883</td>\n",
              "      <td>...</td>\n",
              "      <td>16.67</td>\n",
              "      <td>152.20</td>\n",
              "      <td>1575.0</td>\n",
              "      <td>0.1374</td>\n",
              "      <td>0.2050</td>\n",
              "      <td>0.4000</td>\n",
              "      <td>0.1625</td>\n",
              "      <td>0.2364</td>\n",
              "      <td>0.07678</td>\n",
              "      <td>0</td>\n",
              "    </tr>\n",
              "  </tbody>\n",
              "</table>\n",
              "<p>5 rows × 31 columns</p>\n",
              "</div>\n",
              "      <button class=\"colab-df-convert\" onclick=\"convertToInteractive('df-5adb2d83-2536-44c5-91e3-fee32f5e485f')\"\n",
              "              title=\"Convert this dataframe to an interactive table.\"\n",
              "              style=\"display:none;\">\n",
              "        \n",
              "  <svg xmlns=\"http://www.w3.org/2000/svg\" height=\"24px\"viewBox=\"0 0 24 24\"\n",
              "       width=\"24px\">\n",
              "    <path d=\"M0 0h24v24H0V0z\" fill=\"none\"/>\n",
              "    <path d=\"M18.56 5.44l.94 2.06.94-2.06 2.06-.94-2.06-.94-.94-2.06-.94 2.06-2.06.94zm-11 1L8.5 8.5l.94-2.06 2.06-.94-2.06-.94L8.5 2.5l-.94 2.06-2.06.94zm10 10l.94 2.06.94-2.06 2.06-.94-2.06-.94-.94-2.06-.94 2.06-2.06.94z\"/><path d=\"M17.41 7.96l-1.37-1.37c-.4-.4-.92-.59-1.43-.59-.52 0-1.04.2-1.43.59L10.3 9.45l-7.72 7.72c-.78.78-.78 2.05 0 2.83L4 21.41c.39.39.9.59 1.41.59.51 0 1.02-.2 1.41-.59l7.78-7.78 2.81-2.81c.8-.78.8-2.07 0-2.86zM5.41 20L4 18.59l7.72-7.72 1.47 1.35L5.41 20z\"/>\n",
              "  </svg>\n",
              "      </button>\n",
              "      \n",
              "  <style>\n",
              "    .colab-df-container {\n",
              "      display:flex;\n",
              "      flex-wrap:wrap;\n",
              "      gap: 12px;\n",
              "    }\n",
              "\n",
              "    .colab-df-convert {\n",
              "      background-color: #E8F0FE;\n",
              "      border: none;\n",
              "      border-radius: 50%;\n",
              "      cursor: pointer;\n",
              "      display: none;\n",
              "      fill: #1967D2;\n",
              "      height: 32px;\n",
              "      padding: 0 0 0 0;\n",
              "      width: 32px;\n",
              "    }\n",
              "\n",
              "    .colab-df-convert:hover {\n",
              "      background-color: #E2EBFA;\n",
              "      box-shadow: 0px 1px 2px rgba(60, 64, 67, 0.3), 0px 1px 3px 1px rgba(60, 64, 67, 0.15);\n",
              "      fill: #174EA6;\n",
              "    }\n",
              "\n",
              "    [theme=dark] .colab-df-convert {\n",
              "      background-color: #3B4455;\n",
              "      fill: #D2E3FC;\n",
              "    }\n",
              "\n",
              "    [theme=dark] .colab-df-convert:hover {\n",
              "      background-color: #434B5C;\n",
              "      box-shadow: 0px 1px 3px 1px rgba(0, 0, 0, 0.15);\n",
              "      filter: drop-shadow(0px 1px 2px rgba(0, 0, 0, 0.3));\n",
              "      fill: #FFFFFF;\n",
              "    }\n",
              "  </style>\n",
              "\n",
              "      <script>\n",
              "        const buttonEl =\n",
              "          document.querySelector('#df-5adb2d83-2536-44c5-91e3-fee32f5e485f button.colab-df-convert');\n",
              "        buttonEl.style.display =\n",
              "          google.colab.kernel.accessAllowed ? 'block' : 'none';\n",
              "\n",
              "        async function convertToInteractive(key) {\n",
              "          const element = document.querySelector('#df-5adb2d83-2536-44c5-91e3-fee32f5e485f');\n",
              "          const dataTable =\n",
              "            await google.colab.kernel.invokeFunction('convertToInteractive',\n",
              "                                                     [key], {});\n",
              "          if (!dataTable) return;\n",
              "\n",
              "          const docLinkHtml = 'Like what you see? Visit the ' +\n",
              "            '<a target=\"_blank\" href=https://colab.research.google.com/notebooks/data_table.ipynb>data table notebook</a>'\n",
              "            + ' to learn more about interactive tables.';\n",
              "          element.innerHTML = '';\n",
              "          dataTable['output_type'] = 'display_data';\n",
              "          await google.colab.output.renderOutput(dataTable, element);\n",
              "          const docLink = document.createElement('div');\n",
              "          docLink.innerHTML = docLinkHtml;\n",
              "          element.appendChild(docLink);\n",
              "        }\n",
              "      </script>\n",
              "    </div>\n",
              "  </div>\n",
              "  "
            ]
          },
          "metadata": {},
          "execution_count": 3
        }
      ]
    },
    {
      "cell_type": "code",
      "metadata": {
        "colab": {
          "base_uri": "https://localhost:8080/"
        },
        "id": "Js2U6QBgrAlB",
        "outputId": "3362664a-9f00-4a78-82f2-665ba039c060"
      },
      "source": [
        "df.target.value_counts()"
      ],
      "execution_count": null,
      "outputs": [
        {
          "output_type": "execute_result",
          "data": {
            "text/plain": [
              "1    357\n",
              "0    212\n",
              "Name: target, dtype: int64"
            ]
          },
          "metadata": {},
          "execution_count": 4
        }
      ]
    },
    {
      "cell_type": "code",
      "metadata": {
        "colab": {
          "base_uri": "https://localhost:8080/",
          "height": 467
        },
        "id": "qwlF8MC3xt4Q",
        "outputId": "0e3328be-1dd0-4974-fea7-21126f727c5a"
      },
      "source": [
        "# Mostra gráfico a dirtibuição de amostras por rótulo da variável dependente(\"target\")\n",
        "df.target.value_counts().plot(xlabel='tipo cancer', ylabel='total de amostras'\n",
        "                              , kind='bar',title='Total de amostras por tipo de cancer');"
      ],
      "execution_count": null,
      "outputs": [
        {
          "output_type": "display_data",
          "data": {
            "text/plain": [
              "<Figure size 640x480 with 1 Axes>"
            ],
            "image/png": "[encoded data removed]"
          },
          "metadata": {}
        }
      ]
    },
    {
      "cell_type": "markdown",
      "metadata": {
        "id": "uybl5bSWOrQF"
      },
      "source": [
        "## Pré-processamento"
      ]
    },
    {
      "cell_type": "code",
      "metadata": {
        "id": "0T3X--Hzu44x",
        "colab": {
          "base_uri": "https://localhost:8080/"
        },
        "outputId": "3e3c5a8b-7d1c-46e6-b5c8-7d48bc84a484"
      },
      "source": [
        "# Atribuir valores para X e y\n",
        "X = cancer.data\n",
        "y = cancer.target\n",
        "# Mostrar as dimensões de X e y\n",
        "print('Dimensões de X = ', X.shape)\n",
        "print('Dimensões de y = ', y.shape)"
      ],
      "execution_count": null,
      "outputs": [
        {
          "output_type": "stream",
          "name": "stdout",
          "text": [
            "Dimensões de X =  (569, 30)\n",
            "Dimensões de y =  (569,)\n"
          ]
        }
      ]
    },
    {
      "cell_type": "markdown",
      "metadata": {
        "id": "8SH7ygumxSL4"
      },
      "source": [
        "### Precisa codificar as variáveis?\n"
      ]
    },
    {
      "cell_type": "markdown",
      "metadata": {
        "id": "ZOl1N0lDwgDa"
      },
      "source": [
        "Encoding das variáveis independentes (features)   \n",
        "Atenção : Todas as variáveis são numéricas, portanto não faremos codificão de variáveis."
      ]
    },
    {
      "cell_type": "markdown",
      "metadata": {
        "id": "IVw-P_p0tzK_"
      },
      "source": [
        "### Precisa Normalizar os dados ?\n"
      ]
    },
    {
      "cell_type": "markdown",
      "metadata": {
        "id": "ycC9nIUtwk3T"
      },
      "source": [
        "Abaixo, Podemos verificar que os intervalos de valores das variáveis não estão na mesma escala, portanto a normalização aqui é recomendada.   \n",
        "Como exemplo, veja a diferença de escala das variáveis abaixo:   \n",
        "- smooth_error= entre 0,007 e 0,0311.    \n",
        "- mean_area= entre 143,5 e 2501 ."
      ]
    },
    {
      "cell_type": "markdown",
      "metadata": {
        "id": "M7h6mSdIsEiS"
      },
      "source": [
        "Normalização dos dados : Por enquanto não faremos o Standard Scaler do Sklearn."
      ]
    },
    {
      "cell_type": "code",
      "metadata": {
        "id": "XbumOvlrTY8a"
      },
      "source": [
        "# Dividir dados em treino e teste (70/30)\n",
        "X_train, X_test, y_train, y_test = train_test_split(X, y, test_size=0.3, random_state=42)"
      ],
      "execution_count": null,
      "outputs": []
    },
    {
      "cell_type": "markdown",
      "metadata": {
        "id": "KbKJD1E2Q7ns"
      },
      "source": [
        "## Treinamento dos modelos"
      ]
    },
    {
      "cell_type": "markdown",
      "metadata": {
        "id": "xiKzF9mpUR__"
      },
      "source": [
        "### Regressão Logística"
      ]
    },
    {
      "cell_type": "code",
      "metadata": {
        "id": "GeUgGuBuw4VY",
        "colab": {
          "base_uri": "https://localhost:8080/",
          "height": 74
        },
        "outputId": "dc596c5e-0df1-4add-fb44-c340188b31b5"
      },
      "source": [
        "# Importar o modelo Regressão Logística\n",
        "from sklearn.linear_model import LogisticRegression\n",
        "# Instanciar modelo de regressão logística\n",
        "reg_log = LogisticRegression(max_iter=3000)\n",
        "# Treinar o modelo, lembrando de aplicar o encoder nos dados de treinamento\n",
        "reg_log.fit(X_train, y_train)"
      ],
      "execution_count": null,
      "outputs": [
        {
          "output_type": "execute_result",
          "data": {
            "text/plain": [
              "LogisticRegression(max_iter=3000)"
            ],
            "text/html": [
              "<style>#sk-container-id-1 {color: black;background-color: white;}#sk-container-id-1 pre{padding: 0;}#sk-container-id-1 div.sk-toggleable {background-color: white;}#sk-container-id-1 label.sk-toggleable__label {cursor: pointer;display: block;width: 100%;margin-bottom: 0;padding: 0.3em;box-sizing: border-box;text-align: center;}#sk-container-id-1 label.sk-toggleable__label-arrow:before {content: \"▸\";float: left;margin-right: 0.25em;color: #696969;}#sk-container-id-1 label.sk-toggleable__label-arrow:hover:before {color: black;}#sk-container-id-1 div.sk-estimator:hover label.sk-toggleable__label-arrow:before {color: black;}#sk-container-id-1 div.sk-toggleable__content {max-height: 0;max-width: 0;overflow: hidden;text-align: left;background-color: #f0f8ff;}#sk-container-id-1 div.sk-toggleable__content pre {margin: 0.2em;color: black;border-radius: 0.25em;background-color: #f0f8ff;}#sk-container-id-1 input.sk-toggleable__control:checked~div.sk-toggleable__content {max-height: 200px;max-width: 100%;overflow: auto;}#sk-container-id-1 input.sk-toggleable__control:checked~label.sk-toggleable__label-arrow:before {content: \"▾\";}#sk-container-id-1 div.sk-estimator input.sk-toggleable__control:checked~label.sk-toggleable__label {background-color: #d4ebff;}#sk-container-id-1 div.sk-label input.sk-toggleable__control:checked~label.sk-toggleable__label {background-color: #d4ebff;}#sk-container-id-1 input.sk-hidden--visually {border: 0;clip: rect(1px 1px 1px 1px);clip: rect(1px, 1px, 1px, 1px);height: 1px;margin: -1px;overflow: hidden;padding: 0;position: absolute;width: 1px;}#sk-container-id-1 div.sk-estimator {font-family: monospace;background-color: #f0f8ff;border: 1px dotted black;border-radius: 0.25em;box-sizing: border-box;margin-bottom: 0.5em;}#sk-container-id-1 div.sk-estimator:hover {background-color: #d4ebff;}#sk-container-id-1 div.sk-parallel-item::after {content: \"\";width: 100%;border-bottom: 1px solid gray;flex-grow: 1;}#sk-container-id-1 div.sk-label:hover label.sk-toggleable__label {background-color: #d4ebff;}#sk-container-id-1 div.sk-serial::before {content: \"\";position: absolute;border-left: 1px solid gray;box-sizing: border-box;top: 0;bottom: 0;left: 50%;z-index: 0;}#sk-container-id-1 div.sk-serial {display: flex;flex-direction: column;align-items: center;background-color: white;padding-right: 0.2em;padding-left: 0.2em;position: relative;}#sk-container-id-1 div.sk-item {position: relative;z-index: 1;}#sk-container-id-1 div.sk-parallel {display: flex;align-items: stretch;justify-content: center;background-color: white;position: relative;}#sk-container-id-1 div.sk-item::before, #sk-container-id-1 div.sk-parallel-item::before {content: \"\";position: absolute;border-left: 1px solid gray;box-sizing: border-box;top: 0;bottom: 0;left: 50%;z-index: -1;}#sk-container-id-1 div.sk-parallel-item {display: flex;flex-direction: column;z-index: 1;position: relative;background-color: white;}#sk-container-id-1 div.sk-parallel-item:first-child::after {align-self: flex-end;width: 50%;}#sk-container-id-1 div.sk-parallel-item:last-child::after {align-self: flex-start;width: 50%;}#sk-container-id-1 div.sk-parallel-item:only-child::after {width: 0;}#sk-container-id-1 div.sk-dashed-wrapped {border: 1px dashed gray;margin: 0 0.4em 0.5em 0.4em;box-sizing: border-box;padding-bottom: 0.4em;background-color: white;}#sk-container-id-1 div.sk-label label {font-family: monospace;font-weight: bold;display: inline-block;line-height: 1.2em;}#sk-container-id-1 div.sk-label-container {text-align: center;}#sk-container-id-1 div.sk-container {/* jupyter's `normalize.less` sets `[hidden] { display: none; }` but bootstrap.min.css set `[hidden] { display: none !important; }` so we also need the `!important` here to be able to override the default hidden behavior on the sphinx rendered scikit-learn.org. See: https://github.com/scikit-learn/scikit-learn/issues/21755 */display: inline-block !important;position: relative;}#sk-container-id-1 div.sk-text-repr-fallback {display: none;}</style><div id=\"sk-container-id-1\" class=\"sk-top-container\"><div class=\"sk-text-repr-fallback\"><pre>LogisticRegression(max_iter=3000)</pre><b>In a Jupyter environment, please rerun this cell to show the HTML representation or trust the notebook. <br />On GitHub, the HTML representation is unable to render, please try loading this page with nbviewer.org.</b></div><div class=\"sk-container\" hidden><div class=\"sk-item\"><div class=\"sk-estimator sk-toggleable\"><input class=\"sk-toggleable__control sk-hidden--visually\" id=\"sk-estimator-id-1\" type=\"checkbox\" checked><label for=\"sk-estimator-id-1\" class=\"sk-toggleable__label sk-toggleable__label-arrow\">LogisticRegression</label><div class=\"sk-toggleable__content\"><pre>LogisticRegression(max_iter=3000)</pre></div></div></div></div></div>"
            ]
          },
          "metadata": {},
          "execution_count": 8
        }
      ]
    },
    {
      "cell_type": "code",
      "metadata": {
        "id": "DQqy4bwf2_0p",
        "colab": {
          "base_uri": "https://localhost:8080/"
        },
        "outputId": "3b7f20c2-a1e8-4f73-c014-011774a2bdb2"
      },
      "source": [
        "# Verificar a acurácia do modelo (.score)\n",
        "reg_log.score(X_test, y_test)"
      ],
      "execution_count": null,
      "outputs": [
        {
          "output_type": "execute_result",
          "data": {
            "text/plain": [
              "0.9766081871345029"
            ]
          },
          "metadata": {},
          "execution_count": 9
        }
      ]
    },
    {
      "cell_type": "code",
      "metadata": {
        "scrolled": true,
        "id": "F2jfXACWZ9jg",
        "colab": {
          "base_uri": "https://localhost:8080/"
        },
        "outputId": "9ef7d7d0-fe80-408c-d580-8ba906240425"
      },
      "source": [
        "# Verificar o f1_score do modelo, quando as classes estão desbalenceadas\n",
        "metrics.f1_score(y_test, reg_log.predict(X_test), average='weighted')"
      ],
      "execution_count": null,
      "outputs": [
        {
          "output_type": "execute_result",
          "data": {
            "text/plain": [
              "0.9766081871345029"
            ]
          },
          "metadata": {},
          "execution_count": 10
        }
      ]
    },
    {
      "cell_type": "markdown",
      "metadata": {
        "id": "DzmovV_3RBh8"
      },
      "source": [
        "## Avaliação da qualidade do melhor modelo"
      ]
    },
    {
      "cell_type": "code",
      "metadata": {
        "id": "ecu09Dh-WJCP"
      },
      "source": [
        "# Importar a biblioteca (plot_confusion_matrix)\n",
        "from sklearn.metrics import ConfusionMatrixDisplay"
      ],
      "execution_count": null,
      "outputs": []
    },
    {
      "cell_type": "code",
      "metadata": {
        "colab": {
          "base_uri": "https://localhost:8080/",
          "height": 358
        },
        "id": "Vdj3wGRmWJCW",
        "outputId": "02833654-cef6-458e-9109-1bb8cf1d8fc3"
      },
      "source": [
        "# Mostrar a Matriz de Confusão para os diversos patamares de renda familiar\n",
        "fig, ax = plt.subplots(figsize=(4,4))\n",
        "ConfusionMatrixDisplay.from_estimator(reg_log, X_test, y_test, ax=ax, values_format='d');"
      ],
      "execution_count": null,
      "outputs": [
        {
          "output_type": "display_data",
          "data": {
            "text/plain": [
              "<Figure size 400x400 with 2 Axes>"
            ],
            "image/png": "[encoded data removed]"
          },
          "metadata": {}
        }
      ]
    },
    {
      "cell_type": "markdown",
      "metadata": {
        "id": "VAcTpuAiVQ0c"
      },
      "source": [
        "## Próximos passos\n",
        "- Fazer normalização dos dados (Standard Scalar)   \n",
        "- Treinar outros modelos:   \n",
        "  - Árvore de decisão (Decision Tree Classifier)   \n",
        "  - Floresta aleatória (Random Forest Classifier)"
      ]
    },
    {
      "cell_type": "code",
      "metadata": {
        "id": "RqWM4DfLTY8h",
        "colab": {
          "base_uri": "https://localhost:8080/"
        },
        "outputId": "091e0453-4287-4e1f-d9a7-6026d7e96e88"
      },
      "source": [
        "# Árvore de decisão\n",
        "# Importar o modelo Decision Tree Classifier\n",
        "from sklearn.tree import DecisionTreeClassifier\n",
        "clf = DecisionTreeClassifier(max_depth=4).fit(X_train, y_train)\n",
        "clf.score(X_test, y_test)"
      ],
      "execution_count": null,
      "outputs": [
        {
          "output_type": "execute_result",
          "data": {
            "text/plain": [
              "0.9532163742690059"
            ]
          },
          "metadata": {},
          "execution_count": 14
        }
      ]
    },
    {
      "cell_type": "code",
      "metadata": {
        "id": "q9YM6IOcUlqT",
        "colab": {
          "base_uri": "https://localhost:8080/"
        },
        "outputId": "08097283-fffc-40c0-a101-c3ae212fc89b"
      },
      "source": [
        "# Random Forest\n",
        "from sklearn.ensemble import RandomForestClassifier\n",
        "\n",
        "rf_class = RandomForestClassifier(n_estimators=300, max_depth=6, random_state=100).fit(X_train, y_train)\n",
        "rf_class.score(X_test, y_test)"
      ],
      "execution_count": null,
      "outputs": [
        {
          "output_type": "execute_result",
          "data": {
            "text/plain": [
              "0.9707602339181286"
            ]
          },
          "metadata": {},
          "execution_count": 15
        }
      ]
    },
    {
      "cell_type": "markdown",
      "metadata": {
        "id": "MQo6uBaEuvBd"
      },
      "source": [
        "## Balanceamento de classes"
      ]
    },
    {
      "cell_type": "markdown",
      "metadata": {
        "id": "5GiqFmK6tiqo"
      },
      "source": [
        "### **Undersampling da classe majoritária ( 'bening'('1') )**\n",
        "\n",
        "Antes: ( bening('1')=357 , malignant('0')=212 )  \n",
        "TOTAL = 569\n",
        "\n",
        "Depois: ( bening('1')=212 , malignant('0')=212 )  \n",
        "TOTAL = 424\n"
      ]
    },
    {
      "cell_type": "code",
      "metadata": {
        "id": "ceiwwcH4M60Z"
      },
      "source": [
        "# Importar bibliotecas\n",
        "from imblearn.under_sampling import RandomUnderSampler\n",
        "from imblearn.over_sampling import RandomOverSampler\n",
        "from collections import Counter"
      ],
      "execution_count": null,
      "outputs": []
    },
    {
      "cell_type": "code",
      "metadata": {
        "id": "PaPhh7scjeKD"
      },
      "source": [
        "# Atribuir valores para X e y\n",
        "\n",
        "\n",
        "# Mostrar as dimensões de X e y\n",
        "\n",
        "\n",
        "# Instanciar RandomUnderSampler\n",
        "\n",
        "# Treinar e fazer RandomUnderSampler nod dados\n",
        "\n",
        "\n",
        "# Mostrar as dimensões de X e y\n"
      ],
      "execution_count": null,
      "outputs": []
    },
    {
      "cell_type": "code",
      "metadata": {
        "id": "5MDgXiy4t9wQ"
      },
      "source": [
        "# Criar datatframe a partir de X_resampled e y_resampled\n"
      ],
      "execution_count": null,
      "outputs": []
    },
    {
      "cell_type": "code",
      "metadata": {
        "id": "P7pAdGQzt9wS"
      },
      "source": [
        "# Mostra gráfico a dirtibuição de amostras por rótulo da variável dependente(\"target\")\n"
      ],
      "execution_count": null,
      "outputs": []
    },
    {
      "cell_type": "code",
      "metadata": {
        "id": "t2xPp8c3v6JT"
      },
      "source": [
        "# Atribuir valores para X e y a partir do df_undersampled\n",
        "\n",
        "# Dividir dados em treino e teste (70/30)\n"
      ],
      "execution_count": null,
      "outputs": []
    },
    {
      "cell_type": "code",
      "metadata": {
        "id": "KaLd1B-WRSQo"
      },
      "source": [
        "# Regressão logística\n",
        "# Instanciar modelo \n",
        "\n",
        "# Treinar o modelo\n",
        "\n",
        "# Verificar a acurácia do modelo (.score)\n"
      ],
      "execution_count": null,
      "outputs": []
    },
    {
      "cell_type": "code",
      "metadata": {
        "id": "V_vwkG_sv6JU"
      },
      "source": [
        "# Random Forest\n",
        "\n",
        "# Instanciar modelo \n",
        "\n",
        "# Treinar o modelo\n",
        "\n",
        "# Verificar a acurácia do modelo (.score)\n"
      ],
      "execution_count": null,
      "outputs": []
    },
    {
      "cell_type": "markdown",
      "metadata": {
        "id": "H0WnKUSgpWIl"
      },
      "source": [
        "### **Oversampling da classe minoritária ( 'malignant'('0') )**\n",
        "Antes: ( bening('1')=357 , malignant('0')=212 )  \n",
        "TOTAL = 569  \n",
        "\n",
        "\n",
        "Depois: ( bening('1')=357 , malignant('0')=357 )  \n",
        "TOTAL = 714  \n"
      ]
    },
    {
      "cell_type": "code",
      "metadata": {
        "id": "xADDSAAQn8Ga"
      },
      "source": [
        "# Atribuir valores para X e y\n",
        "\n",
        "\n",
        "# Mostrar as dimensões de X e y\n",
        "\n",
        "# Instanciar RandomOverSampler\n",
        "\n",
        "# Treinar e fazer RandomOverSampler nod dados\n",
        "\n",
        "\n",
        "# Mostrar as dimensões de X e y\n"
      ],
      "execution_count": null,
      "outputs": []
    },
    {
      "cell_type": "code",
      "metadata": {
        "id": "UffmUvfXpy34"
      },
      "source": [
        "# Criar datatframe a partir de X_resampled e y_resampled\n"
      ],
      "execution_count": null,
      "outputs": []
    },
    {
      "cell_type": "code",
      "metadata": {
        "id": "UEFnHzPEpy4B"
      },
      "source": [
        "# Mostra gráfico a dirtibuição de amostras por rótulo da variável dependente(\"target\")\n"
      ],
      "execution_count": null,
      "outputs": []
    },
    {
      "cell_type": "code",
      "metadata": {
        "id": "Exh1QUVwp0v6"
      },
      "source": [
        "# Atribuir valores para X e y a partir de df_oversampled\n",
        "\n",
        "# Dividir dados em treino e teste (70/30)\n"
      ],
      "execution_count": null,
      "outputs": []
    },
    {
      "cell_type": "code",
      "metadata": {
        "id": "RMzka0VbwRb3"
      },
      "source": [
        "# Instanciar modelo de regressão logística\n",
        "\n",
        "# Treinar o modelo\n",
        "\n",
        "# Verificar a acurácia do modelo (.score)\n"
      ],
      "execution_count": null,
      "outputs": []
    },
    {
      "cell_type": "code",
      "metadata": {
        "id": "HzjwWmEPvotA"
      },
      "source": [
        "# Random Forest\n",
        "# Instanciar e Treinar o modelo\n",
        "\n",
        "# Verificar a acurácia do modelo (.score)\n"
      ],
      "execution_count": null,
      "outputs": []
    },
    {
      "cell_type": "markdown",
      "metadata": {
        "id": "0PXs1dMuPI-b"
      },
      "source": [
        "### **Oversampling minoritária e Undersampling da majoritária**\n",
        "Antes: ( bening('1')=357 , malignant('0')=212 )  \n",
        "TOTAL = 569  \n",
        "\n",
        "\n",
        "Depois: ( bening('1')=284 , malignant('0')=284 )  \n",
        "TOTAL = 570  "
      ]
    },
    {
      "cell_type": "code",
      "metadata": {
        "id": "W0h5CvM7G2oH"
      },
      "source": [
        "# Atribuir valores para X e y a partir de df\n"
      ],
      "execution_count": null,
      "outputs": []
    },
    {
      "cell_type": "markdown",
      "metadata": {
        "id": "IvDu2ZMkiSko"
      },
      "source": [
        "#### OverSamplig minoritária"
      ]
    },
    {
      "cell_type": "code",
      "metadata": {
        "id": "GdB9QDgtLTuq"
      },
      "source": [
        "# Mostrar distribuição da variável target por classe usando Counter()\n",
        "\n",
        "# define estratégia oversampling \n",
        " # aumenta minoritária = 80% da majoritária.\n",
        "# treina e aplica a transformação\n",
        "\n",
        "# Mostrar distribuição da variável target por classe, usando Counter()\n"
      ],
      "execution_count": null,
      "outputs": []
    },
    {
      "cell_type": "markdown",
      "metadata": {
        "id": "tOQmIk1_iYdV"
      },
      "source": [
        "#### UnderSamplig majoritária"
      ]
    },
    {
      "cell_type": "code",
      "metadata": {
        "id": "1gRQbYQALlrt"
      },
      "source": [
        "# Mostrar distribuição da variável target por classe, usando Counter()\n",
        "\n",
        "# define estratégia undersampling \n",
        " # diminui majoritária = minoritária.\n",
        "# treina e aplica a transformação\n",
        "\n",
        "# Mostrar distribuição da variável target por classe, usando Counter()\n"
      ],
      "execution_count": null,
      "outputs": []
    },
    {
      "cell_type": "code",
      "metadata": {
        "id": "CAdNQcf_QVIa"
      },
      "source": [
        "# Atribuir valores para X e y a partir de X_resampled e y_resampled\n",
        "\n",
        "# Dividir dados em treino e teste (70/30)\n"
      ],
      "execution_count": null,
      "outputs": []
    },
    {
      "cell_type": "code",
      "metadata": {
        "id": "DEclaucAQVIq"
      },
      "source": [
        "# Instanciar modelo de regressão logística\n",
        "\n",
        "# Treinar o modelo\n",
        "\n",
        "# Verificar a acurácia do modelo (.score)\n"
      ],
      "execution_count": null,
      "outputs": []
    },
    {
      "cell_type": "code",
      "metadata": {
        "id": "2NMTuXSuQVIr"
      },
      "source": [
        "# Random Forest\n",
        "# Instanciar e Treinar o modelo\n",
        "\n",
        "# Verificar a acurácia do modelo (.score)\n"
      ],
      "execution_count": null,
      "outputs": []
    },
    {
      "cell_type": "markdown",
      "metadata": {
        "id": "jcuIjHKQPxKN"
      },
      "source": [
        "### **SMOTE - Oversampling da classe minoritária ( 'malignant'('0') )**\n",
        "\n",
        "Antes: ( bening('1')=357 , malignant('0')=212 )  \n",
        "TOTAL = 569  \n",
        "\n",
        "\n",
        "Depois: ( bening('1')=357 , malignant('0')=357 )  \n",
        "TOTAL = 714  "
      ]
    },
    {
      "cell_type": "code",
      "metadata": {
        "id": "MdVBMtUMP1FK"
      },
      "source": [
        "from imblearn.over_sampling import SMOTE\n",
        "\n",
        "# Atribuir valores para X e y a partir de df\n",
        "\n",
        "\n",
        "# Mostrar as dimensões de X e y\n",
        "\n",
        "# Instanciar SMOTE\n",
        "\n",
        "# Treinar e fazer SMOTE nos dados\n",
        "\n",
        "\n",
        "# Mostrar as dimensões de X e y\n"
      ],
      "execution_count": null,
      "outputs": []
    },
    {
      "cell_type": "code",
      "metadata": {
        "id": "LjGPBd_dQRCJ"
      },
      "source": [
        "# Criar datatframe a partir de X_smote e y_smote\n"
      ],
      "execution_count": null,
      "outputs": []
    },
    {
      "cell_type": "code",
      "metadata": {
        "id": "B7Fv0tfYQRCO"
      },
      "source": [
        "# Mostra gráfico a dirtibuição de amostras por rótulo da variável dependente(\"target\")\n"
      ],
      "execution_count": null,
      "outputs": []
    },
    {
      "cell_type": "code",
      "metadata": {
        "id": "PgHbKI1GQRCO"
      },
      "source": [
        "# Atribuir valores para X e y a partir de df\n",
        "\n",
        "# Dividir dados em treino e teste (70/30)\n"
      ],
      "execution_count": null,
      "outputs": []
    },
    {
      "cell_type": "code",
      "metadata": {
        "id": "EZNxkgi2QRCO"
      },
      "source": [
        "# Instanciar modelo de regressão logística\n",
        "\n",
        "# Treinar o modelo\n",
        "\n",
        "# Verificar a acurácia do modelo (.score)\n"
      ],
      "execution_count": null,
      "outputs": []
    },
    {
      "cell_type": "code",
      "metadata": {
        "id": "xwSTuyhyQRCO"
      },
      "source": [
        "# Random Forest\n",
        "\n",
        "# Instanciar e Treinar o modelo\n",
        "\n",
        "\n",
        "# Verificar a acurácia do modelo (.score)\n"
      ],
      "execution_count": null,
      "outputs": []
    },
    {
      "cell_type": "markdown",
      "metadata": {
        "id": "lC3G7mbVnAto"
      },
      "source": [
        "## Conclusão\n",
        "O melhor balanceamento:  \n",
        "- Oversampling da classe minoritária ( 'malignant'('0') )"
      ]
    },
    {
      "cell_type": "markdown",
      "metadata": {
        "id": "9ud2QOjnSRaK"
      },
      "source": [
        "#### **Observação:**  \n",
        "Por uma questão didática, eu apliquei o balanceamento no dataset completo, mas sugiro aplicar o balanceamento apenas nos dados de treinamento, sem modificar o dataset original."
      ]
    },
    {
      "cell_type": "markdown",
      "metadata": {
        "id": "JGbyNRs8PonK"
      },
      "source": [
        "#FIM"
      ]
    }
  ]
}