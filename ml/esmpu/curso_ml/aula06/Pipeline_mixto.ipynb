{
  "cells": [
    {
<<<<<<< HEAD:ml/notebooks/esmpu/curso_ml/aula06/Pipeline_mixto.ipynb
      "attachments": {},
=======
>>>>>>> 3daecee (Testes no notebooks):ml/notebooks/esmpu/curso_ml/Pipeline_mixto.ipynb
      "cell_type": "markdown",
      "metadata": {
        "id": "FvOTMflEkV1n"
      },
      "source": [
        "---\n",
        "## Pipeline para dados heterogêneos: texto e categorias\n",
        "---\n",
<<<<<<< HEAD:ml/notebooks/esmpu/curso_ml/aula06/Pipeline_mixto.ipynb
        "\n",
        "**Machine Learning em Projetos (Erick Muzart e Fernando Melo)**\n",
        "###TÓPICOS:\n",
        "\n",
=======
        "**Machine Learning em Projetos (Erick Muzart e Fernando Melo)**\n",
        "###TÓPICOS:\n",
>>>>>>> 3daecee (Testes no notebooks):ml/notebooks/esmpu/curso_ml/Pipeline_mixto.ipynb
        "- Balanceamento de classes\n",
        "- Pipeline\n",
        "- ColumnTransformer\n",
        "- Grid_search\n",
        "- Cross validation\n",
        "- Xgboost\n",
        "- Salvar o melhor modelo\n",
        "\n",
<<<<<<< HEAD:ml/notebooks/esmpu/curso_ml/aula06/Pipeline_mixto.ipynb
        "Mencionamos pipelines para texto e para dados numéricos e categóricos.\n",
=======
        "Mencionamos pipelines para texto e para dados numéricos e categóricos. \n",
>>>>>>> 3daecee (Testes no notebooks):ml/notebooks/esmpu/curso_ml/Pipeline_mixto.ipynb
        "Mas sem demonstração de um pipeline com dados mixtos de múltiplos tipos.\n",
        "\n",
        "O objeto sklearn que permite um pré-processamento diferenciado por coluna é o `ColumnTransformer`: https://scikit-learn.org/stable/auto_examples/compose/plot_column_transformer_mixed_types.html\n",
        "\n",
        "Segue então um exemplo, com os dados das lojas americanas.\n",
        "https://github.com/b2wdigital/b2w-reviews01\n",
        "\n",
<<<<<<< HEAD:ml/notebooks/esmpu/curso_ml/aula06/Pipeline_mixto.ipynb
        "| #   | Field                 | Data type | Description                                                            |\n",
        "| --- | --------------------- | :-------- | :--------------------------------------------------------------------- |\n",
        "| 1   | submission_date       | date/time | review submission date (format YYYY-MM-DD hh:mm:ss)                    |\n",
        "| 2   | reviewer_id           | string    | unique reviewer id                                                     |\n",
        "| 3   | product_id            | integer   | unique product id                                                      |\n",
        "| 4   | product_name          | string    | product name                                                           |\n",
        "| 5   | product_brand         | string    | product brand                                                          |\n",
        "| 6   | site_category_lv1     | string    | product category - first level                                         |\n",
        "| 7   | site_category_lv2     | string    | product category - second level                                        |\n",
        "| 8   | overall_rating        | integer   | overall customer rating, from 1 to 5                                   |\n",
        "| 9   | recommend_to_a_friend | string    | answer to “would you recommend this product to a friend?” (“Yes”/“No”) |\n",
        "| 10  | review_title          | text      | review title, introduces or summarizes the review content              |\n",
        "| 11  | review_text           | text      | main text content of the review                                        |\n",
        "| 12  | reviewer_birth_year   | integer   | reviewer’s birth year                                                  |\n",
        "| 13  | reviewer_gender       | string    | reviewer’s gender (”F” for female; ”M” for male)                       |\n",
        "| 14  | reviewer_state        | string    | reviewer’s Brazilian State, according to the delivery address          |\n",
        "\n",
        "Código adaptado de: https://stackoverflow.com/questions/57867974/one-pipeline-to-fit-both-text-and-categorical-features\n"
=======
        "|#|Field|Data type| Description|\n",
        "|-|-----|:---------|:------------|\n",
        "|1  |submission_date| date/time |review submission date (format YYYY-MM-DD hh:mm:ss)|\n",
        "|2  |reviewer_id| string |unique reviewer id|\n",
        "|3  |product_id| integer |unique product id|\n",
        "|4  |product_name| string |product name|\n",
        "|5  |product_brand| string |product brand|\n",
        "|6  |site_category_lv1| string |product category - first level|\n",
        "|7  |site_category_lv2| string |product category - second level|\n",
        "|8  |overall_rating| integer |overall customer rating, from 1 to 5|\n",
        "|9  |recommend_to_a_friend| string |answer to “would you recommend this product to a friend?” (“Yes”/“No”)|\n",
        "|10 |review_title| text |review title, introduces or summarizes the review content|\n",
        "|11 |review_text| text |main text content of the review|\n",
        "|12 |reviewer_birth_year| integer| reviewer’s birth year|\n",
        "|13 |reviewer_gender| string |reviewer’s gender (”F” for female; ”M” for male)|\n",
        "|14 |reviewer_state| string| reviewer’s Brazilian State, according to the delivery address|\n",
        "\n",
        "Código adaptado de: https://stackoverflow.com/questions/57867974/one-pipeline-to-fit-both-text-and-categorical-features"
>>>>>>> 3daecee (Testes no notebooks):ml/notebooks/esmpu/curso_ml/Pipeline_mixto.ipynb
      ]
    },
    {
      "cell_type": "code",
<<<<<<< HEAD:ml/notebooks/esmpu/curso_ml/aula06/Pipeline_mixto.ipynb
<<<<<<< HEAD:ml/notebooks/esmpu/curso_ml/aula06/Pipeline_mixto.ipynb
      "execution_count": 1,
=======
      "execution_count": 12,
>>>>>>> 567897d (Ajustes):ml/notebooks/esmpu/curso_ml/Pipeline_mixto.ipynb
=======
      "execution_count": 1,
>>>>>>> 3daecee (Testes no notebooks):ml/notebooks/esmpu/curso_ml/Pipeline_mixto.ipynb
      "metadata": {
        "id": "il57L8FBkV1o"
      },
      "outputs": [],
      "source": [
        "import pandas as pd\n",
<<<<<<< HEAD:ml/notebooks/esmpu/curso_ml/aula06/Pipeline_mixto.ipynb
<<<<<<< HEAD:ml/notebooks/esmpu/curso_ml/aula06/Pipeline_mixto.ipynb
        "from sklearn.model_selection import train_test_split"
=======
        "from sklearn.model_selection import train_test_split\n"
>>>>>>> 567897d (Ajustes):ml/notebooks/esmpu/curso_ml/Pipeline_mixto.ipynb
=======
        "from sklearn.model_selection import train_test_split"
>>>>>>> 3daecee (Testes no notebooks):ml/notebooks/esmpu/curso_ml/Pipeline_mixto.ipynb
      ]
    },
    {
      "cell_type": "code",
<<<<<<< HEAD:ml/notebooks/esmpu/curso_ml/aula06/Pipeline_mixto.ipynb
<<<<<<< HEAD:ml/notebooks/esmpu/curso_ml/aula06/Pipeline_mixto.ipynb
=======
>>>>>>> 3daecee (Testes no notebooks):ml/notebooks/esmpu/curso_ml/Pipeline_mixto.ipynb
      "execution_count": 2,
      "metadata": {
        "id": "fO5QzlTtkV1r"
      },
      "outputs": [
        {
<<<<<<< HEAD:ml/notebooks/esmpu/curso_ml/aula06/Pipeline_mixto.ipynb
          "ename": "HTTPError",
          "evalue": "HTTP Error 404: Not Found",
          "output_type": "error",
          "traceback": [
            "\u001b[0;31m---------------------------------------------------------------------------\u001b[0m",
            "\u001b[0;31mHTTPError\u001b[0m                                 Traceback (most recent call last)",
            "Cell \u001b[0;32mIn[2], line 4\u001b[0m\n\u001b[1;32m      1\u001b[0m \u001b[39m# Download do arquivo de dados das Lojas Americanas no GitHub\u001b[39;00m\n\u001b[1;32m      2\u001b[0m url \u001b[39m=\u001b[39m \u001b[39m\"\u001b[39m\u001b[39mhttps://github.com/b2wdigital/b2w-reviews01/raw/master/B2W-Reviews01.csv\u001b[39m\u001b[39m\"\u001b[39m\n\u001b[0;32m----> 4\u001b[0m df \u001b[39m=\u001b[39m pd\u001b[39m.\u001b[39;49mread_csv(\u001b[39m'\u001b[39;49m\u001b[39mhttps://github.com/b2wdigital/b2w-reviews01/raw/master/B2W-Reviews01.csv\u001b[39;49m\u001b[39m'\u001b[39;49m, sep\u001b[39m=\u001b[39;49m\u001b[39m'\u001b[39;49m\u001b[39m;\u001b[39;49m\u001b[39m'\u001b[39;49m, low_memory\u001b[39m=\u001b[39;49m\u001b[39mFalse\u001b[39;49;00m )\n",
            "File \u001b[0;32m~/Projetos/ai/Cursos/Esmpu/ia/.venv/lib/python3.10/site-packages/pandas/io/parsers/readers.py:912\u001b[0m, in \u001b[0;36mread_csv\u001b[0;34m(filepath_or_buffer, sep, delimiter, header, names, index_col, usecols, dtype, engine, converters, true_values, false_values, skipinitialspace, skiprows, skipfooter, nrows, na_values, keep_default_na, na_filter, verbose, skip_blank_lines, parse_dates, infer_datetime_format, keep_date_col, date_parser, date_format, dayfirst, cache_dates, iterator, chunksize, compression, thousands, decimal, lineterminator, quotechar, quoting, doublequote, escapechar, comment, encoding, encoding_errors, dialect, on_bad_lines, delim_whitespace, low_memory, memory_map, float_precision, storage_options, dtype_backend)\u001b[0m\n\u001b[1;32m    899\u001b[0m kwds_defaults \u001b[39m=\u001b[39m _refine_defaults_read(\n\u001b[1;32m    900\u001b[0m     dialect,\n\u001b[1;32m    901\u001b[0m     delimiter,\n\u001b[0;32m   (...)\u001b[0m\n\u001b[1;32m    908\u001b[0m     dtype_backend\u001b[39m=\u001b[39mdtype_backend,\n\u001b[1;32m    909\u001b[0m )\n\u001b[1;32m    910\u001b[0m kwds\u001b[39m.\u001b[39mupdate(kwds_defaults)\n\u001b[0;32m--> 912\u001b[0m \u001b[39mreturn\u001b[39;00m _read(filepath_or_buffer, kwds)\n",
            "File \u001b[0;32m~/Projetos/ai/Cursos/Esmpu/ia/.venv/lib/python3.10/site-packages/pandas/io/parsers/readers.py:577\u001b[0m, in \u001b[0;36m_read\u001b[0;34m(filepath_or_buffer, kwds)\u001b[0m\n\u001b[1;32m    574\u001b[0m _validate_names(kwds\u001b[39m.\u001b[39mget(\u001b[39m\"\u001b[39m\u001b[39mnames\u001b[39m\u001b[39m\"\u001b[39m, \u001b[39mNone\u001b[39;00m))\n\u001b[1;32m    576\u001b[0m \u001b[39m# Create the parser.\u001b[39;00m\n\u001b[0;32m--> 577\u001b[0m parser \u001b[39m=\u001b[39m TextFileReader(filepath_or_buffer, \u001b[39m*\u001b[39;49m\u001b[39m*\u001b[39;49mkwds)\n\u001b[1;32m    579\u001b[0m \u001b[39mif\u001b[39;00m chunksize \u001b[39mor\u001b[39;00m iterator:\n\u001b[1;32m    580\u001b[0m     \u001b[39mreturn\u001b[39;00m parser\n",
            "File \u001b[0;32m~/Projetos/ai/Cursos/Esmpu/ia/.venv/lib/python3.10/site-packages/pandas/io/parsers/readers.py:1407\u001b[0m, in \u001b[0;36mTextFileReader.__init__\u001b[0;34m(self, f, engine, **kwds)\u001b[0m\n\u001b[1;32m   1404\u001b[0m     \u001b[39mself\u001b[39m\u001b[39m.\u001b[39moptions[\u001b[39m\"\u001b[39m\u001b[39mhas_index_names\u001b[39m\u001b[39m\"\u001b[39m] \u001b[39m=\u001b[39m kwds[\u001b[39m\"\u001b[39m\u001b[39mhas_index_names\u001b[39m\u001b[39m\"\u001b[39m]\n\u001b[1;32m   1406\u001b[0m \u001b[39mself\u001b[39m\u001b[39m.\u001b[39mhandles: IOHandles \u001b[39m|\u001b[39m \u001b[39mNone\u001b[39;00m \u001b[39m=\u001b[39m \u001b[39mNone\u001b[39;00m\n\u001b[0;32m-> 1407\u001b[0m \u001b[39mself\u001b[39m\u001b[39m.\u001b[39m_engine \u001b[39m=\u001b[39m \u001b[39mself\u001b[39;49m\u001b[39m.\u001b[39;49m_make_engine(f, \u001b[39mself\u001b[39;49m\u001b[39m.\u001b[39;49mengine)\n",
            "File \u001b[0;32m~/Projetos/ai/Cursos/Esmpu/ia/.venv/lib/python3.10/site-packages/pandas/io/parsers/readers.py:1661\u001b[0m, in \u001b[0;36mTextFileReader._make_engine\u001b[0;34m(self, f, engine)\u001b[0m\n\u001b[1;32m   1659\u001b[0m     \u001b[39mif\u001b[39;00m \u001b[39m\"\u001b[39m\u001b[39mb\u001b[39m\u001b[39m\"\u001b[39m \u001b[39mnot\u001b[39;00m \u001b[39min\u001b[39;00m mode:\n\u001b[1;32m   1660\u001b[0m         mode \u001b[39m+\u001b[39m\u001b[39m=\u001b[39m \u001b[39m\"\u001b[39m\u001b[39mb\u001b[39m\u001b[39m\"\u001b[39m\n\u001b[0;32m-> 1661\u001b[0m \u001b[39mself\u001b[39m\u001b[39m.\u001b[39mhandles \u001b[39m=\u001b[39m get_handle(\n\u001b[1;32m   1662\u001b[0m     f,\n\u001b[1;32m   1663\u001b[0m     mode,\n\u001b[1;32m   1664\u001b[0m     encoding\u001b[39m=\u001b[39;49m\u001b[39mself\u001b[39;49m\u001b[39m.\u001b[39;49moptions\u001b[39m.\u001b[39;49mget(\u001b[39m\"\u001b[39;49m\u001b[39mencoding\u001b[39;49m\u001b[39m\"\u001b[39;49m, \u001b[39mNone\u001b[39;49;00m),\n\u001b[1;32m   1665\u001b[0m     compression\u001b[39m=\u001b[39;49m\u001b[39mself\u001b[39;49m\u001b[39m.\u001b[39;49moptions\u001b[39m.\u001b[39;49mget(\u001b[39m\"\u001b[39;49m\u001b[39mcompression\u001b[39;49m\u001b[39m\"\u001b[39;49m, \u001b[39mNone\u001b[39;49;00m),\n\u001b[1;32m   1666\u001b[0m     memory_map\u001b[39m=\u001b[39;49m\u001b[39mself\u001b[39;49m\u001b[39m.\u001b[39;49moptions\u001b[39m.\u001b[39;49mget(\u001b[39m\"\u001b[39;49m\u001b[39mmemory_map\u001b[39;49m\u001b[39m\"\u001b[39;49m, \u001b[39mFalse\u001b[39;49;00m),\n\u001b[1;32m   1667\u001b[0m     is_text\u001b[39m=\u001b[39;49mis_text,\n\u001b[1;32m   1668\u001b[0m     errors\u001b[39m=\u001b[39;49m\u001b[39mself\u001b[39;49m\u001b[39m.\u001b[39;49moptions\u001b[39m.\u001b[39;49mget(\u001b[39m\"\u001b[39;49m\u001b[39mencoding_errors\u001b[39;49m\u001b[39m\"\u001b[39;49m, \u001b[39m\"\u001b[39;49m\u001b[39mstrict\u001b[39;49m\u001b[39m\"\u001b[39;49m),\n\u001b[1;32m   1669\u001b[0m     storage_options\u001b[39m=\u001b[39;49m\u001b[39mself\u001b[39;49m\u001b[39m.\u001b[39;49moptions\u001b[39m.\u001b[39;49mget(\u001b[39m\"\u001b[39;49m\u001b[39mstorage_options\u001b[39;49m\u001b[39m\"\u001b[39;49m, \u001b[39mNone\u001b[39;49;00m),\n\u001b[1;32m   1670\u001b[0m )\n\u001b[1;32m   1671\u001b[0m \u001b[39massert\u001b[39;00m \u001b[39mself\u001b[39m\u001b[39m.\u001b[39mhandles \u001b[39mis\u001b[39;00m \u001b[39mnot\u001b[39;00m \u001b[39mNone\u001b[39;00m\n\u001b[1;32m   1672\u001b[0m f \u001b[39m=\u001b[39m \u001b[39mself\u001b[39m\u001b[39m.\u001b[39mhandles\u001b[39m.\u001b[39mhandle\n",
            "File \u001b[0;32m~/Projetos/ai/Cursos/Esmpu/ia/.venv/lib/python3.10/site-packages/pandas/io/common.py:716\u001b[0m, in \u001b[0;36mget_handle\u001b[0;34m(path_or_buf, mode, encoding, compression, memory_map, is_text, errors, storage_options)\u001b[0m\n\u001b[1;32m    713\u001b[0m     codecs\u001b[39m.\u001b[39mlookup_error(errors)\n\u001b[1;32m    715\u001b[0m \u001b[39m# open URLs\u001b[39;00m\n\u001b[0;32m--> 716\u001b[0m ioargs \u001b[39m=\u001b[39m _get_filepath_or_buffer(\n\u001b[1;32m    717\u001b[0m     path_or_buf,\n\u001b[1;32m    718\u001b[0m     encoding\u001b[39m=\u001b[39;49mencoding,\n\u001b[1;32m    719\u001b[0m     compression\u001b[39m=\u001b[39;49mcompression,\n\u001b[1;32m    720\u001b[0m     mode\u001b[39m=\u001b[39;49mmode,\n\u001b[1;32m    721\u001b[0m     storage_options\u001b[39m=\u001b[39;49mstorage_options,\n\u001b[1;32m    722\u001b[0m )\n\u001b[1;32m    724\u001b[0m handle \u001b[39m=\u001b[39m ioargs\u001b[39m.\u001b[39mfilepath_or_buffer\n\u001b[1;32m    725\u001b[0m handles: \u001b[39mlist\u001b[39m[BaseBuffer]\n",
            "File \u001b[0;32m~/Projetos/ai/Cursos/Esmpu/ia/.venv/lib/python3.10/site-packages/pandas/io/common.py:368\u001b[0m, in \u001b[0;36m_get_filepath_or_buffer\u001b[0;34m(filepath_or_buffer, encoding, compression, mode, storage_options)\u001b[0m\n\u001b[1;32m    366\u001b[0m \u001b[39m# assuming storage_options is to be interpreted as headers\u001b[39;00m\n\u001b[1;32m    367\u001b[0m req_info \u001b[39m=\u001b[39m urllib\u001b[39m.\u001b[39mrequest\u001b[39m.\u001b[39mRequest(filepath_or_buffer, headers\u001b[39m=\u001b[39mstorage_options)\n\u001b[0;32m--> 368\u001b[0m \u001b[39mwith\u001b[39;00m urlopen(req_info) \u001b[39mas\u001b[39;00m req:\n\u001b[1;32m    369\u001b[0m     content_encoding \u001b[39m=\u001b[39m req\u001b[39m.\u001b[39mheaders\u001b[39m.\u001b[39mget(\u001b[39m\"\u001b[39m\u001b[39mContent-Encoding\u001b[39m\u001b[39m\"\u001b[39m, \u001b[39mNone\u001b[39;00m)\n\u001b[1;32m    370\u001b[0m     \u001b[39mif\u001b[39;00m content_encoding \u001b[39m==\u001b[39m \u001b[39m\"\u001b[39m\u001b[39mgzip\u001b[39m\u001b[39m\"\u001b[39m:\n\u001b[1;32m    371\u001b[0m         \u001b[39m# Override compression based on Content-Encoding header\u001b[39;00m\n",
            "File \u001b[0;32m~/Projetos/ai/Cursos/Esmpu/ia/.venv/lib/python3.10/site-packages/pandas/io/common.py:270\u001b[0m, in \u001b[0;36murlopen\u001b[0;34m(*args, **kwargs)\u001b[0m\n\u001b[1;32m    264\u001b[0m \u001b[39m\u001b[39m\u001b[39m\"\"\"\u001b[39;00m\n\u001b[1;32m    265\u001b[0m \u001b[39mLazy-import wrapper for stdlib urlopen, as that imports a big chunk of\u001b[39;00m\n\u001b[1;32m    266\u001b[0m \u001b[39mthe stdlib.\u001b[39;00m\n\u001b[1;32m    267\u001b[0m \u001b[39m\"\"\"\u001b[39;00m\n\u001b[1;32m    268\u001b[0m \u001b[39mimport\u001b[39;00m \u001b[39murllib\u001b[39;00m\u001b[39m.\u001b[39;00m\u001b[39mrequest\u001b[39;00m\n\u001b[0;32m--> 270\u001b[0m \u001b[39mreturn\u001b[39;00m urllib\u001b[39m.\u001b[39;49mrequest\u001b[39m.\u001b[39;49murlopen(\u001b[39m*\u001b[39;49margs, \u001b[39m*\u001b[39;49m\u001b[39m*\u001b[39;49mkwargs)\n",
            "File \u001b[0;32m~/anaconda3/lib/python3.10/urllib/request.py:216\u001b[0m, in \u001b[0;36murlopen\u001b[0;34m(url, data, timeout, cafile, capath, cadefault, context)\u001b[0m\n\u001b[1;32m    214\u001b[0m \u001b[39melse\u001b[39;00m:\n\u001b[1;32m    215\u001b[0m     opener \u001b[39m=\u001b[39m _opener\n\u001b[0;32m--> 216\u001b[0m \u001b[39mreturn\u001b[39;00m opener\u001b[39m.\u001b[39;49mopen(url, data, timeout)\n",
            "File \u001b[0;32m~/anaconda3/lib/python3.10/urllib/request.py:525\u001b[0m, in \u001b[0;36mOpenerDirector.open\u001b[0;34m(self, fullurl, data, timeout)\u001b[0m\n\u001b[1;32m    523\u001b[0m \u001b[39mfor\u001b[39;00m processor \u001b[39min\u001b[39;00m \u001b[39mself\u001b[39m\u001b[39m.\u001b[39mprocess_response\u001b[39m.\u001b[39mget(protocol, []):\n\u001b[1;32m    524\u001b[0m     meth \u001b[39m=\u001b[39m \u001b[39mgetattr\u001b[39m(processor, meth_name)\n\u001b[0;32m--> 525\u001b[0m     response \u001b[39m=\u001b[39m meth(req, response)\n\u001b[1;32m    527\u001b[0m \u001b[39mreturn\u001b[39;00m response\n",
            "File \u001b[0;32m~/anaconda3/lib/python3.10/urllib/request.py:634\u001b[0m, in \u001b[0;36mHTTPErrorProcessor.http_response\u001b[0;34m(self, request, response)\u001b[0m\n\u001b[1;32m    631\u001b[0m \u001b[39m# According to RFC 2616, \"2xx\" code indicates that the client's\u001b[39;00m\n\u001b[1;32m    632\u001b[0m \u001b[39m# request was successfully received, understood, and accepted.\u001b[39;00m\n\u001b[1;32m    633\u001b[0m \u001b[39mif\u001b[39;00m \u001b[39mnot\u001b[39;00m (\u001b[39m200\u001b[39m \u001b[39m<\u001b[39m\u001b[39m=\u001b[39m code \u001b[39m<\u001b[39m \u001b[39m300\u001b[39m):\n\u001b[0;32m--> 634\u001b[0m     response \u001b[39m=\u001b[39m \u001b[39mself\u001b[39;49m\u001b[39m.\u001b[39;49mparent\u001b[39m.\u001b[39;49merror(\n\u001b[1;32m    635\u001b[0m         \u001b[39m'\u001b[39;49m\u001b[39mhttp\u001b[39;49m\u001b[39m'\u001b[39;49m, request, response, code, msg, hdrs)\n\u001b[1;32m    637\u001b[0m \u001b[39mreturn\u001b[39;00m response\n",
            "File \u001b[0;32m~/anaconda3/lib/python3.10/urllib/request.py:557\u001b[0m, in \u001b[0;36mOpenerDirector.error\u001b[0;34m(self, proto, *args)\u001b[0m\n\u001b[1;32m    555\u001b[0m     http_err \u001b[39m=\u001b[39m \u001b[39m0\u001b[39m\n\u001b[1;32m    556\u001b[0m args \u001b[39m=\u001b[39m (\u001b[39mdict\u001b[39m, proto, meth_name) \u001b[39m+\u001b[39m args\n\u001b[0;32m--> 557\u001b[0m result \u001b[39m=\u001b[39m \u001b[39mself\u001b[39;49m\u001b[39m.\u001b[39;49m_call_chain(\u001b[39m*\u001b[39;49margs)\n\u001b[1;32m    558\u001b[0m \u001b[39mif\u001b[39;00m result:\n\u001b[1;32m    559\u001b[0m     \u001b[39mreturn\u001b[39;00m result\n",
            "File \u001b[0;32m~/anaconda3/lib/python3.10/urllib/request.py:496\u001b[0m, in \u001b[0;36mOpenerDirector._call_chain\u001b[0;34m(self, chain, kind, meth_name, *args)\u001b[0m\n\u001b[1;32m    494\u001b[0m \u001b[39mfor\u001b[39;00m handler \u001b[39min\u001b[39;00m handlers:\n\u001b[1;32m    495\u001b[0m     func \u001b[39m=\u001b[39m \u001b[39mgetattr\u001b[39m(handler, meth_name)\n\u001b[0;32m--> 496\u001b[0m     result \u001b[39m=\u001b[39m func(\u001b[39m*\u001b[39;49margs)\n\u001b[1;32m    497\u001b[0m     \u001b[39mif\u001b[39;00m result \u001b[39mis\u001b[39;00m \u001b[39mnot\u001b[39;00m \u001b[39mNone\u001b[39;00m:\n\u001b[1;32m    498\u001b[0m         \u001b[39mreturn\u001b[39;00m result\n",
            "File \u001b[0;32m~/anaconda3/lib/python3.10/urllib/request.py:749\u001b[0m, in \u001b[0;36mHTTPRedirectHandler.http_error_302\u001b[0;34m(self, req, fp, code, msg, headers)\u001b[0m\n\u001b[1;32m    746\u001b[0m fp\u001b[39m.\u001b[39mread()\n\u001b[1;32m    747\u001b[0m fp\u001b[39m.\u001b[39mclose()\n\u001b[0;32m--> 749\u001b[0m \u001b[39mreturn\u001b[39;00m \u001b[39mself\u001b[39;49m\u001b[39m.\u001b[39;49mparent\u001b[39m.\u001b[39;49mopen(new, timeout\u001b[39m=\u001b[39;49mreq\u001b[39m.\u001b[39;49mtimeout)\n",
            "File \u001b[0;32m~/anaconda3/lib/python3.10/urllib/request.py:525\u001b[0m, in \u001b[0;36mOpenerDirector.open\u001b[0;34m(self, fullurl, data, timeout)\u001b[0m\n\u001b[1;32m    523\u001b[0m \u001b[39mfor\u001b[39;00m processor \u001b[39min\u001b[39;00m \u001b[39mself\u001b[39m\u001b[39m.\u001b[39mprocess_response\u001b[39m.\u001b[39mget(protocol, []):\n\u001b[1;32m    524\u001b[0m     meth \u001b[39m=\u001b[39m \u001b[39mgetattr\u001b[39m(processor, meth_name)\n\u001b[0;32m--> 525\u001b[0m     response \u001b[39m=\u001b[39m meth(req, response)\n\u001b[1;32m    527\u001b[0m \u001b[39mreturn\u001b[39;00m response\n",
            "File \u001b[0;32m~/anaconda3/lib/python3.10/urllib/request.py:634\u001b[0m, in \u001b[0;36mHTTPErrorProcessor.http_response\u001b[0;34m(self, request, response)\u001b[0m\n\u001b[1;32m    631\u001b[0m \u001b[39m# According to RFC 2616, \"2xx\" code indicates that the client's\u001b[39;00m\n\u001b[1;32m    632\u001b[0m \u001b[39m# request was successfully received, understood, and accepted.\u001b[39;00m\n\u001b[1;32m    633\u001b[0m \u001b[39mif\u001b[39;00m \u001b[39mnot\u001b[39;00m (\u001b[39m200\u001b[39m \u001b[39m<\u001b[39m\u001b[39m=\u001b[39m code \u001b[39m<\u001b[39m \u001b[39m300\u001b[39m):\n\u001b[0;32m--> 634\u001b[0m     response \u001b[39m=\u001b[39m \u001b[39mself\u001b[39;49m\u001b[39m.\u001b[39;49mparent\u001b[39m.\u001b[39;49merror(\n\u001b[1;32m    635\u001b[0m         \u001b[39m'\u001b[39;49m\u001b[39mhttp\u001b[39;49m\u001b[39m'\u001b[39;49m, request, response, code, msg, hdrs)\n\u001b[1;32m    637\u001b[0m \u001b[39mreturn\u001b[39;00m response\n",
            "File \u001b[0;32m~/anaconda3/lib/python3.10/urllib/request.py:563\u001b[0m, in \u001b[0;36mOpenerDirector.error\u001b[0;34m(self, proto, *args)\u001b[0m\n\u001b[1;32m    561\u001b[0m \u001b[39mif\u001b[39;00m http_err:\n\u001b[1;32m    562\u001b[0m     args \u001b[39m=\u001b[39m (\u001b[39mdict\u001b[39m, \u001b[39m'\u001b[39m\u001b[39mdefault\u001b[39m\u001b[39m'\u001b[39m, \u001b[39m'\u001b[39m\u001b[39mhttp_error_default\u001b[39m\u001b[39m'\u001b[39m) \u001b[39m+\u001b[39m orig_args\n\u001b[0;32m--> 563\u001b[0m     \u001b[39mreturn\u001b[39;00m \u001b[39mself\u001b[39;49m\u001b[39m.\u001b[39;49m_call_chain(\u001b[39m*\u001b[39;49margs)\n",
            "File \u001b[0;32m~/anaconda3/lib/python3.10/urllib/request.py:496\u001b[0m, in \u001b[0;36mOpenerDirector._call_chain\u001b[0;34m(self, chain, kind, meth_name, *args)\u001b[0m\n\u001b[1;32m    494\u001b[0m \u001b[39mfor\u001b[39;00m handler \u001b[39min\u001b[39;00m handlers:\n\u001b[1;32m    495\u001b[0m     func \u001b[39m=\u001b[39m \u001b[39mgetattr\u001b[39m(handler, meth_name)\n\u001b[0;32m--> 496\u001b[0m     result \u001b[39m=\u001b[39m func(\u001b[39m*\u001b[39;49margs)\n\u001b[1;32m    497\u001b[0m     \u001b[39mif\u001b[39;00m result \u001b[39mis\u001b[39;00m \u001b[39mnot\u001b[39;00m \u001b[39mNone\u001b[39;00m:\n\u001b[1;32m    498\u001b[0m         \u001b[39mreturn\u001b[39;00m result\n",
            "File \u001b[0;32m~/anaconda3/lib/python3.10/urllib/request.py:643\u001b[0m, in \u001b[0;36mHTTPDefaultErrorHandler.http_error_default\u001b[0;34m(self, req, fp, code, msg, hdrs)\u001b[0m\n\u001b[1;32m    642\u001b[0m \u001b[39mdef\u001b[39;00m \u001b[39mhttp_error_default\u001b[39m(\u001b[39mself\u001b[39m, req, fp, code, msg, hdrs):\n\u001b[0;32m--> 643\u001b[0m     \u001b[39mraise\u001b[39;00m HTTPError(req\u001b[39m.\u001b[39mfull_url, code, msg, hdrs, fp)\n",
            "\u001b[0;31mHTTPError\u001b[0m: HTTP Error 404: Not Found"
=======
          "ename": "URLError",
          "evalue": "<urlopen error [Errno -3] Temporary failure in name resolution>",
          "output_type": "error",
          "traceback": [
            "\u001b[0;31m---------------------------------------------------------------------------\u001b[0m",
            "\u001b[0;31mgaierror\u001b[0m                                  Traceback (most recent call last)",
            "File \u001b[0;32m/home/carlosroberto/anaconda3/lib/python3.10/urllib/request.py:1348\u001b[0m, in \u001b[0;36mAbstractHTTPHandler.do_open\u001b[0;34m(self, http_class, req, **http_conn_args)\u001b[0m\n\u001b[1;32m   1347\u001b[0m \u001b[39mtry\u001b[39;00m:\n\u001b[0;32m-> 1348\u001b[0m     h\u001b[39m.\u001b[39;49mrequest(req\u001b[39m.\u001b[39;49mget_method(), req\u001b[39m.\u001b[39;49mselector, req\u001b[39m.\u001b[39;49mdata, headers,\n\u001b[1;32m   1349\u001b[0m               encode_chunked\u001b[39m=\u001b[39;49mreq\u001b[39m.\u001b[39;49mhas_header(\u001b[39m'\u001b[39;49m\u001b[39mTransfer-encoding\u001b[39;49m\u001b[39m'\u001b[39;49m))\n\u001b[1;32m   1350\u001b[0m \u001b[39mexcept\u001b[39;00m \u001b[39mOSError\u001b[39;00m \u001b[39mas\u001b[39;00m err: \u001b[39m# timeout error\u001b[39;00m\n",
            "File \u001b[0;32m/home/carlosroberto/anaconda3/lib/python3.10/http/client.py:1282\u001b[0m, in \u001b[0;36mHTTPConnection.request\u001b[0;34m(self, method, url, body, headers, encode_chunked)\u001b[0m\n\u001b[1;32m   1281\u001b[0m \u001b[39m\u001b[39m\u001b[39m\"\"\"Send a complete request to the server.\"\"\"\u001b[39;00m\n\u001b[0;32m-> 1282\u001b[0m \u001b[39mself\u001b[39;49m\u001b[39m.\u001b[39;49m_send_request(method, url, body, headers, encode_chunked)\n",
            "File \u001b[0;32m/home/carlosroberto/anaconda3/lib/python3.10/http/client.py:1328\u001b[0m, in \u001b[0;36mHTTPConnection._send_request\u001b[0;34m(self, method, url, body, headers, encode_chunked)\u001b[0m\n\u001b[1;32m   1327\u001b[0m     body \u001b[39m=\u001b[39m _encode(body, \u001b[39m'\u001b[39m\u001b[39mbody\u001b[39m\u001b[39m'\u001b[39m)\n\u001b[0;32m-> 1328\u001b[0m \u001b[39mself\u001b[39;49m\u001b[39m.\u001b[39;49mendheaders(body, encode_chunked\u001b[39m=\u001b[39;49mencode_chunked)\n",
            "File \u001b[0;32m/home/carlosroberto/anaconda3/lib/python3.10/http/client.py:1277\u001b[0m, in \u001b[0;36mHTTPConnection.endheaders\u001b[0;34m(self, message_body, encode_chunked)\u001b[0m\n\u001b[1;32m   1276\u001b[0m     \u001b[39mraise\u001b[39;00m CannotSendHeader()\n\u001b[0;32m-> 1277\u001b[0m \u001b[39mself\u001b[39;49m\u001b[39m.\u001b[39;49m_send_output(message_body, encode_chunked\u001b[39m=\u001b[39;49mencode_chunked)\n",
            "File \u001b[0;32m/home/carlosroberto/anaconda3/lib/python3.10/http/client.py:1037\u001b[0m, in \u001b[0;36mHTTPConnection._send_output\u001b[0;34m(self, message_body, encode_chunked)\u001b[0m\n\u001b[1;32m   1036\u001b[0m \u001b[39mdel\u001b[39;00m \u001b[39mself\u001b[39m\u001b[39m.\u001b[39m_buffer[:]\n\u001b[0;32m-> 1037\u001b[0m \u001b[39mself\u001b[39;49m\u001b[39m.\u001b[39;49msend(msg)\n\u001b[1;32m   1039\u001b[0m \u001b[39mif\u001b[39;00m message_body \u001b[39mis\u001b[39;00m \u001b[39mnot\u001b[39;00m \u001b[39mNone\u001b[39;00m:\n\u001b[1;32m   1040\u001b[0m \n\u001b[1;32m   1041\u001b[0m     \u001b[39m# create a consistent interface to message_body\u001b[39;00m\n",
            "File \u001b[0;32m/home/carlosroberto/anaconda3/lib/python3.10/http/client.py:975\u001b[0m, in \u001b[0;36mHTTPConnection.send\u001b[0;34m(self, data)\u001b[0m\n\u001b[1;32m    974\u001b[0m \u001b[39mif\u001b[39;00m \u001b[39mself\u001b[39m\u001b[39m.\u001b[39mauto_open:\n\u001b[0;32m--> 975\u001b[0m     \u001b[39mself\u001b[39;49m\u001b[39m.\u001b[39;49mconnect()\n\u001b[1;32m    976\u001b[0m \u001b[39melse\u001b[39;00m:\n",
            "File \u001b[0;32m/home/carlosroberto/anaconda3/lib/python3.10/http/client.py:1447\u001b[0m, in \u001b[0;36mHTTPSConnection.connect\u001b[0;34m(self)\u001b[0m\n\u001b[1;32m   1445\u001b[0m \u001b[39m\"\u001b[39m\u001b[39mConnect to a host on a given (SSL) port.\u001b[39m\u001b[39m\"\u001b[39m\n\u001b[0;32m-> 1447\u001b[0m \u001b[39msuper\u001b[39;49m()\u001b[39m.\u001b[39;49mconnect()\n\u001b[1;32m   1449\u001b[0m \u001b[39mif\u001b[39;00m \u001b[39mself\u001b[39m\u001b[39m.\u001b[39m_tunnel_host:\n",
            "File \u001b[0;32m/home/carlosroberto/anaconda3/lib/python3.10/http/client.py:941\u001b[0m, in \u001b[0;36mHTTPConnection.connect\u001b[0;34m(self)\u001b[0m\n\u001b[1;32m    940\u001b[0m sys\u001b[39m.\u001b[39maudit(\u001b[39m\"\u001b[39m\u001b[39mhttp.client.connect\u001b[39m\u001b[39m\"\u001b[39m, \u001b[39mself\u001b[39m, \u001b[39mself\u001b[39m\u001b[39m.\u001b[39mhost, \u001b[39mself\u001b[39m\u001b[39m.\u001b[39mport)\n\u001b[0;32m--> 941\u001b[0m \u001b[39mself\u001b[39m\u001b[39m.\u001b[39msock \u001b[39m=\u001b[39m \u001b[39mself\u001b[39;49m\u001b[39m.\u001b[39;49m_create_connection(\n\u001b[1;32m    942\u001b[0m     (\u001b[39mself\u001b[39;49m\u001b[39m.\u001b[39;49mhost,\u001b[39mself\u001b[39;49m\u001b[39m.\u001b[39;49mport), \u001b[39mself\u001b[39;49m\u001b[39m.\u001b[39;49mtimeout, \u001b[39mself\u001b[39;49m\u001b[39m.\u001b[39;49msource_address)\n\u001b[1;32m    943\u001b[0m \u001b[39m# Might fail in OSs that don't implement TCP_NODELAY\u001b[39;00m\n",
            "File \u001b[0;32m/home/carlosroberto/anaconda3/lib/python3.10/socket.py:824\u001b[0m, in \u001b[0;36mcreate_connection\u001b[0;34m(address, timeout, source_address)\u001b[0m\n\u001b[1;32m    823\u001b[0m err \u001b[39m=\u001b[39m \u001b[39mNone\u001b[39;00m\n\u001b[0;32m--> 824\u001b[0m \u001b[39mfor\u001b[39;00m res \u001b[39min\u001b[39;00m getaddrinfo(host, port, \u001b[39m0\u001b[39;49m, SOCK_STREAM):\n\u001b[1;32m    825\u001b[0m     af, socktype, proto, canonname, sa \u001b[39m=\u001b[39m res\n",
            "File \u001b[0;32m/home/carlosroberto/anaconda3/lib/python3.10/socket.py:955\u001b[0m, in \u001b[0;36mgetaddrinfo\u001b[0;34m(host, port, family, type, proto, flags)\u001b[0m\n\u001b[1;32m    954\u001b[0m addrlist \u001b[39m=\u001b[39m []\n\u001b[0;32m--> 955\u001b[0m \u001b[39mfor\u001b[39;00m res \u001b[39min\u001b[39;00m _socket\u001b[39m.\u001b[39;49mgetaddrinfo(host, port, family, \u001b[39mtype\u001b[39;49m, proto, flags):\n\u001b[1;32m    956\u001b[0m     af, socktype, proto, canonname, sa \u001b[39m=\u001b[39m res\n",
            "\u001b[0;31mgaierror\u001b[0m: [Errno -3] Temporary failure in name resolution",
            "\nDuring handling of the above exception, another exception occurred:\n",
            "\u001b[0;31mURLError\u001b[0m                                  Traceback (most recent call last)",
            "Cell \u001b[0;32mIn[2], line 4\u001b[0m\n\u001b[1;32m      1\u001b[0m \u001b[39m# Download do arquivo de dados das Lojas Americanas no GitHub\u001b[39;00m\n\u001b[1;32m      2\u001b[0m url \u001b[39m=\u001b[39m \u001b[39m\"\u001b[39m\u001b[39mhttps://github.com/b2wdigital/b2w-reviews01/raw/master/B2W-Reviews01.csv\u001b[39m\u001b[39m\"\u001b[39m\n\u001b[0;32m----> 4\u001b[0m df \u001b[39m=\u001b[39m pd\u001b[39m.\u001b[39;49mread_csv(\u001b[39m'\u001b[39;49m\u001b[39mhttps://github.com/b2wdigital/b2w-reviews01/raw/master/B2W-Reviews01.csv\u001b[39;49m\u001b[39m'\u001b[39;49m, sep\u001b[39m=\u001b[39;49m\u001b[39m'\u001b[39;49m\u001b[39m;\u001b[39;49m\u001b[39m'\u001b[39;49m, low_memory\u001b[39m=\u001b[39;49m\u001b[39mFalse\u001b[39;49;00m )\n",
            "File \u001b[0;32m/home/carlosroberto/projetos/ia/.venv/lib/python3.10/site-packages/pandas/io/parsers/readers.py:912\u001b[0m, in \u001b[0;36mread_csv\u001b[0;34m(filepath_or_buffer, sep, delimiter, header, names, index_col, usecols, dtype, engine, converters, true_values, false_values, skipinitialspace, skiprows, skipfooter, nrows, na_values, keep_default_na, na_filter, verbose, skip_blank_lines, parse_dates, infer_datetime_format, keep_date_col, date_parser, date_format, dayfirst, cache_dates, iterator, chunksize, compression, thousands, decimal, lineterminator, quotechar, quoting, doublequote, escapechar, comment, encoding, encoding_errors, dialect, on_bad_lines, delim_whitespace, low_memory, memory_map, float_precision, storage_options, dtype_backend)\u001b[0m\n\u001b[1;32m    899\u001b[0m kwds_defaults \u001b[39m=\u001b[39m _refine_defaults_read(\n\u001b[1;32m    900\u001b[0m     dialect,\n\u001b[1;32m    901\u001b[0m     delimiter,\n\u001b[0;32m   (...)\u001b[0m\n\u001b[1;32m    908\u001b[0m     dtype_backend\u001b[39m=\u001b[39mdtype_backend,\n\u001b[1;32m    909\u001b[0m )\n\u001b[1;32m    910\u001b[0m kwds\u001b[39m.\u001b[39mupdate(kwds_defaults)\n\u001b[0;32m--> 912\u001b[0m \u001b[39mreturn\u001b[39;00m _read(filepath_or_buffer, kwds)\n",
            "File \u001b[0;32m/home/carlosroberto/projetos/ia/.venv/lib/python3.10/site-packages/pandas/io/parsers/readers.py:577\u001b[0m, in \u001b[0;36m_read\u001b[0;34m(filepath_or_buffer, kwds)\u001b[0m\n\u001b[1;32m    574\u001b[0m _validate_names(kwds\u001b[39m.\u001b[39mget(\u001b[39m\"\u001b[39m\u001b[39mnames\u001b[39m\u001b[39m\"\u001b[39m, \u001b[39mNone\u001b[39;00m))\n\u001b[1;32m    576\u001b[0m \u001b[39m# Create the parser.\u001b[39;00m\n\u001b[0;32m--> 577\u001b[0m parser \u001b[39m=\u001b[39m TextFileReader(filepath_or_buffer, \u001b[39m*\u001b[39;49m\u001b[39m*\u001b[39;49mkwds)\n\u001b[1;32m    579\u001b[0m \u001b[39mif\u001b[39;00m chunksize \u001b[39mor\u001b[39;00m iterator:\n\u001b[1;32m    580\u001b[0m     \u001b[39mreturn\u001b[39;00m parser\n",
            "File \u001b[0;32m/home/carlosroberto/projetos/ia/.venv/lib/python3.10/site-packages/pandas/io/parsers/readers.py:1407\u001b[0m, in \u001b[0;36mTextFileReader.__init__\u001b[0;34m(self, f, engine, **kwds)\u001b[0m\n\u001b[1;32m   1404\u001b[0m     \u001b[39mself\u001b[39m\u001b[39m.\u001b[39moptions[\u001b[39m\"\u001b[39m\u001b[39mhas_index_names\u001b[39m\u001b[39m\"\u001b[39m] \u001b[39m=\u001b[39m kwds[\u001b[39m\"\u001b[39m\u001b[39mhas_index_names\u001b[39m\u001b[39m\"\u001b[39m]\n\u001b[1;32m   1406\u001b[0m \u001b[39mself\u001b[39m\u001b[39m.\u001b[39mhandles: IOHandles \u001b[39m|\u001b[39m \u001b[39mNone\u001b[39;00m \u001b[39m=\u001b[39m \u001b[39mNone\u001b[39;00m\n\u001b[0;32m-> 1407\u001b[0m \u001b[39mself\u001b[39m\u001b[39m.\u001b[39m_engine \u001b[39m=\u001b[39m \u001b[39mself\u001b[39;49m\u001b[39m.\u001b[39;49m_make_engine(f, \u001b[39mself\u001b[39;49m\u001b[39m.\u001b[39;49mengine)\n",
            "File \u001b[0;32m/home/carlosroberto/projetos/ia/.venv/lib/python3.10/site-packages/pandas/io/parsers/readers.py:1661\u001b[0m, in \u001b[0;36mTextFileReader._make_engine\u001b[0;34m(self, f, engine)\u001b[0m\n\u001b[1;32m   1659\u001b[0m     \u001b[39mif\u001b[39;00m \u001b[39m\"\u001b[39m\u001b[39mb\u001b[39m\u001b[39m\"\u001b[39m \u001b[39mnot\u001b[39;00m \u001b[39min\u001b[39;00m mode:\n\u001b[1;32m   1660\u001b[0m         mode \u001b[39m+\u001b[39m\u001b[39m=\u001b[39m \u001b[39m\"\u001b[39m\u001b[39mb\u001b[39m\u001b[39m\"\u001b[39m\n\u001b[0;32m-> 1661\u001b[0m \u001b[39mself\u001b[39m\u001b[39m.\u001b[39mhandles \u001b[39m=\u001b[39m get_handle(\n\u001b[1;32m   1662\u001b[0m     f,\n\u001b[1;32m   1663\u001b[0m     mode,\n\u001b[1;32m   1664\u001b[0m     encoding\u001b[39m=\u001b[39;49m\u001b[39mself\u001b[39;49m\u001b[39m.\u001b[39;49moptions\u001b[39m.\u001b[39;49mget(\u001b[39m\"\u001b[39;49m\u001b[39mencoding\u001b[39;49m\u001b[39m\"\u001b[39;49m, \u001b[39mNone\u001b[39;49;00m),\n\u001b[1;32m   1665\u001b[0m     compression\u001b[39m=\u001b[39;49m\u001b[39mself\u001b[39;49m\u001b[39m.\u001b[39;49moptions\u001b[39m.\u001b[39;49mget(\u001b[39m\"\u001b[39;49m\u001b[39mcompression\u001b[39;49m\u001b[39m\"\u001b[39;49m, \u001b[39mNone\u001b[39;49;00m),\n\u001b[1;32m   1666\u001b[0m     memory_map\u001b[39m=\u001b[39;49m\u001b[39mself\u001b[39;49m\u001b[39m.\u001b[39;49moptions\u001b[39m.\u001b[39;49mget(\u001b[39m\"\u001b[39;49m\u001b[39mmemory_map\u001b[39;49m\u001b[39m\"\u001b[39;49m, \u001b[39mFalse\u001b[39;49;00m),\n\u001b[1;32m   1667\u001b[0m     is_text\u001b[39m=\u001b[39;49mis_text,\n\u001b[1;32m   1668\u001b[0m     errors\u001b[39m=\u001b[39;49m\u001b[39mself\u001b[39;49m\u001b[39m.\u001b[39;49moptions\u001b[39m.\u001b[39;49mget(\u001b[39m\"\u001b[39;49m\u001b[39mencoding_errors\u001b[39;49m\u001b[39m\"\u001b[39;49m, \u001b[39m\"\u001b[39;49m\u001b[39mstrict\u001b[39;49m\u001b[39m\"\u001b[39;49m),\n\u001b[1;32m   1669\u001b[0m     storage_options\u001b[39m=\u001b[39;49m\u001b[39mself\u001b[39;49m\u001b[39m.\u001b[39;49moptions\u001b[39m.\u001b[39;49mget(\u001b[39m\"\u001b[39;49m\u001b[39mstorage_options\u001b[39;49m\u001b[39m\"\u001b[39;49m, \u001b[39mNone\u001b[39;49;00m),\n\u001b[1;32m   1670\u001b[0m )\n\u001b[1;32m   1671\u001b[0m \u001b[39massert\u001b[39;00m \u001b[39mself\u001b[39m\u001b[39m.\u001b[39mhandles \u001b[39mis\u001b[39;00m \u001b[39mnot\u001b[39;00m \u001b[39mNone\u001b[39;00m\n\u001b[1;32m   1672\u001b[0m f \u001b[39m=\u001b[39m \u001b[39mself\u001b[39m\u001b[39m.\u001b[39mhandles\u001b[39m.\u001b[39mhandle\n",
            "File \u001b[0;32m/home/carlosroberto/projetos/ia/.venv/lib/python3.10/site-packages/pandas/io/common.py:716\u001b[0m, in \u001b[0;36mget_handle\u001b[0;34m(path_or_buf, mode, encoding, compression, memory_map, is_text, errors, storage_options)\u001b[0m\n\u001b[1;32m    713\u001b[0m     codecs\u001b[39m.\u001b[39mlookup_error(errors)\n\u001b[1;32m    715\u001b[0m \u001b[39m# open URLs\u001b[39;00m\n\u001b[0;32m--> 716\u001b[0m ioargs \u001b[39m=\u001b[39m _get_filepath_or_buffer(\n\u001b[1;32m    717\u001b[0m     path_or_buf,\n\u001b[1;32m    718\u001b[0m     encoding\u001b[39m=\u001b[39;49mencoding,\n\u001b[1;32m    719\u001b[0m     compression\u001b[39m=\u001b[39;49mcompression,\n\u001b[1;32m    720\u001b[0m     mode\u001b[39m=\u001b[39;49mmode,\n\u001b[1;32m    721\u001b[0m     storage_options\u001b[39m=\u001b[39;49mstorage_options,\n\u001b[1;32m    722\u001b[0m )\n\u001b[1;32m    724\u001b[0m handle \u001b[39m=\u001b[39m ioargs\u001b[39m.\u001b[39mfilepath_or_buffer\n\u001b[1;32m    725\u001b[0m handles: \u001b[39mlist\u001b[39m[BaseBuffer]\n",
            "File \u001b[0;32m/home/carlosroberto/projetos/ia/.venv/lib/python3.10/site-packages/pandas/io/common.py:368\u001b[0m, in \u001b[0;36m_get_filepath_or_buffer\u001b[0;34m(filepath_or_buffer, encoding, compression, mode, storage_options)\u001b[0m\n\u001b[1;32m    366\u001b[0m \u001b[39m# assuming storage_options is to be interpreted as headers\u001b[39;00m\n\u001b[1;32m    367\u001b[0m req_info \u001b[39m=\u001b[39m urllib\u001b[39m.\u001b[39mrequest\u001b[39m.\u001b[39mRequest(filepath_or_buffer, headers\u001b[39m=\u001b[39mstorage_options)\n\u001b[0;32m--> 368\u001b[0m \u001b[39mwith\u001b[39;00m urlopen(req_info) \u001b[39mas\u001b[39;00m req:\n\u001b[1;32m    369\u001b[0m     content_encoding \u001b[39m=\u001b[39m req\u001b[39m.\u001b[39mheaders\u001b[39m.\u001b[39mget(\u001b[39m\"\u001b[39m\u001b[39mContent-Encoding\u001b[39m\u001b[39m\"\u001b[39m, \u001b[39mNone\u001b[39;00m)\n\u001b[1;32m    370\u001b[0m     \u001b[39mif\u001b[39;00m content_encoding \u001b[39m==\u001b[39m \u001b[39m\"\u001b[39m\u001b[39mgzip\u001b[39m\u001b[39m\"\u001b[39m:\n\u001b[1;32m    371\u001b[0m         \u001b[39m# Override compression based on Content-Encoding header\u001b[39;00m\n",
            "File \u001b[0;32m/home/carlosroberto/projetos/ia/.venv/lib/python3.10/site-packages/pandas/io/common.py:270\u001b[0m, in \u001b[0;36murlopen\u001b[0;34m(*args, **kwargs)\u001b[0m\n\u001b[1;32m    264\u001b[0m \u001b[39m\u001b[39m\u001b[39m\"\"\"\u001b[39;00m\n\u001b[1;32m    265\u001b[0m \u001b[39mLazy-import wrapper for stdlib urlopen, as that imports a big chunk of\u001b[39;00m\n\u001b[1;32m    266\u001b[0m \u001b[39mthe stdlib.\u001b[39;00m\n\u001b[1;32m    267\u001b[0m \u001b[39m\"\"\"\u001b[39;00m\n\u001b[1;32m    268\u001b[0m \u001b[39mimport\u001b[39;00m \u001b[39murllib\u001b[39;00m\u001b[39m.\u001b[39;00m\u001b[39mrequest\u001b[39;00m\n\u001b[0;32m--> 270\u001b[0m \u001b[39mreturn\u001b[39;00m urllib\u001b[39m.\u001b[39;49mrequest\u001b[39m.\u001b[39;49murlopen(\u001b[39m*\u001b[39;49margs, \u001b[39m*\u001b[39;49m\u001b[39m*\u001b[39;49mkwargs)\n",
            "File \u001b[0;32m/home/carlosroberto/anaconda3/lib/python3.10/urllib/request.py:216\u001b[0m, in \u001b[0;36murlopen\u001b[0;34m(url, data, timeout, cafile, capath, cadefault, context)\u001b[0m\n\u001b[1;32m    214\u001b[0m \u001b[39melse\u001b[39;00m:\n\u001b[1;32m    215\u001b[0m     opener \u001b[39m=\u001b[39m _opener\n\u001b[0;32m--> 216\u001b[0m \u001b[39mreturn\u001b[39;00m opener\u001b[39m.\u001b[39;49mopen(url, data, timeout)\n",
            "File \u001b[0;32m/home/carlosroberto/anaconda3/lib/python3.10/urllib/request.py:519\u001b[0m, in \u001b[0;36mOpenerDirector.open\u001b[0;34m(self, fullurl, data, timeout)\u001b[0m\n\u001b[1;32m    516\u001b[0m     req \u001b[39m=\u001b[39m meth(req)\n\u001b[1;32m    518\u001b[0m sys\u001b[39m.\u001b[39maudit(\u001b[39m'\u001b[39m\u001b[39murllib.Request\u001b[39m\u001b[39m'\u001b[39m, req\u001b[39m.\u001b[39mfull_url, req\u001b[39m.\u001b[39mdata, req\u001b[39m.\u001b[39mheaders, req\u001b[39m.\u001b[39mget_method())\n\u001b[0;32m--> 519\u001b[0m response \u001b[39m=\u001b[39m \u001b[39mself\u001b[39;49m\u001b[39m.\u001b[39;49m_open(req, data)\n\u001b[1;32m    521\u001b[0m \u001b[39m# post-process response\u001b[39;00m\n\u001b[1;32m    522\u001b[0m meth_name \u001b[39m=\u001b[39m protocol\u001b[39m+\u001b[39m\u001b[39m\"\u001b[39m\u001b[39m_response\u001b[39m\u001b[39m\"\u001b[39m\n",
            "File \u001b[0;32m/home/carlosroberto/anaconda3/lib/python3.10/urllib/request.py:536\u001b[0m, in \u001b[0;36mOpenerDirector._open\u001b[0;34m(self, req, data)\u001b[0m\n\u001b[1;32m    533\u001b[0m     \u001b[39mreturn\u001b[39;00m result\n\u001b[1;32m    535\u001b[0m protocol \u001b[39m=\u001b[39m req\u001b[39m.\u001b[39mtype\n\u001b[0;32m--> 536\u001b[0m result \u001b[39m=\u001b[39m \u001b[39mself\u001b[39;49m\u001b[39m.\u001b[39;49m_call_chain(\u001b[39mself\u001b[39;49m\u001b[39m.\u001b[39;49mhandle_open, protocol, protocol \u001b[39m+\u001b[39;49m\n\u001b[1;32m    537\u001b[0m                           \u001b[39m'\u001b[39;49m\u001b[39m_open\u001b[39;49m\u001b[39m'\u001b[39;49m, req)\n\u001b[1;32m    538\u001b[0m \u001b[39mif\u001b[39;00m result:\n\u001b[1;32m    539\u001b[0m     \u001b[39mreturn\u001b[39;00m result\n",
            "File \u001b[0;32m/home/carlosroberto/anaconda3/lib/python3.10/urllib/request.py:496\u001b[0m, in \u001b[0;36mOpenerDirector._call_chain\u001b[0;34m(self, chain, kind, meth_name, *args)\u001b[0m\n\u001b[1;32m    494\u001b[0m \u001b[39mfor\u001b[39;00m handler \u001b[39min\u001b[39;00m handlers:\n\u001b[1;32m    495\u001b[0m     func \u001b[39m=\u001b[39m \u001b[39mgetattr\u001b[39m(handler, meth_name)\n\u001b[0;32m--> 496\u001b[0m     result \u001b[39m=\u001b[39m func(\u001b[39m*\u001b[39;49margs)\n\u001b[1;32m    497\u001b[0m     \u001b[39mif\u001b[39;00m result \u001b[39mis\u001b[39;00m \u001b[39mnot\u001b[39;00m \u001b[39mNone\u001b[39;00m:\n\u001b[1;32m    498\u001b[0m         \u001b[39mreturn\u001b[39;00m result\n",
            "File \u001b[0;32m/home/carlosroberto/anaconda3/lib/python3.10/urllib/request.py:1391\u001b[0m, in \u001b[0;36mHTTPSHandler.https_open\u001b[0;34m(self, req)\u001b[0m\n\u001b[1;32m   1390\u001b[0m \u001b[39mdef\u001b[39;00m \u001b[39mhttps_open\u001b[39m(\u001b[39mself\u001b[39m, req):\n\u001b[0;32m-> 1391\u001b[0m     \u001b[39mreturn\u001b[39;00m \u001b[39mself\u001b[39;49m\u001b[39m.\u001b[39;49mdo_open(http\u001b[39m.\u001b[39;49mclient\u001b[39m.\u001b[39;49mHTTPSConnection, req,\n\u001b[1;32m   1392\u001b[0m         context\u001b[39m=\u001b[39;49m\u001b[39mself\u001b[39;49m\u001b[39m.\u001b[39;49m_context, check_hostname\u001b[39m=\u001b[39;49m\u001b[39mself\u001b[39;49m\u001b[39m.\u001b[39;49m_check_hostname)\n",
            "File \u001b[0;32m/home/carlosroberto/anaconda3/lib/python3.10/urllib/request.py:1351\u001b[0m, in \u001b[0;36mAbstractHTTPHandler.do_open\u001b[0;34m(self, http_class, req, **http_conn_args)\u001b[0m\n\u001b[1;32m   1348\u001b[0m         h\u001b[39m.\u001b[39mrequest(req\u001b[39m.\u001b[39mget_method(), req\u001b[39m.\u001b[39mselector, req\u001b[39m.\u001b[39mdata, headers,\n\u001b[1;32m   1349\u001b[0m                   encode_chunked\u001b[39m=\u001b[39mreq\u001b[39m.\u001b[39mhas_header(\u001b[39m'\u001b[39m\u001b[39mTransfer-encoding\u001b[39m\u001b[39m'\u001b[39m))\n\u001b[1;32m   1350\u001b[0m     \u001b[39mexcept\u001b[39;00m \u001b[39mOSError\u001b[39;00m \u001b[39mas\u001b[39;00m err: \u001b[39m# timeout error\u001b[39;00m\n\u001b[0;32m-> 1351\u001b[0m         \u001b[39mraise\u001b[39;00m URLError(err)\n\u001b[1;32m   1352\u001b[0m     r \u001b[39m=\u001b[39m h\u001b[39m.\u001b[39mgetresponse()\n\u001b[1;32m   1353\u001b[0m \u001b[39mexcept\u001b[39;00m:\n",
            "\u001b[0;31mURLError\u001b[0m: <urlopen error [Errno -3] Temporary failure in name resolution>"
>>>>>>> 3daecee (Testes no notebooks):ml/notebooks/esmpu/curso_ml/Pipeline_mixto.ipynb
          ]
        }
      ],
      "source": [
        "# Download do arquivo de dados das Lojas Americanas no GitHub\n",
        "url = \"https://github.com/b2wdigital/b2w-reviews01/raw/master/B2W-Reviews01.csv\"\n",
        "\n",
<<<<<<< HEAD:ml/notebooks/esmpu/curso_ml/aula06/Pipeline_mixto.ipynb
        "df = pd.read_csv(\n",
        "    \"https://github.com/b2wdigital/b2w-reviews01/raw/master/B2W-Reviews01.csv\",\n",
        "    sep=\";\",\n",
        "    low_memory=False,\n",
        ")"
=======
      "execution_count": 13,
      "metadata": {
        "id": "fO5QzlTtkV1r"
      },
      "outputs": [],
      "source": [
        "# Download do arquivo de dados das Lojas Americanas no GitHub\n",
        "# url = \"https://github.com/b2wdigital/b2w-reviews01/raw/master/B2W-Reviews01.csv\"\n",
        "url = (\n",
        "    \"https://raw.githubusercontent.com/b2wdigital/b2w-reviews01/main/B2W-Reviews01.csv\"\n",
        ")\n",
        "df = pd.read_csv(url, sep=\",\", low_memory=False)\n"
>>>>>>> 567897d (Ajustes):ml/notebooks/esmpu/curso_ml/Pipeline_mixto.ipynb
=======
        "df = pd.read_csv('https://github.com/b2wdigital/b2w-reviews01/raw/master/B2W-Reviews01.csv', sep=';', low_memory=False )"
>>>>>>> 3daecee (Testes no notebooks):ml/notebooks/esmpu/curso_ml/Pipeline_mixto.ipynb
      ]
    },
    {
      "cell_type": "code",
<<<<<<< HEAD:ml/notebooks/esmpu/curso_ml/aula06/Pipeline_mixto.ipynb
<<<<<<< HEAD:ml/notebooks/esmpu/curso_ml/aula06/Pipeline_mixto.ipynb
      "execution_count": null,
=======
      "execution_count": 14,
>>>>>>> 567897d (Ajustes):ml/notebooks/esmpu/curso_ml/Pipeline_mixto.ipynb
=======
      "execution_count": null,
>>>>>>> 3daecee (Testes no notebooks):ml/notebooks/esmpu/curso_ml/Pipeline_mixto.ipynb
      "metadata": {
        "colab": {
          "base_uri": "https://localhost:8080/",
          "height": 1000
        },
        "id": "QD4sbsOzkV1t",
        "outputId": "942a7f65-5900-4f4c-86a3-a5c52dbd2c56"
      },
      "outputs": [
        {
          "data": {
            "text/html": [
              "<div>\n",
              "<style scoped>\n",
              "    .dataframe tbody tr th:only-of-type {\n",
              "        vertical-align: middle;\n",
              "    }\n",
              "\n",
              "    .dataframe tbody tr th {\n",
              "        vertical-align: top;\n",
              "    }\n",
              "\n",
              "    .dataframe thead th {\n",
              "        text-align: right;\n",
              "    }\n",
              "</style>\n",
              "<table border=\"1\" class=\"dataframe\">\n",
              "  <thead>\n",
              "    <tr style=\"text-align: right;\">\n",
              "      <th></th>\n",
              "      <th>submission_date</th>\n",
              "      <th>reviewer_id</th>\n",
              "      <th>product_id</th>\n",
              "      <th>product_name</th>\n",
              "      <th>product_brand</th>\n",
              "      <th>site_category_lv1</th>\n",
              "      <th>site_category_lv2</th>\n",
              "      <th>review_title</th>\n",
              "      <th>overall_rating</th>\n",
              "      <th>recommend_to_a_friend</th>\n",
              "      <th>review_text</th>\n",
              "      <th>reviewer_birth_year</th>\n",
              "      <th>reviewer_gender</th>\n",
              "      <th>reviewer_state</th>\n",
              "    </tr>\n",
              "  </thead>\n",
              "  <tbody>\n",
              "    <tr>\n",
              "      <th>0</th>\n",
              "      <td>2018-01-01 00:11:28</td>\n",
              "      <td>d0fb1ca69422530334178f5c8624aa7a99da47907c44de...</td>\n",
              "      <td>132532965</td>\n",
              "      <td>Notebook Asus Vivobook Max X541NA-GO472T Intel...</td>\n",
              "      <td>NaN</td>\n",
              "      <td>Informática</td>\n",
              "      <td>Notebook</td>\n",
              "      <td>Bom</td>\n",
              "      <td>4</td>\n",
              "      <td>Yes</td>\n",
              "      <td>Estou contente com a compra entrega rápida o ú...</td>\n",
              "      <td>1958.0</td>\n",
              "      <td>F</td>\n",
              "      <td>RJ</td>\n",
              "    </tr>\n",
              "    <tr>\n",
              "      <th>1</th>\n",
              "      <td>2018-01-01 00:13:48</td>\n",
              "      <td>014d6dc5a10aed1ff1e6f349fb2b059a2d3de511c7538a...</td>\n",
              "      <td>22562178</td>\n",
              "      <td>Copo Acrílico Com Canudo 500ml Rocie</td>\n",
              "      <td>NaN</td>\n",
              "      <td>Utilidades Domésticas</td>\n",
              "      <td>Copos, Taças e Canecas</td>\n",
              "      <td>Preço imbatível, ótima qualidade</td>\n",
              "      <td>4</td>\n",
              "      <td>Yes</td>\n",
              "      <td>Por apenas R$1994.20,eu consegui comprar esse ...</td>\n",
              "      <td>1996.0</td>\n",
              "      <td>M</td>\n",
              "      <td>SC</td>\n",
              "    </tr>\n",
              "    <tr>\n",
              "      <th>2</th>\n",
              "      <td>2018-01-01 00:26:02</td>\n",
              "      <td>44f2c8edd93471926fff601274b8b2b5c4824e386ae4f2...</td>\n",
              "      <td>113022329</td>\n",
              "      <td>Panela de Pressão Elétrica Philips Walita Dail...</td>\n",
              "      <td>philips walita</td>\n",
              "      <td>Eletroportáteis</td>\n",
              "      <td>Panela Elétrica</td>\n",
              "      <td>ATENDE TODAS AS EXPECTATIVA.</td>\n",
              "      <td>4</td>\n",
              "      <td>Yes</td>\n",
              "      <td>SUPERA EM AGILIDADE E PRATICIDADE OUTRAS PANEL...</td>\n",
              "      <td>1984.0</td>\n",
              "      <td>M</td>\n",
              "      <td>SP</td>\n",
              "    </tr>\n",
              "    <tr>\n",
              "      <th>3</th>\n",
              "      <td>2018-01-01 00:35:54</td>\n",
              "      <td>ce741665c1764ab2d77539e18d0e4f66dde6213c9f0863...</td>\n",
              "      <td>113851581</td>\n",
              "      <td>Betoneira Columbus - Roma Brinquedos</td>\n",
              "      <td>roma jensen</td>\n",
              "      <td>Brinquedos</td>\n",
              "      <td>Veículos de Brinquedo</td>\n",
              "      <td>presente mais que desejado</td>\n",
              "      <td>4</td>\n",
              "      <td>Yes</td>\n",
              "      <td>MEU FILHO AMOU! PARECE DE VERDADE COM TANTOS D...</td>\n",
              "      <td>1985.0</td>\n",
              "      <td>F</td>\n",
              "      <td>SP</td>\n",
              "    </tr>\n",
              "    <tr>\n",
              "      <th>4</th>\n",
              "      <td>2018-01-01 01:00:28</td>\n",
              "      <td>7d7b6b18dda804a897359276cef0ca252f9932bf4b5c8e...</td>\n",
              "      <td>131788803</td>\n",
              "      <td>Smart TV LED 43\" LG 43UJ6525 Ultra HD 4K com C...</td>\n",
              "      <td>lg</td>\n",
              "      <td>TV e Home Theater</td>\n",
              "      <td>TV</td>\n",
              "      <td>Sem duvidas, excelente</td>\n",
              "      <td>5</td>\n",
              "      <td>Yes</td>\n",
              "      <td>A entrega foi no prazo, as americanas estão de...</td>\n",
              "      <td>1994.0</td>\n",
              "      <td>M</td>\n",
              "      <td>MG</td>\n",
              "    </tr>\n",
              "    <tr>\n",
              "      <th>...</th>\n",
              "      <td>...</td>\n",
              "      <td>...</td>\n",
              "      <td>...</td>\n",
              "      <td>...</td>\n",
              "      <td>...</td>\n",
              "      <td>...</td>\n",
              "      <td>...</td>\n",
              "      <td>...</td>\n",
              "      <td>...</td>\n",
              "      <td>...</td>\n",
              "      <td>...</td>\n",
              "      <td>...</td>\n",
              "      <td>...</td>\n",
              "      <td>...</td>\n",
              "    </tr>\n",
              "    <tr>\n",
              "      <th>132368</th>\n",
              "      <td>2018-05-31 23:30:50</td>\n",
              "      <td>15f20e95ff44163f3175aaf67a5ae4a94d5030b409e521...</td>\n",
              "      <td>17962233</td>\n",
              "      <td>Carregador De Pilha Sony + 4 Pilhas Aa 2500mah</td>\n",
              "      <td>NaN</td>\n",
              "      <td>Câmeras e Filmadoras</td>\n",
              "      <td>Acessórios para Câmeras e Filmadoras</td>\n",
              "      <td>Ótimo produto!</td>\n",
              "      <td>5</td>\n",
              "      <td>Yes</td>\n",
              "      <td>Vale muito, estou usando no controle do Xbox e...</td>\n",
              "      <td>1988.0</td>\n",
              "      <td>M</td>\n",
              "      <td>RS</td>\n",
              "    </tr>\n",
              "    <tr>\n",
              "      <th>132369</th>\n",
              "      <td>2018-05-31 23:42:25</td>\n",
              "      <td>def7cf9028b0673ab8bca3b1d06e085461fafb88cd48d9...</td>\n",
              "      <td>132631701</td>\n",
              "      <td>Mop Giratório Fit + Refil Extra - At Home</td>\n",
              "      <td>NaN</td>\n",
              "      <td>Utilidades Domésticas</td>\n",
              "      <td>Material de Limpeza</td>\n",
              "      <td>Sensacional</td>\n",
              "      <td>5</td>\n",
              "      <td>Yes</td>\n",
              "      <td>Prático e barato, super indico o produto para ...</td>\n",
              "      <td>1979.0</td>\n",
              "      <td>F</td>\n",
              "      <td>SP</td>\n",
              "    </tr>\n",
              "    <tr>\n",
              "      <th>132370</th>\n",
              "      <td>2018-05-31 23:44:16</td>\n",
              "      <td>7bcbf542f5d7dd9a9a192a6805adba7a7a4c1ce3bf00df...</td>\n",
              "      <td>16095859</td>\n",
              "      <td>Fita Led 5m Rgb 3528 Siliconada Com 300 Leds C...</td>\n",
              "      <td>NaN</td>\n",
              "      <td>Automotivo</td>\n",
              "      <td>Iluminação</td>\n",
              "      <td>Ótimo produto</td>\n",
              "      <td>4</td>\n",
              "      <td>Yes</td>\n",
              "      <td>Chegou antes do prazo previsto e corresponde a...</td>\n",
              "      <td>1979.0</td>\n",
              "      <td>F</td>\n",
              "      <td>PR</td>\n",
              "    </tr>\n",
              "    <tr>\n",
              "      <th>132371</th>\n",
              "      <td>2018-05-31 23:46:48</td>\n",
              "      <td>e6fb0b19277d01c2a300c7837a105f3c369377e92f9c19...</td>\n",
              "      <td>6774907</td>\n",
              "      <td>Etiquetas Jurídicas Vade Mecum - Marca Fácil</td>\n",
              "      <td>marca facil</td>\n",
              "      <td>Papelaria</td>\n",
              "      <td>Material de Escritório</td>\n",
              "      <td>O produto não é bom.</td>\n",
              "      <td>1</td>\n",
              "      <td>No</td>\n",
              "      <td>Material fraco, poderia ser melhor. Ficou deve...</td>\n",
              "      <td>1991.0</td>\n",
              "      <td>M</td>\n",
              "      <td>RJ</td>\n",
              "    </tr>\n",
              "    <tr>\n",
              "      <th>132372</th>\n",
              "      <td>2018-05-31 23:50:33</td>\n",
              "      <td>ea9467aa73271fb4f68c04f4dd4f4eef304d6ee85441fb...</td>\n",
              "      <td>114081902</td>\n",
              "      <td>Painel de Fotos Bee Colection Rue Bac (74x94x3...</td>\n",
              "      <td>kapos</td>\n",
              "      <td>Decoração</td>\n",
              "      <td>Painel de Fotos</td>\n",
              "      <td>Produto não entregue</td>\n",
              "      <td>1</td>\n",
              "      <td>No</td>\n",
              "      <td>Comprei esse produto, quando chegou estava com...</td>\n",
              "      <td>1982.0</td>\n",
              "      <td>F</td>\n",
              "      <td>ES</td>\n",
              "    </tr>\n",
              "  </tbody>\n",
              "</table>\n",
              "<p>132373 rows × 14 columns</p>\n",
              "</div>"
            ],
            "text/plain": [
<<<<<<< HEAD:ml/notebooks/esmpu/curso_ml/aula06/Pipeline_mixto.ipynb
<<<<<<< HEAD:ml/notebooks/esmpu/curso_ml/aula06/Pipeline_mixto.ipynb
=======
>>>>>>> 3daecee (Testes no notebooks):ml/notebooks/esmpu/curso_ml/Pipeline_mixto.ipynb
              "            submission_date  ... reviewer_state\n",
              "0       2018-01-01 00:11:28  ...             RJ\n",
              "1       2018-01-01 00:13:48  ...             SC\n",
              "2       2018-01-01 00:26:02  ...             SP\n",
              "3       2018-01-01 00:35:54  ...             SP\n",
              "4       2018-01-01 01:00:28  ...             MG\n",
              "...                     ...  ...            ...\n",
              "132368  2018-05-31 23:30:50  ...             RS\n",
              "132369  2018-05-31 23:42:25  ...             SP\n",
              "132370  2018-05-31 23:44:16  ...             PR\n",
              "132371  2018-05-31 23:46:48  ...             RJ\n",
              "132372  2018-05-31 23:50:33  ...             ES\n",
<<<<<<< HEAD:ml/notebooks/esmpu/curso_ml/aula06/Pipeline_mixto.ipynb
=======
              "            submission_date   \n",
              "0       2018-01-01 00:11:28  \\\n",
              "1       2018-01-01 00:13:48   \n",
              "2       2018-01-01 00:26:02   \n",
              "3       2018-01-01 00:35:54   \n",
              "4       2018-01-01 01:00:28   \n",
              "...                     ...   \n",
              "132368  2018-05-31 23:30:50   \n",
              "132369  2018-05-31 23:42:25   \n",
              "132370  2018-05-31 23:44:16   \n",
              "132371  2018-05-31 23:46:48   \n",
              "132372  2018-05-31 23:50:33   \n",
              "\n",
              "                                              reviewer_id product_id   \n",
              "0       d0fb1ca69422530334178f5c8624aa7a99da47907c44de...  132532965  \\\n",
              "1       014d6dc5a10aed1ff1e6f349fb2b059a2d3de511c7538a...   22562178   \n",
              "2       44f2c8edd93471926fff601274b8b2b5c4824e386ae4f2...  113022329   \n",
              "3       ce741665c1764ab2d77539e18d0e4f66dde6213c9f0863...  113851581   \n",
              "4       7d7b6b18dda804a897359276cef0ca252f9932bf4b5c8e...  131788803   \n",
              "...                                                   ...        ...   \n",
              "132368  15f20e95ff44163f3175aaf67a5ae4a94d5030b409e521...   17962233   \n",
              "132369  def7cf9028b0673ab8bca3b1d06e085461fafb88cd48d9...  132631701   \n",
              "132370  7bcbf542f5d7dd9a9a192a6805adba7a7a4c1ce3bf00df...   16095859   \n",
              "132371  e6fb0b19277d01c2a300c7837a105f3c369377e92f9c19...    6774907   \n",
              "132372  ea9467aa73271fb4f68c04f4dd4f4eef304d6ee85441fb...  114081902   \n",
              "\n",
              "                                             product_name   product_brand   \n",
              "0       Notebook Asus Vivobook Max X541NA-GO472T Intel...             NaN  \\\n",
              "1                    Copo Acrílico Com Canudo 500ml Rocie             NaN   \n",
              "2       Panela de Pressão Elétrica Philips Walita Dail...  philips walita   \n",
              "3                    Betoneira Columbus - Roma Brinquedos     roma jensen   \n",
              "4       Smart TV LED 43\" LG 43UJ6525 Ultra HD 4K com C...              lg   \n",
              "...                                                   ...             ...   \n",
              "132368     Carregador De Pilha Sony + 4 Pilhas Aa 2500mah             NaN   \n",
              "132369          Mop Giratório Fit + Refil Extra - At Home             NaN   \n",
              "132370  Fita Led 5m Rgb 3528 Siliconada Com 300 Leds C...             NaN   \n",
              "132371       Etiquetas Jurídicas Vade Mecum - Marca Fácil     marca facil   \n",
              "132372  Painel de Fotos Bee Colection Rue Bac (74x94x3...           kapos   \n",
              "\n",
              "            site_category_lv1                     site_category_lv2   \n",
              "0                 Informática                              Notebook  \\\n",
              "1       Utilidades Domésticas                Copos, Taças e Canecas   \n",
              "2             Eletroportáteis                       Panela Elétrica   \n",
              "3                  Brinquedos                 Veículos de Brinquedo   \n",
              "4           TV e Home Theater                                    TV   \n",
              "...                       ...                                   ...   \n",
              "132368   Câmeras e Filmadoras  Acessórios para Câmeras e Filmadoras   \n",
              "132369  Utilidades Domésticas                   Material de Limpeza   \n",
              "132370             Automotivo                            Iluminação   \n",
              "132371              Papelaria                Material de Escritório   \n",
              "132372              Decoração                       Painel de Fotos   \n",
              "\n",
              "                            review_title  overall_rating   \n",
              "0                                    Bom               4  \\\n",
              "1       Preço imbatível, ótima qualidade               4   \n",
              "2           ATENDE TODAS AS EXPECTATIVA.               4   \n",
              "3             presente mais que desejado               4   \n",
              "4                 Sem duvidas, excelente               5   \n",
              "...                                  ...             ...   \n",
              "132368                    Ótimo produto!               5   \n",
              "132369                       Sensacional               5   \n",
              "132370                     Ótimo produto               4   \n",
              "132371              O produto não é bom.               1   \n",
              "132372              Produto não entregue               1   \n",
              "\n",
              "       recommend_to_a_friend   \n",
              "0                        Yes  \\\n",
              "1                        Yes   \n",
              "2                        Yes   \n",
              "3                        Yes   \n",
              "4                        Yes   \n",
              "...                      ...   \n",
              "132368                   Yes   \n",
              "132369                   Yes   \n",
              "132370                   Yes   \n",
              "132371                    No   \n",
              "132372                    No   \n",
              "\n",
              "                                              review_text   \n",
              "0       Estou contente com a compra entrega rápida o ú...  \\\n",
              "1       Por apenas R$1994.20,eu consegui comprar esse ...   \n",
              "2       SUPERA EM AGILIDADE E PRATICIDADE OUTRAS PANEL...   \n",
              "3       MEU FILHO AMOU! PARECE DE VERDADE COM TANTOS D...   \n",
              "4       A entrega foi no prazo, as americanas estão de...   \n",
              "...                                                   ...   \n",
              "132368  Vale muito, estou usando no controle do Xbox e...   \n",
              "132369  Prático e barato, super indico o produto para ...   \n",
              "132370  Chegou antes do prazo previsto e corresponde a...   \n",
              "132371  Material fraco, poderia ser melhor. Ficou deve...   \n",
              "132372  Comprei esse produto, quando chegou estava com...   \n",
              "\n",
              "        reviewer_birth_year reviewer_gender reviewer_state  \n",
              "0                    1958.0               F             RJ  \n",
              "1                    1996.0               M             SC  \n",
              "2                    1984.0               M             SP  \n",
              "3                    1985.0               F             SP  \n",
              "4                    1994.0               M             MG  \n",
              "...                     ...             ...            ...  \n",
              "132368               1988.0               M             RS  \n",
              "132369               1979.0               F             SP  \n",
              "132370               1979.0               F             PR  \n",
              "132371               1991.0               M             RJ  \n",
              "132372               1982.0               F             ES  \n",
>>>>>>> 567897d (Ajustes):ml/notebooks/esmpu/curso_ml/Pipeline_mixto.ipynb
=======
>>>>>>> 3daecee (Testes no notebooks):ml/notebooks/esmpu/curso_ml/Pipeline_mixto.ipynb
              "\n",
              "[132373 rows x 14 columns]"
            ]
          },
<<<<<<< HEAD:ml/notebooks/esmpu/curso_ml/aula06/Pipeline_mixto.ipynb
<<<<<<< HEAD:ml/notebooks/esmpu/curso_ml/aula06/Pipeline_mixto.ipynb
=======
>>>>>>> 3daecee (Testes no notebooks):ml/notebooks/esmpu/curso_ml/Pipeline_mixto.ipynb
          "execution_count": 3,
          "metadata": {
            "tags": []
          },
<<<<<<< HEAD:ml/notebooks/esmpu/curso_ml/aula06/Pipeline_mixto.ipynb
=======
          "execution_count": 14,
          "metadata": {},
>>>>>>> 567897d (Ajustes):ml/notebooks/esmpu/curso_ml/Pipeline_mixto.ipynb
=======
>>>>>>> 3daecee (Testes no notebooks):ml/notebooks/esmpu/curso_ml/Pipeline_mixto.ipynb
          "output_type": "execute_result"
        }
      ],
      "source": [
<<<<<<< HEAD:ml/notebooks/esmpu/curso_ml/aula06/Pipeline_mixto.ipynb
<<<<<<< HEAD:ml/notebooks/esmpu/curso_ml/aula06/Pipeline_mixto.ipynb
        "df"
=======
        "df\n"
>>>>>>> 567897d (Ajustes):ml/notebooks/esmpu/curso_ml/Pipeline_mixto.ipynb
=======
        "df"
>>>>>>> 3daecee (Testes no notebooks):ml/notebooks/esmpu/curso_ml/Pipeline_mixto.ipynb
      ]
    },
    {
      "cell_type": "code",
<<<<<<< HEAD:ml/notebooks/esmpu/curso_ml/aula06/Pipeline_mixto.ipynb
<<<<<<< HEAD:ml/notebooks/esmpu/curso_ml/aula06/Pipeline_mixto.ipynb
      "execution_count": null,
=======
      "execution_count": 15,
>>>>>>> 567897d (Ajustes):ml/notebooks/esmpu/curso_ml/Pipeline_mixto.ipynb
=======
      "execution_count": null,
>>>>>>> 3daecee (Testes no notebooks):ml/notebooks/esmpu/curso_ml/Pipeline_mixto.ipynb
      "metadata": {
        "id": "jeKW74kJkV1w"
      },
      "outputs": [],
      "source": [
        "# Vamos focar em um mix de typos de dados:\n",
        "# Texto: review_text\n",
        "# numérico: reviewer_birth_year\n",
        "# categórico: reviewer_state\n",
        "\n",
        "# Mais a variável dependente (target): overall_rating (1 a 5)\n",
<<<<<<< HEAD:ml/notebooks/esmpu/curso_ml/aula06/Pipeline_mixto.ipynb
        "sub = df[[\"review_text\", \"reviewer_birth_year\", \"reviewer_state\", \"overall_rating\"]]"
=======
        "sub = df[['review_text', 'reviewer_birth_year', 'reviewer_state', 'overall_rating']]"
>>>>>>> 3daecee (Testes no notebooks):ml/notebooks/esmpu/curso_ml/Pipeline_mixto.ipynb
      ]
    },
    {
      "cell_type": "code",
<<<<<<< HEAD:ml/notebooks/esmpu/curso_ml/aula06/Pipeline_mixto.ipynb
<<<<<<< HEAD:ml/notebooks/esmpu/curso_ml/aula06/Pipeline_mixto.ipynb
      "execution_count": null,
=======
      "execution_count": 16,
>>>>>>> 567897d (Ajustes):ml/notebooks/esmpu/curso_ml/Pipeline_mixto.ipynb
=======
      "execution_count": null,
>>>>>>> 3daecee (Testes no notebooks):ml/notebooks/esmpu/curso_ml/Pipeline_mixto.ipynb
      "metadata": {
        "colab": {
          "base_uri": "https://localhost:8080/"
        },
        "id": "gceghCmQkV1y",
        "outputId": "fd66f38c-07f1-4aec-8914-73f35d107722"
      },
      "outputs": [
        {
          "data": {
            "text/plain": [
              "(132373, 4)"
            ]
          },
<<<<<<< HEAD:ml/notebooks/esmpu/curso_ml/aula06/Pipeline_mixto.ipynb
<<<<<<< HEAD:ml/notebooks/esmpu/curso_ml/aula06/Pipeline_mixto.ipynb
=======
>>>>>>> 3daecee (Testes no notebooks):ml/notebooks/esmpu/curso_ml/Pipeline_mixto.ipynb
          "execution_count": 5,
          "metadata": {
            "tags": []
          },
<<<<<<< HEAD:ml/notebooks/esmpu/curso_ml/aula06/Pipeline_mixto.ipynb
=======
          "execution_count": 16,
          "metadata": {},
>>>>>>> 567897d (Ajustes):ml/notebooks/esmpu/curso_ml/Pipeline_mixto.ipynb
=======
>>>>>>> 3daecee (Testes no notebooks):ml/notebooks/esmpu/curso_ml/Pipeline_mixto.ipynb
          "output_type": "execute_result"
        }
      ],
      "source": [
<<<<<<< HEAD:ml/notebooks/esmpu/curso_ml/aula06/Pipeline_mixto.ipynb
<<<<<<< HEAD:ml/notebooks/esmpu/curso_ml/aula06/Pipeline_mixto.ipynb
        "sub.shape"
=======
        "sub.shape\n"
>>>>>>> 567897d (Ajustes):ml/notebooks/esmpu/curso_ml/Pipeline_mixto.ipynb
=======
        "sub.shape"
>>>>>>> 3daecee (Testes no notebooks):ml/notebooks/esmpu/curso_ml/Pipeline_mixto.ipynb
      ]
    },
    {
      "cell_type": "code",
<<<<<<< HEAD:ml/notebooks/esmpu/curso_ml/aula06/Pipeline_mixto.ipynb
<<<<<<< HEAD:ml/notebooks/esmpu/curso_ml/aula06/Pipeline_mixto.ipynb
      "execution_count": null,
=======
      "execution_count": 17,
>>>>>>> 567897d (Ajustes):ml/notebooks/esmpu/curso_ml/Pipeline_mixto.ipynb
=======
      "execution_count": null,
>>>>>>> 3daecee (Testes no notebooks):ml/notebooks/esmpu/curso_ml/Pipeline_mixto.ipynb
      "metadata": {
        "id": "quQvydQNkV10"
      },
      "outputs": [],
      "source": [
        "# Muitos dados, descartamos as linhas com nulos (NaN)\n",
<<<<<<< HEAD:ml/notebooks/esmpu/curso_ml/aula06/Pipeline_mixto.ipynb
<<<<<<< HEAD:ml/notebooks/esmpu/curso_ml/aula06/Pipeline_mixto.ipynb
        "sub = sub.dropna()"
=======
        "sub = sub.dropna()\n"
>>>>>>> 567897d (Ajustes):ml/notebooks/esmpu/curso_ml/Pipeline_mixto.ipynb
=======
        "sub = sub.dropna()"
>>>>>>> 3daecee (Testes no notebooks):ml/notebooks/esmpu/curso_ml/Pipeline_mixto.ipynb
      ]
    },
    {
      "cell_type": "code",
<<<<<<< HEAD:ml/notebooks/esmpu/curso_ml/aula06/Pipeline_mixto.ipynb
<<<<<<< HEAD:ml/notebooks/esmpu/curso_ml/aula06/Pipeline_mixto.ipynb
      "execution_count": null,
=======
      "execution_count": 18,
>>>>>>> 567897d (Ajustes):ml/notebooks/esmpu/curso_ml/Pipeline_mixto.ipynb
=======
      "execution_count": null,
>>>>>>> 3daecee (Testes no notebooks):ml/notebooks/esmpu/curso_ml/Pipeline_mixto.ipynb
      "metadata": {
        "colab": {
          "base_uri": "https://localhost:8080/"
        },
        "id": "2H9n_TCNkV12",
        "outputId": "d620e416-1bfc-4460-8e9b-78fcfad5655d"
      },
      "outputs": [
        {
          "data": {
            "text/plain": [
<<<<<<< HEAD:ml/notebooks/esmpu/curso_ml/aula06/Pipeline_mixto.ipynb
<<<<<<< HEAD:ml/notebooks/esmpu/curso_ml/aula06/Pipeline_mixto.ipynb
=======
>>>>>>> 3daecee (Testes no notebooks):ml/notebooks/esmpu/curso_ml/Pipeline_mixto.ipynb
              "(126389, 4)"
            ]
          },
          "execution_count": 7,
          "metadata": {
            "tags": []
          },
<<<<<<< HEAD:ml/notebooks/esmpu/curso_ml/aula06/Pipeline_mixto.ipynb
=======
              "(123321, 4)"
            ]
          },
          "execution_count": 18,
          "metadata": {},
>>>>>>> 567897d (Ajustes):ml/notebooks/esmpu/curso_ml/Pipeline_mixto.ipynb
=======
>>>>>>> 3daecee (Testes no notebooks):ml/notebooks/esmpu/curso_ml/Pipeline_mixto.ipynb
          "output_type": "execute_result"
        }
      ],
      "source": [
<<<<<<< HEAD:ml/notebooks/esmpu/curso_ml/aula06/Pipeline_mixto.ipynb
<<<<<<< HEAD:ml/notebooks/esmpu/curso_ml/aula06/Pipeline_mixto.ipynb
        "sub.shape"
=======
        "sub.shape\n"
>>>>>>> 567897d (Ajustes):ml/notebooks/esmpu/curso_ml/Pipeline_mixto.ipynb
=======
        "sub.shape"
>>>>>>> 3daecee (Testes no notebooks):ml/notebooks/esmpu/curso_ml/Pipeline_mixto.ipynb
      ]
    },
    {
      "cell_type": "code",
<<<<<<< HEAD:ml/notebooks/esmpu/curso_ml/aula06/Pipeline_mixto.ipynb
<<<<<<< HEAD:ml/notebooks/esmpu/curso_ml/aula06/Pipeline_mixto.ipynb
      "execution_count": null,
=======
      "execution_count": 19,
>>>>>>> 567897d (Ajustes):ml/notebooks/esmpu/curso_ml/Pipeline_mixto.ipynb
=======
      "execution_count": null,
>>>>>>> 3daecee (Testes no notebooks):ml/notebooks/esmpu/curso_ml/Pipeline_mixto.ipynb
      "metadata": {
        "colab": {
          "base_uri": "https://localhost:8080/"
        },
        "id": "XVmpA9m1kV14",
        "outputId": "6b9725b4-0d4e-4fff-cb00-2221f12fb70e"
      },
      "outputs": [
        {
          "name": "stdout",
          "output_type": "stream",
          "text": [
            "<class 'pandas.core.frame.DataFrame'>\n",
<<<<<<< HEAD:ml/notebooks/esmpu/curso_ml/aula06/Pipeline_mixto.ipynb
<<<<<<< HEAD:ml/notebooks/esmpu/curso_ml/aula06/Pipeline_mixto.ipynb
=======
>>>>>>> 3daecee (Testes no notebooks):ml/notebooks/esmpu/curso_ml/Pipeline_mixto.ipynb
            "Int64Index: 126389 entries, 0 to 132372\n",
            "Data columns (total 4 columns):\n",
            " #   Column               Non-Null Count   Dtype  \n",
            "---  ------               --------------   -----  \n",
            " 0   review_text          126389 non-null  object \n",
            " 1   reviewer_birth_year  126389 non-null  float64\n",
            " 2   reviewer_state       126389 non-null  object \n",
            " 3   overall_rating       126389 non-null  int64  \n",
            "dtypes: float64(1), int64(1), object(2)\n",
            "memory usage: 4.8+ MB\n"
<<<<<<< HEAD:ml/notebooks/esmpu/curso_ml/aula06/Pipeline_mixto.ipynb
=======
            "Index: 123321 entries, 0 to 132372\n",
            "Data columns (total 4 columns):\n",
            " #   Column               Non-Null Count   Dtype  \n",
            "---  ------               --------------   -----  \n",
            " 0   review_text          123321 non-null  object \n",
            " 1   reviewer_birth_year  123321 non-null  float64\n",
            " 2   reviewer_state       123321 non-null  object \n",
            " 3   overall_rating       123321 non-null  int64  \n",
            "dtypes: float64(1), int64(1), object(2)\n",
            "memory usage: 4.7+ MB\n"
>>>>>>> 567897d (Ajustes):ml/notebooks/esmpu/curso_ml/Pipeline_mixto.ipynb
=======
>>>>>>> 3daecee (Testes no notebooks):ml/notebooks/esmpu/curso_ml/Pipeline_mixto.ipynb
          ]
        }
      ],
      "source": [
<<<<<<< HEAD:ml/notebooks/esmpu/curso_ml/aula06/Pipeline_mixto.ipynb
<<<<<<< HEAD:ml/notebooks/esmpu/curso_ml/aula06/Pipeline_mixto.ipynb
        "sub.info()"
=======
        "sub.info()\n"
>>>>>>> 567897d (Ajustes):ml/notebooks/esmpu/curso_ml/Pipeline_mixto.ipynb
=======
        "sub.info()"
>>>>>>> 3daecee (Testes no notebooks):ml/notebooks/esmpu/curso_ml/Pipeline_mixto.ipynb
      ]
    },
    {
      "cell_type": "code",
<<<<<<< HEAD:ml/notebooks/esmpu/curso_ml/aula06/Pipeline_mixto.ipynb
<<<<<<< HEAD:ml/notebooks/esmpu/curso_ml/aula06/Pipeline_mixto.ipynb
      "execution_count": null,
=======
      "execution_count": 20,
>>>>>>> 567897d (Ajustes):ml/notebooks/esmpu/curso_ml/Pipeline_mixto.ipynb
=======
      "execution_count": null,
>>>>>>> 3daecee (Testes no notebooks):ml/notebooks/esmpu/curso_ml/Pipeline_mixto.ipynb
      "metadata": {
        "id": "eLdz95yfkV16"
      },
      "outputs": [],
      "source": [
        "# Converte para inteiro\n",
<<<<<<< HEAD:ml/notebooks/esmpu/curso_ml/aula06/Pipeline_mixto.ipynb
<<<<<<< HEAD:ml/notebooks/esmpu/curso_ml/aula06/Pipeline_mixto.ipynb
        "sub.reviewer_birth_year = sub.reviewer_birth_year.map(int)"
=======
        "sub.reviewer_birth_year = sub.reviewer_birth_year.map(int)\n"
>>>>>>> 567897d (Ajustes):ml/notebooks/esmpu/curso_ml/Pipeline_mixto.ipynb
=======
        "sub.reviewer_birth_year = sub.reviewer_birth_year.map(int)"
>>>>>>> 3daecee (Testes no notebooks):ml/notebooks/esmpu/curso_ml/Pipeline_mixto.ipynb
      ]
    },
    {
      "cell_type": "code",
<<<<<<< HEAD:ml/notebooks/esmpu/curso_ml/aula06/Pipeline_mixto.ipynb
<<<<<<< HEAD:ml/notebooks/esmpu/curso_ml/aula06/Pipeline_mixto.ipynb
      "execution_count": null,
=======
      "execution_count": 21,
>>>>>>> 567897d (Ajustes):ml/notebooks/esmpu/curso_ml/Pipeline_mixto.ipynb
=======
      "execution_count": null,
>>>>>>> 3daecee (Testes no notebooks):ml/notebooks/esmpu/curso_ml/Pipeline_mixto.ipynb
      "metadata": {
        "colab": {
          "base_uri": "https://localhost:8080/"
        },
        "id": "DLGj_YrAkV17",
        "outputId": "e625d69b-81c6-47c3-9baa-df2eab7e8fa4"
      },
      "outputs": [
        {
          "name": "stdout",
          "output_type": "stream",
          "text": [
            "<class 'pandas.core.frame.DataFrame'>\n",
<<<<<<< HEAD:ml/notebooks/esmpu/curso_ml/aula06/Pipeline_mixto.ipynb
<<<<<<< HEAD:ml/notebooks/esmpu/curso_ml/aula06/Pipeline_mixto.ipynb
=======
>>>>>>> 3daecee (Testes no notebooks):ml/notebooks/esmpu/curso_ml/Pipeline_mixto.ipynb
            "Int64Index: 126389 entries, 0 to 132372\n",
            "Data columns (total 4 columns):\n",
            " #   Column               Non-Null Count   Dtype \n",
            "---  ------               --------------   ----- \n",
            " 0   review_text          126389 non-null  object\n",
            " 1   reviewer_birth_year  126389 non-null  int64 \n",
            " 2   reviewer_state       126389 non-null  object\n",
            " 3   overall_rating       126389 non-null  int64 \n",
            "dtypes: int64(2), object(2)\n",
            "memory usage: 4.8+ MB\n"
<<<<<<< HEAD:ml/notebooks/esmpu/curso_ml/aula06/Pipeline_mixto.ipynb
=======
            "Index: 123321 entries, 0 to 132372\n",
            "Data columns (total 4 columns):\n",
            " #   Column               Non-Null Count   Dtype \n",
            "---  ------               --------------   ----- \n",
            " 0   review_text          123321 non-null  object\n",
            " 1   reviewer_birth_year  123321 non-null  int64 \n",
            " 2   reviewer_state       123321 non-null  object\n",
            " 3   overall_rating       123321 non-null  int64 \n",
            "dtypes: int64(2), object(2)\n",
            "memory usage: 4.7+ MB\n"
>>>>>>> 567897d (Ajustes):ml/notebooks/esmpu/curso_ml/Pipeline_mixto.ipynb
=======
>>>>>>> 3daecee (Testes no notebooks):ml/notebooks/esmpu/curso_ml/Pipeline_mixto.ipynb
          ]
        }
      ],
      "source": [
<<<<<<< HEAD:ml/notebooks/esmpu/curso_ml/aula06/Pipeline_mixto.ipynb
<<<<<<< HEAD:ml/notebooks/esmpu/curso_ml/aula06/Pipeline_mixto.ipynb
        "sub.info()"
=======
        "sub.info()\n"
>>>>>>> 567897d (Ajustes):ml/notebooks/esmpu/curso_ml/Pipeline_mixto.ipynb
=======
        "sub.info()"
>>>>>>> 3daecee (Testes no notebooks):ml/notebooks/esmpu/curso_ml/Pipeline_mixto.ipynb
      ]
    },
    {
      "cell_type": "code",
<<<<<<< HEAD:ml/notebooks/esmpu/curso_ml/aula06/Pipeline_mixto.ipynb
<<<<<<< HEAD:ml/notebooks/esmpu/curso_ml/aula06/Pipeline_mixto.ipynb
      "execution_count": null,
=======
      "execution_count": 22,
>>>>>>> 567897d (Ajustes):ml/notebooks/esmpu/curso_ml/Pipeline_mixto.ipynb
=======
      "execution_count": null,
>>>>>>> 3daecee (Testes no notebooks):ml/notebooks/esmpu/curso_ml/Pipeline_mixto.ipynb
      "metadata": {
        "id": "rF962G4AkV19"
      },
      "outputs": [],
      "source": [
<<<<<<< HEAD:ml/notebooks/esmpu/curso_ml/aula06/Pipeline_mixto.ipynb
<<<<<<< HEAD:ml/notebooks/esmpu/curso_ml/aula06/Pipeline_mixto.ipynb
        "import numpy as np"
=======
        "import numpy as np\n"
>>>>>>> 567897d (Ajustes):ml/notebooks/esmpu/curso_ml/Pipeline_mixto.ipynb
=======
        "import numpy as np"
>>>>>>> 3daecee (Testes no notebooks):ml/notebooks/esmpu/curso_ml/Pipeline_mixto.ipynb
      ]
    },
    {
      "cell_type": "code",
<<<<<<< HEAD:ml/notebooks/esmpu/curso_ml/aula06/Pipeline_mixto.ipynb
<<<<<<< HEAD:ml/notebooks/esmpu/curso_ml/aula06/Pipeline_mixto.ipynb
      "execution_count": null,
=======
      "execution_count": 23,
>>>>>>> 567897d (Ajustes):ml/notebooks/esmpu/curso_ml/Pipeline_mixto.ipynb
=======
      "execution_count": null,
>>>>>>> 3daecee (Testes no notebooks):ml/notebooks/esmpu/curso_ml/Pipeline_mixto.ipynb
      "metadata": {
        "id": "nO3PnCAckV1_"
      },
      "outputs": [],
      "source": [
        "# Discretização simples: negativo com nota de 1 a 3, positivo de 4 a 5\n",
<<<<<<< HEAD:ml/notebooks/esmpu/curso_ml/aula06/Pipeline_mixto.ipynb
        "sub[\"label\"] = np.where(sub.overall_rating <= 3, 0, 1)"
=======
        "sub['label'] = np.where(sub.overall_rating <= 3, 0, 1)"
>>>>>>> 3daecee (Testes no notebooks):ml/notebooks/esmpu/curso_ml/Pipeline_mixto.ipynb
      ]
    },
    {
      "cell_type": "code",
<<<<<<< HEAD:ml/notebooks/esmpu/curso_ml/aula06/Pipeline_mixto.ipynb
<<<<<<< HEAD:ml/notebooks/esmpu/curso_ml/aula06/Pipeline_mixto.ipynb
      "execution_count": null,
=======
      "execution_count": 24,
>>>>>>> 567897d (Ajustes):ml/notebooks/esmpu/curso_ml/Pipeline_mixto.ipynb
=======
      "execution_count": null,
>>>>>>> 3daecee (Testes no notebooks):ml/notebooks/esmpu/curso_ml/Pipeline_mixto.ipynb
      "metadata": {
        "id": "a0o-JVPBkV2B"
      },
      "outputs": [],
      "source": [
<<<<<<< HEAD:ml/notebooks/esmpu/curso_ml/aula06/Pipeline_mixto.ipynb
        "sub.drop([\"overall_rating\"], axis=1, inplace=True)"
=======
        "sub.drop(['overall_rating'], axis=1, inplace=True)"
>>>>>>> 3daecee (Testes no notebooks):ml/notebooks/esmpu/curso_ml/Pipeline_mixto.ipynb
      ]
    },
    {
      "cell_type": "code",
<<<<<<< HEAD:ml/notebooks/esmpu/curso_ml/aula06/Pipeline_mixto.ipynb
<<<<<<< HEAD:ml/notebooks/esmpu/curso_ml/aula06/Pipeline_mixto.ipynb
      "execution_count": null,
=======
      "execution_count": 25,
>>>>>>> 567897d (Ajustes):ml/notebooks/esmpu/curso_ml/Pipeline_mixto.ipynb
=======
      "execution_count": null,
>>>>>>> 3daecee (Testes no notebooks):ml/notebooks/esmpu/curso_ml/Pipeline_mixto.ipynb
      "metadata": {
        "colab": {
          "base_uri": "https://localhost:8080/",
          "height": 407
        },
        "id": "7JzpBuoqkV2C",
        "outputId": "7d8e5a22-3b54-4804-925f-b847a4728b4a"
      },
      "outputs": [
        {
          "data": {
            "text/html": [
              "<div>\n",
              "<style scoped>\n",
              "    .dataframe tbody tr th:only-of-type {\n",
              "        vertical-align: middle;\n",
              "    }\n",
              "\n",
              "    .dataframe tbody tr th {\n",
              "        vertical-align: top;\n",
              "    }\n",
              "\n",
              "    .dataframe thead th {\n",
              "        text-align: right;\n",
              "    }\n",
              "</style>\n",
              "<table border=\"1\" class=\"dataframe\">\n",
              "  <thead>\n",
              "    <tr style=\"text-align: right;\">\n",
              "      <th></th>\n",
              "      <th>review_text</th>\n",
              "      <th>reviewer_birth_year</th>\n",
              "      <th>reviewer_state</th>\n",
              "      <th>label</th>\n",
              "    </tr>\n",
              "  </thead>\n",
              "  <tbody>\n",
              "    <tr>\n",
              "      <th>0</th>\n",
              "      <td>Estou contente com a compra entrega rápida o ú...</td>\n",
              "      <td>1958</td>\n",
              "      <td>RJ</td>\n",
              "      <td>1</td>\n",
              "    </tr>\n",
              "    <tr>\n",
              "      <th>1</th>\n",
              "      <td>Por apenas R$1994.20,eu consegui comprar esse ...</td>\n",
              "      <td>1996</td>\n",
              "      <td>SC</td>\n",
              "      <td>1</td>\n",
              "    </tr>\n",
              "    <tr>\n",
              "      <th>2</th>\n",
              "      <td>SUPERA EM AGILIDADE E PRATICIDADE OUTRAS PANEL...</td>\n",
              "      <td>1984</td>\n",
              "      <td>SP</td>\n",
              "      <td>1</td>\n",
              "    </tr>\n",
              "    <tr>\n",
              "      <th>3</th>\n",
              "      <td>MEU FILHO AMOU! PARECE DE VERDADE COM TANTOS D...</td>\n",
              "      <td>1985</td>\n",
              "      <td>SP</td>\n",
              "      <td>1</td>\n",
              "    </tr>\n",
              "    <tr>\n",
              "      <th>4</th>\n",
              "      <td>A entrega foi no prazo, as americanas estão de...</td>\n",
              "      <td>1994</td>\n",
              "      <td>MG</td>\n",
              "      <td>1</td>\n",
              "    </tr>\n",
              "    <tr>\n",
              "      <th>...</th>\n",
              "      <td>...</td>\n",
              "      <td>...</td>\n",
              "      <td>...</td>\n",
              "      <td>...</td>\n",
              "    </tr>\n",
              "    <tr>\n",
              "      <th>132368</th>\n",
              "      <td>Vale muito, estou usando no controle do Xbox e...</td>\n",
              "      <td>1988</td>\n",
              "      <td>RS</td>\n",
              "      <td>1</td>\n",
              "    </tr>\n",
              "    <tr>\n",
              "      <th>132369</th>\n",
              "      <td>Prático e barato, super indico o produto para ...</td>\n",
              "      <td>1979</td>\n",
              "      <td>SP</td>\n",
              "      <td>1</td>\n",
              "    </tr>\n",
              "    <tr>\n",
              "      <th>132370</th>\n",
              "      <td>Chegou antes do prazo previsto e corresponde a...</td>\n",
              "      <td>1979</td>\n",
              "      <td>PR</td>\n",
              "      <td>1</td>\n",
              "    </tr>\n",
              "    <tr>\n",
              "      <th>132371</th>\n",
              "      <td>Material fraco, poderia ser melhor. Ficou deve...</td>\n",
              "      <td>1991</td>\n",
              "      <td>RJ</td>\n",
              "      <td>0</td>\n",
              "    </tr>\n",
              "    <tr>\n",
              "      <th>132372</th>\n",
              "      <td>Comprei esse produto, quando chegou estava com...</td>\n",
              "      <td>1982</td>\n",
              "      <td>ES</td>\n",
              "      <td>0</td>\n",
              "    </tr>\n",
              "  </tbody>\n",
              "</table>\n",
<<<<<<< HEAD:ml/notebooks/esmpu/curso_ml/aula06/Pipeline_mixto.ipynb
<<<<<<< HEAD:ml/notebooks/esmpu/curso_ml/aula06/Pipeline_mixto.ipynb
=======
>>>>>>> 3daecee (Testes no notebooks):ml/notebooks/esmpu/curso_ml/Pipeline_mixto.ipynb
              "<p>126389 rows × 4 columns</p>\n",
              "</div>"
            ],
            "text/plain": [
              "                                              review_text  ...  label\n",
              "0       Estou contente com a compra entrega rápida o ú...  ...      1\n",
              "1       Por apenas R$1994.20,eu consegui comprar esse ...  ...      1\n",
              "2       SUPERA EM AGILIDADE E PRATICIDADE OUTRAS PANEL...  ...      1\n",
              "3       MEU FILHO AMOU! PARECE DE VERDADE COM TANTOS D...  ...      1\n",
              "4       A entrega foi no prazo, as americanas estão de...  ...      1\n",
              "...                                                   ...  ...    ...\n",
              "132368  Vale muito, estou usando no controle do Xbox e...  ...      1\n",
              "132369  Prático e barato, super indico o produto para ...  ...      1\n",
              "132370  Chegou antes do prazo previsto e corresponde a...  ...      1\n",
              "132371  Material fraco, poderia ser melhor. Ficou deve...  ...      0\n",
              "132372  Comprei esse produto, quando chegou estava com...  ...      0\n",
              "\n",
              "[126389 rows x 4 columns]"
            ]
          },
          "execution_count": 14,
          "metadata": {
            "tags": []
          },
<<<<<<< HEAD:ml/notebooks/esmpu/curso_ml/aula06/Pipeline_mixto.ipynb
=======
              "<p>123321 rows × 4 columns</p>\n",
              "</div>"
            ],
            "text/plain": [
              "                                              review_text   \n",
              "0       Estou contente com a compra entrega rápida o ú...  \\\n",
              "1       Por apenas R$1994.20,eu consegui comprar esse ...   \n",
              "2       SUPERA EM AGILIDADE E PRATICIDADE OUTRAS PANEL...   \n",
              "3       MEU FILHO AMOU! PARECE DE VERDADE COM TANTOS D...   \n",
              "4       A entrega foi no prazo, as americanas estão de...   \n",
              "...                                                   ...   \n",
              "132368  Vale muito, estou usando no controle do Xbox e...   \n",
              "132369  Prático e barato, super indico o produto para ...   \n",
              "132370  Chegou antes do prazo previsto e corresponde a...   \n",
              "132371  Material fraco, poderia ser melhor. Ficou deve...   \n",
              "132372  Comprei esse produto, quando chegou estava com...   \n",
              "\n",
              "        reviewer_birth_year reviewer_state  label  \n",
              "0                      1958             RJ      1  \n",
              "1                      1996             SC      1  \n",
              "2                      1984             SP      1  \n",
              "3                      1985             SP      1  \n",
              "4                      1994             MG      1  \n",
              "...                     ...            ...    ...  \n",
              "132368                 1988             RS      1  \n",
              "132369                 1979             SP      1  \n",
              "132370                 1979             PR      1  \n",
              "132371                 1991             RJ      0  \n",
              "132372                 1982             ES      0  \n",
              "\n",
              "[123321 rows x 4 columns]"
            ]
          },
          "execution_count": 25,
          "metadata": {},
>>>>>>> 567897d (Ajustes):ml/notebooks/esmpu/curso_ml/Pipeline_mixto.ipynb
=======
>>>>>>> 3daecee (Testes no notebooks):ml/notebooks/esmpu/curso_ml/Pipeline_mixto.ipynb
          "output_type": "execute_result"
        }
      ],
      "source": [
<<<<<<< HEAD:ml/notebooks/esmpu/curso_ml/aula06/Pipeline_mixto.ipynb
<<<<<<< HEAD:ml/notebooks/esmpu/curso_ml/aula06/Pipeline_mixto.ipynb
        "sub"
=======
        "sub\n"
>>>>>>> 567897d (Ajustes):ml/notebooks/esmpu/curso_ml/Pipeline_mixto.ipynb
=======
        "sub"
>>>>>>> 3daecee (Testes no notebooks):ml/notebooks/esmpu/curso_ml/Pipeline_mixto.ipynb
      ]
    },
    {
      "cell_type": "code",
<<<<<<< HEAD:ml/notebooks/esmpu/curso_ml/aula06/Pipeline_mixto.ipynb
<<<<<<< HEAD:ml/notebooks/esmpu/curso_ml/aula06/Pipeline_mixto.ipynb
      "execution_count": null,
=======
      "execution_count": 26,
>>>>>>> 567897d (Ajustes):ml/notebooks/esmpu/curso_ml/Pipeline_mixto.ipynb
=======
      "execution_count": null,
>>>>>>> 3daecee (Testes no notebooks):ml/notebooks/esmpu/curso_ml/Pipeline_mixto.ipynb
      "metadata": {
        "colab": {
          "base_uri": "https://localhost:8080/"
        },
        "id": "wBxqR9LKKl4E",
        "outputId": "658e4e71-1e99-4dcf-93cb-cd576ed62997"
      },
      "outputs": [
        {
          "name": "stdout",
          "output_type": "stream",
          "text": [
<<<<<<< HEAD:ml/notebooks/esmpu/curso_ml/aula06/Pipeline_mixto.ipynb
<<<<<<< HEAD:ml/notebooks/esmpu/curso_ml/aula06/Pipeline_mixto.ipynb
            "(126389, 4)\n"
=======
            "(123321, 4)\n"
>>>>>>> 567897d (Ajustes):ml/notebooks/esmpu/curso_ml/Pipeline_mixto.ipynb
=======
            "(126389, 4)\n"
>>>>>>> 3daecee (Testes no notebooks):ml/notebooks/esmpu/curso_ml/Pipeline_mixto.ipynb
          ]
        },
        {
          "data": {
            "text/plain": [
<<<<<<< HEAD:ml/notebooks/esmpu/curso_ml/aula06/Pipeline_mixto.ipynb
<<<<<<< HEAD:ml/notebooks/esmpu/curso_ml/aula06/Pipeline_mixto.ipynb
=======
>>>>>>> 3daecee (Testes no notebooks):ml/notebooks/esmpu/curso_ml/Pipeline_mixto.ipynb
              "1    76497\n",
              "0    49892\n",
              "Name: label, dtype: int64"
            ]
          },
          "execution_count": 15,
          "metadata": {
            "tags": []
          },
<<<<<<< HEAD:ml/notebooks/esmpu/curso_ml/aula06/Pipeline_mixto.ipynb
=======
              "label\n",
              "1    75615\n",
              "0    47706\n",
              "Name: count, dtype: int64"
            ]
          },
          "execution_count": 26,
          "metadata": {},
>>>>>>> 567897d (Ajustes):ml/notebooks/esmpu/curso_ml/Pipeline_mixto.ipynb
=======
>>>>>>> 3daecee (Testes no notebooks):ml/notebooks/esmpu/curso_ml/Pipeline_mixto.ipynb
          "output_type": "execute_result"
        }
      ],
      "source": [
        "print(sub.shape)\n",
<<<<<<< HEAD:ml/notebooks/esmpu/curso_ml/aula06/Pipeline_mixto.ipynb
<<<<<<< HEAD:ml/notebooks/esmpu/curso_ml/aula06/Pipeline_mixto.ipynb
        "sub.label.value_counts()"
=======
        "sub.label.value_counts()\n"
>>>>>>> 567897d (Ajustes):ml/notebooks/esmpu/curso_ml/Pipeline_mixto.ipynb
=======
        "sub.label.value_counts()"
>>>>>>> 3daecee (Testes no notebooks):ml/notebooks/esmpu/curso_ml/Pipeline_mixto.ipynb
      ]
    },
    {
      "cell_type": "code",
<<<<<<< HEAD:ml/notebooks/esmpu/curso_ml/aula06/Pipeline_mixto.ipynb
<<<<<<< HEAD:ml/notebooks/esmpu/curso_ml/aula06/Pipeline_mixto.ipynb
      "execution_count": null,
=======
      "execution_count": 27,
>>>>>>> 567897d (Ajustes):ml/notebooks/esmpu/curso_ml/Pipeline_mixto.ipynb
=======
      "execution_count": null,
>>>>>>> 3daecee (Testes no notebooks):ml/notebooks/esmpu/curso_ml/Pipeline_mixto.ipynb
      "metadata": {
        "id": "JPsE_DkIM14M"
      },
      "outputs": [],
      "source": [
        "# # BALANCEAMENTO DAS CLASSES\n",
        "# # Conta as ocorrências das classes\n",
        "# count_class_1, count_class_0 = sub.label.value_counts()\n",
        "\n",
        "# # Separa as classes em dataframes diferentes\n",
        "# df_class_0 = sub[sub['label'] == 0]\n",
        "# df_class_1 = sub[sub['label'] == 1]\n",
        "\n",
        "# # Aleatório under-sampling da classe 1 (classe majoritária)\n",
        "# df_class_1_under = df_class_1.sample(count_class_0 + 20000)\n",
        "# df_sub = pd.concat([df_class_1_under, df_class_0], axis=0)\n",
        "\n",
        "# print(df_sub.shape)\n",
<<<<<<< HEAD:ml/notebooks/esmpu/curso_ml/aula06/Pipeline_mixto.ipynb
<<<<<<< HEAD:ml/notebooks/esmpu/curso_ml/aula06/Pipeline_mixto.ipynb
        "# df_sub.head()"
=======
        "# df_sub.head()\n"
>>>>>>> 567897d (Ajustes):ml/notebooks/esmpu/curso_ml/Pipeline_mixto.ipynb
=======
        "# df_sub.head()"
>>>>>>> 3daecee (Testes no notebooks):ml/notebooks/esmpu/curso_ml/Pipeline_mixto.ipynb
      ]
    },
    {
      "cell_type": "code",
<<<<<<< HEAD:ml/notebooks/esmpu/curso_ml/aula06/Pipeline_mixto.ipynb
<<<<<<< HEAD:ml/notebooks/esmpu/curso_ml/aula06/Pipeline_mixto.ipynb
      "execution_count": null,
=======
      "execution_count": 28,
>>>>>>> 567897d (Ajustes):ml/notebooks/esmpu/curso_ml/Pipeline_mixto.ipynb
=======
      "execution_count": null,
>>>>>>> 3daecee (Testes no notebooks):ml/notebooks/esmpu/curso_ml/Pipeline_mixto.ipynb
      "metadata": {
        "id": "7T3JV1fLQc5f"
      },
      "outputs": [],
      "source": [
        "# # TESTE COM BALANCEAMENTO\n",
        "# X = df_sub[['review_text', 'reviewer_birth_year', 'reviewer_state']]\n",
        "# y = df_sub['label']\n",
        "# X_train, X_test, y_train, y_test = train_test_split(X, y, test_size=0.2, random_state=42)\n",
        "# m = pipe.fit(X_train, y_train)\n",
<<<<<<< HEAD:ml/notebooks/esmpu/curso_ml/aula06/Pipeline_mixto.ipynb
<<<<<<< HEAD:ml/notebooks/esmpu/curso_ml/aula06/Pipeline_mixto.ipynb
        "# m.score(X_test, y_test)"
=======
        "# m.score(X_test, y_test)\n"
>>>>>>> 567897d (Ajustes):ml/notebooks/esmpu/curso_ml/Pipeline_mixto.ipynb
=======
        "# m.score(X_test, y_test)"
>>>>>>> 3daecee (Testes no notebooks):ml/notebooks/esmpu/curso_ml/Pipeline_mixto.ipynb
      ]
    },
    {
      "cell_type": "code",
<<<<<<< HEAD:ml/notebooks/esmpu/curso_ml/aula06/Pipeline_mixto.ipynb
<<<<<<< HEAD:ml/notebooks/esmpu/curso_ml/aula06/Pipeline_mixto.ipynb
      "execution_count": null,
=======
      "execution_count": 29,
>>>>>>> 567897d (Ajustes):ml/notebooks/esmpu/curso_ml/Pipeline_mixto.ipynb
=======
      "execution_count": null,
>>>>>>> 3daecee (Testes no notebooks):ml/notebooks/esmpu/curso_ml/Pipeline_mixto.ipynb
      "metadata": {
        "id": "8u26B2LQkV2E"
      },
      "outputs": [],
      "source": [
        "# Construção do pipeline diferenciado por tipo de coluna\n",
        "\n",
        "# Pacotes sklearn\n",
        "from sklearn.compose import ColumnTransformer\n",
        "from sklearn.feature_extraction.text import TfidfVectorizer\n",
        "from sklearn.linear_model import LogisticRegression\n",
        "from sklearn.pipeline import Pipeline\n",
        "from sklearn.preprocessing import OneHotEncoder, StandardScaler\n",
<<<<<<< HEAD:ml/notebooks/esmpu/curso_ml/aula06/Pipeline_mixto.ipynb
<<<<<<< HEAD:ml/notebooks/esmpu/curso_ml/aula06/Pipeline_mixto.ipynb
        "from sklearn.model_selection import train_test_split, GridSearchCV"
=======
        "from sklearn.model_selection import train_test_split, GridSearchCV\n"
>>>>>>> 567897d (Ajustes):ml/notebooks/esmpu/curso_ml/Pipeline_mixto.ipynb
=======
        "from sklearn.model_selection import train_test_split, GridSearchCV"
>>>>>>> 3daecee (Testes no notebooks):ml/notebooks/esmpu/curso_ml/Pipeline_mixto.ipynb
      ]
    },
    {
      "cell_type": "code",
<<<<<<< HEAD:ml/notebooks/esmpu/curso_ml/aula06/Pipeline_mixto.ipynb
<<<<<<< HEAD:ml/notebooks/esmpu/curso_ml/aula06/Pipeline_mixto.ipynb
      "execution_count": null,
=======
      "execution_count": 30,
>>>>>>> 567897d (Ajustes):ml/notebooks/esmpu/curso_ml/Pipeline_mixto.ipynb
=======
      "execution_count": null,
>>>>>>> 3daecee (Testes no notebooks):ml/notebooks/esmpu/curso_ml/Pipeline_mixto.ipynb
      "metadata": {
        "id": "QPIhCm9qkV2F"
      },
      "outputs": [],
      "source": [
        "# Detalhes ColumnTransformer: https://scikit-learn.org/stable/auto_examples/compose/plot_column_transformer_mixed_types.html\n",
<<<<<<< HEAD:ml/notebooks/esmpu/curso_ml/aula06/Pipeline_mixto.ipynb
        "preprocessor = ColumnTransformer(\n",
        "    transformers=[\n",
        "        (\n",
        "            \"text\",\n",
        "            TfidfVectorizer(),\n",
        "            \"review_text\",\n",
        "        ),  # TfidfVectorizer accepts column name only between quotes\n",
        "        (\"category\", OneHotEncoder(), [\"reviewer_state\"]),\n",
        "        (\"integer\", StandardScaler(), [\"reviewer_birth_year\"]),\n",
=======
        "preprocessor = ColumnTransformer( \n",
        "    transformers=[\n",
        "        ('text', TfidfVectorizer(), 'review_text'), #TfidfVectorizer accepts column name only between quotes\n",
        "        ('category', OneHotEncoder(), ['reviewer_state']),\n",
        "        ('integer', StandardScaler(), ['reviewer_birth_year'])\n",
>>>>>>> 3daecee (Testes no notebooks):ml/notebooks/esmpu/curso_ml/Pipeline_mixto.ipynb
        "    ]\n",
        ")\n",
        "pipe = Pipeline(\n",
        "    steps=[\n",
<<<<<<< HEAD:ml/notebooks/esmpu/curso_ml/aula06/Pipeline_mixto.ipynb
        "        (\"preprocessor\", preprocessor),\n",
        "        (\"classifier\", LogisticRegression(max_iter=1000)),\n",
=======
        "        ('preprocessor', preprocessor),\n",
        "        ('classifier', LogisticRegression(max_iter=1000)),\n",
>>>>>>> 3daecee (Testes no notebooks):ml/notebooks/esmpu/curso_ml/Pipeline_mixto.ipynb
        "    ],\n",
        ")"
      ]
    },
    {
      "cell_type": "code",
<<<<<<< HEAD:ml/notebooks/esmpu/curso_ml/aula06/Pipeline_mixto.ipynb
<<<<<<< HEAD:ml/notebooks/esmpu/curso_ml/aula06/Pipeline_mixto.ipynb
      "execution_count": null,
=======
      "execution_count": 31,
>>>>>>> 567897d (Ajustes):ml/notebooks/esmpu/curso_ml/Pipeline_mixto.ipynb
=======
      "execution_count": null,
>>>>>>> 3daecee (Testes no notebooks):ml/notebooks/esmpu/curso_ml/Pipeline_mixto.ipynb
      "metadata": {
        "id": "5XAOe4YakV2H"
      },
      "outputs": [],
      "source": [
<<<<<<< HEAD:ml/notebooks/esmpu/curso_ml/aula06/Pipeline_mixto.ipynb
        "X = sub[[\"review_text\", \"reviewer_birth_year\", \"reviewer_state\"]]\n",
        "y = sub[\"label\"]"
=======
        "X = sub[['review_text', 'reviewer_birth_year', 'reviewer_state']]\n",
        "y = sub['label']\n"
>>>>>>> 3daecee (Testes no notebooks):ml/notebooks/esmpu/curso_ml/Pipeline_mixto.ipynb
      ]
    },
    {
      "cell_type": "code",
<<<<<<< HEAD:ml/notebooks/esmpu/curso_ml/aula06/Pipeline_mixto.ipynb
<<<<<<< HEAD:ml/notebooks/esmpu/curso_ml/aula06/Pipeline_mixto.ipynb
      "execution_count": null,
=======
      "execution_count": 32,
>>>>>>> 567897d (Ajustes):ml/notebooks/esmpu/curso_ml/Pipeline_mixto.ipynb
=======
      "execution_count": null,
>>>>>>> 3daecee (Testes no notebooks):ml/notebooks/esmpu/curso_ml/Pipeline_mixto.ipynb
      "metadata": {
        "colab": {
          "base_uri": "https://localhost:8080/"
        },
        "id": "PkEkl17KkV2J",
        "outputId": "44bb101d-5167-4aec-f192-93c4fbc76145"
      },
      "outputs": [
        {
          "name": "stdout",
          "output_type": "stream",
          "text": [
<<<<<<< HEAD:ml/notebooks/esmpu/curso_ml/aula06/Pipeline_mixto.ipynb
<<<<<<< HEAD:ml/notebooks/esmpu/curso_ml/aula06/Pipeline_mixto.ipynb
            "(126389, 3)\n",
            "(126389,)\n"
=======
            "(123321, 3)\n",
            "(123321,)\n"
>>>>>>> 567897d (Ajustes):ml/notebooks/esmpu/curso_ml/Pipeline_mixto.ipynb
=======
            "(126389, 3)\n",
            "(126389,)\n"
>>>>>>> 3daecee (Testes no notebooks):ml/notebooks/esmpu/curso_ml/Pipeline_mixto.ipynb
          ]
        }
      ],
      "source": [
        "print(X.shape)\n",
<<<<<<< HEAD:ml/notebooks/esmpu/curso_ml/aula06/Pipeline_mixto.ipynb
<<<<<<< HEAD:ml/notebooks/esmpu/curso_ml/aula06/Pipeline_mixto.ipynb
        "print(y.shape)"
=======
        "print(y.shape)\n"
>>>>>>> 567897d (Ajustes):ml/notebooks/esmpu/curso_ml/Pipeline_mixto.ipynb
=======
        "print(y.shape)"
>>>>>>> 3daecee (Testes no notebooks):ml/notebooks/esmpu/curso_ml/Pipeline_mixto.ipynb
      ]
    },
    {
      "cell_type": "code",
<<<<<<< HEAD:ml/notebooks/esmpu/curso_ml/aula06/Pipeline_mixto.ipynb
<<<<<<< HEAD:ml/notebooks/esmpu/curso_ml/aula06/Pipeline_mixto.ipynb
      "execution_count": null,
=======
      "execution_count": 33,
>>>>>>> 567897d (Ajustes):ml/notebooks/esmpu/curso_ml/Pipeline_mixto.ipynb
=======
      "execution_count": null,
>>>>>>> 3daecee (Testes no notebooks):ml/notebooks/esmpu/curso_ml/Pipeline_mixto.ipynb
      "metadata": {
        "id": "AnITIChNkV2K"
      },
      "outputs": [],
      "source": [
        "# Partição treino/teste (20%)\n",
<<<<<<< HEAD:ml/notebooks/esmpu/curso_ml/aula06/Pipeline_mixto.ipynb
        "X_train, X_test, y_train, y_test = train_test_split(\n",
        "    X, y, test_size=0.2, random_state=42\n",
        ")"
=======
        "X_train, X_test, y_train, y_test = train_test_split(X, y, test_size=0.2, random_state=42)"
>>>>>>> 3daecee (Testes no notebooks):ml/notebooks/esmpu/curso_ml/Pipeline_mixto.ipynb
      ]
    },
    {
      "cell_type": "code",
<<<<<<< HEAD:ml/notebooks/esmpu/curso_ml/aula06/Pipeline_mixto.ipynb
<<<<<<< HEAD:ml/notebooks/esmpu/curso_ml/aula06/Pipeline_mixto.ipynb
      "execution_count": null,
=======
      "execution_count": 34,
>>>>>>> 567897d (Ajustes):ml/notebooks/esmpu/curso_ml/Pipeline_mixto.ipynb
=======
      "execution_count": null,
>>>>>>> 3daecee (Testes no notebooks):ml/notebooks/esmpu/curso_ml/Pipeline_mixto.ipynb
      "metadata": {
        "id": "2bZ5wKn5kV2M"
      },
      "outputs": [],
      "source": [
<<<<<<< HEAD:ml/notebooks/esmpu/curso_ml/aula06/Pipeline_mixto.ipynb
<<<<<<< HEAD:ml/notebooks/esmpu/curso_ml/aula06/Pipeline_mixto.ipynb
        "m = pipe.fit(X_train, y_train)"
=======
        "m = pipe.fit(X_train, y_train)\n"
>>>>>>> 567897d (Ajustes):ml/notebooks/esmpu/curso_ml/Pipeline_mixto.ipynb
=======
        "m = pipe.fit(X_train, y_train)"
>>>>>>> 3daecee (Testes no notebooks):ml/notebooks/esmpu/curso_ml/Pipeline_mixto.ipynb
      ]
    },
    {
      "cell_type": "code",
<<<<<<< HEAD:ml/notebooks/esmpu/curso_ml/aula06/Pipeline_mixto.ipynb
<<<<<<< HEAD:ml/notebooks/esmpu/curso_ml/aula06/Pipeline_mixto.ipynb
      "execution_count": null,
=======
      "execution_count": 35,
>>>>>>> 567897d (Ajustes):ml/notebooks/esmpu/curso_ml/Pipeline_mixto.ipynb
=======
      "execution_count": null,
>>>>>>> 3daecee (Testes no notebooks):ml/notebooks/esmpu/curso_ml/Pipeline_mixto.ipynb
      "metadata": {
        "colab": {
          "base_uri": "https://localhost:8080/"
        },
        "id": "EOK-YUAukV2O",
        "outputId": "efc67673-d9ad-47ce-bdd5-e6b8b25ed8e7"
      },
      "outputs": [
        {
          "data": {
            "text/plain": [
<<<<<<< HEAD:ml/notebooks/esmpu/curso_ml/aula06/Pipeline_mixto.ipynb
<<<<<<< HEAD:ml/notebooks/esmpu/curso_ml/aula06/Pipeline_mixto.ipynb
=======
>>>>>>> 3daecee (Testes no notebooks):ml/notebooks/esmpu/curso_ml/Pipeline_mixto.ipynb
              "0.8710736608908932"
            ]
          },
          "execution_count": 24,
          "metadata": {
            "tags": []
          },
<<<<<<< HEAD:ml/notebooks/esmpu/curso_ml/aula06/Pipeline_mixto.ipynb
=======
              "0.8744374619906751"
            ]
          },
          "execution_count": 35,
          "metadata": {},
>>>>>>> 567897d (Ajustes):ml/notebooks/esmpu/curso_ml/Pipeline_mixto.ipynb
=======
>>>>>>> 3daecee (Testes no notebooks):ml/notebooks/esmpu/curso_ml/Pipeline_mixto.ipynb
          "output_type": "execute_result"
        }
      ],
      "source": [
<<<<<<< HEAD:ml/notebooks/esmpu/curso_ml/aula06/Pipeline_mixto.ipynb
<<<<<<< HEAD:ml/notebooks/esmpu/curso_ml/aula06/Pipeline_mixto.ipynb
        "m.score(X_test, y_test)"
=======
        "m.score(X_test, y_test)\n"
>>>>>>> 567897d (Ajustes):ml/notebooks/esmpu/curso_ml/Pipeline_mixto.ipynb
=======
        "m.score(X_test, y_test)"
>>>>>>> 3daecee (Testes no notebooks):ml/notebooks/esmpu/curso_ml/Pipeline_mixto.ipynb
      ]
    },
    {
      "cell_type": "code",
<<<<<<< HEAD:ml/notebooks/esmpu/curso_ml/aula06/Pipeline_mixto.ipynb
<<<<<<< HEAD:ml/notebooks/esmpu/curso_ml/aula06/Pipeline_mixto.ipynb
      "execution_count": null,
=======
      "execution_count": 36,
>>>>>>> 567897d (Ajustes):ml/notebooks/esmpu/curso_ml/Pipeline_mixto.ipynb
=======
      "execution_count": null,
>>>>>>> 3daecee (Testes no notebooks):ml/notebooks/esmpu/curso_ml/Pipeline_mixto.ipynb
      "metadata": {
        "colab": {
          "base_uri": "https://localhost:8080/"
        },
        "id": "dlHrcG1kkV2P",
        "outputId": "dd1d5680-31ec-4c3a-aeff-8b9039f6df67"
      },
      "outputs": [
        {
          "data": {
<<<<<<< HEAD:ml/notebooks/esmpu/curso_ml/aula06/Pipeline_mixto.ipynb
<<<<<<< HEAD:ml/notebooks/esmpu/curso_ml/aula06/Pipeline_mixto.ipynb
=======
>>>>>>> 3daecee (Testes no notebooks):ml/notebooks/esmpu/curso_ml/Pipeline_mixto.ipynb
            "text/plain": [
              "Pipeline(memory=None,\n",
              "         steps=[('preprocessor',\n",
              "                 ColumnTransformer(n_jobs=None, remainder='drop',\n",
              "                                   sparse_threshold=0.3,\n",
              "                                   transformer_weights=None,\n",
              "                                   transformers=[('text',\n",
              "                                                  TfidfVectorizer(analyzer='word',\n",
              "                                                                  binary=False,\n",
              "                                                                  decode_error='strict',\n",
              "                                                                  dtype=<class 'numpy.float64'>,\n",
              "                                                                  encoding='utf-8',\n",
              "                                                                  input='content',\n",
              "                                                                  lowercase=True,\n",
              "                                                                  max_df=1.0,\n",
              "                                                                  max_features=None,\n",
              "                                                                  min_df=1,\n",
              "                                                                  ngram_ran...\n",
              "                                                  StandardScaler(copy=True,\n",
              "                                                                 with_mean=True,\n",
              "                                                                 with_std=True),\n",
              "                                                  ['reviewer_birth_year'])],\n",
              "                                   verbose=False)),\n",
              "                ('classifier',\n",
              "                 LogisticRegression(C=1.0, class_weight=None, dual=False,\n",
              "                                    fit_intercept=True, intercept_scaling=1,\n",
              "                                    l1_ratio=None, max_iter=1000,\n",
              "                                    multi_class='auto', n_jobs=None,\n",
              "                                    penalty='l2', random_state=None,\n",
              "                                    solver='lbfgs', tol=0.0001, verbose=0,\n",
              "                                    warm_start=False))],\n",
              "         verbose=False)"
            ]
          },
          "execution_count": 25,
          "metadata": {
            "tags": []
          },
<<<<<<< HEAD:ml/notebooks/esmpu/curso_ml/aula06/Pipeline_mixto.ipynb
=======
            "text/html": [
              "<style>#sk-container-id-1 {color: black;background-color: white;}#sk-container-id-1 pre{padding: 0;}#sk-container-id-1 div.sk-toggleable {background-color: white;}#sk-container-id-1 label.sk-toggleable__label {cursor: pointer;display: block;width: 100%;margin-bottom: 0;padding: 0.3em;box-sizing: border-box;text-align: center;}#sk-container-id-1 label.sk-toggleable__label-arrow:before {content: \"▸\";float: left;margin-right: 0.25em;color: #696969;}#sk-container-id-1 label.sk-toggleable__label-arrow:hover:before {color: black;}#sk-container-id-1 div.sk-estimator:hover label.sk-toggleable__label-arrow:before {color: black;}#sk-container-id-1 div.sk-toggleable__content {max-height: 0;max-width: 0;overflow: hidden;text-align: left;background-color: #f0f8ff;}#sk-container-id-1 div.sk-toggleable__content pre {margin: 0.2em;color: black;border-radius: 0.25em;background-color: #f0f8ff;}#sk-container-id-1 input.sk-toggleable__control:checked~div.sk-toggleable__content {max-height: 200px;max-width: 100%;overflow: auto;}#sk-container-id-1 input.sk-toggleable__control:checked~label.sk-toggleable__label-arrow:before {content: \"▾\";}#sk-container-id-1 div.sk-estimator input.sk-toggleable__control:checked~label.sk-toggleable__label {background-color: #d4ebff;}#sk-container-id-1 div.sk-label input.sk-toggleable__control:checked~label.sk-toggleable__label {background-color: #d4ebff;}#sk-container-id-1 input.sk-hidden--visually {border: 0;clip: rect(1px 1px 1px 1px);clip: rect(1px, 1px, 1px, 1px);height: 1px;margin: -1px;overflow: hidden;padding: 0;position: absolute;width: 1px;}#sk-container-id-1 div.sk-estimator {font-family: monospace;background-color: #f0f8ff;border: 1px dotted black;border-radius: 0.25em;box-sizing: border-box;margin-bottom: 0.5em;}#sk-container-id-1 div.sk-estimator:hover {background-color: #d4ebff;}#sk-container-id-1 div.sk-parallel-item::after {content: \"\";width: 100%;border-bottom: 1px solid gray;flex-grow: 1;}#sk-container-id-1 div.sk-label:hover label.sk-toggleable__label {background-color: #d4ebff;}#sk-container-id-1 div.sk-serial::before {content: \"\";position: absolute;border-left: 1px solid gray;box-sizing: border-box;top: 0;bottom: 0;left: 50%;z-index: 0;}#sk-container-id-1 div.sk-serial {display: flex;flex-direction: column;align-items: center;background-color: white;padding-right: 0.2em;padding-left: 0.2em;position: relative;}#sk-container-id-1 div.sk-item {position: relative;z-index: 1;}#sk-container-id-1 div.sk-parallel {display: flex;align-items: stretch;justify-content: center;background-color: white;position: relative;}#sk-container-id-1 div.sk-item::before, #sk-container-id-1 div.sk-parallel-item::before {content: \"\";position: absolute;border-left: 1px solid gray;box-sizing: border-box;top: 0;bottom: 0;left: 50%;z-index: -1;}#sk-container-id-1 div.sk-parallel-item {display: flex;flex-direction: column;z-index: 1;position: relative;background-color: white;}#sk-container-id-1 div.sk-parallel-item:first-child::after {align-self: flex-end;width: 50%;}#sk-container-id-1 div.sk-parallel-item:last-child::after {align-self: flex-start;width: 50%;}#sk-container-id-1 div.sk-parallel-item:only-child::after {width: 0;}#sk-container-id-1 div.sk-dashed-wrapped {border: 1px dashed gray;margin: 0 0.4em 0.5em 0.4em;box-sizing: border-box;padding-bottom: 0.4em;background-color: white;}#sk-container-id-1 div.sk-label label {font-family: monospace;font-weight: bold;display: inline-block;line-height: 1.2em;}#sk-container-id-1 div.sk-label-container {text-align: center;}#sk-container-id-1 div.sk-container {/* jupyter's `normalize.less` sets `[hidden] { display: none; }` but bootstrap.min.css set `[hidden] { display: none !important; }` so we also need the `!important` here to be able to override the default hidden behavior on the sphinx rendered scikit-learn.org. See: https://github.com/scikit-learn/scikit-learn/issues/21755 */display: inline-block !important;position: relative;}#sk-container-id-1 div.sk-text-repr-fallback {display: none;}</style><div id=\"sk-container-id-1\" class=\"sk-top-container\"><div class=\"sk-text-repr-fallback\"><pre>Pipeline(steps=[(&#x27;preprocessor&#x27;,\n",
              "                 ColumnTransformer(transformers=[(&#x27;text&#x27;, TfidfVectorizer(),\n",
              "                                                  &#x27;review_text&#x27;),\n",
              "                                                 (&#x27;category&#x27;, OneHotEncoder(),\n",
              "                                                  [&#x27;reviewer_state&#x27;]),\n",
              "                                                 (&#x27;integer&#x27;, StandardScaler(),\n",
              "                                                  [&#x27;reviewer_birth_year&#x27;])])),\n",
              "                (&#x27;classifier&#x27;, LogisticRegression(max_iter=1000))])</pre><b>In a Jupyter environment, please rerun this cell to show the HTML representation or trust the notebook. <br />On GitHub, the HTML representation is unable to render, please try loading this page with nbviewer.org.</b></div><div class=\"sk-container\" hidden><div class=\"sk-item sk-dashed-wrapped\"><div class=\"sk-label-container\"><div class=\"sk-label sk-toggleable\"><input class=\"sk-toggleable__control sk-hidden--visually\" id=\"sk-estimator-id-1\" type=\"checkbox\" ><label for=\"sk-estimator-id-1\" class=\"sk-toggleable__label sk-toggleable__label-arrow\">Pipeline</label><div class=\"sk-toggleable__content\"><pre>Pipeline(steps=[(&#x27;preprocessor&#x27;,\n",
              "                 ColumnTransformer(transformers=[(&#x27;text&#x27;, TfidfVectorizer(),\n",
              "                                                  &#x27;review_text&#x27;),\n",
              "                                                 (&#x27;category&#x27;, OneHotEncoder(),\n",
              "                                                  [&#x27;reviewer_state&#x27;]),\n",
              "                                                 (&#x27;integer&#x27;, StandardScaler(),\n",
              "                                                  [&#x27;reviewer_birth_year&#x27;])])),\n",
              "                (&#x27;classifier&#x27;, LogisticRegression(max_iter=1000))])</pre></div></div></div><div class=\"sk-serial\"><div class=\"sk-item sk-dashed-wrapped\"><div class=\"sk-label-container\"><div class=\"sk-label sk-toggleable\"><input class=\"sk-toggleable__control sk-hidden--visually\" id=\"sk-estimator-id-2\" type=\"checkbox\" ><label for=\"sk-estimator-id-2\" class=\"sk-toggleable__label sk-toggleable__label-arrow\">preprocessor: ColumnTransformer</label><div class=\"sk-toggleable__content\"><pre>ColumnTransformer(transformers=[(&#x27;text&#x27;, TfidfVectorizer(), &#x27;review_text&#x27;),\n",
              "                                (&#x27;category&#x27;, OneHotEncoder(),\n",
              "                                 [&#x27;reviewer_state&#x27;]),\n",
              "                                (&#x27;integer&#x27;, StandardScaler(),\n",
              "                                 [&#x27;reviewer_birth_year&#x27;])])</pre></div></div></div><div class=\"sk-parallel\"><div class=\"sk-parallel-item\"><div class=\"sk-item\"><div class=\"sk-label-container\"><div class=\"sk-label sk-toggleable\"><input class=\"sk-toggleable__control sk-hidden--visually\" id=\"sk-estimator-id-3\" type=\"checkbox\" ><label for=\"sk-estimator-id-3\" class=\"sk-toggleable__label sk-toggleable__label-arrow\">text</label><div class=\"sk-toggleable__content\"><pre>review_text</pre></div></div></div><div class=\"sk-serial\"><div class=\"sk-item\"><div class=\"sk-estimator sk-toggleable\"><input class=\"sk-toggleable__control sk-hidden--visually\" id=\"sk-estimator-id-4\" type=\"checkbox\" ><label for=\"sk-estimator-id-4\" class=\"sk-toggleable__label sk-toggleable__label-arrow\">TfidfVectorizer</label><div class=\"sk-toggleable__content\"><pre>TfidfVectorizer()</pre></div></div></div></div></div></div><div class=\"sk-parallel-item\"><div class=\"sk-item\"><div class=\"sk-label-container\"><div class=\"sk-label sk-toggleable\"><input class=\"sk-toggleable__control sk-hidden--visually\" id=\"sk-estimator-id-5\" type=\"checkbox\" ><label for=\"sk-estimator-id-5\" class=\"sk-toggleable__label sk-toggleable__label-arrow\">category</label><div class=\"sk-toggleable__content\"><pre>[&#x27;reviewer_state&#x27;]</pre></div></div></div><div class=\"sk-serial\"><div class=\"sk-item\"><div class=\"sk-estimator sk-toggleable\"><input class=\"sk-toggleable__control sk-hidden--visually\" id=\"sk-estimator-id-6\" type=\"checkbox\" ><label for=\"sk-estimator-id-6\" class=\"sk-toggleable__label sk-toggleable__label-arrow\">OneHotEncoder</label><div class=\"sk-toggleable__content\"><pre>OneHotEncoder()</pre></div></div></div></div></div></div><div class=\"sk-parallel-item\"><div class=\"sk-item\"><div class=\"sk-label-container\"><div class=\"sk-label sk-toggleable\"><input class=\"sk-toggleable__control sk-hidden--visually\" id=\"sk-estimator-id-7\" type=\"checkbox\" ><label for=\"sk-estimator-id-7\" class=\"sk-toggleable__label sk-toggleable__label-arrow\">integer</label><div class=\"sk-toggleable__content\"><pre>[&#x27;reviewer_birth_year&#x27;]</pre></div></div></div><div class=\"sk-serial\"><div class=\"sk-item\"><div class=\"sk-estimator sk-toggleable\"><input class=\"sk-toggleable__control sk-hidden--visually\" id=\"sk-estimator-id-8\" type=\"checkbox\" ><label for=\"sk-estimator-id-8\" class=\"sk-toggleable__label sk-toggleable__label-arrow\">StandardScaler</label><div class=\"sk-toggleable__content\"><pre>StandardScaler()</pre></div></div></div></div></div></div></div></div><div class=\"sk-item\"><div class=\"sk-estimator sk-toggleable\"><input class=\"sk-toggleable__control sk-hidden--visually\" id=\"sk-estimator-id-9\" type=\"checkbox\" ><label for=\"sk-estimator-id-9\" class=\"sk-toggleable__label sk-toggleable__label-arrow\">LogisticRegression</label><div class=\"sk-toggleable__content\"><pre>LogisticRegression(max_iter=1000)</pre></div></div></div></div></div></div></div>"
            ],
            "text/plain": [
              "Pipeline(steps=[('preprocessor',\n",
              "                 ColumnTransformer(transformers=[('text', TfidfVectorizer(),\n",
              "                                                  'review_text'),\n",
              "                                                 ('category', OneHotEncoder(),\n",
              "                                                  ['reviewer_state']),\n",
              "                                                 ('integer', StandardScaler(),\n",
              "                                                  ['reviewer_birth_year'])])),\n",
              "                ('classifier', LogisticRegression(max_iter=1000))])"
            ]
          },
          "execution_count": 36,
          "metadata": {},
>>>>>>> 567897d (Ajustes):ml/notebooks/esmpu/curso_ml/Pipeline_mixto.ipynb
=======
>>>>>>> 3daecee (Testes no notebooks):ml/notebooks/esmpu/curso_ml/Pipeline_mixto.ipynb
          "output_type": "execute_result"
        }
      ],
      "source": [
        "# Representação do pipeline\n",
        "# from sklearn import set_config\n",
        "# set_config()\n",
        "# set_config(display='diagram')\n",
<<<<<<< HEAD:ml/notebooks/esmpu/curso_ml/aula06/Pipeline_mixto.ipynb
<<<<<<< HEAD:ml/notebooks/esmpu/curso_ml/aula06/Pipeline_mixto.ipynb
        "m"
=======
        "m\n"
>>>>>>> 567897d (Ajustes):ml/notebooks/esmpu/curso_ml/Pipeline_mixto.ipynb
=======
        "m"
>>>>>>> 3daecee (Testes no notebooks):ml/notebooks/esmpu/curso_ml/Pipeline_mixto.ipynb
      ]
    },
    {
      "cell_type": "code",
<<<<<<< HEAD:ml/notebooks/esmpu/curso_ml/aula06/Pipeline_mixto.ipynb
<<<<<<< HEAD:ml/notebooks/esmpu/curso_ml/aula06/Pipeline_mixto.ipynb
      "execution_count": null,
=======
      "execution_count": 37,
>>>>>>> 567897d (Ajustes):ml/notebooks/esmpu/curso_ml/Pipeline_mixto.ipynb
=======
      "execution_count": null,
>>>>>>> 3daecee (Testes no notebooks):ml/notebooks/esmpu/curso_ml/Pipeline_mixto.ipynb
      "metadata": {
        "id": "-ZQpXwerkV2R"
      },
      "outputs": [],
      "source": [
        "# O pipeline definido anteriormente pode também ser utilizado em uma busca por hiper-parâmetros otimizados\n",
<<<<<<< HEAD:ml/notebooks/esmpu/curso_ml/aula06/Pipeline_mixto.ipynb
        "param_grid = {\"classifier__C\": [0.5, 1.0, 2], \"classifier__penalty\": [\"l1\", \"l2\"]}"
=======
        "param_grid = {\n",
        "    'classifier__C': [0.5, 1.0, 2],\n",
        "    'classifier__penalty': ['l1','l2']\n",
        "}"
>>>>>>> 3daecee (Testes no notebooks):ml/notebooks/esmpu/curso_ml/Pipeline_mixto.ipynb
      ]
    },
    {
      "cell_type": "code",
<<<<<<< HEAD:ml/notebooks/esmpu/curso_ml/aula06/Pipeline_mixto.ipynb
<<<<<<< HEAD:ml/notebooks/esmpu/curso_ml/aula06/Pipeline_mixto.ipynb
      "execution_count": null,
=======
      "execution_count": 38,
>>>>>>> 567897d (Ajustes):ml/notebooks/esmpu/curso_ml/Pipeline_mixto.ipynb
=======
      "execution_count": null,
>>>>>>> 3daecee (Testes no notebooks):ml/notebooks/esmpu/curso_ml/Pipeline_mixto.ipynb
      "metadata": {
        "id": "g8ooZHbykV2T"
      },
      "outputs": [],
      "source": [
<<<<<<< HEAD:ml/notebooks/esmpu/curso_ml/aula06/Pipeline_mixto.ipynb
<<<<<<< HEAD:ml/notebooks/esmpu/curso_ml/aula06/Pipeline_mixto.ipynb
        "grid_search = GridSearchCV(m, param_grid, n_jobs=-1, verbose=1, cv=3)"
=======
        "grid_search = GridSearchCV(m, param_grid, n_jobs=-1, verbose=1, cv=3)\n"
>>>>>>> 567897d (Ajustes):ml/notebooks/esmpu/curso_ml/Pipeline_mixto.ipynb
=======
        "grid_search = GridSearchCV(m, param_grid, n_jobs=-1, verbose=1, cv=3)"
>>>>>>> 3daecee (Testes no notebooks):ml/notebooks/esmpu/curso_ml/Pipeline_mixto.ipynb
      ]
    },
    {
      "cell_type": "code",
<<<<<<< HEAD:ml/notebooks/esmpu/curso_ml/aula06/Pipeline_mixto.ipynb
<<<<<<< HEAD:ml/notebooks/esmpu/curso_ml/aula06/Pipeline_mixto.ipynb
      "execution_count": null,
=======
      "execution_count": 39,
>>>>>>> 567897d (Ajustes):ml/notebooks/esmpu/curso_ml/Pipeline_mixto.ipynb
=======
      "execution_count": null,
>>>>>>> 3daecee (Testes no notebooks):ml/notebooks/esmpu/curso_ml/Pipeline_mixto.ipynb
      "metadata": {
        "colab": {
          "base_uri": "https://localhost:8080/"
        },
        "id": "snCWJTfzkV2V",
        "outputId": "4cc7136c-8035-4a7a-c507-12fc215645a1",
        "scrolled": true
      },
      "outputs": [
        {
          "name": "stdout",
          "output_type": "stream",
          "text": [
            "Fitting 3 folds for each of 6 candidates, totalling 18 fits\n"
          ]
        },
        {
          "name": "stderr",
          "output_type": "stream",
          "text": [
<<<<<<< HEAD:ml/notebooks/esmpu/curso_ml/aula06/Pipeline_mixto.ipynb
<<<<<<< HEAD:ml/notebooks/esmpu/curso_ml/aula06/Pipeline_mixto.ipynb
            "[Parallel(n_jobs=-1)]: Using backend LokyBackend with 2 concurrent workers.\n",
            "[Parallel(n_jobs=-1)]: Done  18 out of  18 | elapsed:  1.1min finished\n"
=======
            "/Users/carlosroberto/anaconda3/lib/python3.10/site-packages/sklearn/model_selection/_validation.py:378: FitFailedWarning: \n",
            "9 fits failed out of a total of 18.\n",
            "The score on these train-test partitions for these parameters will be set to nan.\n",
            "If these failures are not expected, you can try to debug them by setting error_score='raise'.\n",
            "\n",
            "Below are more details about the failures:\n",
            "--------------------------------------------------------------------------------\n",
            "9 fits failed with the following error:\n",
            "Traceback (most recent call last):\n",
            "  File \"/Users/carlosroberto/anaconda3/lib/python3.10/site-packages/sklearn/model_selection/_validation.py\", line 686, in _fit_and_score\n",
            "    estimator.fit(X_train, y_train, **fit_params)\n",
            "  File \"/Users/carlosroberto/anaconda3/lib/python3.10/site-packages/sklearn/pipeline.py\", line 405, in fit\n",
            "    self._final_estimator.fit(Xt, y, **fit_params_last_step)\n",
            "  File \"/Users/carlosroberto/anaconda3/lib/python3.10/site-packages/sklearn/linear_model/_logistic.py\", line 1162, in fit\n",
            "    solver = _check_solver(self.solver, self.penalty, self.dual)\n",
            "  File \"/Users/carlosroberto/anaconda3/lib/python3.10/site-packages/sklearn/linear_model/_logistic.py\", line 54, in _check_solver\n",
            "    raise ValueError(\n",
            "ValueError: Solver lbfgs supports only 'l2' or 'none' penalties, got l1 penalty.\n",
            "\n",
            "  warnings.warn(some_fits_failed_message, FitFailedWarning)\n",
            "/Users/carlosroberto/anaconda3/lib/python3.10/site-packages/sklearn/model_selection/_search.py:952: UserWarning: One or more of the test scores are non-finite: [       nan 0.87001296        nan 0.87068195        nan 0.87050964]\n",
            "  warnings.warn(\n"
>>>>>>> 567897d (Ajustes):ml/notebooks/esmpu/curso_ml/Pipeline_mixto.ipynb
=======
            "[Parallel(n_jobs=-1)]: Using backend LokyBackend with 2 concurrent workers.\n",
            "[Parallel(n_jobs=-1)]: Done  18 out of  18 | elapsed:  1.1min finished\n"
>>>>>>> 3daecee (Testes no notebooks):ml/notebooks/esmpu/curso_ml/Pipeline_mixto.ipynb
          ]
        },
        {
          "data": {
<<<<<<< HEAD:ml/notebooks/esmpu/curso_ml/aula06/Pipeline_mixto.ipynb
<<<<<<< HEAD:ml/notebooks/esmpu/curso_ml/aula06/Pipeline_mixto.ipynb
=======
>>>>>>> 3daecee (Testes no notebooks):ml/notebooks/esmpu/curso_ml/Pipeline_mixto.ipynb
            "text/plain": [
              "GridSearchCV(cv=3, error_score=nan,\n",
              "             estimator=Pipeline(memory=None,\n",
              "                                steps=[('preprocessor',\n",
              "                                        ColumnTransformer(n_jobs=None,\n",
              "                                                          remainder='drop',\n",
              "                                                          sparse_threshold=0.3,\n",
              "                                                          transformer_weights=None,\n",
              "                                                          transformers=[('text',\n",
              "                                                                         TfidfVectorizer(analyzer='word',\n",
              "                                                                                         binary=False,\n",
              "                                                                                         decode_error='strict',\n",
              "                                                                                         dtype=<class 'numpy.float64'>,\n",
              "                                                                                         encoding='utf-8',\n",
              "                                                                                         input='content',\n",
              "                                                                                         lowercase=True,\n",
              "                                                                                         max...\n",
              "                                                           intercept_scaling=1,\n",
              "                                                           l1_ratio=None,\n",
              "                                                           max_iter=1000,\n",
              "                                                           multi_class='auto',\n",
              "                                                           n_jobs=None,\n",
              "                                                           penalty='l2',\n",
              "                                                           random_state=None,\n",
              "                                                           solver='lbfgs',\n",
              "                                                           tol=0.0001,\n",
              "                                                           verbose=0,\n",
              "                                                           warm_start=False))],\n",
              "                                verbose=False),\n",
              "             iid='deprecated', n_jobs=-1,\n",
              "             param_grid={'classifier__C': [0.5, 1.0, 2],\n",
              "                         'classifier__penalty': ['l1', 'l2']},\n",
              "             pre_dispatch='2*n_jobs', refit=True, return_train_score=False,\n",
              "             scoring=None, verbose=1)"
            ]
          },
          "execution_count": 28,
          "metadata": {
            "tags": []
          },
<<<<<<< HEAD:ml/notebooks/esmpu/curso_ml/aula06/Pipeline_mixto.ipynb
=======
            "text/html": [
              "<style>#sk-container-id-2 {color: black;background-color: white;}#sk-container-id-2 pre{padding: 0;}#sk-container-id-2 div.sk-toggleable {background-color: white;}#sk-container-id-2 label.sk-toggleable__label {cursor: pointer;display: block;width: 100%;margin-bottom: 0;padding: 0.3em;box-sizing: border-box;text-align: center;}#sk-container-id-2 label.sk-toggleable__label-arrow:before {content: \"▸\";float: left;margin-right: 0.25em;color: #696969;}#sk-container-id-2 label.sk-toggleable__label-arrow:hover:before {color: black;}#sk-container-id-2 div.sk-estimator:hover label.sk-toggleable__label-arrow:before {color: black;}#sk-container-id-2 div.sk-toggleable__content {max-height: 0;max-width: 0;overflow: hidden;text-align: left;background-color: #f0f8ff;}#sk-container-id-2 div.sk-toggleable__content pre {margin: 0.2em;color: black;border-radius: 0.25em;background-color: #f0f8ff;}#sk-container-id-2 input.sk-toggleable__control:checked~div.sk-toggleable__content {max-height: 200px;max-width: 100%;overflow: auto;}#sk-container-id-2 input.sk-toggleable__control:checked~label.sk-toggleable__label-arrow:before {content: \"▾\";}#sk-container-id-2 div.sk-estimator input.sk-toggleable__control:checked~label.sk-toggleable__label {background-color: #d4ebff;}#sk-container-id-2 div.sk-label input.sk-toggleable__control:checked~label.sk-toggleable__label {background-color: #d4ebff;}#sk-container-id-2 input.sk-hidden--visually {border: 0;clip: rect(1px 1px 1px 1px);clip: rect(1px, 1px, 1px, 1px);height: 1px;margin: -1px;overflow: hidden;padding: 0;position: absolute;width: 1px;}#sk-container-id-2 div.sk-estimator {font-family: monospace;background-color: #f0f8ff;border: 1px dotted black;border-radius: 0.25em;box-sizing: border-box;margin-bottom: 0.5em;}#sk-container-id-2 div.sk-estimator:hover {background-color: #d4ebff;}#sk-container-id-2 div.sk-parallel-item::after {content: \"\";width: 100%;border-bottom: 1px solid gray;flex-grow: 1;}#sk-container-id-2 div.sk-label:hover label.sk-toggleable__label {background-color: #d4ebff;}#sk-container-id-2 div.sk-serial::before {content: \"\";position: absolute;border-left: 1px solid gray;box-sizing: border-box;top: 0;bottom: 0;left: 50%;z-index: 0;}#sk-container-id-2 div.sk-serial {display: flex;flex-direction: column;align-items: center;background-color: white;padding-right: 0.2em;padding-left: 0.2em;position: relative;}#sk-container-id-2 div.sk-item {position: relative;z-index: 1;}#sk-container-id-2 div.sk-parallel {display: flex;align-items: stretch;justify-content: center;background-color: white;position: relative;}#sk-container-id-2 div.sk-item::before, #sk-container-id-2 div.sk-parallel-item::before {content: \"\";position: absolute;border-left: 1px solid gray;box-sizing: border-box;top: 0;bottom: 0;left: 50%;z-index: -1;}#sk-container-id-2 div.sk-parallel-item {display: flex;flex-direction: column;z-index: 1;position: relative;background-color: white;}#sk-container-id-2 div.sk-parallel-item:first-child::after {align-self: flex-end;width: 50%;}#sk-container-id-2 div.sk-parallel-item:last-child::after {align-self: flex-start;width: 50%;}#sk-container-id-2 div.sk-parallel-item:only-child::after {width: 0;}#sk-container-id-2 div.sk-dashed-wrapped {border: 1px dashed gray;margin: 0 0.4em 0.5em 0.4em;box-sizing: border-box;padding-bottom: 0.4em;background-color: white;}#sk-container-id-2 div.sk-label label {font-family: monospace;font-weight: bold;display: inline-block;line-height: 1.2em;}#sk-container-id-2 div.sk-label-container {text-align: center;}#sk-container-id-2 div.sk-container {/* jupyter's `normalize.less` sets `[hidden] { display: none; }` but bootstrap.min.css set `[hidden] { display: none !important; }` so we also need the `!important` here to be able to override the default hidden behavior on the sphinx rendered scikit-learn.org. See: https://github.com/scikit-learn/scikit-learn/issues/21755 */display: inline-block !important;position: relative;}#sk-container-id-2 div.sk-text-repr-fallback {display: none;}</style><div id=\"sk-container-id-2\" class=\"sk-top-container\"><div class=\"sk-text-repr-fallback\"><pre>GridSearchCV(cv=3,\n",
              "             estimator=Pipeline(steps=[(&#x27;preprocessor&#x27;,\n",
              "                                        ColumnTransformer(transformers=[(&#x27;text&#x27;,\n",
              "                                                                         TfidfVectorizer(),\n",
              "                                                                         &#x27;review_text&#x27;),\n",
              "                                                                        (&#x27;category&#x27;,\n",
              "                                                                         OneHotEncoder(),\n",
              "                                                                         [&#x27;reviewer_state&#x27;]),\n",
              "                                                                        (&#x27;integer&#x27;,\n",
              "                                                                         StandardScaler(),\n",
              "                                                                         [&#x27;reviewer_birth_year&#x27;])])),\n",
              "                                       (&#x27;classifier&#x27;,\n",
              "                                        LogisticRegression(max_iter=1000))]),\n",
              "             n_jobs=-1,\n",
              "             param_grid={&#x27;classifier__C&#x27;: [0.5, 1.0, 2],\n",
              "                         &#x27;classifier__penalty&#x27;: [&#x27;l1&#x27;, &#x27;l2&#x27;]},\n",
              "             verbose=1)</pre><b>In a Jupyter environment, please rerun this cell to show the HTML representation or trust the notebook. <br />On GitHub, the HTML representation is unable to render, please try loading this page with nbviewer.org.</b></div><div class=\"sk-container\" hidden><div class=\"sk-item sk-dashed-wrapped\"><div class=\"sk-label-container\"><div class=\"sk-label sk-toggleable\"><input class=\"sk-toggleable__control sk-hidden--visually\" id=\"sk-estimator-id-10\" type=\"checkbox\" ><label for=\"sk-estimator-id-10\" class=\"sk-toggleable__label sk-toggleable__label-arrow\">GridSearchCV</label><div class=\"sk-toggleable__content\"><pre>GridSearchCV(cv=3,\n",
              "             estimator=Pipeline(steps=[(&#x27;preprocessor&#x27;,\n",
              "                                        ColumnTransformer(transformers=[(&#x27;text&#x27;,\n",
              "                                                                         TfidfVectorizer(),\n",
              "                                                                         &#x27;review_text&#x27;),\n",
              "                                                                        (&#x27;category&#x27;,\n",
              "                                                                         OneHotEncoder(),\n",
              "                                                                         [&#x27;reviewer_state&#x27;]),\n",
              "                                                                        (&#x27;integer&#x27;,\n",
              "                                                                         StandardScaler(),\n",
              "                                                                         [&#x27;reviewer_birth_year&#x27;])])),\n",
              "                                       (&#x27;classifier&#x27;,\n",
              "                                        LogisticRegression(max_iter=1000))]),\n",
              "             n_jobs=-1,\n",
              "             param_grid={&#x27;classifier__C&#x27;: [0.5, 1.0, 2],\n",
              "                         &#x27;classifier__penalty&#x27;: [&#x27;l1&#x27;, &#x27;l2&#x27;]},\n",
              "             verbose=1)</pre></div></div></div><div class=\"sk-parallel\"><div class=\"sk-parallel-item\"><div class=\"sk-item\"><div class=\"sk-label-container\"><div class=\"sk-label sk-toggleable\"><input class=\"sk-toggleable__control sk-hidden--visually\" id=\"sk-estimator-id-11\" type=\"checkbox\" ><label for=\"sk-estimator-id-11\" class=\"sk-toggleable__label sk-toggleable__label-arrow\">estimator: Pipeline</label><div class=\"sk-toggleable__content\"><pre>Pipeline(steps=[(&#x27;preprocessor&#x27;,\n",
              "                 ColumnTransformer(transformers=[(&#x27;text&#x27;, TfidfVectorizer(),\n",
              "                                                  &#x27;review_text&#x27;),\n",
              "                                                 (&#x27;category&#x27;, OneHotEncoder(),\n",
              "                                                  [&#x27;reviewer_state&#x27;]),\n",
              "                                                 (&#x27;integer&#x27;, StandardScaler(),\n",
              "                                                  [&#x27;reviewer_birth_year&#x27;])])),\n",
              "                (&#x27;classifier&#x27;, LogisticRegression(max_iter=1000))])</pre></div></div></div><div class=\"sk-serial\"><div class=\"sk-item\"><div class=\"sk-serial\"><div class=\"sk-item sk-dashed-wrapped\"><div class=\"sk-label-container\"><div class=\"sk-label sk-toggleable\"><input class=\"sk-toggleable__control sk-hidden--visually\" id=\"sk-estimator-id-12\" type=\"checkbox\" ><label for=\"sk-estimator-id-12\" class=\"sk-toggleable__label sk-toggleable__label-arrow\">preprocessor: ColumnTransformer</label><div class=\"sk-toggleable__content\"><pre>ColumnTransformer(transformers=[(&#x27;text&#x27;, TfidfVectorizer(), &#x27;review_text&#x27;),\n",
              "                                (&#x27;category&#x27;, OneHotEncoder(),\n",
              "                                 [&#x27;reviewer_state&#x27;]),\n",
              "                                (&#x27;integer&#x27;, StandardScaler(),\n",
              "                                 [&#x27;reviewer_birth_year&#x27;])])</pre></div></div></div><div class=\"sk-parallel\"><div class=\"sk-parallel-item\"><div class=\"sk-item\"><div class=\"sk-label-container\"><div class=\"sk-label sk-toggleable\"><input class=\"sk-toggleable__control sk-hidden--visually\" id=\"sk-estimator-id-13\" type=\"checkbox\" ><label for=\"sk-estimator-id-13\" class=\"sk-toggleable__label sk-toggleable__label-arrow\">text</label><div class=\"sk-toggleable__content\"><pre>review_text</pre></div></div></div><div class=\"sk-serial\"><div class=\"sk-item\"><div class=\"sk-estimator sk-toggleable\"><input class=\"sk-toggleable__control sk-hidden--visually\" id=\"sk-estimator-id-14\" type=\"checkbox\" ><label for=\"sk-estimator-id-14\" class=\"sk-toggleable__label sk-toggleable__label-arrow\">TfidfVectorizer</label><div class=\"sk-toggleable__content\"><pre>TfidfVectorizer()</pre></div></div></div></div></div></div><div class=\"sk-parallel-item\"><div class=\"sk-item\"><div class=\"sk-label-container\"><div class=\"sk-label sk-toggleable\"><input class=\"sk-toggleable__control sk-hidden--visually\" id=\"sk-estimator-id-15\" type=\"checkbox\" ><label for=\"sk-estimator-id-15\" class=\"sk-toggleable__label sk-toggleable__label-arrow\">category</label><div class=\"sk-toggleable__content\"><pre>[&#x27;reviewer_state&#x27;]</pre></div></div></div><div class=\"sk-serial\"><div class=\"sk-item\"><div class=\"sk-estimator sk-toggleable\"><input class=\"sk-toggleable__control sk-hidden--visually\" id=\"sk-estimator-id-16\" type=\"checkbox\" ><label for=\"sk-estimator-id-16\" class=\"sk-toggleable__label sk-toggleable__label-arrow\">OneHotEncoder</label><div class=\"sk-toggleable__content\"><pre>OneHotEncoder()</pre></div></div></div></div></div></div><div class=\"sk-parallel-item\"><div class=\"sk-item\"><div class=\"sk-label-container\"><div class=\"sk-label sk-toggleable\"><input class=\"sk-toggleable__control sk-hidden--visually\" id=\"sk-estimator-id-17\" type=\"checkbox\" ><label for=\"sk-estimator-id-17\" class=\"sk-toggleable__label sk-toggleable__label-arrow\">integer</label><div class=\"sk-toggleable__content\"><pre>[&#x27;reviewer_birth_year&#x27;]</pre></div></div></div><div class=\"sk-serial\"><div class=\"sk-item\"><div class=\"sk-estimator sk-toggleable\"><input class=\"sk-toggleable__control sk-hidden--visually\" id=\"sk-estimator-id-18\" type=\"checkbox\" ><label for=\"sk-estimator-id-18\" class=\"sk-toggleable__label sk-toggleable__label-arrow\">StandardScaler</label><div class=\"sk-toggleable__content\"><pre>StandardScaler()</pre></div></div></div></div></div></div></div></div><div class=\"sk-item\"><div class=\"sk-estimator sk-toggleable\"><input class=\"sk-toggleable__control sk-hidden--visually\" id=\"sk-estimator-id-19\" type=\"checkbox\" ><label for=\"sk-estimator-id-19\" class=\"sk-toggleable__label sk-toggleable__label-arrow\">LogisticRegression</label><div class=\"sk-toggleable__content\"><pre>LogisticRegression(max_iter=1000)</pre></div></div></div></div></div></div></div></div></div></div></div></div>"
            ],
            "text/plain": [
              "GridSearchCV(cv=3,\n",
              "             estimator=Pipeline(steps=[('preprocessor',\n",
              "                                        ColumnTransformer(transformers=[('text',\n",
              "                                                                         TfidfVectorizer(),\n",
              "                                                                         'review_text'),\n",
              "                                                                        ('category',\n",
              "                                                                         OneHotEncoder(),\n",
              "                                                                         ['reviewer_state']),\n",
              "                                                                        ('integer',\n",
              "                                                                         StandardScaler(),\n",
              "                                                                         ['reviewer_birth_year'])])),\n",
              "                                       ('classifier',\n",
              "                                        LogisticRegression(max_iter=1000))]),\n",
              "             n_jobs=-1,\n",
              "             param_grid={'classifier__C': [0.5, 1.0, 2],\n",
              "                         'classifier__penalty': ['l1', 'l2']},\n",
              "             verbose=1)"
            ]
          },
          "execution_count": 39,
          "metadata": {},
>>>>>>> 567897d (Ajustes):ml/notebooks/esmpu/curso_ml/Pipeline_mixto.ipynb
=======
>>>>>>> 3daecee (Testes no notebooks):ml/notebooks/esmpu/curso_ml/Pipeline_mixto.ipynb
          "output_type": "execute_result"
        }
      ],
      "source": [
<<<<<<< HEAD:ml/notebooks/esmpu/curso_ml/aula06/Pipeline_mixto.ipynb
=======
        "\n",
>>>>>>> 3daecee (Testes no notebooks):ml/notebooks/esmpu/curso_ml/Pipeline_mixto.ipynb
        "grid_search.fit(X_train, y_train.values.ravel())"
      ]
    },
    {
      "cell_type": "code",
<<<<<<< HEAD:ml/notebooks/esmpu/curso_ml/aula06/Pipeline_mixto.ipynb
<<<<<<< HEAD:ml/notebooks/esmpu/curso_ml/aula06/Pipeline_mixto.ipynb
      "execution_count": null,
=======
      "execution_count": 40,
>>>>>>> 567897d (Ajustes):ml/notebooks/esmpu/curso_ml/Pipeline_mixto.ipynb
=======
      "execution_count": null,
>>>>>>> 3daecee (Testes no notebooks):ml/notebooks/esmpu/curso_ml/Pipeline_mixto.ipynb
      "metadata": {
        "colab": {
          "base_uri": "https://localhost:8080/"
        },
        "id": "6hQyodbvkV2W",
        "outputId": "a5c3b268-5368-474f-d7d6-5fd62f459623"
      },
      "outputs": [
        {
          "data": {
            "text/plain": [
<<<<<<< HEAD:ml/notebooks/esmpu/curso_ml/aula06/Pipeline_mixto.ipynb
<<<<<<< HEAD:ml/notebooks/esmpu/curso_ml/aula06/Pipeline_mixto.ipynb
=======
>>>>>>> 3daecee (Testes no notebooks):ml/notebooks/esmpu/curso_ml/Pipeline_mixto.ipynb
              "0.8710736608908932"
            ]
          },
          "execution_count": 29,
          "metadata": {
            "tags": []
          },
<<<<<<< HEAD:ml/notebooks/esmpu/curso_ml/aula06/Pipeline_mixto.ipynb
=======
              "0.8744374619906751"
            ]
          },
          "execution_count": 40,
          "metadata": {},
>>>>>>> 567897d (Ajustes):ml/notebooks/esmpu/curso_ml/Pipeline_mixto.ipynb
=======
>>>>>>> 3daecee (Testes no notebooks):ml/notebooks/esmpu/curso_ml/Pipeline_mixto.ipynb
          "output_type": "execute_result"
        }
      ],
      "source": [
<<<<<<< HEAD:ml/notebooks/esmpu/curso_ml/aula06/Pipeline_mixto.ipynb
<<<<<<< HEAD:ml/notebooks/esmpu/curso_ml/aula06/Pipeline_mixto.ipynb
        "grid_search.score(X_test, y_test)"
=======
        "grid_search.score(X_test, y_test)\n"
>>>>>>> 567897d (Ajustes):ml/notebooks/esmpu/curso_ml/Pipeline_mixto.ipynb
=======
        "grid_search.score(X_test, y_test)"
>>>>>>> 3daecee (Testes no notebooks):ml/notebooks/esmpu/curso_ml/Pipeline_mixto.ipynb
      ]
    },
    {
      "cell_type": "code",
<<<<<<< HEAD:ml/notebooks/esmpu/curso_ml/aula06/Pipeline_mixto.ipynb
<<<<<<< HEAD:ml/notebooks/esmpu/curso_ml/aula06/Pipeline_mixto.ipynb
      "execution_count": null,
=======
      "execution_count": 41,
>>>>>>> 567897d (Ajustes):ml/notebooks/esmpu/curso_ml/Pipeline_mixto.ipynb
=======
      "execution_count": null,
>>>>>>> 3daecee (Testes no notebooks):ml/notebooks/esmpu/curso_ml/Pipeline_mixto.ipynb
      "metadata": {
        "colab": {
          "base_uri": "https://localhost:8080/"
        },
        "id": "mLG-wh97kV2Z",
        "outputId": "327449b6-518f-49e4-8b16-9ee57461c698"
      },
      "outputs": [
        {
          "data": {
            "text/plain": [
<<<<<<< HEAD:ml/notebooks/esmpu/curso_ml/aula06/Pipeline_mixto.ipynb
<<<<<<< HEAD:ml/notebooks/esmpu/curso_ml/aula06/Pipeline_mixto.ipynb
=======
>>>>>>> 3daecee (Testes no notebooks):ml/notebooks/esmpu/curso_ml/Pipeline_mixto.ipynb
              "{'classifier': LogisticRegression(C=1.0, class_weight=None, dual=False, fit_intercept=True,\n",
              "                    intercept_scaling=1, l1_ratio=None, max_iter=1000,\n",
              "                    multi_class='auto', n_jobs=None, penalty='l2',\n",
              "                    random_state=None, solver='lbfgs', tol=0.0001, verbose=0,\n",
              "                    warm_start=False),\n",
              " 'classifier__C': 1.0,\n",
              " 'classifier__class_weight': None,\n",
              " 'classifier__dual': False,\n",
              " 'classifier__fit_intercept': True,\n",
              " 'classifier__intercept_scaling': 1,\n",
              " 'classifier__l1_ratio': None,\n",
              " 'classifier__max_iter': 1000,\n",
              " 'classifier__multi_class': 'auto',\n",
              " 'classifier__n_jobs': None,\n",
              " 'classifier__penalty': 'l2',\n",
              " 'classifier__random_state': None,\n",
              " 'classifier__solver': 'lbfgs',\n",
              " 'classifier__tol': 0.0001,\n",
              " 'classifier__verbose': 0,\n",
              " 'classifier__warm_start': False,\n",
              " 'memory': None,\n",
              " 'preprocessor': ColumnTransformer(n_jobs=None, remainder='drop', sparse_threshold=0.3,\n",
              "                   transformer_weights=None,\n",
              "                   transformers=[('text',\n",
              "                                  TfidfVectorizer(analyzer='word', binary=False,\n",
              "                                                  decode_error='strict',\n",
              "                                                  dtype=<class 'numpy.float64'>,\n",
              "                                                  encoding='utf-8',\n",
              "                                                  input='content',\n",
              "                                                  lowercase=True, max_df=1.0,\n",
              "                                                  max_features=None, min_df=1,\n",
              "                                                  ngram_range=(1, 1), norm='l2',\n",
              "                                                  preprocessor=None,\n",
              "                                                  smooth_...\n",
              "                                                  sublinear_tf=False,\n",
              "                                                  token_pattern='(?u)\\\\b\\\\w\\\\w+\\\\b',\n",
              "                                                  tokenizer=None, use_idf=True,\n",
              "                                                  vocabulary=None),\n",
              "                                  'review_text'),\n",
              "                                 ('category',\n",
              "                                  OneHotEncoder(categories='auto', drop=None,\n",
              "                                                dtype=<class 'numpy.float64'>,\n",
              "                                                handle_unknown='error',\n",
              "                                                sparse=True),\n",
              "                                  ['reviewer_state']),\n",
              "                                 ('integer',\n",
              "                                  StandardScaler(copy=True, with_mean=True,\n",
              "                                                 with_std=True),\n",
              "                                  ['reviewer_birth_year'])],\n",
              "                   verbose=False),\n",
              " 'preprocessor__category': OneHotEncoder(categories='auto', drop=None, dtype=<class 'numpy.float64'>,\n",
              "               handle_unknown='error', sparse=True),\n",
              " 'preprocessor__category__categories': 'auto',\n",
              " 'preprocessor__category__drop': None,\n",
              " 'preprocessor__category__dtype': numpy.float64,\n",
              " 'preprocessor__category__handle_unknown': 'error',\n",
              " 'preprocessor__category__sparse': True,\n",
              " 'preprocessor__integer': StandardScaler(copy=True, with_mean=True, with_std=True),\n",
              " 'preprocessor__integer__copy': True,\n",
              " 'preprocessor__integer__with_mean': True,\n",
              " 'preprocessor__integer__with_std': True,\n",
              " 'preprocessor__n_jobs': None,\n",
              " 'preprocessor__remainder': 'drop',\n",
              " 'preprocessor__sparse_threshold': 0.3,\n",
              " 'preprocessor__text': TfidfVectorizer(analyzer='word', binary=False, decode_error='strict',\n",
              "                 dtype=<class 'numpy.float64'>, encoding='utf-8',\n",
              "                 input='content', lowercase=True, max_df=1.0, max_features=None,\n",
              "                 min_df=1, ngram_range=(1, 1), norm='l2', preprocessor=None,\n",
              "                 smooth_idf=True, stop_words=None, strip_accents=None,\n",
              "                 sublinear_tf=False, token_pattern='(?u)\\\\b\\\\w\\\\w+\\\\b',\n",
              "                 tokenizer=None, use_idf=True, vocabulary=None),\n",
<<<<<<< HEAD:ml/notebooks/esmpu/curso_ml/aula06/Pipeline_mixto.ipynb
=======
              "{'memory': None,\n",
              " 'steps': [('preprocessor',\n",
              "   ColumnTransformer(transformers=[('text', TfidfVectorizer(), 'review_text'),\n",
              "                                   ('category', OneHotEncoder(),\n",
              "                                    ['reviewer_state']),\n",
              "                                   ('integer', StandardScaler(),\n",
              "                                    ['reviewer_birth_year'])])),\n",
              "  ('classifier', LogisticRegression(max_iter=1000))],\n",
              " 'verbose': False,\n",
              " 'preprocessor': ColumnTransformer(transformers=[('text', TfidfVectorizer(), 'review_text'),\n",
              "                                 ('category', OneHotEncoder(),\n",
              "                                  ['reviewer_state']),\n",
              "                                 ('integer', StandardScaler(),\n",
              "                                  ['reviewer_birth_year'])]),\n",
              " 'classifier': LogisticRegression(max_iter=1000),\n",
              " 'preprocessor__n_jobs': None,\n",
              " 'preprocessor__remainder': 'drop',\n",
              " 'preprocessor__sparse_threshold': 0.3,\n",
              " 'preprocessor__transformer_weights': None,\n",
              " 'preprocessor__transformers': [('text', TfidfVectorizer(), 'review_text'),\n",
              "  ('category', OneHotEncoder(), ['reviewer_state']),\n",
              "  ('integer', StandardScaler(), ['reviewer_birth_year'])],\n",
              " 'preprocessor__verbose': False,\n",
              " 'preprocessor__verbose_feature_names_out': True,\n",
              " 'preprocessor__text': TfidfVectorizer(),\n",
              " 'preprocessor__category': OneHotEncoder(),\n",
              " 'preprocessor__integer': StandardScaler(),\n",
>>>>>>> 567897d (Ajustes):ml/notebooks/esmpu/curso_ml/Pipeline_mixto.ipynb
=======
>>>>>>> 3daecee (Testes no notebooks):ml/notebooks/esmpu/curso_ml/Pipeline_mixto.ipynb
              " 'preprocessor__text__analyzer': 'word',\n",
              " 'preprocessor__text__binary': False,\n",
              " 'preprocessor__text__decode_error': 'strict',\n",
              " 'preprocessor__text__dtype': numpy.float64,\n",
              " 'preprocessor__text__encoding': 'utf-8',\n",
              " 'preprocessor__text__input': 'content',\n",
              " 'preprocessor__text__lowercase': True,\n",
              " 'preprocessor__text__max_df': 1.0,\n",
              " 'preprocessor__text__max_features': None,\n",
              " 'preprocessor__text__min_df': 1,\n",
              " 'preprocessor__text__ngram_range': (1, 1),\n",
              " 'preprocessor__text__norm': 'l2',\n",
              " 'preprocessor__text__preprocessor': None,\n",
              " 'preprocessor__text__smooth_idf': True,\n",
              " 'preprocessor__text__stop_words': None,\n",
              " 'preprocessor__text__strip_accents': None,\n",
              " 'preprocessor__text__sublinear_tf': False,\n",
              " 'preprocessor__text__token_pattern': '(?u)\\\\b\\\\w\\\\w+\\\\b',\n",
              " 'preprocessor__text__tokenizer': None,\n",
              " 'preprocessor__text__use_idf': True,\n",
              " 'preprocessor__text__vocabulary': None,\n",
<<<<<<< HEAD:ml/notebooks/esmpu/curso_ml/aula06/Pipeline_mixto.ipynb
<<<<<<< HEAD:ml/notebooks/esmpu/curso_ml/aula06/Pipeline_mixto.ipynb
=======
>>>>>>> 3daecee (Testes no notebooks):ml/notebooks/esmpu/curso_ml/Pipeline_mixto.ipynb
              " 'preprocessor__transformer_weights': None,\n",
              " 'preprocessor__transformers': [('text',\n",
              "   TfidfVectorizer(analyzer='word', binary=False, decode_error='strict',\n",
              "                   dtype=<class 'numpy.float64'>, encoding='utf-8',\n",
              "                   input='content', lowercase=True, max_df=1.0, max_features=None,\n",
              "                   min_df=1, ngram_range=(1, 1), norm='l2', preprocessor=None,\n",
              "                   smooth_idf=True, stop_words=None, strip_accents=None,\n",
              "                   sublinear_tf=False, token_pattern='(?u)\\\\b\\\\w\\\\w+\\\\b',\n",
              "                   tokenizer=None, use_idf=True, vocabulary=None),\n",
              "   'review_text'),\n",
              "  ('category',\n",
              "   OneHotEncoder(categories='auto', drop=None, dtype=<class 'numpy.float64'>,\n",
              "                 handle_unknown='error', sparse=True),\n",
              "   ['reviewer_state']),\n",
              "  ('integer',\n",
              "   StandardScaler(copy=True, with_mean=True, with_std=True),\n",
              "   ['reviewer_birth_year'])],\n",
              " 'preprocessor__verbose': False,\n",
              " 'steps': [('preprocessor',\n",
              "   ColumnTransformer(n_jobs=None, remainder='drop', sparse_threshold=0.3,\n",
              "                     transformer_weights=None,\n",
              "                     transformers=[('text',\n",
              "                                    TfidfVectorizer(analyzer='word', binary=False,\n",
              "                                                    decode_error='strict',\n",
              "                                                    dtype=<class 'numpy.float64'>,\n",
              "                                                    encoding='utf-8',\n",
              "                                                    input='content',\n",
              "                                                    lowercase=True, max_df=1.0,\n",
              "                                                    max_features=None, min_df=1,\n",
              "                                                    ngram_range=(1, 1), norm='l2',\n",
              "                                                    preprocessor=None,\n",
              "                                                    smooth_...\n",
              "                                                    sublinear_tf=False,\n",
              "                                                    token_pattern='(?u)\\\\b\\\\w\\\\w+\\\\b',\n",
              "                                                    tokenizer=None, use_idf=True,\n",
              "                                                    vocabulary=None),\n",
              "                                    'review_text'),\n",
              "                                   ('category',\n",
              "                                    OneHotEncoder(categories='auto', drop=None,\n",
              "                                                  dtype=<class 'numpy.float64'>,\n",
              "                                                  handle_unknown='error',\n",
              "                                                  sparse=True),\n",
              "                                    ['reviewer_state']),\n",
              "                                   ('integer',\n",
              "                                    StandardScaler(copy=True, with_mean=True,\n",
              "                                                   with_std=True),\n",
              "                                    ['reviewer_birth_year'])],\n",
              "                     verbose=False)),\n",
              "  ('classifier',\n",
              "   LogisticRegression(C=1.0, class_weight=None, dual=False, fit_intercept=True,\n",
              "                      intercept_scaling=1, l1_ratio=None, max_iter=1000,\n",
              "                      multi_class='auto', n_jobs=None, penalty='l2',\n",
              "                      random_state=None, solver='lbfgs', tol=0.0001, verbose=0,\n",
              "                      warm_start=False))],\n",
              " 'verbose': False}"
            ]
          },
          "execution_count": 30,
          "metadata": {
            "tags": []
          },
<<<<<<< HEAD:ml/notebooks/esmpu/curso_ml/aula06/Pipeline_mixto.ipynb
=======
              " 'preprocessor__category__categories': 'auto',\n",
              " 'preprocessor__category__drop': None,\n",
              " 'preprocessor__category__dtype': numpy.float64,\n",
              " 'preprocessor__category__handle_unknown': 'error',\n",
              " 'preprocessor__category__max_categories': None,\n",
              " 'preprocessor__category__min_frequency': None,\n",
              " 'preprocessor__category__sparse': 'deprecated',\n",
              " 'preprocessor__category__sparse_output': True,\n",
              " 'preprocessor__integer__copy': True,\n",
              " 'preprocessor__integer__with_mean': True,\n",
              " 'preprocessor__integer__with_std': True,\n",
              " 'classifier__C': 1.0,\n",
              " 'classifier__class_weight': None,\n",
              " 'classifier__dual': False,\n",
              " 'classifier__fit_intercept': True,\n",
              " 'classifier__intercept_scaling': 1,\n",
              " 'classifier__l1_ratio': None,\n",
              " 'classifier__max_iter': 1000,\n",
              " 'classifier__multi_class': 'auto',\n",
              " 'classifier__n_jobs': None,\n",
              " 'classifier__penalty': 'l2',\n",
              " 'classifier__random_state': None,\n",
              " 'classifier__solver': 'lbfgs',\n",
              " 'classifier__tol': 0.0001,\n",
              " 'classifier__verbose': 0,\n",
              " 'classifier__warm_start': False}"
            ]
          },
          "execution_count": 41,
          "metadata": {},
>>>>>>> 567897d (Ajustes):ml/notebooks/esmpu/curso_ml/Pipeline_mixto.ipynb
=======
>>>>>>> 3daecee (Testes no notebooks):ml/notebooks/esmpu/curso_ml/Pipeline_mixto.ipynb
          "output_type": "execute_result"
        }
      ],
      "source": [
        "best = grid_search.best_estimator_.get_params()\n",
<<<<<<< HEAD:ml/notebooks/esmpu/curso_ml/aula06/Pipeline_mixto.ipynb
<<<<<<< HEAD:ml/notebooks/esmpu/curso_ml/aula06/Pipeline_mixto.ipynb
        "best"
=======
        "best\n"
>>>>>>> 567897d (Ajustes):ml/notebooks/esmpu/curso_ml/Pipeline_mixto.ipynb
=======
        "best"
>>>>>>> 3daecee (Testes no notebooks):ml/notebooks/esmpu/curso_ml/Pipeline_mixto.ipynb
      ]
    },
    {
      "cell_type": "code",
<<<<<<< HEAD:ml/notebooks/esmpu/curso_ml/aula06/Pipeline_mixto.ipynb
<<<<<<< HEAD:ml/notebooks/esmpu/curso_ml/aula06/Pipeline_mixto.ipynb
      "execution_count": null,
=======
      "execution_count": 42,
>>>>>>> 567897d (Ajustes):ml/notebooks/esmpu/curso_ml/Pipeline_mixto.ipynb
=======
      "execution_count": null,
>>>>>>> 3daecee (Testes no notebooks):ml/notebooks/esmpu/curso_ml/Pipeline_mixto.ipynb
      "metadata": {
        "colab": {
          "base_uri": "https://localhost:8080/"
        },
        "id": "EcbQTMf4kV2b",
        "outputId": "6f23f735-a9f7-4b80-bf8a-eb4471f3fe04"
      },
      "outputs": [
        {
          "name": "stdout",
          "output_type": "stream",
          "text": [
            "classifier__C: 1.0\n",
            "classifier__penalty: l2\n"
          ]
        }
      ],
      "source": [
        "for p in sorted(param_grid.keys()):\n",
<<<<<<< HEAD:ml/notebooks/esmpu/curso_ml/aula06/Pipeline_mixto.ipynb
<<<<<<< HEAD:ml/notebooks/esmpu/curso_ml/aula06/Pipeline_mixto.ipynb
        "    print(f\"{p}: {best[p]}\")"
=======
        "    print(f\"{p}: {best[p]}\")\n"
>>>>>>> 567897d (Ajustes):ml/notebooks/esmpu/curso_ml/Pipeline_mixto.ipynb
=======
        "    print(f\"{p}: {best[p]}\")"
>>>>>>> 3daecee (Testes no notebooks):ml/notebooks/esmpu/curso_ml/Pipeline_mixto.ipynb
      ]
    },
    {
      "cell_type": "code",
<<<<<<< HEAD:ml/notebooks/esmpu/curso_ml/aula06/Pipeline_mixto.ipynb
<<<<<<< HEAD:ml/notebooks/esmpu/curso_ml/aula06/Pipeline_mixto.ipynb
=======
>>>>>>> 3daecee (Testes no notebooks):ml/notebooks/esmpu/curso_ml/Pipeline_mixto.ipynb
      "execution_count": null,
      "metadata": {
        "id": "erMcGW8bkV2c"
      },
      "outputs": [],
      "source": [
        "from sklearn.metrics import plot_confusion_matrix"
<<<<<<< HEAD:ml/notebooks/esmpu/curso_ml/aula06/Pipeline_mixto.ipynb
=======
      "execution_count": 43,
      "metadata": {
        "id": "erMcGW8bkV2c"
      },
      "outputs": [
        {
          "ename": "ImportError",
          "evalue": "cannot import name 'plot_confusion_matrix' from 'sklearn.metrics' (/Users/carlosroberto/anaconda3/lib/python3.10/site-packages/sklearn/metrics/__init__.py)",
          "output_type": "error",
          "traceback": [
            "\u001b[0;31m---------------------------------------------------------------------------\u001b[0m",
            "\u001b[0;31mImportError\u001b[0m                               Traceback (most recent call last)",
            "Cell \u001b[0;32mIn[43], line 1\u001b[0m\n\u001b[0;32m----> 1\u001b[0m \u001b[39mfrom\u001b[39;00m \u001b[39msklearn\u001b[39;00m\u001b[39m.\u001b[39;00m\u001b[39mmetrics\u001b[39;00m \u001b[39mimport\u001b[39;00m plot_confusion_matrix\n",
            "\u001b[0;31mImportError\u001b[0m: cannot import name 'plot_confusion_matrix' from 'sklearn.metrics' (/Users/carlosroberto/anaconda3/lib/python3.10/site-packages/sklearn/metrics/__init__.py)"
          ]
        }
      ],
      "source": [
        "from sklearn.metrics import plot_confusion_matrix\n"
>>>>>>> 567897d (Ajustes):ml/notebooks/esmpu/curso_ml/Pipeline_mixto.ipynb
=======
>>>>>>> 3daecee (Testes no notebooks):ml/notebooks/esmpu/curso_ml/Pipeline_mixto.ipynb
      ]
    },
    {
      "cell_type": "code",
      "execution_count": null,
      "metadata": {
        "colab": {
          "base_uri": "https://localhost:8080/",
          "height": 283
        },
        "id": "bR_8ftz4kV2e",
        "outputId": "28e36896-7af7-431f-a8b3-8e36ff3bd411"
      },
      "outputs": [
        {
          "data": {
            "image/png": "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",
            "text/plain": [
              "<Figure size 432x288 with 2 Axes>"
            ]
          },
          "metadata": {
            "needs_background": "light",
            "tags": []
          },
          "output_type": "display_data"
        }
      ],
      "source": [
<<<<<<< HEAD:ml/notebooks/esmpu/curso_ml/aula06/Pipeline_mixto.ipynb
        "plot_confusion_matrix(grid_search, X_test, y_test.values.ravel(), values_format=\"d\")"
=======
        "plot_confusion_matrix(grid_search, X_test, y_test.values.ravel(),values_format='d');"
>>>>>>> 3daecee (Testes no notebooks):ml/notebooks/esmpu/curso_ml/Pipeline_mixto.ipynb
      ]
    },
    {
      "cell_type": "code",
      "execution_count": null,
      "metadata": {
        "id": "BRwpkkUQu8ws"
      },
      "outputs": [],
      "source": [
        "import joblib\n",
<<<<<<< HEAD:ml/notebooks/esmpu/curso_ml/aula06/Pipeline_mixto.ipynb
<<<<<<< HEAD:ml/notebooks/esmpu/curso_ml/aula06/Pipeline_mixto.ipynb
        "from joblib import dump, load"
=======
        "from joblib import dump, load\n"
>>>>>>> 567897d (Ajustes):ml/notebooks/esmpu/curso_ml/Pipeline_mixto.ipynb
=======
        "from joblib import dump, load"
>>>>>>> 3daecee (Testes no notebooks):ml/notebooks/esmpu/curso_ml/Pipeline_mixto.ipynb
      ]
    },
    {
      "cell_type": "code",
      "execution_count": null,
      "metadata": {
        "id": "hfYHiEobuFW4"
      },
      "outputs": [],
      "source": [
<<<<<<< HEAD:ml/notebooks/esmpu/curso_ml/aula06/Pipeline_mixto.ipynb
        "best_model = joblib.dump(grid_search, \"best_model.pkl\")"
=======
        "best_model = joblib.dump(grid_search,'best_model.pkl')"
>>>>>>> 3daecee (Testes no notebooks):ml/notebooks/esmpu/curso_ml/Pipeline_mixto.ipynb
      ]
    },
    {
      "cell_type": "code",
      "execution_count": null,
      "metadata": {
        "id": "mSFZjV3rtYnL"
      },
      "outputs": [],
      "source": [
<<<<<<< HEAD:ml/notebooks/esmpu/curso_ml/aula06/Pipeline_mixto.ipynb
        "best_model = joblib.load(\"best_model.pkl\")"
=======
        "best_model = joblib.load('best_model.pkl')"
>>>>>>> 3daecee (Testes no notebooks):ml/notebooks/esmpu/curso_ml/Pipeline_mixto.ipynb
      ]
    },
    {
      "cell_type": "code",
      "execution_count": null,
      "metadata": {
        "id": "gk2_NUdKuuTQ"
      },
      "outputs": [],
      "source": [
<<<<<<< HEAD:ml/notebooks/esmpu/curso_ml/aula06/Pipeline_mixto.ipynb
<<<<<<< HEAD:ml/notebooks/esmpu/curso_ml/aula06/Pipeline_mixto.ipynb
        "preds = best_model.predict(X_test)"
=======
        "preds = best_model.predict(X_test)\n"
>>>>>>> 567897d (Ajustes):ml/notebooks/esmpu/curso_ml/Pipeline_mixto.ipynb
=======
        "preds = best_model.predict(X_test)"
>>>>>>> 3daecee (Testes no notebooks):ml/notebooks/esmpu/curso_ml/Pipeline_mixto.ipynb
      ]
    },
    {
      "cell_type": "code",
      "execution_count": null,
      "metadata": {
        "colab": {
          "base_uri": "https://localhost:8080/"
        },
        "id": "JdsU8Cc8u0er",
        "outputId": "4d47dc9a-15f1-4d5d-e621-667f8e4c158a"
      },
      "outputs": [
        {
          "data": {
            "text/plain": [
              "array([1, 0, 1, ..., 1, 1, 0])"
            ]
          },
          "execution_count": 38,
          "metadata": {
            "tags": []
          },
          "output_type": "execute_result"
        }
      ],
      "source": [
<<<<<<< HEAD:ml/notebooks/esmpu/curso_ml/aula06/Pipeline_mixto.ipynb
<<<<<<< HEAD:ml/notebooks/esmpu/curso_ml/aula06/Pipeline_mixto.ipynb
=======
>>>>>>> 3daecee (Testes no notebooks):ml/notebooks/esmpu/curso_ml/Pipeline_mixto.ipynb
        "preds"
      ]
    },
    {
      "cell_type": "code",
      "execution_count": null,
<<<<<<< HEAD:ml/notebooks/esmpu/curso_ml/aula06/Pipeline_mixto.ipynb
      "metadata": {},
      "outputs": [],
      "source": [
        "# Importar a biblioteca (plot_confusion_matrix)\n",
        "# from sklearn.metrics import ConfusionMatrixDisplay"
=======
        "preds\n"
>>>>>>> 567897d (Ajustes):ml/notebooks/esmpu/curso_ml/Pipeline_mixto.ipynb
      ]
    },
    {
      "cell_type": "code",
      "execution_count": null,
=======
>>>>>>> 3daecee (Testes no notebooks):ml/notebooks/esmpu/curso_ml/Pipeline_mixto.ipynb
      "metadata": {
        "colab": {
          "base_uri": "https://localhost:8080/",
          "height": 283
        },
        "id": "pwSwaJu2u3K7",
        "outputId": "13979e6c-4c4b-4616-b5c9-7f85c012dc88"
      },
      "outputs": [
        {
          "data": {
            "image/png": "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",
            "text/plain": [
              "<Figure size 432x288 with 2 Axes>"
            ]
          },
          "metadata": {
            "needs_background": "light",
            "tags": []
          },
          "output_type": "display_data"
        }
      ],
      "source": [
<<<<<<< HEAD:ml/notebooks/esmpu/curso_ml/aula06/Pipeline_mixto.ipynb
<<<<<<< HEAD:ml/notebooks/esmpu/curso_ml/aula06/Pipeline_mixto.ipynb
        "plot_confusion_matrix(best_model, X_test, y_test.values.ravel(), values_format=\"d\")\n",
        "# # Mostrar a Matriz de Confusão para os diversos patamares de renda familiar\n",
        "# fig, ax = plt.subplots(figsize=(5, 5))\n",
        "# ConfusionMatrixDisplay.from_estimator(reg_log, X_test, y_test, ax=ax, values_format=\"d\")"
=======
        "plot_confusion_matrix(best_model, X_test, y_test.values.ravel(), values_format=\"d\")"
>>>>>>> 567897d (Ajustes):ml/notebooks/esmpu/curso_ml/Pipeline_mixto.ipynb
      ]
    },
    {
      "attachments": {},
=======
        "plot_confusion_matrix(best_model, X_test, y_test.values.ravel(),values_format='d');"
      ]
    },
    {
>>>>>>> 3daecee (Testes no notebooks):ml/notebooks/esmpu/curso_ml/Pipeline_mixto.ipynb
      "cell_type": "markdown",
      "metadata": {
        "id": "Led0_RO7ze60"
      },
      "source": [
<<<<<<< HEAD:ml/notebooks/esmpu/curso_ml/aula06/Pipeline_mixto.ipynb
        "### Teste de xgboost (XGBClassifier)\n"
=======
        "### Teste de xgboost (XGBClassifier)"
>>>>>>> 3daecee (Testes no notebooks):ml/notebooks/esmpu/curso_ml/Pipeline_mixto.ipynb
      ]
    },
    {
      "cell_type": "code",
      "execution_count": null,
      "metadata": {
        "colab": {
          "base_uri": "https://localhost:8080/"
        },
        "id": "Hu6Sgpc9v0Aq",
        "outputId": "0f71d273-d041-4748-d560-7c1783c292fe"
      },
      "outputs": [
        {
          "data": {
            "text/plain": [
              "0.8389113062742306"
            ]
          },
          "execution_count": 44,
          "metadata": {
            "tags": []
          },
          "output_type": "execute_result"
        }
      ],
      "source": [
        "from xgboost import XGBClassifier\n",
<<<<<<< HEAD:ml/notebooks/esmpu/curso_ml/aula06/Pipeline_mixto.ipynb
        "\n",
        "# altera o pipeline\n",
        "pipe = Pipeline(\n",
        "    steps=[\n",
        "        (\"preprocessor\", preprocessor),\n",
        "        (\"classifier\", XGBClassifier(n_estimators=150, max_depth=4)),\n",
=======
        "# altera o pipeline\n",
        "pipe = Pipeline(\n",
        "    steps=[\n",
        "        ('preprocessor', preprocessor),\n",
        "        ('classifier', XGBClassifier(n_estimators=150,max_depth=4)),\n",
>>>>>>> 3daecee (Testes no notebooks):ml/notebooks/esmpu/curso_ml/Pipeline_mixto.ipynb
        "    ],\n",
        ")\n",
        "\n",
        "# model_xgboost = XGBClassifier()\n",
<<<<<<< HEAD:ml/notebooks/esmpu/curso_ml/aula06/Pipeline_mixto.ipynb
        "model_xgboost = pipe.fit(X_train, y_train)\n",
=======
        "model_xgboost= pipe.fit(X_train, y_train)\n",
>>>>>>> 3daecee (Testes no notebooks):ml/notebooks/esmpu/curso_ml/Pipeline_mixto.ipynb
        "model_xgboost.score(X_test, y_test)"
      ]
    },
    {
      "cell_type": "code",
      "execution_count": null,
      "metadata": {
        "colab": {
          "base_uri": "https://localhost:8080/",
          "height": 283
        },
        "id": "SQpqZSJdylQ5",
        "outputId": "3418db4b-a696-4722-ec89-eb795b290621"
      },
      "outputs": [
        {
          "data": {
            "image/png": "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",
            "text/plain": [
              "<Figure size 432x288 with 2 Axes>"
            ]
          },
          "metadata": {
            "needs_background": "light",
            "tags": []
          },
          "output_type": "display_data"
        }
      ],
      "source": [
        "# xgboost_preds = model_xgboost.predict(X_test)\n",
<<<<<<< HEAD:ml/notebooks/esmpu/curso_ml/aula06/Pipeline_mixto.ipynb
        "plot_confusion_matrix(model_xgboost, X_test, y_test.values.ravel(), values_format=\"d\")"
=======
        "plot_confusion_matrix(model_xgboost, X_test, y_test.values.ravel(),values_format='d');"
>>>>>>> 3daecee (Testes no notebooks):ml/notebooks/esmpu/curso_ml/Pipeline_mixto.ipynb
      ]
    },
    {
      "cell_type": "code",
      "execution_count": null,
      "metadata": {
        "id": "TDWfLDqaz9nR"
      },
      "outputs": [],
      "source": []
    }
  ],
  "metadata": {
    "colab": {
      "provenance": []
    },
    "kernelspec": {
      "display_name": "Python 3",
      "language": "python",
      "name": "python3"
    },
    "language_info": {
      "codemirror_mode": {
        "name": "ipython",
        "version": 3
      },
      "file_extension": ".py",
      "mimetype": "text/x-python",
      "name": "python",
      "nbconvert_exporter": "python",
      "pygments_lexer": "ipython3",
      "version": "3.10.9"
    }
  },
  "nbformat": 4,
  "nbformat_minor": 0
}
