{
  "cells": [
    {
      "cell_type": "code",
      "execution_count": 1,
      "metadata": {
        "colab": {
          "base_uri": "https://localhost:8080/"
        },
        "id": "Au6dPTeIN-Mx",
        "outputId": "198e2431-3ff1-451a-f332-813ce584d19e"
      },
      "outputs": [
        {
          "name": "stdout",
          "output_type": "stream",
          "text": [
            "Requirement already satisfied: scikit-learn in /home/carlosroberto/Projetos/ai/Cursos/Esmpu/ia/.venv/lib/python3.10/site-packages (1.2.2)\n",
            "Requirement already satisfied: numpy>=1.17.3 in /home/carlosroberto/Projetos/ai/Cursos/Esmpu/ia/.venv/lib/python3.10/site-packages (from scikit-learn) (1.24.3)\n",
            "Requirement already satisfied: scipy>=1.3.2 in /home/carlosroberto/Projetos/ai/Cursos/Esmpu/ia/.venv/lib/python3.10/site-packages (from scikit-learn) (1.10.1)\n",
            "Requirement already satisfied: joblib>=1.1.1 in /home/carlosroberto/Projetos/ai/Cursos/Esmpu/ia/.venv/lib/python3.10/site-packages (from scikit-learn) (1.2.0)\n",
            "Requirement already satisfied: threadpoolctl>=2.0.0 in /home/carlosroberto/Projetos/ai/Cursos/Esmpu/ia/.venv/lib/python3.10/site-packages (from scikit-learn) (3.1.0)\n"
          ]
        }
      ],
      "source": [
        "#!pip install --upgrade scikit-learn"
      ]
    },
    {
      "cell_type": "markdown",
      "metadata": {
        "id": "lpc38a4uNvfP"
      },
      "source": [
        "# Análise com classes desbalanceadas\n",
        "\n",
        "Breast Cancer"
      ]
    },
    {
      "cell_type": "code",
      "execution_count": 2,
      "metadata": {
        "id": "SgeytFzfNvfU"
      },
      "outputs": [],
      "source": [
        "import pandas as pd\n",
        "\n",
        "from sklearn.model_selection import train_test_split\n",
        "from sklearn import metrics\n",
        "from sklearn.model_selection import cross_val_score\n",
        "\n",
        "from sklearn.linear_model import LogisticRegression\n",
        "from sklearn import svm\n",
        "from sklearn.tree import DecisionTreeClassifier\n",
        "from sklearn.ensemble import RandomForestClassifier\n",
        "\n",
        "from sklearn.datasets import load_breast_cancer"
      ]
    },
    {
      "cell_type": "code",
      "execution_count": 2,
      "metadata": {
        "id": "FEDXyCugNvfU"
      },
      "outputs": [
        {
          "ename": "NameError",
          "evalue": "name 'load_breast_cancer' is not defined",
          "output_type": "error",
          "traceback": [
            "\u001b[0;31m---------------------------------------------------------------------------\u001b[0m",
            "\u001b[0;31mNameError\u001b[0m                                 Traceback (most recent call last)",
            "Cell \u001b[0;32mIn[2], line 1\u001b[0m\n\u001b[0;32m----> 1\u001b[0m X, y \u001b[39m=\u001b[39m load_breast_cancer(return_X_y\u001b[39m=\u001b[39m\u001b[39mTrue\u001b[39;00m, as_frame\u001b[39m=\u001b[39m\u001b[39mTrue\u001b[39;00m)\n\u001b[1;32m      2\u001b[0m X_train, X_test, y_train, y_test \u001b[39m=\u001b[39m train_test_split(X, y, test_size\u001b[39m=\u001b[39m\u001b[39m0.2\u001b[39m, random_state\u001b[39m=\u001b[39m\u001b[39m42\u001b[39m)\n",
            "\u001b[0;31mNameError\u001b[0m: name 'load_breast_cancer' is not defined"
          ]
        }
      ],
      "source": [
        "X, y = load_breast_cancer(return_X_y=True, as_frame=True)\n",
        "X_train, X_test, y_train, y_test = train_test_split(X, y, test_size=0.2, random_state=42)"
      ]
    },
    {
      "cell_type": "code",
      "execution_count": 3,
      "metadata": {
        "colab": {
          "base_uri": "https://localhost:8080/"
        },
        "id": "JyHGx81gNvfV",
        "outputId": "c7ed74ef-79af-46b9-dc2b-9a9038d40180"
      },
      "outputs": [
        {
          "ename": "NameError",
          "evalue": "name 'X_train' is not defined",
          "output_type": "error",
          "traceback": [
            "\u001b[0;31m---------------------------------------------------------------------------\u001b[0m",
            "\u001b[0;31mNameError\u001b[0m                                 Traceback (most recent call last)",
            "Cell \u001b[0;32mIn[3], line 1\u001b[0m\n\u001b[0;32m----> 1\u001b[0m X_train\u001b[39m.\u001b[39mshape, y_train\u001b[39m.\u001b[39mshape\n",
            "\u001b[0;31mNameError\u001b[0m: name 'X_train' is not defined"
          ]
        }
      ],
      "source": [
        "X_train.shape, y_train.shape"
      ]
    },
    {
      "cell_type": "code",
      "execution_count": null,
      "metadata": {
        "colab": {
          "base_uri": "https://localhost:8080/"
        },
        "id": "luQMVFATNvfV",
        "outputId": "cc61ac1f-ba87-4d5d-c597-567ac516d120"
      },
      "outputs": [
        {
          "data": {
            "text/plain": [
              "((114, 30), (114,))"
            ]
          },
          "execution_count": 8,
          "metadata": {
            "tags": []
          },
          "output_type": "execute_result"
        }
      ],
      "source": [
        "X_test.shape, y_test.shape"
      ]
    },
    {
      "cell_type": "code",
      "execution_count": null,
      "metadata": {
        "colab": {
          "base_uri": "https://localhost:8080/",
          "height": 473
        },
        "id": "CfnppPGQNvfW",
        "outputId": "72f659e5-f098-4303-dfea-e76b1ccb78e2"
      },
      "outputs": [
        {
          "data": {
            "text/html": [
              "<div>\n",
              "<style scoped>\n",
              "    .dataframe tbody tr th:only-of-type {\n",
              "        vertical-align: middle;\n",
              "    }\n",
              "\n",
              "    .dataframe tbody tr th {\n",
              "        vertical-align: top;\n",
              "    }\n",
              "\n",
              "    .dataframe thead th {\n",
              "        text-align: right;\n",
              "    }\n",
              "</style>\n",
              "<table border=\"1\" class=\"dataframe\">\n",
              "  <thead>\n",
              "    <tr style=\"text-align: right;\">\n",
              "      <th></th>\n",
              "      <th>mean radius</th>\n",
              "      <th>mean texture</th>\n",
              "      <th>mean perimeter</th>\n",
              "      <th>mean area</th>\n",
              "      <th>mean smoothness</th>\n",
              "      <th>mean compactness</th>\n",
              "      <th>mean concavity</th>\n",
              "      <th>mean concave points</th>\n",
              "      <th>mean symmetry</th>\n",
              "      <th>mean fractal dimension</th>\n",
              "      <th>radius error</th>\n",
              "      <th>texture error</th>\n",
              "      <th>perimeter error</th>\n",
              "      <th>area error</th>\n",
              "      <th>smoothness error</th>\n",
              "      <th>compactness error</th>\n",
              "      <th>concavity error</th>\n",
              "      <th>concave points error</th>\n",
              "      <th>symmetry error</th>\n",
              "      <th>fractal dimension error</th>\n",
              "      <th>worst radius</th>\n",
              "      <th>worst texture</th>\n",
              "      <th>worst perimeter</th>\n",
              "      <th>worst area</th>\n",
              "      <th>worst smoothness</th>\n",
              "      <th>worst compactness</th>\n",
              "      <th>worst concavity</th>\n",
              "      <th>worst concave points</th>\n",
              "      <th>worst symmetry</th>\n",
              "      <th>worst fractal dimension</th>\n",
              "    </tr>\n",
              "  </thead>\n",
              "  <tbody>\n",
              "    <tr>\n",
              "      <th>68</th>\n",
              "      <td>9.029</td>\n",
              "      <td>17.33</td>\n",
              "      <td>58.79</td>\n",
              "      <td>250.5</td>\n",
              "      <td>0.10660</td>\n",
              "      <td>0.14130</td>\n",
              "      <td>0.31300</td>\n",
              "      <td>0.04375</td>\n",
              "      <td>0.2111</td>\n",
              "      <td>0.08046</td>\n",
              "      <td>0.3274</td>\n",
              "      <td>1.1940</td>\n",
              "      <td>1.8850</td>\n",
              "      <td>17.67</td>\n",
              "      <td>0.009549</td>\n",
              "      <td>0.086060</td>\n",
              "      <td>0.303800</td>\n",
              "      <td>0.033220</td>\n",
              "      <td>0.04197</td>\n",
              "      <td>0.009559</td>\n",
              "      <td>10.310</td>\n",
              "      <td>22.65</td>\n",
              "      <td>65.50</td>\n",
              "      <td>324.7</td>\n",
              "      <td>0.14820</td>\n",
              "      <td>0.43650</td>\n",
              "      <td>1.25200</td>\n",
              "      <td>0.17500</td>\n",
              "      <td>0.4228</td>\n",
              "      <td>0.11750</td>\n",
              "    </tr>\n",
              "    <tr>\n",
              "      <th>181</th>\n",
              "      <td>21.090</td>\n",
              "      <td>26.57</td>\n",
              "      <td>142.70</td>\n",
              "      <td>1311.0</td>\n",
              "      <td>0.11410</td>\n",
              "      <td>0.28320</td>\n",
              "      <td>0.24870</td>\n",
              "      <td>0.14960</td>\n",
              "      <td>0.2395</td>\n",
              "      <td>0.07398</td>\n",
              "      <td>0.6298</td>\n",
              "      <td>0.7629</td>\n",
              "      <td>4.4140</td>\n",
              "      <td>81.46</td>\n",
              "      <td>0.004253</td>\n",
              "      <td>0.047590</td>\n",
              "      <td>0.038720</td>\n",
              "      <td>0.015670</td>\n",
              "      <td>0.01798</td>\n",
              "      <td>0.005295</td>\n",
              "      <td>26.680</td>\n",
              "      <td>33.48</td>\n",
              "      <td>176.50</td>\n",
              "      <td>2089.0</td>\n",
              "      <td>0.14910</td>\n",
              "      <td>0.75840</td>\n",
              "      <td>0.67800</td>\n",
              "      <td>0.29030</td>\n",
              "      <td>0.4098</td>\n",
              "      <td>0.12840</td>\n",
              "    </tr>\n",
              "    <tr>\n",
              "      <th>63</th>\n",
              "      <td>9.173</td>\n",
              "      <td>13.86</td>\n",
              "      <td>59.20</td>\n",
              "      <td>260.9</td>\n",
              "      <td>0.07721</td>\n",
              "      <td>0.08751</td>\n",
              "      <td>0.05988</td>\n",
              "      <td>0.02180</td>\n",
              "      <td>0.2341</td>\n",
              "      <td>0.06963</td>\n",
              "      <td>0.4098</td>\n",
              "      <td>2.2650</td>\n",
              "      <td>2.6080</td>\n",
              "      <td>23.52</td>\n",
              "      <td>0.008738</td>\n",
              "      <td>0.039380</td>\n",
              "      <td>0.043120</td>\n",
              "      <td>0.015600</td>\n",
              "      <td>0.04192</td>\n",
              "      <td>0.005822</td>\n",
              "      <td>10.010</td>\n",
              "      <td>19.23</td>\n",
              "      <td>65.59</td>\n",
              "      <td>310.1</td>\n",
              "      <td>0.09836</td>\n",
              "      <td>0.16780</td>\n",
              "      <td>0.13970</td>\n",
              "      <td>0.05087</td>\n",
              "      <td>0.3282</td>\n",
              "      <td>0.08490</td>\n",
              "    </tr>\n",
              "    <tr>\n",
              "      <th>248</th>\n",
              "      <td>10.650</td>\n",
              "      <td>25.22</td>\n",
              "      <td>68.01</td>\n",
              "      <td>347.0</td>\n",
              "      <td>0.09657</td>\n",
              "      <td>0.07234</td>\n",
              "      <td>0.02379</td>\n",
              "      <td>0.01615</td>\n",
              "      <td>0.1897</td>\n",
              "      <td>0.06329</td>\n",
              "      <td>0.2497</td>\n",
              "      <td>1.4930</td>\n",
              "      <td>1.4970</td>\n",
              "      <td>16.64</td>\n",
              "      <td>0.007189</td>\n",
              "      <td>0.010350</td>\n",
              "      <td>0.010810</td>\n",
              "      <td>0.006245</td>\n",
              "      <td>0.02158</td>\n",
              "      <td>0.002619</td>\n",
              "      <td>12.250</td>\n",
              "      <td>35.19</td>\n",
              "      <td>77.98</td>\n",
              "      <td>455.7</td>\n",
              "      <td>0.14990</td>\n",
              "      <td>0.13980</td>\n",
              "      <td>0.11250</td>\n",
              "      <td>0.06136</td>\n",
              "      <td>0.3409</td>\n",
              "      <td>0.08147</td>\n",
              "    </tr>\n",
              "    <tr>\n",
              "      <th>60</th>\n",
              "      <td>10.170</td>\n",
              "      <td>14.88</td>\n",
              "      <td>64.55</td>\n",
              "      <td>311.9</td>\n",
              "      <td>0.11340</td>\n",
              "      <td>0.08061</td>\n",
              "      <td>0.01084</td>\n",
              "      <td>0.01290</td>\n",
              "      <td>0.2743</td>\n",
              "      <td>0.06960</td>\n",
              "      <td>0.5158</td>\n",
              "      <td>1.4410</td>\n",
              "      <td>3.3120</td>\n",
              "      <td>34.62</td>\n",
              "      <td>0.007514</td>\n",
              "      <td>0.010990</td>\n",
              "      <td>0.007665</td>\n",
              "      <td>0.008193</td>\n",
              "      <td>0.04183</td>\n",
              "      <td>0.005953</td>\n",
              "      <td>11.020</td>\n",
              "      <td>17.45</td>\n",
              "      <td>69.86</td>\n",
              "      <td>368.6</td>\n",
              "      <td>0.12750</td>\n",
              "      <td>0.09866</td>\n",
              "      <td>0.02168</td>\n",
              "      <td>0.02579</td>\n",
              "      <td>0.3557</td>\n",
              "      <td>0.08020</td>\n",
              "    </tr>\n",
              "    <tr>\n",
              "      <th>...</th>\n",
              "      <td>...</td>\n",
              "      <td>...</td>\n",
              "      <td>...</td>\n",
              "      <td>...</td>\n",
              "      <td>...</td>\n",
              "      <td>...</td>\n",
              "      <td>...</td>\n",
              "      <td>...</td>\n",
              "      <td>...</td>\n",
              "      <td>...</td>\n",
              "      <td>...</td>\n",
              "      <td>...</td>\n",
              "      <td>...</td>\n",
              "      <td>...</td>\n",
              "      <td>...</td>\n",
              "      <td>...</td>\n",
              "      <td>...</td>\n",
              "      <td>...</td>\n",
              "      <td>...</td>\n",
              "      <td>...</td>\n",
              "      <td>...</td>\n",
              "      <td>...</td>\n",
              "      <td>...</td>\n",
              "      <td>...</td>\n",
              "      <td>...</td>\n",
              "      <td>...</td>\n",
              "      <td>...</td>\n",
              "      <td>...</td>\n",
              "      <td>...</td>\n",
              "      <td>...</td>\n",
              "    </tr>\n",
              "    <tr>\n",
              "      <th>71</th>\n",
              "      <td>8.888</td>\n",
              "      <td>14.64</td>\n",
              "      <td>58.79</td>\n",
              "      <td>244.0</td>\n",
              "      <td>0.09783</td>\n",
              "      <td>0.15310</td>\n",
              "      <td>0.08606</td>\n",
              "      <td>0.02872</td>\n",
              "      <td>0.1902</td>\n",
              "      <td>0.08980</td>\n",
              "      <td>0.5262</td>\n",
              "      <td>0.8522</td>\n",
              "      <td>3.1680</td>\n",
              "      <td>25.44</td>\n",
              "      <td>0.017210</td>\n",
              "      <td>0.093680</td>\n",
              "      <td>0.056710</td>\n",
              "      <td>0.017660</td>\n",
              "      <td>0.02541</td>\n",
              "      <td>0.021930</td>\n",
              "      <td>9.733</td>\n",
              "      <td>15.67</td>\n",
              "      <td>62.56</td>\n",
              "      <td>284.4</td>\n",
              "      <td>0.12070</td>\n",
              "      <td>0.24360</td>\n",
              "      <td>0.14340</td>\n",
              "      <td>0.04786</td>\n",
              "      <td>0.2254</td>\n",
              "      <td>0.10840</td>\n",
              "    </tr>\n",
              "    <tr>\n",
              "      <th>106</th>\n",
              "      <td>11.640</td>\n",
              "      <td>18.33</td>\n",
              "      <td>75.17</td>\n",
              "      <td>412.5</td>\n",
              "      <td>0.11420</td>\n",
              "      <td>0.10170</td>\n",
              "      <td>0.07070</td>\n",
              "      <td>0.03485</td>\n",
              "      <td>0.1801</td>\n",
              "      <td>0.06520</td>\n",
              "      <td>0.3060</td>\n",
              "      <td>1.6570</td>\n",
              "      <td>2.1550</td>\n",
              "      <td>20.62</td>\n",
              "      <td>0.008540</td>\n",
              "      <td>0.023100</td>\n",
              "      <td>0.029450</td>\n",
              "      <td>0.013980</td>\n",
              "      <td>0.01565</td>\n",
              "      <td>0.003840</td>\n",
              "      <td>13.140</td>\n",
              "      <td>29.26</td>\n",
              "      <td>85.51</td>\n",
              "      <td>521.7</td>\n",
              "      <td>0.16880</td>\n",
              "      <td>0.26600</td>\n",
              "      <td>0.28730</td>\n",
              "      <td>0.12180</td>\n",
              "      <td>0.2806</td>\n",
              "      <td>0.09097</td>\n",
              "    </tr>\n",
              "    <tr>\n",
              "      <th>270</th>\n",
              "      <td>14.290</td>\n",
              "      <td>16.82</td>\n",
              "      <td>90.30</td>\n",
              "      <td>632.6</td>\n",
              "      <td>0.06429</td>\n",
              "      <td>0.02675</td>\n",
              "      <td>0.00725</td>\n",
              "      <td>0.00625</td>\n",
              "      <td>0.1508</td>\n",
              "      <td>0.05376</td>\n",
              "      <td>0.1302</td>\n",
              "      <td>0.7198</td>\n",
              "      <td>0.8439</td>\n",
              "      <td>10.77</td>\n",
              "      <td>0.003492</td>\n",
              "      <td>0.003710</td>\n",
              "      <td>0.004826</td>\n",
              "      <td>0.003608</td>\n",
              "      <td>0.01536</td>\n",
              "      <td>0.001381</td>\n",
              "      <td>14.910</td>\n",
              "      <td>20.65</td>\n",
              "      <td>94.44</td>\n",
              "      <td>684.6</td>\n",
              "      <td>0.08567</td>\n",
              "      <td>0.05036</td>\n",
              "      <td>0.03866</td>\n",
              "      <td>0.03333</td>\n",
              "      <td>0.2458</td>\n",
              "      <td>0.06120</td>\n",
              "    </tr>\n",
              "    <tr>\n",
              "      <th>435</th>\n",
              "      <td>13.980</td>\n",
              "      <td>19.62</td>\n",
              "      <td>91.12</td>\n",
              "      <td>599.5</td>\n",
              "      <td>0.10600</td>\n",
              "      <td>0.11330</td>\n",
              "      <td>0.11260</td>\n",
              "      <td>0.06463</td>\n",
              "      <td>0.1669</td>\n",
              "      <td>0.06544</td>\n",
              "      <td>0.2208</td>\n",
              "      <td>0.9533</td>\n",
              "      <td>1.6020</td>\n",
              "      <td>18.85</td>\n",
              "      <td>0.005314</td>\n",
              "      <td>0.017910</td>\n",
              "      <td>0.021850</td>\n",
              "      <td>0.009567</td>\n",
              "      <td>0.01223</td>\n",
              "      <td>0.002846</td>\n",
              "      <td>17.040</td>\n",
              "      <td>30.80</td>\n",
              "      <td>113.90</td>\n",
              "      <td>869.3</td>\n",
              "      <td>0.16130</td>\n",
              "      <td>0.35680</td>\n",
              "      <td>0.40690</td>\n",
              "      <td>0.18270</td>\n",
              "      <td>0.3179</td>\n",
              "      <td>0.10550</td>\n",
              "    </tr>\n",
              "    <tr>\n",
              "      <th>102</th>\n",
              "      <td>12.180</td>\n",
              "      <td>20.52</td>\n",
              "      <td>77.22</td>\n",
              "      <td>458.7</td>\n",
              "      <td>0.08013</td>\n",
              "      <td>0.04038</td>\n",
              "      <td>0.02383</td>\n",
              "      <td>0.01770</td>\n",
              "      <td>0.1739</td>\n",
              "      <td>0.05677</td>\n",
              "      <td>0.1924</td>\n",
              "      <td>1.5710</td>\n",
              "      <td>1.1830</td>\n",
              "      <td>14.68</td>\n",
              "      <td>0.005080</td>\n",
              "      <td>0.006098</td>\n",
              "      <td>0.010690</td>\n",
              "      <td>0.006797</td>\n",
              "      <td>0.01447</td>\n",
              "      <td>0.001532</td>\n",
              "      <td>13.340</td>\n",
              "      <td>32.84</td>\n",
              "      <td>84.58</td>\n",
              "      <td>547.8</td>\n",
              "      <td>0.11230</td>\n",
              "      <td>0.08862</td>\n",
              "      <td>0.11450</td>\n",
              "      <td>0.07431</td>\n",
              "      <td>0.2694</td>\n",
              "      <td>0.06878</td>\n",
              "    </tr>\n",
              "  </tbody>\n",
              "</table>\n",
              "<p>455 rows × 30 columns</p>\n",
              "</div>"
            ],
            "text/plain": [
              "     mean radius  mean texture  ...  worst symmetry  worst fractal dimension\n",
              "68         9.029         17.33  ...          0.4228                  0.11750\n",
              "181       21.090         26.57  ...          0.4098                  0.12840\n",
              "63         9.173         13.86  ...          0.3282                  0.08490\n",
              "248       10.650         25.22  ...          0.3409                  0.08147\n",
              "60        10.170         14.88  ...          0.3557                  0.08020\n",
              "..           ...           ...  ...             ...                      ...\n",
              "71         8.888         14.64  ...          0.2254                  0.10840\n",
              "106       11.640         18.33  ...          0.2806                  0.09097\n",
              "270       14.290         16.82  ...          0.2458                  0.06120\n",
              "435       13.980         19.62  ...          0.3179                  0.10550\n",
              "102       12.180         20.52  ...          0.2694                  0.06878\n",
              "\n",
              "[455 rows x 30 columns]"
            ]
          },
          "execution_count": 9,
          "metadata": {
            "tags": []
          },
          "output_type": "execute_result"
        }
      ],
      "source": [
        "X_train"
      ]
    },
    {
      "cell_type": "code",
      "execution_count": null,
      "metadata": {
        "colab": {
          "base_uri": "https://localhost:8080/"
        },
        "id": "NOQ5eNI-NvfW",
        "outputId": "5ba649f1-5278-4d32-c2a7-76a9f033d854"
      },
      "outputs": [
        {
          "data": {
            "text/plain": [
              "1    357\n",
              "0    212\n",
              "Name: target, dtype: int64"
            ]
          },
          "execution_count": 10,
          "metadata": {
            "tags": []
          },
          "output_type": "execute_result"
        }
      ],
      "source": [
        "# 357 benigno (1) e 212 maligno (0)\n",
        "y.value_counts()"
      ]
    },
    {
      "cell_type": "code",
      "execution_count": null,
      "metadata": {
        "colab": {
          "base_uri": "https://localhost:8080/"
        },
        "id": "mCWxdwceNvfW",
        "outputId": "b4f6c2be-2caf-437e-fb4e-f28d96a17fd8"
      },
      "outputs": [
        {
          "data": {
            "text/plain": [
              "0.956140350877193"
            ]
          },
          "execution_count": 11,
          "metadata": {
            "tags": []
          },
          "output_type": "execute_result"
        }
      ],
      "source": [
        "clf = LogisticRegression(C=1.0, max_iter=3000).fit(X_train, y_train)\n",
        "clf.score(X_test, y_test)"
      ]
    },
    {
      "cell_type": "code",
      "execution_count": null,
      "metadata": {
        "colab": {
          "base_uri": "https://localhost:8080/"
        },
        "id": "haokgxspNvfX",
        "outputId": "6ed5e360-171e-4202-f361-6ef581b05507",
        "scrolled": true
      },
      "outputs": [
        {
          "data": {
            "text/plain": [
              "0.9655172413793103"
            ]
          },
          "execution_count": 12,
          "metadata": {
            "tags": []
          },
          "output_type": "execute_result"
        }
      ],
      "source": [
        "metrics.f1_score(y_test, clf.predict(X_test))"
      ]
    },
    {
      "cell_type": "code",
      "execution_count": null,
      "metadata": {
        "colab": {
          "base_uri": "https://localhost:8080/"
        },
        "id": "Ml8bag10NvfX",
        "outputId": "738ba2f4-49a5-45af-a934-31fb1a92072b"
      },
      "outputs": [
        {
          "data": {
            "text/plain": [
              "(array([0, 1]), array([40, 74]))"
            ]
          },
          "execution_count": 13,
          "metadata": {
            "tags": []
          },
          "output_type": "execute_result"
        }
      ],
      "source": [
        "import numpy as np\n",
        "np.unique(clf.predict(X_test), return_counts=True)"
      ]
    },
    {
      "cell_type": "code",
      "execution_count": null,
      "metadata": {
        "colab": {
          "base_uri": "https://localhost:8080/"
        },
        "id": "QVUVebWLNvfX",
        "outputId": "f45006d7-1e1f-4d26-c5d2-5a88941df416"
      },
      "outputs": [
        {
          "data": {
            "text/plain": [
              "array([0.93731845, 0.94710735, 0.98245614, 0.92982456, 0.95603761])"
            ]
          },
          "execution_count": 14,
          "metadata": {
            "tags": []
          },
          "output_type": "execute_result"
        }
      ],
      "source": [
        "# 5-fold\n",
        "scores = cross_val_score(clf, X, y, cv=5, scoring='f1_weighted')\n",
        "scores"
      ]
    },
    {
      "cell_type": "code",
      "execution_count": null,
      "metadata": {
        "colab": {
          "base_uri": "https://localhost:8080/"
        },
        "id": "56lDdSt2NvfY",
        "outputId": "36d98e51-43b3-4e30-866d-2340e6f0c54f"
      },
      "outputs": [
        {
          "name": "stdout",
          "output_type": "stream",
          "text": [
            "Accuracy: 0.951 (+/- 0.0365)\n"
          ]
        }
      ],
      "source": [
        "print(f\"Accuracy: {scores.mean():.3} (+/- {scores.std() * 2:.3})\")"
      ]
    },
    {
      "cell_type": "code",
      "execution_count": null,
      "metadata": {
        "colab": {
          "base_uri": "https://localhost:8080/"
        },
        "id": "E5E29HBdNvfY",
        "outputId": "79953d86-3bf4-4bd6-f63e-5b58d5b4d900"
      },
      "outputs": [
        {
          "data": {
            "text/plain": [
              "array([0.98237569, 0.90958165, 0.92901849, 0.94708706, 0.98253659,\n",
              "       0.98236235, 0.92982456, 0.94760977, 0.96520848, 0.96428571])"
            ]
          },
          "execution_count": 16,
          "metadata": {
            "tags": []
          },
          "output_type": "execute_result"
        }
      ],
      "source": [
        "# 10-fold\n",
        "scores = cross_val_score(clf, X, y, cv=10, scoring='f1_weighted')\n",
        "scores"
      ]
    },
    {
      "cell_type": "code",
      "execution_count": null,
      "metadata": {
        "colab": {
          "base_uri": "https://localhost:8080/"
        },
        "id": "Cxae4yCGNvfY",
        "outputId": "721fd96b-0d22-469b-a38b-b4929e86c56e"
      },
      "outputs": [
        {
          "name": "stdout",
          "output_type": "stream",
          "text": [
            "Accuracy: 0.954 (+/- 0.0487)\n"
          ]
        }
      ],
      "source": [
        "print(f\"Accuracy: {scores.mean():.3} (+/- {scores.std() * 2:.3})\")"
      ]
    },
    {
      "cell_type": "code",
      "execution_count": null,
      "metadata": {
        "id": "5CgSCgwXNvfY"
      },
      "outputs": [],
      "source": [
        "# Vamos aumentar o desbalanceamento só para tornar o problema mais visível\n",
        "X['y'] = y"
      ]
    },
    {
      "cell_type": "code",
      "execution_count": null,
      "metadata": {
        "id": "awah4tX6NvfZ"
      },
      "outputs": [],
      "source": [
        "desbalanceado = X.drop(X[y==0].sample(frac=.9).index)"
      ]
    },
    {
      "cell_type": "code",
      "execution_count": null,
      "metadata": {
        "colab": {
          "base_uri": "https://localhost:8080/"
        },
        "id": "FHoHVDtnNvfZ",
        "outputId": "756e759a-c54a-49c3-ee84-8e1aa2ca2c58"
      },
      "outputs": [
        {
          "data": {
            "text/plain": [
              "1    357\n",
              "0     21\n",
              "Name: y, dtype: int64"
            ]
          },
          "execution_count": 20,
          "metadata": {
            "tags": []
          },
          "output_type": "execute_result"
        }
      ],
      "source": [
        "desbalanceado.y.value_counts()\n"
      ]
    },
    {
      "cell_type": "code",
      "execution_count": null,
      "metadata": {
        "id": "M48-MfW9NvfZ"
      },
      "outputs": [],
      "source": [
        "X_train, X_test, y_train, y_test = train_test_split(desbalanceado.iloc[:,:-1], desbalanceado.iloc[:,-1], test_size=0.3, random_state=42)"
      ]
    },
    {
      "cell_type": "code",
      "execution_count": null,
      "metadata": {
        "colab": {
          "base_uri": "https://localhost:8080/"
        },
        "id": "GZxJZRbnNvfZ",
        "outputId": "6dc23ea6-167b-4cc2-a2a3-2f882d09683e"
      },
      "outputs": [
        {
          "data": {
            "text/plain": [
              "0.9824561403508771"
            ]
          },
          "execution_count": 22,
          "metadata": {
            "tags": []
          },
          "output_type": "execute_result"
        }
      ],
      "source": [
        "clf = LogisticRegression(C=1.0, max_iter=3000).fit(X_train, y_train)\n",
        "clf.score(X_test, y_test)"
      ]
    },
    {
      "cell_type": "code",
      "execution_count": null,
      "metadata": {
        "colab": {
          "base_uri": "https://localhost:8080/"
        },
        "id": "T8Kbu9TlNvfa",
        "outputId": "c914e12c-d4d9-4dab-c1b2-e4a59cfe808e"
      },
      "outputs": [
        {
          "data": {
            "text/plain": [
              "0.9906542056074766"
            ]
          },
          "execution_count": 23,
          "metadata": {
            "tags": []
          },
          "output_type": "execute_result"
        }
      ],
      "source": [
        "metrics.f1_score(y_test, clf.predict(X_test))"
      ]
    },
    {
      "cell_type": "code",
      "execution_count": null,
      "metadata": {
        "colab": {
          "base_uri": "https://localhost:8080/"
        },
        "id": "36ecvDooNvfa",
        "outputId": "9518905e-50ef-4a8d-d970-f5954582424c"
      },
      "outputs": [
        {
          "name": "stdout",
          "output_type": "stream",
          "text": [
            "0.9736842105263158\n"
          ]
        },
        {
          "data": {
            "text/plain": [
              "0.9861751152073733"
            ]
          },
          "execution_count": 24,
          "metadata": {
            "tags": []
          },
          "output_type": "execute_result"
        }
      ],
      "source": [
        "clf = svm.SVC(C=1.0).fit(X_train, y_train)\n",
        "print(clf.score(X_test, y_test))\n",
        "metrics.f1_score(y_test, clf.predict(X_test))"
      ]
    },
    {
      "cell_type": "code",
      "execution_count": null,
      "metadata": {
        "colab": {
          "base_uri": "https://localhost:8080/"
        },
        "id": "cpPj1fOKRBTy",
        "outputId": "eb5f5ec2-2708-487e-ac03-d8d2731dbcc3"
      },
      "outputs": [
        {
          "data": {
            "text/plain": [
              "array([[  5,   2],\n",
              "       [  0, 107]])"
            ]
          },
          "execution_count": 30,
          "metadata": {
            "tags": []
          },
          "output_type": "execute_result"
        }
      ],
      "source": [
        "from sklearn.metrics import confusion_matrix\n",
        "confusion_matrix(y_test, clf.predict(X_test))"
      ]
    },
    {
      "cell_type": "code",
      "execution_count": null,
      "metadata": {
        "colab": {
          "base_uri": "https://localhost:8080/"
        },
        "id": "oEo2UJMVNvfa",
        "outputId": "f6a6f60e-51a2-4c4e-ec14-55ac6db67a04"
      },
      "outputs": [
        {
          "name": "stdout",
          "output_type": "stream",
          "text": [
            "0.9912280701754386\n"
          ]
        },
        {
          "data": {
            "text/plain": [
              "0.9953488372093023"
            ]
          },
          "execution_count": 25,
          "metadata": {
            "tags": []
          },
          "output_type": "execute_result"
        }
      ],
      "source": [
        "clf = DecisionTreeClassifier().fit(X_train, y_train)\n",
        "print(clf.score(X_test, y_test))\n",
        "metrics.f1_score(y_test, clf.predict(X_test))"
      ]
    },
    {
      "cell_type": "code",
      "execution_count": null,
      "metadata": {
        "colab": {
          "base_uri": "https://localhost:8080/"
        },
        "id": "Bu5pkmFvNvfa",
        "outputId": "9b127788-0241-48a9-aac1-abb8e7418d22"
      },
      "outputs": [
        {
          "name": "stdout",
          "output_type": "stream",
          "text": [
            "1.0\n"
          ]
        },
        {
          "data": {
            "text/plain": [
              "1.0"
            ]
          },
          "execution_count": 26,
          "metadata": {
            "tags": []
          },
          "output_type": "execute_result"
        }
      ],
      "source": [
        "clf = DecisionTreeClassifier().fit(X_train, y_train)\n",
        "print(clf.score(X_test, y_test))\n",
        "metrics.f1_score(y_test, clf.predict(X_test))"
      ]
    },
    {
      "cell_type": "code",
      "execution_count": null,
      "metadata": {
        "colab": {
          "base_uri": "https://localhost:8080/"
        },
        "id": "QOerzZKXNvfa",
        "outputId": "c0083e5c-dce1-438d-f8b3-8bc486662719"
      },
      "outputs": [
        {
          "name": "stdout",
          "output_type": "stream",
          "text": [
            "0.9824561403508771\n"
          ]
        },
        {
          "data": {
            "text/plain": [
              "0.9907407407407407"
            ]
          },
          "execution_count": 27,
          "metadata": {
            "tags": []
          },
          "output_type": "execute_result"
        }
      ],
      "source": [
        "clf = RandomForestClassifier().fit(X_train, y_train)\n",
        "print(clf.score(X_test, y_test))\n",
        "metrics.f1_score(y_test, clf.predict(X_test))"
      ]
    },
    {
      "cell_type": "code",
      "execution_count": null,
      "metadata": {
        "colab": {
          "base_uri": "https://localhost:8080/"
        },
        "id": "ntYdBiuFNvfb",
        "outputId": "6f863e4e-a00f-48a2-c883-0beaec116b7c"
      },
      "outputs": [
        {
          "data": {
            "text/plain": [
              "(array([0, 1]), array([  5, 109]))"
            ]
          },
          "execution_count": 28,
          "metadata": {
            "tags": []
          },
          "output_type": "execute_result"
        }
      ],
      "source": [
        "np.unique(clf.predict(X_test), return_counts=True)"
      ]
    },
    {
      "cell_type": "code",
      "execution_count": null,
      "metadata": {
        "colab": {
          "base_uri": "https://localhost:8080/"
        },
        "id": "Sks1N2PnNvfb",
        "outputId": "3569e228-a682-4d25-ed2c-17a0c906b074"
      },
      "outputs": [
        {
          "name": "stdout",
          "output_type": "stream",
          "text": [
            "[[  0   5]\n",
            " [  1 109]]\n"
          ]
        }
      ],
      "source": [
        "unique, counts = np.unique(clf.predict(X_test), return_counts=True)\n",
        "print(np.asarray((unique, counts)).T)"
      ]
    },
    {
      "cell_type": "code",
      "execution_count": null,
      "metadata": {
        "id": "XHVjpRX4Nvfb"
      },
      "outputs": [],
      "source": []
    }
  ],
  "metadata": {
    "colab": {
      "provenance": []
    },
    "kernelspec": {
      "display_name": "Python 3",
      "language": "python",
      "name": "python3"
    },
    "language_info": {
      "codemirror_mode": {
        "name": "ipython",
        "version": 3
      },
      "file_extension": ".py",
      "mimetype": "text/x-python",
      "name": "python",
      "nbconvert_exporter": "python",
      "pygments_lexer": "ipython3",
      "version": "3.10.9"
    }
  },
  "nbformat": 4,
  "nbformat_minor": 0
}
