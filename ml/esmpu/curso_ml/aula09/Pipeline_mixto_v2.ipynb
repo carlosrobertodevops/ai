{
  "cells": [
    {
      "attachments": {},
      "cell_type": "markdown",
      "metadata": {
        "id": "FvOTMflEkV1n"
      },
      "source": [
        "---\n",
        "## Pipeline para dados heterogêneos: texto e categorias\n",
        "---\n",
        "\n",
        "**Machine Learning em Projetos (Erick Muzart e Fernando Melo)**\n",
        "###TÓPICOS:\n",
        "\n",
        "- Balanceamento de classes\n",
        "- Pipeline\n",
        "- ColumnTransformer\n",
        "- GridSearch\n",
        "- Cross validation\n",
        "- Xgboost\n",
        "- Salvar o melhor modelo\n",
        "\n",
        "Mencionamos pipelines para texto e para dados numéricos e categóricos.\n",
        "Mas sem demonstração de um pipeline com dados mixtos de múltiplos tipos.\n",
        "\n",
        "O objeto sklearn que permite um pré-processamento diferenciado por coluna é o `ColumnTransformer`: https://scikit-learn.org/stable/auto_examples/compose/plot_column_transformer_mixed_types.html\n",
        "\n",
        "Segue então um exemplo, com os dados das lojas americanas.\n",
        "https://github.com/b2wdigital/b2w-reviews01\n",
        "\n",
        "| #   | Field                 | Data type | Description                                                            |\n",
        "| --- | --------------------- | :-------- | :--------------------------------------------------------------------- |\n",
        "| 1   | submission_date       | date/time | review submission date (format YYYY-MM-DD hh:mm:ss)                    |\n",
        "| 2   | reviewer_id           | string    | unique reviewer id                                                     |\n",
        "| 3   | product_id            | integer   | unique product id                                                      |\n",
        "| 4   | product_name          | string    | product name                                                           |\n",
        "| 5   | product_brand         | string    | product brand                                                          |\n",
        "| 6   | site_category_lv1     | string    | product category - first level                                         |\n",
        "| 7   | site_category_lv2     | string    | product category - second level                                        |\n",
        "| 8   | overall_rating        | integer   | overall customer rating, from 1 to 5                                   |\n",
        "| 9   | recommend_to_a_friend | string    | answer to “would you recommend this product to a friend?” (“Yes”/“No”) |\n",
        "| 10  | review_title          | text      | review title, introduces or summarizes the review content              |\n",
        "| 11  | review_text           | text      | main text content of the review                                        |\n",
        "| 12  | reviewer_birth_year   | integer   | reviewer’s birth year                                                  |\n",
        "| 13  | reviewer_gender       | string    | reviewer’s gender (”F” for female; ”M” for male)                       |\n",
        "| 14  | reviewer_state        | string    | reviewer’s Brazilian State, according to the delivery address          |\n",
        "\n",
        "Código adaptado de: https://stackoverflow.com/questions/57867974/one-pipeline-to-fit-both-text-and-categorical-features\n"
      ]
    },
    {
      "cell_type": "code",
      "execution_count": 56,
      "metadata": {},
      "outputs": [],
      "source": [
        "# pip install xgboost\n",
        "# pip install xgboost\n",
        "\n",
        "# # CPU only\n",
        "# conda install -c conda-forge py-xgboost-cpu\n",
        "# # Use NVIDIA GPU\n",
        "# conda install -c conda-forge py-xgboost-gpu"
      ]
    },
    {
      "cell_type": "code",
      "execution_count": 57,
      "metadata": {
        "id": "il57L8FBkV1o"
      },
      "outputs": [],
      "source": [
        "import pandas as pd\n",
        "from sklearn.model_selection import train_test_split"
      ]
    },
    {
      "cell_type": "code",
      "execution_count": 58,
      "metadata": {
        "id": "fO5QzlTtkV1r"
      },
      "outputs": [],
      "source": [
        "# Download do arquivo de dados das Lojas Americanas no GitHub\n",
        "#url = \"https://github.com/b2wdigital/b2w-reviews01/raw/master/B2W-Reviews01.csv\"\n",
        "url = \"https://raw.githubusercontent.com/b2wdigital/b2w-reviews01/main/B2W-Reviews01.csv\"\n",
        "df = pd.read_csv(url, sep=',', low_memory=False )"
      ]
    },
    {
      "cell_type": "code",
      "execution_count": 59,
      "metadata": {
        "colab": {
          "base_uri": "https://localhost:8080/",
          "height": 1000
        },
        "id": "QD4sbsOzkV1t",
        "outputId": "4fc2a4e0-e338-4315-b514-3293bcc753fa"
      },
      "outputs": [
        {
          "data": {
            "text/html": [
              "<div>\n",
              "<style scoped>\n",
              "    .dataframe tbody tr th:only-of-type {\n",
              "        vertical-align: middle;\n",
              "    }\n",
              "\n",
              "    .dataframe tbody tr th {\n",
              "        vertical-align: top;\n",
              "    }\n",
              "\n",
              "    .dataframe thead th {\n",
              "        text-align: right;\n",
              "    }\n",
              "</style>\n",
              "<table border=\"1\" class=\"dataframe\">\n",
              "  <thead>\n",
              "    <tr style=\"text-align: right;\">\n",
              "      <th></th>\n",
              "      <th>submission_date</th>\n",
              "      <th>reviewer_id</th>\n",
              "      <th>product_id</th>\n",
              "      <th>product_name</th>\n",
              "      <th>product_brand</th>\n",
              "      <th>site_category_lv1</th>\n",
              "      <th>site_category_lv2</th>\n",
              "      <th>review_title</th>\n",
              "      <th>overall_rating</th>\n",
              "      <th>recommend_to_a_friend</th>\n",
              "      <th>review_text</th>\n",
              "      <th>reviewer_birth_year</th>\n",
              "      <th>reviewer_gender</th>\n",
              "      <th>reviewer_state</th>\n",
              "    </tr>\n",
              "  </thead>\n",
              "  <tbody>\n",
              "    <tr>\n",
              "      <th>0</th>\n",
              "      <td>2018-01-01 00:11:28</td>\n",
              "      <td>d0fb1ca69422530334178f5c8624aa7a99da47907c44de...</td>\n",
              "      <td>132532965</td>\n",
              "      <td>Notebook Asus Vivobook Max X541NA-GO472T Intel...</td>\n",
              "      <td>NaN</td>\n",
              "      <td>Informática</td>\n",
              "      <td>Notebook</td>\n",
              "      <td>Bom</td>\n",
              "      <td>4</td>\n",
              "      <td>Yes</td>\n",
              "      <td>Estou contente com a compra entrega rápida o ú...</td>\n",
              "      <td>1958.0</td>\n",
              "      <td>F</td>\n",
              "      <td>RJ</td>\n",
              "    </tr>\n",
              "    <tr>\n",
              "      <th>1</th>\n",
              "      <td>2018-01-01 00:13:48</td>\n",
              "      <td>014d6dc5a10aed1ff1e6f349fb2b059a2d3de511c7538a...</td>\n",
              "      <td>22562178</td>\n",
              "      <td>Copo Acrílico Com Canudo 500ml Rocie</td>\n",
              "      <td>NaN</td>\n",
              "      <td>Utilidades Domésticas</td>\n",
              "      <td>Copos, Taças e Canecas</td>\n",
              "      <td>Preço imbatível, ótima qualidade</td>\n",
              "      <td>4</td>\n",
              "      <td>Yes</td>\n",
              "      <td>Por apenas R$1994.20,eu consegui comprar esse ...</td>\n",
              "      <td>1996.0</td>\n",
              "      <td>M</td>\n",
              "      <td>SC</td>\n",
              "    </tr>\n",
              "    <tr>\n",
              "      <th>2</th>\n",
              "      <td>2018-01-01 00:26:02</td>\n",
              "      <td>44f2c8edd93471926fff601274b8b2b5c4824e386ae4f2...</td>\n",
              "      <td>113022329</td>\n",
              "      <td>Panela de Pressão Elétrica Philips Walita Dail...</td>\n",
              "      <td>philips walita</td>\n",
              "      <td>Eletroportáteis</td>\n",
              "      <td>Panela Elétrica</td>\n",
              "      <td>ATENDE TODAS AS EXPECTATIVA.</td>\n",
              "      <td>4</td>\n",
              "      <td>Yes</td>\n",
              "      <td>SUPERA EM AGILIDADE E PRATICIDADE OUTRAS PANEL...</td>\n",
              "      <td>1984.0</td>\n",
              "      <td>M</td>\n",
              "      <td>SP</td>\n",
              "    </tr>\n",
              "    <tr>\n",
              "      <th>3</th>\n",
              "      <td>2018-01-01 00:35:54</td>\n",
              "      <td>ce741665c1764ab2d77539e18d0e4f66dde6213c9f0863...</td>\n",
              "      <td>113851581</td>\n",
              "      <td>Betoneira Columbus - Roma Brinquedos</td>\n",
              "      <td>roma jensen</td>\n",
              "      <td>Brinquedos</td>\n",
              "      <td>Veículos de Brinquedo</td>\n",
              "      <td>presente mais que desejado</td>\n",
              "      <td>4</td>\n",
              "      <td>Yes</td>\n",
              "      <td>MEU FILHO AMOU! PARECE DE VERDADE COM TANTOS D...</td>\n",
              "      <td>1985.0</td>\n",
              "      <td>F</td>\n",
              "      <td>SP</td>\n",
              "    </tr>\n",
              "    <tr>\n",
              "      <th>4</th>\n",
              "      <td>2018-01-01 01:00:28</td>\n",
              "      <td>7d7b6b18dda804a897359276cef0ca252f9932bf4b5c8e...</td>\n",
              "      <td>131788803</td>\n",
              "      <td>Smart TV LED 43\" LG 43UJ6525 Ultra HD 4K com C...</td>\n",
              "      <td>lg</td>\n",
              "      <td>TV e Home Theater</td>\n",
              "      <td>TV</td>\n",
              "      <td>Sem duvidas, excelente</td>\n",
              "      <td>5</td>\n",
              "      <td>Yes</td>\n",
              "      <td>A entrega foi no prazo, as americanas estão de...</td>\n",
              "      <td>1994.0</td>\n",
              "      <td>M</td>\n",
              "      <td>MG</td>\n",
              "    </tr>\n",
              "  </tbody>\n",
              "</table>\n",
              "</div>"
            ],
            "text/plain": [
              "       submission_date                                        reviewer_id  \\\n",
              "0  2018-01-01 00:11:28  d0fb1ca69422530334178f5c8624aa7a99da47907c44de...   \n",
              "1  2018-01-01 00:13:48  014d6dc5a10aed1ff1e6f349fb2b059a2d3de511c7538a...   \n",
              "2  2018-01-01 00:26:02  44f2c8edd93471926fff601274b8b2b5c4824e386ae4f2...   \n",
              "3  2018-01-01 00:35:54  ce741665c1764ab2d77539e18d0e4f66dde6213c9f0863...   \n",
              "4  2018-01-01 01:00:28  7d7b6b18dda804a897359276cef0ca252f9932bf4b5c8e...   \n",
              "\n",
              "  product_id                                       product_name  \\\n",
              "0  132532965  Notebook Asus Vivobook Max X541NA-GO472T Intel...   \n",
              "1   22562178               Copo Acrílico Com Canudo 500ml Rocie   \n",
              "2  113022329  Panela de Pressão Elétrica Philips Walita Dail...   \n",
              "3  113851581               Betoneira Columbus - Roma Brinquedos   \n",
              "4  131788803  Smart TV LED 43\" LG 43UJ6525 Ultra HD 4K com C...   \n",
              "\n",
              "    product_brand      site_category_lv1       site_category_lv2  \\\n",
              "0             NaN            Informática                Notebook   \n",
              "1             NaN  Utilidades Domésticas  Copos, Taças e Canecas   \n",
              "2  philips walita        Eletroportáteis         Panela Elétrica   \n",
              "3     roma jensen             Brinquedos   Veículos de Brinquedo   \n",
              "4              lg      TV e Home Theater                      TV   \n",
              "\n",
              "                       review_title  overall_rating recommend_to_a_friend  \\\n",
              "0                               Bom               4                   Yes   \n",
              "1  Preço imbatível, ótima qualidade               4                   Yes   \n",
              "2      ATENDE TODAS AS EXPECTATIVA.               4                   Yes   \n",
              "3        presente mais que desejado               4                   Yes   \n",
              "4            Sem duvidas, excelente               5                   Yes   \n",
              "\n",
              "                                         review_text  reviewer_birth_year  \\\n",
              "0  Estou contente com a compra entrega rápida o ú...               1958.0   \n",
              "1  Por apenas R$1994.20,eu consegui comprar esse ...               1996.0   \n",
              "2  SUPERA EM AGILIDADE E PRATICIDADE OUTRAS PANEL...               1984.0   \n",
              "3  MEU FILHO AMOU! PARECE DE VERDADE COM TANTOS D...               1985.0   \n",
              "4  A entrega foi no prazo, as americanas estão de...               1994.0   \n",
              "\n",
              "  reviewer_gender reviewer_state  \n",
              "0               F             RJ  \n",
              "1               M             SC  \n",
              "2               M             SP  \n",
              "3               F             SP  \n",
              "4               M             MG  "
            ]
          },
          "execution_count": 59,
          "metadata": {},
          "output_type": "execute_result"
        }
      ],
      "source": [
        "df.head()"
      ]
    },
    {
      "cell_type": "code",
      "execution_count": 60,
      "metadata": {
        "id": "jeKW74kJkV1w"
      },
      "outputs": [],
      "source": [
        "# Vamos focar em um mix de typos de dados:\n",
        "# Texto: review_text\n",
        "# numérico: reviewer_birth_year\n",
        "# categórico: reviewer_state\n",
        "\n",
        "# Mais a variável dependente (target): overall_rating (1 a 5)\n",
        "sub = df[['review_text', 'reviewer_birth_year', 'reviewer_state', 'overall_rating']]"
      ]
    },
    {
      "cell_type": "code",
      "execution_count": 61,
      "metadata": {
        "colab": {
          "base_uri": "https://localhost:8080/"
        },
        "id": "gceghCmQkV1y",
        "outputId": "39e4a1ad-9ccf-44a3-f292-aeab87d5a32d"
      },
      "outputs": [
        {
          "data": {
            "text/plain": [
              "(132373, 4)"
            ]
          },
          "execution_count": 61,
          "metadata": {},
          "output_type": "execute_result"
        }
      ],
      "source": [
        "sub.shape"
      ]
    },
    {
      "cell_type": "code",
      "execution_count": 62,
      "metadata": {
        "id": "quQvydQNkV10"
      },
      "outputs": [],
      "source": [
        "# Muitos dados, descartamos as linhas com nulos (NaN)\n",
        "sub = sub.dropna()"
      ]
    },
    {
      "cell_type": "code",
      "execution_count": 63,
      "metadata": {
        "colab": {
          "base_uri": "https://localhost:8080/"
        },
        "id": "2H9n_TCNkV12",
        "outputId": "5239a832-7723-49b5-b361-92a7809bbfb3"
      },
      "outputs": [
        {
          "data": {
            "text/plain": [
              "(123321, 4)"
            ]
          },
          "execution_count": 63,
          "metadata": {},
          "output_type": "execute_result"
        }
      ],
      "source": [
        "sub.shape"
      ]
    },
    {
      "cell_type": "code",
      "execution_count": 64,
      "metadata": {
        "colab": {
          "base_uri": "https://localhost:8080/"
        },
        "id": "XVmpA9m1kV14",
        "outputId": "0de68fb7-cf9c-4415-d5b7-e47bbadea65c"
      },
      "outputs": [
        {
          "name": "stdout",
          "output_type": "stream",
          "text": [
            "<class 'pandas.core.frame.DataFrame'>\n",
            "Int64Index: 123321 entries, 0 to 132372\n",
            "Data columns (total 4 columns):\n",
            " #   Column               Non-Null Count   Dtype  \n",
            "---  ------               --------------   -----  \n",
            " 0   review_text          123321 non-null  object \n",
            " 1   reviewer_birth_year  123321 non-null  float64\n",
            " 2   reviewer_state       123321 non-null  object \n",
            " 3   overall_rating       123321 non-null  int64  \n",
            "dtypes: float64(1), int64(1), object(2)\n",
            "memory usage: 4.7+ MB\n"
          ]
        }
      ],
      "source": [
        "sub.info()"
      ]
    },
    {
      "cell_type": "code",
      "execution_count": 65,
      "metadata": {
        "id": "eLdz95yfkV16"
      },
      "outputs": [],
      "source": [
        "# Converte para inteiro\n",
        "sub.reviewer_birth_year = sub.reviewer_birth_year.map(int)"
      ]
    },
    {
      "cell_type": "code",
      "execution_count": 66,
      "metadata": {
        "colab": {
          "base_uri": "https://localhost:8080/"
        },
        "id": "DLGj_YrAkV17",
        "outputId": "734bf9b5-f73c-454e-ee63-61ea691902a7"
      },
      "outputs": [
        {
          "name": "stdout",
          "output_type": "stream",
          "text": [
            "<class 'pandas.core.frame.DataFrame'>\n",
            "Int64Index: 123321 entries, 0 to 132372\n",
            "Data columns (total 4 columns):\n",
            " #   Column               Non-Null Count   Dtype \n",
            "---  ------               --------------   ----- \n",
            " 0   review_text          123321 non-null  object\n",
            " 1   reviewer_birth_year  123321 non-null  int64 \n",
            " 2   reviewer_state       123321 non-null  object\n",
            " 3   overall_rating       123321 non-null  int64 \n",
            "dtypes: int64(2), object(2)\n",
            "memory usage: 4.7+ MB\n"
          ]
        }
      ],
      "source": [
        "sub.info()"
      ]
    },
    {
      "cell_type": "code",
      "execution_count": 67,
      "metadata": {
        "id": "rF962G4AkV19"
      },
      "outputs": [],
      "source": [
        "import numpy as np"
      ]
    },
    {
      "cell_type": "code",
      "execution_count": 68,
      "metadata": {
        "id": "nO3PnCAckV1_"
      },
      "outputs": [],
      "source": [
        "# Discretização simples: negativo com nota de 1 a 3, positivo de 4 a 5\n",
        "sub['label'] = np.where(sub.overall_rating <= 3, 0, 1)"
      ]
    },
    {
      "cell_type": "code",
      "execution_count": 69,
      "metadata": {
        "id": "a0o-JVPBkV2B"
      },
      "outputs": [],
      "source": [
        "sub.drop(['overall_rating'], axis=1, inplace=True)"
      ]
    },
    {
      "cell_type": "code",
      "execution_count": 70,
      "metadata": {
        "colab": {
          "base_uri": "https://localhost:8080/",
          "height": 424
        },
        "id": "7JzpBuoqkV2C",
        "outputId": "4dcef29c-2b69-4c86-c0be-aa3073509e41"
      },
      "outputs": [
        {
          "data": {
            "text/html": [
              "<div>\n",
              "<style scoped>\n",
              "    .dataframe tbody tr th:only-of-type {\n",
              "        vertical-align: middle;\n",
              "    }\n",
              "\n",
              "    .dataframe tbody tr th {\n",
              "        vertical-align: top;\n",
              "    }\n",
              "\n",
              "    .dataframe thead th {\n",
              "        text-align: right;\n",
              "    }\n",
              "</style>\n",
              "<table border=\"1\" class=\"dataframe\">\n",
              "  <thead>\n",
              "    <tr style=\"text-align: right;\">\n",
              "      <th></th>\n",
              "      <th>review_text</th>\n",
              "      <th>reviewer_birth_year</th>\n",
              "      <th>reviewer_state</th>\n",
              "      <th>label</th>\n",
              "    </tr>\n",
              "  </thead>\n",
              "  <tbody>\n",
              "    <tr>\n",
              "      <th>0</th>\n",
              "      <td>Estou contente com a compra entrega rápida o ú...</td>\n",
              "      <td>1958</td>\n",
              "      <td>RJ</td>\n",
              "      <td>1</td>\n",
              "    </tr>\n",
              "    <tr>\n",
              "      <th>1</th>\n",
              "      <td>Por apenas R$1994.20,eu consegui comprar esse ...</td>\n",
              "      <td>1996</td>\n",
              "      <td>SC</td>\n",
              "      <td>1</td>\n",
              "    </tr>\n",
              "    <tr>\n",
              "      <th>2</th>\n",
              "      <td>SUPERA EM AGILIDADE E PRATICIDADE OUTRAS PANEL...</td>\n",
              "      <td>1984</td>\n",
              "      <td>SP</td>\n",
              "      <td>1</td>\n",
              "    </tr>\n",
              "    <tr>\n",
              "      <th>3</th>\n",
              "      <td>MEU FILHO AMOU! PARECE DE VERDADE COM TANTOS D...</td>\n",
              "      <td>1985</td>\n",
              "      <td>SP</td>\n",
              "      <td>1</td>\n",
              "    </tr>\n",
              "    <tr>\n",
              "      <th>4</th>\n",
              "      <td>A entrega foi no prazo, as americanas estão de...</td>\n",
              "      <td>1994</td>\n",
              "      <td>MG</td>\n",
              "      <td>1</td>\n",
              "    </tr>\n",
              "    <tr>\n",
              "      <th>...</th>\n",
              "      <td>...</td>\n",
              "      <td>...</td>\n",
              "      <td>...</td>\n",
              "      <td>...</td>\n",
              "    </tr>\n",
              "    <tr>\n",
              "      <th>132368</th>\n",
              "      <td>Vale muito, estou usando no controle do Xbox e...</td>\n",
              "      <td>1988</td>\n",
              "      <td>RS</td>\n",
              "      <td>1</td>\n",
              "    </tr>\n",
              "    <tr>\n",
              "      <th>132369</th>\n",
              "      <td>Prático e barato, super indico o produto para ...</td>\n",
              "      <td>1979</td>\n",
              "      <td>SP</td>\n",
              "      <td>1</td>\n",
              "    </tr>\n",
              "    <tr>\n",
              "      <th>132370</th>\n",
              "      <td>Chegou antes do prazo previsto e corresponde a...</td>\n",
              "      <td>1979</td>\n",
              "      <td>PR</td>\n",
              "      <td>1</td>\n",
              "    </tr>\n",
              "    <tr>\n",
              "      <th>132371</th>\n",
              "      <td>Material fraco, poderia ser melhor. Ficou deve...</td>\n",
              "      <td>1991</td>\n",
              "      <td>RJ</td>\n",
              "      <td>0</td>\n",
              "    </tr>\n",
              "    <tr>\n",
              "      <th>132372</th>\n",
              "      <td>Comprei esse produto, quando chegou estava com...</td>\n",
              "      <td>1982</td>\n",
              "      <td>ES</td>\n",
              "      <td>0</td>\n",
              "    </tr>\n",
              "  </tbody>\n",
              "</table>\n",
              "<p>123321 rows × 4 columns</p>\n",
              "</div>"
            ],
            "text/plain": [
              "                                              review_text  \\\n",
              "0       Estou contente com a compra entrega rápida o ú...   \n",
              "1       Por apenas R$1994.20,eu consegui comprar esse ...   \n",
              "2       SUPERA EM AGILIDADE E PRATICIDADE OUTRAS PANEL...   \n",
              "3       MEU FILHO AMOU! PARECE DE VERDADE COM TANTOS D...   \n",
              "4       A entrega foi no prazo, as americanas estão de...   \n",
              "...                                                   ...   \n",
              "132368  Vale muito, estou usando no controle do Xbox e...   \n",
              "132369  Prático e barato, super indico o produto para ...   \n",
              "132370  Chegou antes do prazo previsto e corresponde a...   \n",
              "132371  Material fraco, poderia ser melhor. Ficou deve...   \n",
              "132372  Comprei esse produto, quando chegou estava com...   \n",
              "\n",
              "        reviewer_birth_year reviewer_state  label  \n",
              "0                      1958             RJ      1  \n",
              "1                      1996             SC      1  \n",
              "2                      1984             SP      1  \n",
              "3                      1985             SP      1  \n",
              "4                      1994             MG      1  \n",
              "...                     ...            ...    ...  \n",
              "132368                 1988             RS      1  \n",
              "132369                 1979             SP      1  \n",
              "132370                 1979             PR      1  \n",
              "132371                 1991             RJ      0  \n",
              "132372                 1982             ES      0  \n",
              "\n",
              "[123321 rows x 4 columns]"
            ]
          },
          "execution_count": 70,
          "metadata": {},
          "output_type": "execute_result"
        }
      ],
      "source": [
        "sub"
      ]
    },
    {
      "cell_type": "code",
      "execution_count": 71,
      "metadata": {
        "colab": {
          "base_uri": "https://localhost:8080/"
        },
        "id": "wBxqR9LKKl4E",
        "outputId": "e5cf0b33-3729-48f9-fa04-ac3854460b4f"
      },
      "outputs": [
        {
          "name": "stdout",
          "output_type": "stream",
          "text": [
            "(123321, 4)\n"
          ]
        },
        {
          "data": {
            "text/plain": [
              "1    75615\n",
              "0    47706\n",
              "Name: label, dtype: int64"
            ]
          },
          "execution_count": 71,
          "metadata": {},
          "output_type": "execute_result"
        }
      ],
      "source": [
        "print(sub.shape)\n",
        "sub.label.value_counts()"
      ]
    },
    {
      "cell_type": "code",
      "execution_count": 72,
      "metadata": {
        "id": "JPsE_DkIM14M"
      },
      "outputs": [],
      "source": [
        "# # BALANCEAMENTO DAS CLASSES\n",
        "# # Conta as ocorrências das classes\n",
        "# count_class_1, count_class_0 = sub.label.value_counts()\n",
        "\n",
        "# # Separa as classes em dataframes diferentes\n",
        "# df_class_0 = sub[sub['label'] == 0]\n",
        "# df_class_1 = sub[sub['label'] == 1]\n",
        "\n",
        "# # Aleatório under-sampling da classe 1 (classe majoritária)\n",
        "# df_class_1_under = df_class_1.sample(count_class_0 + 20000)\n",
        "# df_sub = pd.concat([df_class_1_under, df_class_0], axis=0)\n",
        "\n",
        "# print(df_sub.shape)\n",
        "# df_sub.head()"
      ]
    },
    {
      "cell_type": "code",
      "execution_count": 73,
      "metadata": {
        "id": "7T3JV1fLQc5f"
      },
      "outputs": [],
      "source": [
        "# # TESTE COM BALANCEAMENTO\n",
        "# X = df_sub[['review_text', 'reviewer_birth_year', 'reviewer_state']]\n",
        "# y = df_sub['label']\n",
        "# X_train, X_test, y_train, y_test = train_test_split(X, y, test_size=0.2, random_state=42)\n",
        "# m = pipe.fit(X_train, y_train)\n",
        "# m.score(X_test, y_test)"
      ]
    },
    {
      "cell_type": "code",
      "execution_count": 74,
      "metadata": {
        "id": "8u26B2LQkV2E"
      },
      "outputs": [],
      "source": [
        "# Construção do pipeline diferenciado por tipo de coluna\n",
        "\n",
        "# Pacotes sklearn\n",
        "from sklearn.compose import ColumnTransformer\n",
        "from sklearn.feature_extraction.text import TfidfVectorizer\n",
        "from sklearn.linear_model import LogisticRegression\n",
        "from sklearn.pipeline import Pipeline\n",
        "from sklearn.preprocessing import OneHotEncoder, StandardScaler\n",
        "from sklearn.model_selection import train_test_split, GridSearchCV\n"
      ]
    },
    {
      "cell_type": "code",
      "execution_count": 75,
      "metadata": {
        "id": "Ty8xLLuYlPbG"
      },
      "outputs": [],
      "source": [
        "from sklearn.linear_model import SGDClassifier"
      ]
    },
    {
      "cell_type": "code",
      "execution_count": 76,
      "metadata": {
        "id": "QPIhCm9qkV2F"
      },
      "outputs": [],
      "source": [
        "# Detalhes ColumnTransformer: https://scikit-learn.org/stable/auto_examples/compose/plot_column_transformer_mixed_types.html\n",
        "preprocessor = ColumnTransformer( \n",
        "    transformers=[\n",
        "        ('text', TfidfVectorizer(), 'review_text'), #TfidfVectorizer accepts column name only between quotes\n",
        "        ('integer', StandardScaler(), ['reviewer_birth_year']),\n",
        "        ('category', OneHotEncoder(), ['reviewer_state'])   \n",
        "    ]\n",
        ")\n",
        "pipe = Pipeline(\n",
        "    steps=[\n",
        "        ('preprocessor', preprocessor),\n",
        "        ('classifier', LogisticRegression(max_iter=1000)),\n",
        "        #('classifier', SGDClassifier())\n",
        "    ],\n",
        ")"
      ]
    },
    {
      "cell_type": "code",
      "execution_count": null,
      "metadata": {
        "id": "lAsZrN9MhtxI"
      },
      "outputs": [],
      "source": []
    },
    {
      "cell_type": "code",
      "execution_count": 77,
      "metadata": {
        "id": "5XAOe4YakV2H"
      },
      "outputs": [],
      "source": [
        "X = sub[['review_text', 'reviewer_birth_year', 'reviewer_state']]\n",
        "y = sub['label']\n",
        "\n",
        "#X = sub[['review_text']]"
      ]
    },
    {
      "cell_type": "code",
      "execution_count": 78,
      "metadata": {
        "colab": {
          "base_uri": "https://localhost:8080/"
        },
        "id": "PkEkl17KkV2J",
        "outputId": "3a204b9a-a8bb-4145-8300-877bc55abf1c"
      },
      "outputs": [
        {
          "name": "stdout",
          "output_type": "stream",
          "text": [
            "(123321, 3)\n",
            "(123321,)\n"
          ]
        }
      ],
      "source": [
        "print(X.shape)\n",
        "print(y.shape)"
      ]
    },
    {
      "cell_type": "code",
      "execution_count": 79,
      "metadata": {
        "id": "AnITIChNkV2K"
      },
      "outputs": [],
      "source": [
        "# Partição treino/teste (20%)\n",
        "X_train, X_test, y_train, y_test = train_test_split(X, y, test_size=0.2, random_state=42)"
      ]
    },
    {
      "cell_type": "code",
      "execution_count": 80,
      "metadata": {
        "colab": {
          "base_uri": "https://localhost:8080/",
          "height": 165
        },
        "id": "P5HwIDLyg0Tr",
        "outputId": "1b5bb47f-8941-4570-9ab0-bd9d17de47c3"
      },
      "outputs": [],
      "source": [
        "#m.verbose = True"
      ]
    },
    {
      "cell_type": "code",
      "execution_count": 81,
      "metadata": {
        "id": "2bZ5wKn5kV2M"
      },
      "outputs": [],
      "source": [
        "# Usando Regressão Logística\n",
        "m = pipe.fit(X_train, y_train)"
      ]
    },
    {
      "cell_type": "code",
      "execution_count": 82,
      "metadata": {
        "id": "jFlTEYZJlbne"
      },
      "outputs": [],
      "source": [
        "# Usando SGDClassifier\n",
        "m = pipe.fit(X_train, y_train)"
      ]
    },
    {
      "cell_type": "code",
      "execution_count": 83,
      "metadata": {
        "id": "EOK-YUAukV2O"
      },
      "outputs": [
        {
          "data": {
            "text/plain": [
              "0.8743969187107237"
            ]
          },
          "execution_count": 83,
          "metadata": {},
          "output_type": "execute_result"
        }
      ],
      "source": [
        "# Regressão Logística: Desempenho com texto da resenha, ano de nascimento e estado do autor da resenha\n",
        "m.score(X_test, y_test)"
      ]
    },
    {
      "cell_type": "code",
      "execution_count": 84,
      "metadata": {
        "id": "QyWQFy9yluuV"
      },
      "outputs": [
        {
          "data": {
            "text/plain": [
              "0.8743969187107237"
            ]
          },
          "execution_count": 84,
          "metadata": {},
          "output_type": "execute_result"
        }
      ],
      "source": [
        "# SGDClassifier: Desempenho com texto da resenha, ano de nascimento e estado do autor da resenha\n",
        "m.score(X_test, y_test)"
      ]
    },
    {
      "cell_type": "code",
      "execution_count": 85,
      "metadata": {
        "id": "yA9wXdFsemB_"
      },
      "outputs": [
        {
          "data": {
            "text/plain": [
              "0.8743969187107237"
            ]
          },
          "execution_count": 85,
          "metadata": {},
          "output_type": "execute_result"
        }
      ],
      "source": [
        "# Desempenho com texto da resenha\n",
        "m.score(X_test, y_test)"
      ]
    },
    {
      "cell_type": "code",
      "execution_count": 86,
      "metadata": {
        "id": "dlHrcG1kkV2P"
      },
      "outputs": [
        {
          "data": {
            "text/plain": [
              "{'preprocessor': ColumnTransformer(transformers=[('text', TfidfVectorizer(), 'review_text'),\n",
              "                                 ('integer', StandardScaler(),\n",
              "                                  ['reviewer_birth_year']),\n",
              "                                 ('category', OneHotEncoder(),\n",
              "                                  ['reviewer_state'])]),\n",
              " 'classifier': LogisticRegression(max_iter=1000)}"
            ]
          },
          "execution_count": 86,
          "metadata": {},
          "output_type": "execute_result"
        }
      ],
      "source": [
        "# Representação do pipeline\n",
        "# from sklearn import set_config\n",
        "# set_config()\n",
        "# set_config(display='diagram')\n",
        "m.named_steps"
      ]
    },
    {
      "cell_type": "code",
      "execution_count": 87,
      "metadata": {
        "id": "-ZQpXwerkV2R"
      },
      "outputs": [],
      "source": [
        "# O pipeline definido anteriormente pode também ser utilizado em uma busca por hiper-parâmetros otimizados\n",
        "param_grid = {\n",
        "    'classifier__C': [0.1, 1.0, 10],\n",
        "    'classifier__penalty': ['l1','l2']\n",
        "}"
      ]
    },
    {
      "cell_type": "code",
      "execution_count": 88,
      "metadata": {
        "id": "g8ooZHbykV2T"
      },
      "outputs": [],
      "source": [
        "# GridSearch : pesquisa sistemática de todas as combinações de híper parâmetros. \n",
        "# Cuidado com a explosão combinatorial na pesquisa com múltiplos híper parâmetros com vários valores.\n",
        "grid_search = GridSearchCV(m, param_grid, n_jobs=-1, verbose=1, cv=3)"
      ]
    },
    {
      "attachments": {},
      "cell_type": "markdown",
      "metadata": {
        "id": "m3QCw-mYurYP"
      },
      "source": [
        "Solução alternativa a um Grid Search?\n",
        "\n",
        "https://scikit-learn.org/stable/modules/grid_search.html\n",
        "\n",
        "Random Search: https://scikit-learn.org/stable/modules/generated/sklearn.model_selection.RandomizedSearchCV.html\n",
        "\n",
        "Bayesian Search: https://towardsdatascience.com/hyperparameter-optimization-with-scikit-learn-scikit-opt-and-keras-f13367f3e796?gi=9e463b63d166\n"
      ]
    },
    {
      "cell_type": "code",
      "execution_count": 89,
      "metadata": {
        "id": "ezfNyLoInuHs"
      },
      "outputs": [
        {
          "name": "stdout",
          "output_type": "stream",
          "text": [
            "Fitting 3 folds for each of 6 candidates, totalling 18 fits\n"
          ]
        },
        {
          "name": "stderr",
          "output_type": "stream",
          "text": [
            "c:\\ProgramData\\anaconda3\\lib\\site-packages\\sklearn\\model_selection\\_validation.py:378: FitFailedWarning: \n",
            "9 fits failed out of a total of 18.\n",
            "The score on these train-test partitions for these parameters will be set to nan.\n",
            "If these failures are not expected, you can try to debug them by setting error_score='raise'.\n",
            "\n",
            "Below are more details about the failures:\n",
            "--------------------------------------------------------------------------------\n",
            "9 fits failed with the following error:\n",
            "Traceback (most recent call last):\n",
            "  File \"c:\\ProgramData\\anaconda3\\lib\\site-packages\\sklearn\\model_selection\\_validation.py\", line 686, in _fit_and_score\n",
            "    estimator.fit(X_train, y_train, **fit_params)\n",
            "  File \"c:\\ProgramData\\anaconda3\\lib\\site-packages\\sklearn\\pipeline.py\", line 405, in fit\n",
            "    self._final_estimator.fit(Xt, y, **fit_params_last_step)\n",
            "  File \"c:\\ProgramData\\anaconda3\\lib\\site-packages\\sklearn\\linear_model\\_logistic.py\", line 1162, in fit\n",
            "    solver = _check_solver(self.solver, self.penalty, self.dual)\n",
            "  File \"c:\\ProgramData\\anaconda3\\lib\\site-packages\\sklearn\\linear_model\\_logistic.py\", line 54, in _check_solver\n",
            "    raise ValueError(\n",
            "ValueError: Solver lbfgs supports only 'l2' or 'none' penalties, got l1 penalty.\n",
            "\n",
            "  warnings.warn(some_fits_failed_message, FitFailedWarning)\n",
            "c:\\ProgramData\\anaconda3\\lib\\site-packages\\sklearn\\model_selection\\_search.py:952: UserWarning: One or more of the test scores are non-finite: [       nan 0.86018081        nan 0.87069209        nan 0.86187359]\n",
            "  warnings.warn(\n",
            "\n",
            "PackagesNotFoundError: The following packages are not available from current channels:\n",
            "\n",
            "  - py-xgboost-gpu\n",
            "\n",
            "Current channels:\n",
            "\n",
            "  - https://conda.anaconda.org/conda-forge/win-64\n",
            "  - https://conda.anaconda.org/conda-forge/noarch\n",
            "  - https://repo.anaconda.com/pkgs/main/win-64\n",
            "  - https://repo.anaconda.com/pkgs/main/noarch\n",
            "  - https://repo.anaconda.com/pkgs/r/win-64\n",
            "  - https://repo.anaconda.com/pkgs/r/noarch\n",
            "  - https://repo.anaconda.com/pkgs/msys2/win-64\n",
            "  - https://repo.anaconda.com/pkgs/msys2/noarch\n",
            "\n",
            "To search for alternate channels that may provide the conda package you're\n",
            "looking for, navigate to\n",
            "\n",
            "    https://anaconda.org\n",
            "\n",
            "and use the search bar at the top of the page.\n",
            "\n",
            "\n"
          ]
        },
        {
          "name": "stdout",
          "output_type": "stream",
          "text": [
            "Collecting package metadata (current_repodata.json): ...working... done\n",
            "Solving environment: ...working... failed with initial frozen solve. Retrying with flexible solve.\n",
            "Collecting package metadata (repodata.json): ...working... done\n",
            "Solving environment: ...working... failed with initial frozen solve. Retrying with flexible solve.\n"
          ]
        },
        {
          "data": {
            "text/html": [
              "<style>#sk-container-id-2 {color: black;background-color: white;}#sk-container-id-2 pre{padding: 0;}#sk-container-id-2 div.sk-toggleable {background-color: white;}#sk-container-id-2 label.sk-toggleable__label {cursor: pointer;display: block;width: 100%;margin-bottom: 0;padding: 0.3em;box-sizing: border-box;text-align: center;}#sk-container-id-2 label.sk-toggleable__label-arrow:before {content: \"▸\";float: left;margin-right: 0.25em;color: #696969;}#sk-container-id-2 label.sk-toggleable__label-arrow:hover:before {color: black;}#sk-container-id-2 div.sk-estimator:hover label.sk-toggleable__label-arrow:before {color: black;}#sk-container-id-2 div.sk-toggleable__content {max-height: 0;max-width: 0;overflow: hidden;text-align: left;background-color: #f0f8ff;}#sk-container-id-2 div.sk-toggleable__content pre {margin: 0.2em;color: black;border-radius: 0.25em;background-color: #f0f8ff;}#sk-container-id-2 input.sk-toggleable__control:checked~div.sk-toggleable__content {max-height: 200px;max-width: 100%;overflow: auto;}#sk-container-id-2 input.sk-toggleable__control:checked~label.sk-toggleable__label-arrow:before {content: \"▾\";}#sk-container-id-2 div.sk-estimator input.sk-toggleable__control:checked~label.sk-toggleable__label {background-color: #d4ebff;}#sk-container-id-2 div.sk-label input.sk-toggleable__control:checked~label.sk-toggleable__label {background-color: #d4ebff;}#sk-container-id-2 input.sk-hidden--visually {border: 0;clip: rect(1px 1px 1px 1px);clip: rect(1px, 1px, 1px, 1px);height: 1px;margin: -1px;overflow: hidden;padding: 0;position: absolute;width: 1px;}#sk-container-id-2 div.sk-estimator {font-family: monospace;background-color: #f0f8ff;border: 1px dotted black;border-radius: 0.25em;box-sizing: border-box;margin-bottom: 0.5em;}#sk-container-id-2 div.sk-estimator:hover {background-color: #d4ebff;}#sk-container-id-2 div.sk-parallel-item::after {content: \"\";width: 100%;border-bottom: 1px solid gray;flex-grow: 1;}#sk-container-id-2 div.sk-label:hover label.sk-toggleable__label {background-color: #d4ebff;}#sk-container-id-2 div.sk-serial::before {content: \"\";position: absolute;border-left: 1px solid gray;box-sizing: border-box;top: 0;bottom: 0;left: 50%;z-index: 0;}#sk-container-id-2 div.sk-serial {display: flex;flex-direction: column;align-items: center;background-color: white;padding-right: 0.2em;padding-left: 0.2em;position: relative;}#sk-container-id-2 div.sk-item {position: relative;z-index: 1;}#sk-container-id-2 div.sk-parallel {display: flex;align-items: stretch;justify-content: center;background-color: white;position: relative;}#sk-container-id-2 div.sk-item::before, #sk-container-id-2 div.sk-parallel-item::before {content: \"\";position: absolute;border-left: 1px solid gray;box-sizing: border-box;top: 0;bottom: 0;left: 50%;z-index: -1;}#sk-container-id-2 div.sk-parallel-item {display: flex;flex-direction: column;z-index: 1;position: relative;background-color: white;}#sk-container-id-2 div.sk-parallel-item:first-child::after {align-self: flex-end;width: 50%;}#sk-container-id-2 div.sk-parallel-item:last-child::after {align-self: flex-start;width: 50%;}#sk-container-id-2 div.sk-parallel-item:only-child::after {width: 0;}#sk-container-id-2 div.sk-dashed-wrapped {border: 1px dashed gray;margin: 0 0.4em 0.5em 0.4em;box-sizing: border-box;padding-bottom: 0.4em;background-color: white;}#sk-container-id-2 div.sk-label label {font-family: monospace;font-weight: bold;display: inline-block;line-height: 1.2em;}#sk-container-id-2 div.sk-label-container {text-align: center;}#sk-container-id-2 div.sk-container {/* jupyter's `normalize.less` sets `[hidden] { display: none; }` but bootstrap.min.css set `[hidden] { display: none !important; }` so we also need the `!important` here to be able to override the default hidden behavior on the sphinx rendered scikit-learn.org. See: https://github.com/scikit-learn/scikit-learn/issues/21755 */display: inline-block !important;position: relative;}#sk-container-id-2 div.sk-text-repr-fallback {display: none;}</style><div id=\"sk-container-id-2\" class=\"sk-top-container\"><div class=\"sk-text-repr-fallback\"><pre>GridSearchCV(cv=3,\n",
              "             estimator=Pipeline(steps=[(&#x27;preprocessor&#x27;,\n",
              "                                        ColumnTransformer(transformers=[(&#x27;text&#x27;,\n",
              "                                                                         TfidfVectorizer(),\n",
              "                                                                         &#x27;review_text&#x27;),\n",
              "                                                                        (&#x27;integer&#x27;,\n",
              "                                                                         StandardScaler(),\n",
              "                                                                         [&#x27;reviewer_birth_year&#x27;]),\n",
              "                                                                        (&#x27;category&#x27;,\n",
              "                                                                         OneHotEncoder(),\n",
              "                                                                         [&#x27;reviewer_state&#x27;])])),\n",
              "                                       (&#x27;classifier&#x27;,\n",
              "                                        LogisticRegression(max_iter=1000))]),\n",
              "             n_jobs=-1,\n",
              "             param_grid={&#x27;classifier__C&#x27;: [0.1, 1.0, 10],\n",
              "                         &#x27;classifier__penalty&#x27;: [&#x27;l1&#x27;, &#x27;l2&#x27;]},\n",
              "             verbose=1)</pre><b>In a Jupyter environment, please rerun this cell to show the HTML representation or trust the notebook. <br />On GitHub, the HTML representation is unable to render, please try loading this page with nbviewer.org.</b></div><div class=\"sk-container\" hidden><div class=\"sk-item sk-dashed-wrapped\"><div class=\"sk-label-container\"><div class=\"sk-label sk-toggleable\"><input class=\"sk-toggleable__control sk-hidden--visually\" id=\"sk-estimator-id-11\" type=\"checkbox\" ><label for=\"sk-estimator-id-11\" class=\"sk-toggleable__label sk-toggleable__label-arrow\">GridSearchCV</label><div class=\"sk-toggleable__content\"><pre>GridSearchCV(cv=3,\n",
              "             estimator=Pipeline(steps=[(&#x27;preprocessor&#x27;,\n",
              "                                        ColumnTransformer(transformers=[(&#x27;text&#x27;,\n",
              "                                                                         TfidfVectorizer(),\n",
              "                                                                         &#x27;review_text&#x27;),\n",
              "                                                                        (&#x27;integer&#x27;,\n",
              "                                                                         StandardScaler(),\n",
              "                                                                         [&#x27;reviewer_birth_year&#x27;]),\n",
              "                                                                        (&#x27;category&#x27;,\n",
              "                                                                         OneHotEncoder(),\n",
              "                                                                         [&#x27;reviewer_state&#x27;])])),\n",
              "                                       (&#x27;classifier&#x27;,\n",
              "                                        LogisticRegression(max_iter=1000))]),\n",
              "             n_jobs=-1,\n",
              "             param_grid={&#x27;classifier__C&#x27;: [0.1, 1.0, 10],\n",
              "                         &#x27;classifier__penalty&#x27;: [&#x27;l1&#x27;, &#x27;l2&#x27;]},\n",
              "             verbose=1)</pre></div></div></div><div class=\"sk-parallel\"><div class=\"sk-parallel-item\"><div class=\"sk-item\"><div class=\"sk-label-container\"><div class=\"sk-label sk-toggleable\"><input class=\"sk-toggleable__control sk-hidden--visually\" id=\"sk-estimator-id-12\" type=\"checkbox\" ><label for=\"sk-estimator-id-12\" class=\"sk-toggleable__label sk-toggleable__label-arrow\">estimator: Pipeline</label><div class=\"sk-toggleable__content\"><pre>Pipeline(steps=[(&#x27;preprocessor&#x27;,\n",
              "                 ColumnTransformer(transformers=[(&#x27;text&#x27;, TfidfVectorizer(),\n",
              "                                                  &#x27;review_text&#x27;),\n",
              "                                                 (&#x27;integer&#x27;, StandardScaler(),\n",
              "                                                  [&#x27;reviewer_birth_year&#x27;]),\n",
              "                                                 (&#x27;category&#x27;, OneHotEncoder(),\n",
              "                                                  [&#x27;reviewer_state&#x27;])])),\n",
              "                (&#x27;classifier&#x27;, LogisticRegression(max_iter=1000))])</pre></div></div></div><div class=\"sk-serial\"><div class=\"sk-item\"><div class=\"sk-serial\"><div class=\"sk-item sk-dashed-wrapped\"><div class=\"sk-label-container\"><div class=\"sk-label sk-toggleable\"><input class=\"sk-toggleable__control sk-hidden--visually\" id=\"sk-estimator-id-13\" type=\"checkbox\" ><label for=\"sk-estimator-id-13\" class=\"sk-toggleable__label sk-toggleable__label-arrow\">preprocessor: ColumnTransformer</label><div class=\"sk-toggleable__content\"><pre>ColumnTransformer(transformers=[(&#x27;text&#x27;, TfidfVectorizer(), &#x27;review_text&#x27;),\n",
              "                                (&#x27;integer&#x27;, StandardScaler(),\n",
              "                                 [&#x27;reviewer_birth_year&#x27;]),\n",
              "                                (&#x27;category&#x27;, OneHotEncoder(),\n",
              "                                 [&#x27;reviewer_state&#x27;])])</pre></div></div></div><div class=\"sk-parallel\"><div class=\"sk-parallel-item\"><div class=\"sk-item\"><div class=\"sk-label-container\"><div class=\"sk-label sk-toggleable\"><input class=\"sk-toggleable__control sk-hidden--visually\" id=\"sk-estimator-id-14\" type=\"checkbox\" ><label for=\"sk-estimator-id-14\" class=\"sk-toggleable__label sk-toggleable__label-arrow\">text</label><div class=\"sk-toggleable__content\"><pre>review_text</pre></div></div></div><div class=\"sk-serial\"><div class=\"sk-item\"><div class=\"sk-estimator sk-toggleable\"><input class=\"sk-toggleable__control sk-hidden--visually\" id=\"sk-estimator-id-15\" type=\"checkbox\" ><label for=\"sk-estimator-id-15\" class=\"sk-toggleable__label sk-toggleable__label-arrow\">TfidfVectorizer</label><div class=\"sk-toggleable__content\"><pre>TfidfVectorizer()</pre></div></div></div></div></div></div><div class=\"sk-parallel-item\"><div class=\"sk-item\"><div class=\"sk-label-container\"><div class=\"sk-label sk-toggleable\"><input class=\"sk-toggleable__control sk-hidden--visually\" id=\"sk-estimator-id-16\" type=\"checkbox\" ><label for=\"sk-estimator-id-16\" class=\"sk-toggleable__label sk-toggleable__label-arrow\">integer</label><div class=\"sk-toggleable__content\"><pre>[&#x27;reviewer_birth_year&#x27;]</pre></div></div></div><div class=\"sk-serial\"><div class=\"sk-item\"><div class=\"sk-estimator sk-toggleable\"><input class=\"sk-toggleable__control sk-hidden--visually\" id=\"sk-estimator-id-17\" type=\"checkbox\" ><label for=\"sk-estimator-id-17\" class=\"sk-toggleable__label sk-toggleable__label-arrow\">StandardScaler</label><div class=\"sk-toggleable__content\"><pre>StandardScaler()</pre></div></div></div></div></div></div><div class=\"sk-parallel-item\"><div class=\"sk-item\"><div class=\"sk-label-container\"><div class=\"sk-label sk-toggleable\"><input class=\"sk-toggleable__control sk-hidden--visually\" id=\"sk-estimator-id-18\" type=\"checkbox\" ><label for=\"sk-estimator-id-18\" class=\"sk-toggleable__label sk-toggleable__label-arrow\">category</label><div class=\"sk-toggleable__content\"><pre>[&#x27;reviewer_state&#x27;]</pre></div></div></div><div class=\"sk-serial\"><div class=\"sk-item\"><div class=\"sk-estimator sk-toggleable\"><input class=\"sk-toggleable__control sk-hidden--visually\" id=\"sk-estimator-id-19\" type=\"checkbox\" ><label for=\"sk-estimator-id-19\" class=\"sk-toggleable__label sk-toggleable__label-arrow\">OneHotEncoder</label><div class=\"sk-toggleable__content\"><pre>OneHotEncoder()</pre></div></div></div></div></div></div></div></div><div class=\"sk-item\"><div class=\"sk-estimator sk-toggleable\"><input class=\"sk-toggleable__control sk-hidden--visually\" id=\"sk-estimator-id-20\" type=\"checkbox\" ><label for=\"sk-estimator-id-20\" class=\"sk-toggleable__label sk-toggleable__label-arrow\">LogisticRegression</label><div class=\"sk-toggleable__content\"><pre>LogisticRegression(max_iter=1000)</pre></div></div></div></div></div></div></div></div></div></div></div></div>"
            ],
            "text/plain": [
              "GridSearchCV(cv=3,\n",
              "             estimator=Pipeline(steps=[('preprocessor',\n",
              "                                        ColumnTransformer(transformers=[('text',\n",
              "                                                                         TfidfVectorizer(),\n",
              "                                                                         'review_text'),\n",
              "                                                                        ('integer',\n",
              "                                                                         StandardScaler(),\n",
              "                                                                         ['reviewer_birth_year']),\n",
              "                                                                        ('category',\n",
              "                                                                         OneHotEncoder(),\n",
              "                                                                         ['reviewer_state'])])),\n",
              "                                       ('classifier',\n",
              "                                        LogisticRegression(max_iter=1000))]),\n",
              "             n_jobs=-1,\n",
              "             param_grid={'classifier__C': [0.1, 1.0, 10],\n",
              "                         'classifier__penalty': ['l1', 'l2']},\n",
              "             verbose=1)"
            ]
          },
          "execution_count": 89,
          "metadata": {},
          "output_type": "execute_result"
        }
      ],
      "source": [
        "grid_search.fit(X_train, y_train.values.ravel())"
      ]
    },
    {
      "cell_type": "code",
      "execution_count": 90,
      "metadata": {
        "id": "6hQyodbvkV2W"
      },
      "outputs": [
        {
          "data": {
            "text/plain": [
              "0.8743969187107237"
            ]
          },
          "execution_count": 90,
          "metadata": {},
          "output_type": "execute_result"
        }
      ],
      "source": [
        "grid_search.score(X_test, y_test)"
      ]
    },
    {
      "cell_type": "code",
      "execution_count": 91,
      "metadata": {
        "id": "mLG-wh97kV2Z"
      },
      "outputs": [
        {
          "data": {
            "text/plain": [
              "{'memory': None,\n",
              " 'steps': [('preprocessor',\n",
              "   ColumnTransformer(transformers=[('text', TfidfVectorizer(), 'review_text'),\n",
              "                                   ('integer', StandardScaler(),\n",
              "                                    ['reviewer_birth_year']),\n",
              "                                   ('category', OneHotEncoder(),\n",
              "                                    ['reviewer_state'])])),\n",
              "  ('classifier', LogisticRegression(max_iter=1000))],\n",
              " 'verbose': False,\n",
              " 'preprocessor': ColumnTransformer(transformers=[('text', TfidfVectorizer(), 'review_text'),\n",
              "                                 ('integer', StandardScaler(),\n",
              "                                  ['reviewer_birth_year']),\n",
              "                                 ('category', OneHotEncoder(),\n",
              "                                  ['reviewer_state'])]),\n",
              " 'classifier': LogisticRegression(max_iter=1000),\n",
              " 'preprocessor__n_jobs': None,\n",
              " 'preprocessor__remainder': 'drop',\n",
              " 'preprocessor__sparse_threshold': 0.3,\n",
              " 'preprocessor__transformer_weights': None,\n",
              " 'preprocessor__transformers': [('text', TfidfVectorizer(), 'review_text'),\n",
              "  ('integer', StandardScaler(), ['reviewer_birth_year']),\n",
              "  ('category', OneHotEncoder(), ['reviewer_state'])],\n",
              " 'preprocessor__verbose': False,\n",
              " 'preprocessor__verbose_feature_names_out': True,\n",
              " 'preprocessor__text': TfidfVectorizer(),\n",
              " 'preprocessor__integer': StandardScaler(),\n",
              " 'preprocessor__category': OneHotEncoder(),\n",
              " 'preprocessor__text__analyzer': 'word',\n",
              " 'preprocessor__text__binary': False,\n",
              " 'preprocessor__text__decode_error': 'strict',\n",
              " 'preprocessor__text__dtype': numpy.float64,\n",
              " 'preprocessor__text__encoding': 'utf-8',\n",
              " 'preprocessor__text__input': 'content',\n",
              " 'preprocessor__text__lowercase': True,\n",
              " 'preprocessor__text__max_df': 1.0,\n",
              " 'preprocessor__text__max_features': None,\n",
              " 'preprocessor__text__min_df': 1,\n",
              " 'preprocessor__text__ngram_range': (1, 1),\n",
              " 'preprocessor__text__norm': 'l2',\n",
              " 'preprocessor__text__preprocessor': None,\n",
              " 'preprocessor__text__smooth_idf': True,\n",
              " 'preprocessor__text__stop_words': None,\n",
              " 'preprocessor__text__strip_accents': None,\n",
              " 'preprocessor__text__sublinear_tf': False,\n",
              " 'preprocessor__text__token_pattern': '(?u)\\\\b\\\\w\\\\w+\\\\b',\n",
              " 'preprocessor__text__tokenizer': None,\n",
              " 'preprocessor__text__use_idf': True,\n",
              " 'preprocessor__text__vocabulary': None,\n",
              " 'preprocessor__integer__copy': True,\n",
              " 'preprocessor__integer__with_mean': True,\n",
              " 'preprocessor__integer__with_std': True,\n",
              " 'preprocessor__category__categories': 'auto',\n",
              " 'preprocessor__category__drop': None,\n",
              " 'preprocessor__category__dtype': numpy.float64,\n",
              " 'preprocessor__category__handle_unknown': 'error',\n",
              " 'preprocessor__category__max_categories': None,\n",
              " 'preprocessor__category__min_frequency': None,\n",
              " 'preprocessor__category__sparse': 'deprecated',\n",
              " 'preprocessor__category__sparse_output': True,\n",
              " 'classifier__C': 1.0,\n",
              " 'classifier__class_weight': None,\n",
              " 'classifier__dual': False,\n",
              " 'classifier__fit_intercept': True,\n",
              " 'classifier__intercept_scaling': 1,\n",
              " 'classifier__l1_ratio': None,\n",
              " 'classifier__max_iter': 1000,\n",
              " 'classifier__multi_class': 'auto',\n",
              " 'classifier__n_jobs': None,\n",
              " 'classifier__penalty': 'l2',\n",
              " 'classifier__random_state': None,\n",
              " 'classifier__solver': 'lbfgs',\n",
              " 'classifier__tol': 0.0001,\n",
              " 'classifier__verbose': 0,\n",
              " 'classifier__warm_start': False}"
            ]
          },
          "execution_count": 91,
          "metadata": {},
          "output_type": "execute_result"
        }
      ],
      "source": [
        "best = grid_search.best_estimator_.get_params()\n",
        "best"
      ]
    },
    {
      "cell_type": "code",
      "execution_count": 92,
      "metadata": {
        "id": "EcbQTMf4kV2b"
      },
      "outputs": [
        {
          "name": "stdout",
          "output_type": "stream",
          "text": [
            "classifier__C: 1.0\n",
            "classifier__penalty: l2\n"
          ]
        }
      ],
      "source": [
        "for p in sorted(param_grid.keys()):\n",
        "    print(f\"{p}: {best[p]}\")"
      ]
    },
    {
      "cell_type": "code",
      "execution_count": 93,
      "metadata": {
        "id": "YSzd3uxOwmje"
      },
      "outputs": [],
      "source": [
        "# Para combinações de diferentes métricas de desempenho (avaliação) do seu modelo, veja fonte: https://scikit-learn.org/stable/modules/model_evaluation.html"
      ]
    },
    {
      "cell_type": "code",
      "execution_count": 94,
      "metadata": {
        "id": "erMcGW8bkV2c"
      },
      "outputs": [],
      "source": [
        "from sklearn.metrics import ConfusionMatrixDisplay"
      ]
    },
    {
      "cell_type": "code",
      "execution_count": 95,
      "metadata": {
        "id": "bR_8ftz4kV2e"
      },
      "outputs": [
        {
          "data": {
            "image/png": "[encoded data removed]",
            "text/plain": [
              "<Figure size 640x480 with 2 Axes>"
            ]
          },
          "metadata": {},
          "output_type": "display_data"
        }
      ],
      "source": [
        "ConfusionMatrixDisplay.from_estimator(grid_search, X_test, y_test.values.ravel(),values_format='d');"
      ]
    },
    {
      "cell_type": "code",
      "execution_count": 96,
      "metadata": {
        "id": "BRwpkkUQu8ws"
      },
      "outputs": [],
      "source": [
        "import joblib\n",
        "from joblib import dump, load"
      ]
    },
    {
      "cell_type": "code",
      "execution_count": 97,
      "metadata": {
        "id": "hfYHiEobuFW4"
      },
      "outputs": [],
      "source": [
        "best_model = joblib.dump(grid_search,'best_model.pkl')"
      ]
    },
    {
      "cell_type": "code",
      "execution_count": 98,
      "metadata": {
        "id": "mSFZjV3rtYnL"
      },
      "outputs": [],
      "source": [
        "best_model = joblib.load('best_model.pkl')"
      ]
    },
    {
      "cell_type": "code",
      "execution_count": 99,
      "metadata": {
        "id": "gk2_NUdKuuTQ"
      },
      "outputs": [],
      "source": [
        "preds = best_model.predict(X_test)"
      ]
    },
    {
      "cell_type": "code",
      "execution_count": 100,
      "metadata": {
        "id": "JdsU8Cc8u0er"
      },
      "outputs": [
        {
          "data": {
            "text/plain": [
              "array([0, 1, 1, ..., 1, 1, 0])"
            ]
          },
          "execution_count": 100,
          "metadata": {},
          "output_type": "execute_result"
        }
      ],
      "source": [
        "preds"
      ]
    },
    {
      "cell_type": "code",
      "execution_count": 101,
      "metadata": {
        "id": "sRNn9JgFsYBT"
      },
      "outputs": [
        {
          "data": {
            "text/plain": [
              "0.8706920881575737"
            ]
          },
          "execution_count": 101,
          "metadata": {},
          "output_type": "execute_result"
        }
      ],
      "source": [
        "# Melhor resultado após GridSearchCV em modelo de regressão logística\n",
        "best_model.best_score_"
      ]
    },
    {
      "cell_type": "code",
      "execution_count": 102,
      "metadata": {
        "id": "pwSwaJu2u3K7"
      },
      "outputs": [
        {
          "data": {
            "image/png": "[encoded data removed]",
            "text/plain": [
              "<Figure size 640x480 with 2 Axes>"
            ]
          },
          "metadata": {},
          "output_type": "display_data"
        }
      ],
      "source": [
        "ConfusionMatrixDisplay.from_estimator(best_model, X_test, y_test.values.ravel(),values_format='d');"
      ]
    },
    {
      "attachments": {},
      "cell_type": "markdown",
      "metadata": {
        "id": "Led0_RO7ze60"
      },
      "source": [
        "### Teste de xgboost (XGBClassifier)\n"
      ]
    },
    {
      "cell_type": "code",
      "execution_count": 107,
      "metadata": {},
      "outputs": [
        {
          "name": "stdout",
          "output_type": "stream",
          "text": [
            "Defaulting to user installation because normal site-packages is not writeable\n",
            "Requirement already satisfied: xgboost in c:\\users\\carlo\\appdata\\roaming\\python\\python310\\site-packages (1.7.5)\n",
            "Collecting virtualenv\n",
            "  Downloading virtualenv-20.23.0-py3-none-any.whl (3.3 MB)\n",
            "     ---------------------------------------- 3.3/3.3 MB 7.4 MB/s eta 0:00:00\n",
            "Requirement already satisfied: scipy in c:\\programdata\\anaconda3\\lib\\site-packages (from xgboost) (1.10.0)\n",
            "Requirement already satisfied: numpy in c:\\programdata\\anaconda3\\lib\\site-packages (from xgboost) (1.23.5)\n",
            "Collecting distlib<1,>=0.3.6\n",
            "  Downloading distlib-0.3.6-py2.py3-none-any.whl (468 kB)\n",
            "     ------------------------------------- 468.5/468.5 kB 14.8 MB/s eta 0:00:00\n",
            "Collecting filelock<4,>=3.11\n",
            "  Downloading filelock-3.12.0-py3-none-any.whl (10 kB)\n",
            "Collecting platformdirs<4,>=3.2\n",
            "  Using cached platformdirs-3.5.1-py3-none-any.whl (15 kB)\n",
            "Installing collected packages: distlib, platformdirs, filelock, virtualenv\n",
            "Successfully installed distlib-0.3.6 filelock-3.12.0 platformdirs-3.5.1 virtualenv-20.23.0\n"
          ]
        },
        {
          "name": "stderr",
          "output_type": "stream",
          "text": [
            "  WARNING: The script virtualenv.exe is installed in 'C:\\Users\\carlo\\AppData\\Roaming\\Python\\Python310\\Scripts' which is not on PATH.\n",
            "  Consider adding this directory to PATH or, if you prefer to suppress this warning, use --no-warn-script-location.\n"
          ]
        }
      ],
      "source": [
        "# !pip install xgboost virtualenv"
      ]
    },
    {
      "cell_type": "code",
      "execution_count": 108,
      "metadata": {
        "id": "Hu6Sgpc9v0Aq"
      },
      "outputs": [
        {
          "ename": "ModuleNotFoundError",
          "evalue": "No module named 'xgboost'",
          "output_type": "error",
          "traceback": [
            "\u001b[1;31m---------------------------------------------------------------------------\u001b[0m",
            "\u001b[1;31mModuleNotFoundError\u001b[0m                       Traceback (most recent call last)",
            "Cell \u001b[1;32mIn[108], line 1\u001b[0m\n\u001b[1;32m----> 1\u001b[0m \u001b[39mfrom\u001b[39;00m \u001b[39mxgboost\u001b[39;00m \u001b[39mimport\u001b[39;00m XGBClassifier\n\u001b[0;32m      2\u001b[0m \u001b[39m# altera o pipeline\u001b[39;00m\n\u001b[0;32m      3\u001b[0m pipe \u001b[39m=\u001b[39m Pipeline(\n\u001b[0;32m      4\u001b[0m     steps\u001b[39m=\u001b[39m[\n\u001b[0;32m      5\u001b[0m         (\u001b[39m'\u001b[39m\u001b[39mpreprocessor\u001b[39m\u001b[39m'\u001b[39m, preprocessor),\n\u001b[0;32m      6\u001b[0m         (\u001b[39m'\u001b[39m\u001b[39mclassifier\u001b[39m\u001b[39m'\u001b[39m, XGBClassifier(n_estimators\u001b[39m=\u001b[39m\u001b[39m150\u001b[39m,max_depth\u001b[39m=\u001b[39m\u001b[39m4\u001b[39m)),\n\u001b[0;32m      7\u001b[0m     ],\n\u001b[0;32m      8\u001b[0m )\n",
            "\u001b[1;31mModuleNotFoundError\u001b[0m: No module named 'xgboost'"
          ]
        }
      ],
      "source": [
        "from xgboost import XGBClassifier\n",
        "# altera o pipeline\n",
        "pipe = Pipeline(\n",
        "    steps=[\n",
        "        ('preprocessor', preprocessor),\n",
        "        ('classifier', XGBClassifier(n_estimators=150,max_depth=4)),\n",
        "    ],\n",
        ")\n",
        "\n",
        "# model_xgboost = XGBClassifier()\n",
        "model_xgboost= pipe.fit(X_train, y_train)\n",
        "model_xgboost.score(X_test, y_test)"
      ]
    },
    {
      "cell_type": "code",
      "execution_count": null,
      "metadata": {
        "id": "SQpqZSJdylQ5"
      },
      "outputs": [],
      "source": [
        "# xgboost_preds = model_xgboost.predict(X_test)\n",
        "ConfusionMatrixDisplay.from_estimator(model_xgboost, X_test, y_test.values.ravel(),values_format='d');"
      ]
    },
    {
      "cell_type": "code",
      "execution_count": null,
      "metadata": {
        "id": "TDWfLDqaz9nR"
      },
      "outputs": [],
      "source": []
    }
  ],
  "metadata": {
    "colab": {
      "provenance": []
    },
    "kernelspec": {
      "display_name": "Python 3",
      "language": "python",
      "name": "python3"
    },
    "language_info": {
      "codemirror_mode": {
        "name": "ipython",
        "version": 3
      },
      "file_extension": ".py",
      "mimetype": "text/x-python",
      "name": "python",
      "nbconvert_exporter": "python",
      "pygments_lexer": "ipython3",
      "version": "3.10.9"
    }
  },
  "nbformat": 4,
  "nbformat_minor": 0
}
