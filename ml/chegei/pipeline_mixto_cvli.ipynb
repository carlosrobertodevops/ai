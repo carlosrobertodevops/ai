{
  "cells": [
    {
      "attachments": {},
      "cell_type": "markdown",
      "metadata": {
        "id": "FvOTMflEkV1n"
      },
      "source": [
        "---\n",
        "## Pipeline para dados heterogêneos: texto e categorias\n",
        "---\n",
        "\n",
        "**Machine Learning em Projetos (Erick Muzart e Fernando Melo)**\n",
        "\n",
        "### TÓPICOS:\n",
        "\n",
        "- Balanceamento de classes\n",
        "- Pipeline\n",
        "- ColumnTransformer\n",
        "- GridSearch\n",
        "- Cross validation\n",
        "- Xgboost\n",
        "- Salvar o melhor modelo\n",
        "\n",
        "Mencionamos pipelines para texto e para dados numéricos e categóricos.\n",
        "Mas sem demonstração de um pipeline com dados mixtos de múltiplos tipos.\n",
        "\n",
        "O objeto sklearn que permite um pré-processamento diferenciado por coluna é o `ColumnTransformer`: https://scikit-learn.org/stable/auto_examples/compose/plot_column_transformer_mixed_types.html\n",
        "\n",
        "Segue então um exemplo, com os dados das lojas americanas.\n",
        "https://github.com/b2wdigital/b2w-reviews01\n",
        "\n",
        "| #   | Field                 | Data type | Description                                                            |\n",
        "| --- | --------------------- | :-------- | :--------------------------------------------------------------------- |\n",
        "| 1   | submission_date       | date/time | review submission date (format YYYY-MM-DD hh:mm:ss)                    |\n",
        "| 2   | reviewer_id           | string    | unique reviewer id                                                     |\n",
        "| 3   | product_id            | integer   | unique product id                                                      |\n",
        "| 4   | product_name          | string    | product name                                                           |\n",
        "| 5   | product_brand         | string    | product brand                                                          |\n",
        "| 6   | site_category_lv1     | string    | product category - first level                                         |\n",
        "| 7   | site_category_lv2     | string    | product category - second level                                        |\n",
        "| 8   | overall_rating        | integer   | overall customer rating, from 1 to 5                                   |\n",
        "| 9   | recommend_to_a_friend | string    | answer to “would you recommend this product to a friend?” (“Yes”/“No”) |\n",
        "| 10  | review_title          | text      | review title, introduces or summarizes the review content              |\n",
        "| 11  | review_text           | text      | main text content of the review                                        |\n",
        "| 12  | reviewer_birth_year   | integer   | reviewer’s birth year                                                  |\n",
        "| 13  | reviewer_gender       | string    | reviewer’s gender (”F” for female; ”M” for male)                       |\n",
        "| 14  | reviewer_state        | string    | reviewer’s Brazilian State, according to the delivery address          |\n",
        "\n",
        "Código adaptado de: https://stackoverflow.com/questions/57867974/one-pipeline-to-fit-both-text-and-categorical-features\n"
      ]
    },
    {
      "cell_type": "code",
<<<<<<< HEAD:ml/notebooks/chegei/pipel_mixto_cvli.ipynb
      "execution_count": null,
      "metadata": {},
=======
      "execution_count": 7,
      "metadata": {
        "id": "il57L8FBkV1o"
      },
>>>>>>> 3daecee (Testes no notebooks):ml/notebooks/esmpu/curso_ml/Pipeline_mixto_v2.ipynb
      "outputs": [],
      "source": [
        "# !pip install -U pandas\n",
        "# !pip install -U scikit-learn\n",
        "# !pip install -U matplotlib\n",
        "# !pip install -U sklearn\n",
        "\n",
        "\n",
        "import pandas as pd\n",
        "from sklearn.model_selection import train_test_split"
      ]
    },
    {
      "cell_type": "code",
<<<<<<< HEAD:ml/notebooks/chegei/pipel_mixto_cvli.ipynb
      "execution_count": null,
=======
      "execution_count": 8,
>>>>>>> 3daecee (Testes no notebooks):ml/notebooks/esmpu/curso_ml/Pipeline_mixto_v2.ipynb
      "metadata": {
        "id": "fO5QzlTtkV1r"
      },
      "outputs": [],
      "source": [
        "# Download do arquivo de dados das Lojas Americanas no GitHub\n",
        "# url = \"https://github.com/b2wdigital/b2w-reviews01/raw/master/B2W-Reviews01.csv\"\n",
        "url = (\n",
        "    \"https://raw.githubusercontent.com/b2wdigital/b2w-reviews01/main/B2W-Reviews01.csv\"    \n",
        ")\n",
        "df = pd.read_csv(url, sep=\",\", low_memory=False)\n"
      ]
    },
    {
      "cell_type": "code",
<<<<<<< HEAD:ml/notebooks/chegei/pipel_mixto_cvli.ipynb
      "execution_count": null,
=======
      "execution_count": 9,
>>>>>>> 3daecee (Testes no notebooks):ml/notebooks/esmpu/curso_ml/Pipeline_mixto_v2.ipynb
      "metadata": {
        "colab": {
          "base_uri": "https://localhost:8080/",
          "height": 1000
        },
        "id": "QD4sbsOzkV1t",
        "outputId": "4fc2a4e0-e338-4315-b514-3293bcc753fa"
      },
      "outputs": [
        {
          "data": {
            "text/html": [
              "<div>\n",
              "<style scoped>\n",
              "    .dataframe tbody tr th:only-of-type {\n",
              "        vertical-align: middle;\n",
              "    }\n",
              "\n",
              "    .dataframe tbody tr th {\n",
              "        vertical-align: top;\n",
              "    }\n",
              "\n",
              "    .dataframe thead th {\n",
              "        text-align: right;\n",
              "    }\n",
              "</style>\n",
              "<table border=\"1\" class=\"dataframe\">\n",
              "  <thead>\n",
              "    <tr style=\"text-align: right;\">\n",
              "      <th></th>\n",
              "      <th>submission_date</th>\n",
              "      <th>reviewer_id</th>\n",
              "      <th>product_id</th>\n",
              "      <th>product_name</th>\n",
              "      <th>product_brand</th>\n",
              "      <th>site_category_lv1</th>\n",
              "      <th>site_category_lv2</th>\n",
              "      <th>review_title</th>\n",
              "      <th>overall_rating</th>\n",
              "      <th>recommend_to_a_friend</th>\n",
              "      <th>review_text</th>\n",
              "      <th>reviewer_birth_year</th>\n",
              "      <th>reviewer_gender</th>\n",
              "      <th>reviewer_state</th>\n",
              "    </tr>\n",
              "  </thead>\n",
              "  <tbody>\n",
              "    <tr>\n",
              "      <th>0</th>\n",
              "      <td>2018-01-01 00:11:28</td>\n",
              "      <td>d0fb1ca69422530334178f5c8624aa7a99da47907c44de...</td>\n",
              "      <td>132532965</td>\n",
              "      <td>Notebook Asus Vivobook Max X541NA-GO472T Intel...</td>\n",
              "      <td>NaN</td>\n",
              "      <td>Informática</td>\n",
              "      <td>Notebook</td>\n",
              "      <td>Bom</td>\n",
              "      <td>4</td>\n",
              "      <td>Yes</td>\n",
              "      <td>Estou contente com a compra entrega rápida o ú...</td>\n",
              "      <td>1958.0</td>\n",
              "      <td>F</td>\n",
              "      <td>RJ</td>\n",
              "    </tr>\n",
              "    <tr>\n",
              "      <th>1</th>\n",
              "      <td>2018-01-01 00:13:48</td>\n",
              "      <td>014d6dc5a10aed1ff1e6f349fb2b059a2d3de511c7538a...</td>\n",
              "      <td>22562178</td>\n",
              "      <td>Copo Acrílico Com Canudo 500ml Rocie</td>\n",
              "      <td>NaN</td>\n",
              "      <td>Utilidades Domésticas</td>\n",
              "      <td>Copos, Taças e Canecas</td>\n",
              "      <td>Preço imbatível, ótima qualidade</td>\n",
              "      <td>4</td>\n",
              "      <td>Yes</td>\n",
              "      <td>Por apenas R$1994.20,eu consegui comprar esse ...</td>\n",
              "      <td>1996.0</td>\n",
              "      <td>M</td>\n",
              "      <td>SC</td>\n",
              "    </tr>\n",
              "    <tr>\n",
              "      <th>2</th>\n",
              "      <td>2018-01-01 00:26:02</td>\n",
              "      <td>44f2c8edd93471926fff601274b8b2b5c4824e386ae4f2...</td>\n",
              "      <td>113022329</td>\n",
              "      <td>Panela de Pressão Elétrica Philips Walita Dail...</td>\n",
              "      <td>philips walita</td>\n",
              "      <td>Eletroportáteis</td>\n",
              "      <td>Panela Elétrica</td>\n",
              "      <td>ATENDE TODAS AS EXPECTATIVA.</td>\n",
              "      <td>4</td>\n",
              "      <td>Yes</td>\n",
              "      <td>SUPERA EM AGILIDADE E PRATICIDADE OUTRAS PANEL...</td>\n",
              "      <td>1984.0</td>\n",
              "      <td>M</td>\n",
              "      <td>SP</td>\n",
              "    </tr>\n",
              "    <tr>\n",
              "      <th>3</th>\n",
              "      <td>2018-01-01 00:35:54</td>\n",
              "      <td>ce741665c1764ab2d77539e18d0e4f66dde6213c9f0863...</td>\n",
              "      <td>113851581</td>\n",
              "      <td>Betoneira Columbus - Roma Brinquedos</td>\n",
              "      <td>roma jensen</td>\n",
              "      <td>Brinquedos</td>\n",
              "      <td>Veículos de Brinquedo</td>\n",
              "      <td>presente mais que desejado</td>\n",
              "      <td>4</td>\n",
              "      <td>Yes</td>\n",
              "      <td>MEU FILHO AMOU! PARECE DE VERDADE COM TANTOS D...</td>\n",
              "      <td>1985.0</td>\n",
              "      <td>F</td>\n",
              "      <td>SP</td>\n",
              "    </tr>\n",
              "    <tr>\n",
              "      <th>4</th>\n",
              "      <td>2018-01-01 01:00:28</td>\n",
              "      <td>7d7b6b18dda804a897359276cef0ca252f9932bf4b5c8e...</td>\n",
              "      <td>131788803</td>\n",
              "      <td>Smart TV LED 43\" LG 43UJ6525 Ultra HD 4K com C...</td>\n",
              "      <td>lg</td>\n",
              "      <td>TV e Home Theater</td>\n",
              "      <td>TV</td>\n",
              "      <td>Sem duvidas, excelente</td>\n",
              "      <td>5</td>\n",
              "      <td>Yes</td>\n",
              "      <td>A entrega foi no prazo, as americanas estão de...</td>\n",
              "      <td>1994.0</td>\n",
              "      <td>M</td>\n",
              "      <td>MG</td>\n",
              "    </tr>\n",
              "    <tr>\n",
              "      <th>...</th>\n",
              "      <td>...</td>\n",
              "      <td>...</td>\n",
              "      <td>...</td>\n",
              "      <td>...</td>\n",
              "      <td>...</td>\n",
              "      <td>...</td>\n",
              "      <td>...</td>\n",
              "      <td>...</td>\n",
              "      <td>...</td>\n",
              "      <td>...</td>\n",
              "      <td>...</td>\n",
              "      <td>...</td>\n",
              "      <td>...</td>\n",
              "      <td>...</td>\n",
              "    </tr>\n",
              "    <tr>\n",
              "      <th>132368</th>\n",
              "      <td>2018-05-31 23:30:50</td>\n",
              "      <td>15f20e95ff44163f3175aaf67a5ae4a94d5030b409e521...</td>\n",
              "      <td>17962233</td>\n",
              "      <td>Carregador De Pilha Sony + 4 Pilhas Aa 2500mah</td>\n",
              "      <td>NaN</td>\n",
              "      <td>Câmeras e Filmadoras</td>\n",
              "      <td>Acessórios para Câmeras e Filmadoras</td>\n",
              "      <td>Ótimo produto!</td>\n",
              "      <td>5</td>\n",
              "      <td>Yes</td>\n",
              "      <td>Vale muito, estou usando no controle do Xbox e...</td>\n",
              "      <td>1988.0</td>\n",
              "      <td>M</td>\n",
              "      <td>RS</td>\n",
              "    </tr>\n",
              "    <tr>\n",
              "      <th>132369</th>\n",
              "      <td>2018-05-31 23:42:25</td>\n",
              "      <td>def7cf9028b0673ab8bca3b1d06e085461fafb88cd48d9...</td>\n",
              "      <td>132631701</td>\n",
              "      <td>Mop Giratório Fit + Refil Extra - At Home</td>\n",
              "      <td>NaN</td>\n",
              "      <td>Utilidades Domésticas</td>\n",
              "      <td>Material de Limpeza</td>\n",
              "      <td>Sensacional</td>\n",
              "      <td>5</td>\n",
              "      <td>Yes</td>\n",
              "      <td>Prático e barato, super indico o produto para ...</td>\n",
              "      <td>1979.0</td>\n",
              "      <td>F</td>\n",
              "      <td>SP</td>\n",
              "    </tr>\n",
              "    <tr>\n",
              "      <th>132370</th>\n",
              "      <td>2018-05-31 23:44:16</td>\n",
              "      <td>7bcbf542f5d7dd9a9a192a6805adba7a7a4c1ce3bf00df...</td>\n",
              "      <td>16095859</td>\n",
              "      <td>Fita Led 5m Rgb 3528 Siliconada Com 300 Leds C...</td>\n",
              "      <td>NaN</td>\n",
              "      <td>Automotivo</td>\n",
              "      <td>Iluminação</td>\n",
              "      <td>Ótimo produto</td>\n",
              "      <td>4</td>\n",
              "      <td>Yes</td>\n",
              "      <td>Chegou antes do prazo previsto e corresponde a...</td>\n",
              "      <td>1979.0</td>\n",
              "      <td>F</td>\n",
              "      <td>PR</td>\n",
              "    </tr>\n",
              "    <tr>\n",
              "      <th>132371</th>\n",
              "      <td>2018-05-31 23:46:48</td>\n",
              "      <td>e6fb0b19277d01c2a300c7837a105f3c369377e92f9c19...</td>\n",
              "      <td>6774907</td>\n",
              "      <td>Etiquetas Jurídicas Vade Mecum - Marca Fácil</td>\n",
              "      <td>marca facil</td>\n",
              "      <td>Papelaria</td>\n",
              "      <td>Material de Escritório</td>\n",
              "      <td>O produto não é bom.</td>\n",
              "      <td>1</td>\n",
              "      <td>No</td>\n",
              "      <td>Material fraco, poderia ser melhor. Ficou deve...</td>\n",
              "      <td>1991.0</td>\n",
              "      <td>M</td>\n",
              "      <td>RJ</td>\n",
              "    </tr>\n",
              "    <tr>\n",
              "      <th>132372</th>\n",
              "      <td>2018-05-31 23:50:33</td>\n",
              "      <td>ea9467aa73271fb4f68c04f4dd4f4eef304d6ee85441fb...</td>\n",
              "      <td>114081902</td>\n",
              "      <td>Painel de Fotos Bee Colection Rue Bac (74x94x3...</td>\n",
              "      <td>kapos</td>\n",
              "      <td>Decoração</td>\n",
              "      <td>Painel de Fotos</td>\n",
              "      <td>Produto não entregue</td>\n",
              "      <td>1</td>\n",
              "      <td>No</td>\n",
              "      <td>Comprei esse produto, quando chegou estava com...</td>\n",
              "      <td>1982.0</td>\n",
              "      <td>F</td>\n",
              "      <td>ES</td>\n",
              "    </tr>\n",
              "  </tbody>\n",
              "</table>\n",
              "<p>132373 rows × 14 columns</p>\n",
              "</div>"
            ],
            "text/plain": [
              "            submission_date   \n",
              "0       2018-01-01 00:11:28  \\\n",
              "1       2018-01-01 00:13:48   \n",
              "2       2018-01-01 00:26:02   \n",
              "3       2018-01-01 00:35:54   \n",
              "4       2018-01-01 01:00:28   \n",
              "...                     ...   \n",
              "132368  2018-05-31 23:30:50   \n",
              "132369  2018-05-31 23:42:25   \n",
              "132370  2018-05-31 23:44:16   \n",
              "132371  2018-05-31 23:46:48   \n",
              "132372  2018-05-31 23:50:33   \n",
              "\n",
              "                                              reviewer_id product_id   \n",
              "0       d0fb1ca69422530334178f5c8624aa7a99da47907c44de...  132532965  \\\n",
              "1       014d6dc5a10aed1ff1e6f349fb2b059a2d3de511c7538a...   22562178   \n",
              "2       44f2c8edd93471926fff601274b8b2b5c4824e386ae4f2...  113022329   \n",
              "3       ce741665c1764ab2d77539e18d0e4f66dde6213c9f0863...  113851581   \n",
              "4       7d7b6b18dda804a897359276cef0ca252f9932bf4b5c8e...  131788803   \n",
              "...                                                   ...        ...   \n",
              "132368  15f20e95ff44163f3175aaf67a5ae4a94d5030b409e521...   17962233   \n",
              "132369  def7cf9028b0673ab8bca3b1d06e085461fafb88cd48d9...  132631701   \n",
              "132370  7bcbf542f5d7dd9a9a192a6805adba7a7a4c1ce3bf00df...   16095859   \n",
              "132371  e6fb0b19277d01c2a300c7837a105f3c369377e92f9c19...    6774907   \n",
              "132372  ea9467aa73271fb4f68c04f4dd4f4eef304d6ee85441fb...  114081902   \n",
              "\n",
              "                                             product_name   product_brand   \n",
              "0       Notebook Asus Vivobook Max X541NA-GO472T Intel...             NaN  \\\n",
              "1                    Copo Acrílico Com Canudo 500ml Rocie             NaN   \n",
              "2       Panela de Pressão Elétrica Philips Walita Dail...  philips walita   \n",
              "3                    Betoneira Columbus - Roma Brinquedos     roma jensen   \n",
              "4       Smart TV LED 43\" LG 43UJ6525 Ultra HD 4K com C...              lg   \n",
              "...                                                   ...             ...   \n",
              "132368     Carregador De Pilha Sony + 4 Pilhas Aa 2500mah             NaN   \n",
              "132369          Mop Giratório Fit + Refil Extra - At Home             NaN   \n",
              "132370  Fita Led 5m Rgb 3528 Siliconada Com 300 Leds C...             NaN   \n",
              "132371       Etiquetas Jurídicas Vade Mecum - Marca Fácil     marca facil   \n",
              "132372  Painel de Fotos Bee Colection Rue Bac (74x94x3...           kapos   \n",
              "\n",
              "            site_category_lv1                     site_category_lv2   \n",
              "0                 Informática                              Notebook  \\\n",
              "1       Utilidades Domésticas                Copos, Taças e Canecas   \n",
              "2             Eletroportáteis                       Panela Elétrica   \n",
              "3                  Brinquedos                 Veículos de Brinquedo   \n",
              "4           TV e Home Theater                                    TV   \n",
              "...                       ...                                   ...   \n",
              "132368   Câmeras e Filmadoras  Acessórios para Câmeras e Filmadoras   \n",
              "132369  Utilidades Domésticas                   Material de Limpeza   \n",
              "132370             Automotivo                            Iluminação   \n",
              "132371              Papelaria                Material de Escritório   \n",
              "132372              Decoração                       Painel de Fotos   \n",
              "\n",
              "                            review_title  overall_rating   \n",
              "0                                    Bom               4  \\\n",
              "1       Preço imbatível, ótima qualidade               4   \n",
              "2           ATENDE TODAS AS EXPECTATIVA.               4   \n",
              "3             presente mais que desejado               4   \n",
              "4                 Sem duvidas, excelente               5   \n",
              "...                                  ...             ...   \n",
              "132368                    Ótimo produto!               5   \n",
              "132369                       Sensacional               5   \n",
              "132370                     Ótimo produto               4   \n",
              "132371              O produto não é bom.               1   \n",
              "132372              Produto não entregue               1   \n",
              "\n",
              "       recommend_to_a_friend   \n",
              "0                        Yes  \\\n",
              "1                        Yes   \n",
              "2                        Yes   \n",
              "3                        Yes   \n",
              "4                        Yes   \n",
              "...                      ...   \n",
              "132368                   Yes   \n",
              "132369                   Yes   \n",
              "132370                   Yes   \n",
              "132371                    No   \n",
              "132372                    No   \n",
              "\n",
              "                                              review_text   \n",
              "0       Estou contente com a compra entrega rápida o ú...  \\\n",
              "1       Por apenas R$1994.20,eu consegui comprar esse ...   \n",
              "2       SUPERA EM AGILIDADE E PRATICIDADE OUTRAS PANEL...   \n",
              "3       MEU FILHO AMOU! PARECE DE VERDADE COM TANTOS D...   \n",
              "4       A entrega foi no prazo, as americanas estão de...   \n",
              "...                                                   ...   \n",
              "132368  Vale muito, estou usando no controle do Xbox e...   \n",
              "132369  Prático e barato, super indico o produto para ...   \n",
              "132370  Chegou antes do prazo previsto e corresponde a...   \n",
              "132371  Material fraco, poderia ser melhor. Ficou deve...   \n",
              "132372  Comprei esse produto, quando chegou estava com...   \n",
              "\n",
              "        reviewer_birth_year reviewer_gender reviewer_state  \n",
              "0                    1958.0               F             RJ  \n",
              "1                    1996.0               M             SC  \n",
              "2                    1984.0               M             SP  \n",
              "3                    1985.0               F             SP  \n",
              "4                    1994.0               M             MG  \n",
              "...                     ...             ...            ...  \n",
              "132368               1988.0               M             RS  \n",
              "132369               1979.0               F             SP  \n",
              "132370               1979.0               F             PR  \n",
              "132371               1991.0               M             RJ  \n",
              "132372               1982.0               F             ES  \n",
              "\n",
              "[132373 rows x 14 columns]"
            ]
          },
          "execution_count": 9,
          "metadata": {},
          "output_type": "execute_result"
        }
      ],
      "source": [
        "df\n"
      ]
    },
    {
      "cell_type": "code",
<<<<<<< HEAD:ml/notebooks/chegei/pipel_mixto_cvli.ipynb
      "execution_count": null,
=======
      "execution_count": 10,
>>>>>>> 3daecee (Testes no notebooks):ml/notebooks/esmpu/curso_ml/Pipeline_mixto_v2.ipynb
      "metadata": {
        "id": "jeKW74kJkV1w"
      },
      "outputs": [],
      "source": [
        "# Vamos focar em um mix de typos de dados:\n",
        "# Texto: review_text\n",
        "# numérico: reviewer_birth_year\n",
        "# categórico: reviewer_state\n",
        "\n",
        "# Mais a variável dependente (target): overall_rating (1 a 5)\n",
        "sub = df[[\"review_text\", \"reviewer_birth_year\",\n",
        "          \"reviewer_state\", \"overall_rating\"]]\n"
      ]
    },
    {
      "cell_type": "code",
<<<<<<< HEAD:ml/notebooks/chegei/pipel_mixto_cvli.ipynb
      "execution_count": null,
=======
      "execution_count": 13,
>>>>>>> 3daecee (Testes no notebooks):ml/notebooks/esmpu/curso_ml/Pipeline_mixto_v2.ipynb
      "metadata": {
        "colab": {
          "base_uri": "https://localhost:8080/"
        },
        "id": "gceghCmQkV1y",
        "outputId": "39e4a1ad-9ccf-44a3-f292-aeab87d5a32d"
      },
      "outputs": [
        {
          "data": {
            "text/plain": [
              "(123321, 4)"
            ]
          },
          "execution_count": 13,
          "metadata": {},
          "output_type": "execute_result"
        }
      ],
      "source": [
        "sub.shape\n"
      ]
    },
    {
      "cell_type": "code",
<<<<<<< HEAD:ml/notebooks/chegei/pipel_mixto_cvli.ipynb
      "execution_count": null,
=======
      "execution_count": 15,
      "metadata": {},
      "outputs": [
        {
          "data": {
            "text/html": [
              "<div>\n",
              "<style scoped>\n",
              "    .dataframe tbody tr th:only-of-type {\n",
              "        vertical-align: middle;\n",
              "    }\n",
              "\n",
              "    .dataframe tbody tr th {\n",
              "        vertical-align: top;\n",
              "    }\n",
              "\n",
              "    .dataframe thead th {\n",
              "        text-align: right;\n",
              "    }\n",
              "</style>\n",
              "<table border=\"1\" class=\"dataframe\">\n",
              "  <thead>\n",
              "    <tr style=\"text-align: right;\">\n",
              "      <th></th>\n",
              "      <th>review_text</th>\n",
              "      <th>reviewer_birth_year</th>\n",
              "      <th>reviewer_state</th>\n",
              "      <th>overall_rating</th>\n",
              "    </tr>\n",
              "  </thead>\n",
              "  <tbody>\n",
              "    <tr>\n",
              "      <th>0</th>\n",
              "      <td>Estou contente com a compra entrega rápida o ú...</td>\n",
              "      <td>1958.0</td>\n",
              "      <td>RJ</td>\n",
              "      <td>4</td>\n",
              "    </tr>\n",
              "    <tr>\n",
              "      <th>1</th>\n",
              "      <td>Por apenas R$1994.20,eu consegui comprar esse ...</td>\n",
              "      <td>1996.0</td>\n",
              "      <td>SC</td>\n",
              "      <td>4</td>\n",
              "    </tr>\n",
              "    <tr>\n",
              "      <th>2</th>\n",
              "      <td>SUPERA EM AGILIDADE E PRATICIDADE OUTRAS PANEL...</td>\n",
              "      <td>1984.0</td>\n",
              "      <td>SP</td>\n",
              "      <td>4</td>\n",
              "    </tr>\n",
              "    <tr>\n",
              "      <th>3</th>\n",
              "      <td>MEU FILHO AMOU! PARECE DE VERDADE COM TANTOS D...</td>\n",
              "      <td>1985.0</td>\n",
              "      <td>SP</td>\n",
              "      <td>4</td>\n",
              "    </tr>\n",
              "    <tr>\n",
              "      <th>4</th>\n",
              "      <td>A entrega foi no prazo, as americanas estão de...</td>\n",
              "      <td>1994.0</td>\n",
              "      <td>MG</td>\n",
              "      <td>5</td>\n",
              "    </tr>\n",
              "    <tr>\n",
              "      <th>...</th>\n",
              "      <td>...</td>\n",
              "      <td>...</td>\n",
              "      <td>...</td>\n",
              "      <td>...</td>\n",
              "    </tr>\n",
              "    <tr>\n",
              "      <th>132368</th>\n",
              "      <td>Vale muito, estou usando no controle do Xbox e...</td>\n",
              "      <td>1988.0</td>\n",
              "      <td>RS</td>\n",
              "      <td>5</td>\n",
              "    </tr>\n",
              "    <tr>\n",
              "      <th>132369</th>\n",
              "      <td>Prático e barato, super indico o produto para ...</td>\n",
              "      <td>1979.0</td>\n",
              "      <td>SP</td>\n",
              "      <td>5</td>\n",
              "    </tr>\n",
              "    <tr>\n",
              "      <th>132370</th>\n",
              "      <td>Chegou antes do prazo previsto e corresponde a...</td>\n",
              "      <td>1979.0</td>\n",
              "      <td>PR</td>\n",
              "      <td>4</td>\n",
              "    </tr>\n",
              "    <tr>\n",
              "      <th>132371</th>\n",
              "      <td>Material fraco, poderia ser melhor. Ficou deve...</td>\n",
              "      <td>1991.0</td>\n",
              "      <td>RJ</td>\n",
              "      <td>1</td>\n",
              "    </tr>\n",
              "    <tr>\n",
              "      <th>132372</th>\n",
              "      <td>Comprei esse produto, quando chegou estava com...</td>\n",
              "      <td>1982.0</td>\n",
              "      <td>ES</td>\n",
              "      <td>1</td>\n",
              "    </tr>\n",
              "  </tbody>\n",
              "</table>\n",
              "<p>123321 rows × 4 columns</p>\n",
              "</div>"
            ],
            "text/plain": [
              "                                              review_text   \n",
              "0       Estou contente com a compra entrega rápida o ú...  \\\n",
              "1       Por apenas R$1994.20,eu consegui comprar esse ...   \n",
              "2       SUPERA EM AGILIDADE E PRATICIDADE OUTRAS PANEL...   \n",
              "3       MEU FILHO AMOU! PARECE DE VERDADE COM TANTOS D...   \n",
              "4       A entrega foi no prazo, as americanas estão de...   \n",
              "...                                                   ...   \n",
              "132368  Vale muito, estou usando no controle do Xbox e...   \n",
              "132369  Prático e barato, super indico o produto para ...   \n",
              "132370  Chegou antes do prazo previsto e corresponde a...   \n",
              "132371  Material fraco, poderia ser melhor. Ficou deve...   \n",
              "132372  Comprei esse produto, quando chegou estava com...   \n",
              "\n",
              "        reviewer_birth_year reviewer_state  overall_rating  \n",
              "0                    1958.0             RJ               4  \n",
              "1                    1996.0             SC               4  \n",
              "2                    1984.0             SP               4  \n",
              "3                    1985.0             SP               4  \n",
              "4                    1994.0             MG               5  \n",
              "...                     ...            ...             ...  \n",
              "132368               1988.0             RS               5  \n",
              "132369               1979.0             SP               5  \n",
              "132370               1979.0             PR               4  \n",
              "132371               1991.0             RJ               1  \n",
              "132372               1982.0             ES               1  \n",
              "\n",
              "[123321 rows x 4 columns]"
            ]
          },
          "execution_count": 15,
          "metadata": {},
          "output_type": "execute_result"
        }
      ],
      "source": [
        "sub"
      ]
    },
    {
      "cell_type": "code",
      "execution_count": 18,
>>>>>>> 3daecee (Testes no notebooks):ml/notebooks/esmpu/curso_ml/Pipeline_mixto_v2.ipynb
      "metadata": {
        "id": "quQvydQNkV10"
      },
      "outputs": [],
      "source": [
        "# Muitos dados, descartamos as linhas com nulos (NaN)\n",
        "sub = sub.dropna()\n"
      ]
    },
    {
      "cell_type": "code",
<<<<<<< HEAD:ml/notebooks/chegei/pipel_mixto_cvli.ipynb
      "execution_count": null,
=======
      "execution_count": 17,
>>>>>>> 3daecee (Testes no notebooks):ml/notebooks/esmpu/curso_ml/Pipeline_mixto_v2.ipynb
      "metadata": {
        "colab": {
          "base_uri": "https://localhost:8080/"
        },
        "id": "2H9n_TCNkV12",
        "outputId": "5239a832-7723-49b5-b361-92a7809bbfb3"
      },
      "outputs": [
        {
          "data": {
            "text/plain": [
              "(123321, 4)"
            ]
          },
          "execution_count": 17,
          "metadata": {},
          "output_type": "execute_result"
        }
      ],
      "source": [
        "sub.shape\n"
      ]
    },
    {
      "cell_type": "code",
<<<<<<< HEAD:ml/notebooks/chegei/pipel_mixto_cvli.ipynb
      "execution_count": null,
=======
      "execution_count": 19,
>>>>>>> 3daecee (Testes no notebooks):ml/notebooks/esmpu/curso_ml/Pipeline_mixto_v2.ipynb
      "metadata": {
        "colab": {
          "base_uri": "https://localhost:8080/"
        },
        "id": "XVmpA9m1kV14",
        "outputId": "0de68fb7-cf9c-4415-d5b7-e47bbadea65c"
      },
      "outputs": [
        {
          "name": "stdout",
          "output_type": "stream",
          "text": [
            "<class 'pandas.core.frame.DataFrame'>\n",
            "Index: 123321 entries, 0 to 132372\n",
            "Data columns (total 4 columns):\n",
            " #   Column               Non-Null Count   Dtype  \n",
            "---  ------               --------------   -----  \n",
            " 0   review_text          123321 non-null  object \n",
            " 1   reviewer_birth_year  123321 non-null  float64\n",
            " 2   reviewer_state       123321 non-null  object \n",
            " 3   overall_rating       123321 non-null  int64  \n",
            "dtypes: float64(1), int64(1), object(2)\n",
            "memory usage: 4.7+ MB\n"
          ]
        }
      ],
      "source": [
        "sub.info()\n"
      ]
    },
    {
      "cell_type": "code",
<<<<<<< HEAD:ml/notebooks/chegei/pipel_mixto_cvli.ipynb
      "execution_count": null,
=======
      "execution_count": 20,
>>>>>>> 3daecee (Testes no notebooks):ml/notebooks/esmpu/curso_ml/Pipeline_mixto_v2.ipynb
      "metadata": {
        "id": "eLdz95yfkV16"
      },
      "outputs": [],
      "source": [
        "# Converte para inteiro\n",
        "sub.reviewer_birth_year = sub.reviewer_birth_year.map(int)\n"
      ]
    },
    {
      "cell_type": "code",
<<<<<<< HEAD:ml/notebooks/chegei/pipel_mixto_cvli.ipynb
      "execution_count": null,
=======
      "execution_count": 21,
>>>>>>> 3daecee (Testes no notebooks):ml/notebooks/esmpu/curso_ml/Pipeline_mixto_v2.ipynb
      "metadata": {
        "colab": {
          "base_uri": "https://localhost:8080/"
        },
        "id": "DLGj_YrAkV17",
        "outputId": "734bf9b5-f73c-454e-ee63-61ea691902a7"
      },
      "outputs": [
        {
          "name": "stdout",
          "output_type": "stream",
          "text": [
            "<class 'pandas.core.frame.DataFrame'>\n",
            "Index: 123321 entries, 0 to 132372\n",
            "Data columns (total 4 columns):\n",
            " #   Column               Non-Null Count   Dtype \n",
            "---  ------               --------------   ----- \n",
            " 0   review_text          123321 non-null  object\n",
            " 1   reviewer_birth_year  123321 non-null  int64 \n",
            " 2   reviewer_state       123321 non-null  object\n",
            " 3   overall_rating       123321 non-null  int64 \n",
            "dtypes: int64(2), object(2)\n",
            "memory usage: 4.7+ MB\n"
          ]
        }
      ],
      "source": [
        "sub.info()\n"
      ]
    },
    {
      "cell_type": "code",
<<<<<<< HEAD:ml/notebooks/chegei/pipel_mixto_cvli.ipynb
      "execution_count": null,
=======
      "execution_count": 22,
>>>>>>> 3daecee (Testes no notebooks):ml/notebooks/esmpu/curso_ml/Pipeline_mixto_v2.ipynb
      "metadata": {
        "id": "rF962G4AkV19"
      },
      "outputs": [],
      "source": [
        "import numpy as np\n"
      ]
    },
    {
      "cell_type": "code",
<<<<<<< HEAD:ml/notebooks/chegei/pipel_mixto_cvli.ipynb
      "execution_count": null,
=======
      "execution_count": 23,
>>>>>>> 3daecee (Testes no notebooks):ml/notebooks/esmpu/curso_ml/Pipeline_mixto_v2.ipynb
      "metadata": {
        "id": "nO3PnCAckV1_"
      },
      "outputs": [],
      "source": [
        "# Discretização simples: negativo com nota de 1 a 3, positivo de 4 a 5\n",
        "sub[\"label\"] = np.where(sub.overall_rating <= 3, 0, 1)\n"
      ]
    },
    {
      "cell_type": "code",
<<<<<<< HEAD:ml/notebooks/chegei/pipel_mixto_cvli.ipynb
      "execution_count": null,
=======
      "execution_count": 24,
>>>>>>> 3daecee (Testes no notebooks):ml/notebooks/esmpu/curso_ml/Pipeline_mixto_v2.ipynb
      "metadata": {
        "id": "a0o-JVPBkV2B"
      },
      "outputs": [],
      "source": [
        "sub.drop([\"overall_rating\"], axis=1, inplace=True)\n"
      ]
    },
    {
      "cell_type": "code",
<<<<<<< HEAD:ml/notebooks/chegei/pipel_mixto_cvli.ipynb
      "execution_count": null,
=======
      "execution_count": 25,
>>>>>>> 3daecee (Testes no notebooks):ml/notebooks/esmpu/curso_ml/Pipeline_mixto_v2.ipynb
      "metadata": {
        "colab": {
          "base_uri": "https://localhost:8080/",
          "height": 424
        },
        "id": "7JzpBuoqkV2C",
        "outputId": "4dcef29c-2b69-4c86-c0be-aa3073509e41"
      },
      "outputs": [
        {
          "data": {
            "text/html": [
              "<div>\n",
              "<style scoped>\n",
              "    .dataframe tbody tr th:only-of-type {\n",
              "        vertical-align: middle;\n",
              "    }\n",
              "\n",
              "    .dataframe tbody tr th {\n",
              "        vertical-align: top;\n",
              "    }\n",
              "\n",
              "    .dataframe thead th {\n",
              "        text-align: right;\n",
              "    }\n",
              "</style>\n",
              "<table border=\"1\" class=\"dataframe\">\n",
              "  <thead>\n",
              "    <tr style=\"text-align: right;\">\n",
              "      <th></th>\n",
              "      <th>review_text</th>\n",
              "      <th>reviewer_birth_year</th>\n",
              "      <th>reviewer_state</th>\n",
              "      <th>label</th>\n",
              "    </tr>\n",
              "  </thead>\n",
              "  <tbody>\n",
              "    <tr>\n",
              "      <th>0</th>\n",
              "      <td>Estou contente com a compra entrega rápida o ú...</td>\n",
              "      <td>1958</td>\n",
              "      <td>RJ</td>\n",
              "      <td>1</td>\n",
              "    </tr>\n",
              "    <tr>\n",
              "      <th>1</th>\n",
              "      <td>Por apenas R$1994.20,eu consegui comprar esse ...</td>\n",
              "      <td>1996</td>\n",
              "      <td>SC</td>\n",
              "      <td>1</td>\n",
              "    </tr>\n",
              "    <tr>\n",
              "      <th>2</th>\n",
              "      <td>SUPERA EM AGILIDADE E PRATICIDADE OUTRAS PANEL...</td>\n",
              "      <td>1984</td>\n",
              "      <td>SP</td>\n",
              "      <td>1</td>\n",
              "    </tr>\n",
              "    <tr>\n",
              "      <th>3</th>\n",
              "      <td>MEU FILHO AMOU! PARECE DE VERDADE COM TANTOS D...</td>\n",
              "      <td>1985</td>\n",
              "      <td>SP</td>\n",
              "      <td>1</td>\n",
              "    </tr>\n",
              "    <tr>\n",
              "      <th>4</th>\n",
              "      <td>A entrega foi no prazo, as americanas estão de...</td>\n",
              "      <td>1994</td>\n",
              "      <td>MG</td>\n",
              "      <td>1</td>\n",
              "    </tr>\n",
              "    <tr>\n",
              "      <th>...</th>\n",
              "      <td>...</td>\n",
              "      <td>...</td>\n",
              "      <td>...</td>\n",
              "      <td>...</td>\n",
              "    </tr>\n",
              "    <tr>\n",
              "      <th>132368</th>\n",
              "      <td>Vale muito, estou usando no controle do Xbox e...</td>\n",
              "      <td>1988</td>\n",
              "      <td>RS</td>\n",
              "      <td>1</td>\n",
              "    </tr>\n",
              "    <tr>\n",
              "      <th>132369</th>\n",
              "      <td>Prático e barato, super indico o produto para ...</td>\n",
              "      <td>1979</td>\n",
              "      <td>SP</td>\n",
              "      <td>1</td>\n",
              "    </tr>\n",
              "    <tr>\n",
              "      <th>132370</th>\n",
              "      <td>Chegou antes do prazo previsto e corresponde a...</td>\n",
              "      <td>1979</td>\n",
              "      <td>PR</td>\n",
              "      <td>1</td>\n",
              "    </tr>\n",
              "    <tr>\n",
              "      <th>132371</th>\n",
              "      <td>Material fraco, poderia ser melhor. Ficou deve...</td>\n",
              "      <td>1991</td>\n",
              "      <td>RJ</td>\n",
              "      <td>0</td>\n",
              "    </tr>\n",
              "    <tr>\n",
              "      <th>132372</th>\n",
              "      <td>Comprei esse produto, quando chegou estava com...</td>\n",
              "      <td>1982</td>\n",
              "      <td>ES</td>\n",
              "      <td>0</td>\n",
              "    </tr>\n",
              "  </tbody>\n",
              "</table>\n",
              "<p>123321 rows × 4 columns</p>\n",
              "</div>"
            ],
            "text/plain": [
              "                                              review_text   \n",
              "0       Estou contente com a compra entrega rápida o ú...  \\\n",
              "1       Por apenas R$1994.20,eu consegui comprar esse ...   \n",
              "2       SUPERA EM AGILIDADE E PRATICIDADE OUTRAS PANEL...   \n",
              "3       MEU FILHO AMOU! PARECE DE VERDADE COM TANTOS D...   \n",
              "4       A entrega foi no prazo, as americanas estão de...   \n",
              "...                                                   ...   \n",
              "132368  Vale muito, estou usando no controle do Xbox e...   \n",
              "132369  Prático e barato, super indico o produto para ...   \n",
              "132370  Chegou antes do prazo previsto e corresponde a...   \n",
              "132371  Material fraco, poderia ser melhor. Ficou deve...   \n",
              "132372  Comprei esse produto, quando chegou estava com...   \n",
              "\n",
              "        reviewer_birth_year reviewer_state  label  \n",
              "0                      1958             RJ      1  \n",
              "1                      1996             SC      1  \n",
              "2                      1984             SP      1  \n",
              "3                      1985             SP      1  \n",
              "4                      1994             MG      1  \n",
              "...                     ...            ...    ...  \n",
              "132368                 1988             RS      1  \n",
              "132369                 1979             SP      1  \n",
              "132370                 1979             PR      1  \n",
              "132371                 1991             RJ      0  \n",
              "132372                 1982             ES      0  \n",
              "\n",
              "[123321 rows x 4 columns]"
            ]
          },
          "execution_count": 25,
          "metadata": {},
          "output_type": "execute_result"
        }
      ],
      "source": [
        "sub\n"
      ]
    },
    {
      "cell_type": "code",
<<<<<<< HEAD:ml/notebooks/chegei/pipel_mixto_cvli.ipynb
      "execution_count": null,
=======
      "execution_count": 26,
>>>>>>> 3daecee (Testes no notebooks):ml/notebooks/esmpu/curso_ml/Pipeline_mixto_v2.ipynb
      "metadata": {
        "colab": {
          "base_uri": "https://localhost:8080/"
        },
        "id": "wBxqR9LKKl4E",
        "outputId": "e5cf0b33-3729-48f9-fa04-ac3854460b4f"
      },
      "outputs": [
        {
          "name": "stdout",
          "output_type": "stream",
          "text": [
            "(123321, 4)\n"
          ]
        },
        {
          "data": {
            "text/plain": [
              "label\n",
              "1    75615\n",
              "0    47706\n",
              "Name: count, dtype: int64"
            ]
          },
          "execution_count": 26,
          "metadata": {},
          "output_type": "execute_result"
        }
      ],
      "source": [
        "print(sub.shape)\n",
        "sub.label.value_counts()\n"
      ]
    },
    {
      "cell_type": "code",
      "execution_count": null,
      "metadata": {
        "id": "JPsE_DkIM14M"
      },
      "outputs": [],
      "source": [
        "# # BALANCEAMENTO DAS CLASSES\n",
        "# # Conta as ocorrências das classes\n",
        "# count_class_1, count_class_0 = sub.label.value_counts()\n",
        "\n",
        "# # Separa as classes em dataframes diferentes\n",
        "# df_class_0 = sub[sub['label'] == 0]\n",
        "# df_class_1 = sub[sub['label'] == 1]\n",
        "\n",
        "# # Aleatório under-sampling da classe 1 (classe majoritária)\n",
        "# df_class_1_under = df_class_1.sample(count_class_0 + 20000)\n",
        "# df_sub = pd.concat([df_class_1_under, df_class_0], axis=0)\n",
        "\n",
        "# print(df_sub.shape)\n",
        "# df_sub.head()\n"
      ]
    },
    {
      "cell_type": "code",
      "execution_count": null,
      "metadata": {
        "id": "7T3JV1fLQc5f"
      },
      "outputs": [],
      "source": [
        "# # TESTE COM BALANCEAMENTO\n",
        "# X = df_sub[['review_text', 'reviewer_birth_year', 'reviewer_state']]\n",
        "# y = df_sub['label']\n",
        "# X_train, X_test, y_train, y_test = train_test_split(X, y, test_size=0.2, random_state=42)\n",
        "# m = pipe.fit(X_train, y_train)\n",
        "# m.score(X_test, y_test)\n"
      ]
    },
    {
      "cell_type": "code",
<<<<<<< HEAD:ml/notebooks/chegei/pipel_mixto_cvli.ipynb
      "execution_count": null,
=======
      "execution_count": 27,
>>>>>>> 3daecee (Testes no notebooks):ml/notebooks/esmpu/curso_ml/Pipeline_mixto_v2.ipynb
      "metadata": {
        "id": "8u26B2LQkV2E"
      },
      "outputs": [],
      "source": [
        "# Construção do pipeline diferenciado por tipo de coluna\n",
        "\n",
        "# Pacotes sklearn\n",
        "from sklearn.compose import ColumnTransformer\n",
        "from sklearn.feature_extraction.text import TfidfVectorizer\n",
        "from sklearn.linear_model import LogisticRegression\n",
        "from sklearn.pipeline import Pipeline\n",
        "from sklearn.preprocessing import OneHotEncoder, StandardScaler\n",
        "from sklearn.model_selection import train_test_split, GridSearchCV\n"
      ]
    },
    {
      "cell_type": "code",
<<<<<<< HEAD:ml/notebooks/chegei/pipel_mixto_cvli.ipynb
      "execution_count": null,
=======
      "execution_count": 28,
>>>>>>> 3daecee (Testes no notebooks):ml/notebooks/esmpu/curso_ml/Pipeline_mixto_v2.ipynb
      "metadata": {
        "id": "Ty8xLLuYlPbG"
      },
      "outputs": [],
      "source": [
        "from sklearn.linear_model import SGDClassifier\n"
      ]
    },
    {
      "cell_type": "code",
<<<<<<< HEAD:ml/notebooks/chegei/pipel_mixto_cvli.ipynb
      "execution_count": null,
=======
      "execution_count": 31,
>>>>>>> 3daecee (Testes no notebooks):ml/notebooks/esmpu/curso_ml/Pipeline_mixto_v2.ipynb
      "metadata": {
        "id": "QPIhCm9qkV2F"
      },
      "outputs": [],
      "source": [
        "# Detalhes ColumnTransformer: https://scikit-learn.org/stable/auto_examples/compose/plot_column_transformer_mixed_types.html\n",
        "preprocessor = ColumnTransformer(\n",
        "    transformers=[\n",
        "        (\n",
        "            \"text1\",\n",
        "            TfidfVectorizer(),\n",
        "            \"review_text\",\n",
        "        ),  # TfidfVectorizer accepts column name only between quotes\n",
        "        # ('text2', TfidfVectorizer(), 'product_description_text'),\n",
        "        (\"integer\", StandardScaler(), [\"reviewer_birth_year\"]),\n",
        "        (\"category\", OneHotEncoder(), [\"reviewer_state\"])\n",
        "        # remainder='passthrough'\n",
        "    ]\n",
        ")\n",
        "pipe = Pipeline(\n",
        "    steps=[\n",
        "        (\"preprocessor\", preprocessor),\n",
        "        (\"classifier\", LogisticRegression(max_iter=1000)),\n",
        "        # ('classifier', SGDClassifier())\n",
        "    ],\n",
        ")\n"
      ]
    },
    {
      "cell_type": "code",
      "execution_count": 34,
      "metadata": {},
      "outputs": [
        {
          "data": {
            "text/html": [
              "<div>\n",
              "<style scoped>\n",
              "    .dataframe tbody tr th:only-of-type {\n",
              "        vertical-align: middle;\n",
              "    }\n",
              "\n",
              "    .dataframe tbody tr th {\n",
              "        vertical-align: top;\n",
              "    }\n",
              "\n",
              "    .dataframe thead th {\n",
              "        text-align: right;\n",
              "    }\n",
              "</style>\n",
              "<table border=\"1\" class=\"dataframe\">\n",
              "  <thead>\n",
              "    <tr style=\"text-align: right;\">\n",
              "      <th></th>\n",
              "      <th>review_text</th>\n",
              "      <th>reviewer_birth_year</th>\n",
              "      <th>reviewer_state</th>\n",
              "    </tr>\n",
              "  </thead>\n",
              "  <tbody>\n",
              "    <tr>\n",
              "      <th>0</th>\n",
              "      <td>Estou contente com a compra entrega rápida o ú...</td>\n",
              "      <td>1958</td>\n",
              "      <td>RJ</td>\n",
              "    </tr>\n",
              "    <tr>\n",
              "      <th>1</th>\n",
              "      <td>Por apenas R$1994.20,eu consegui comprar esse ...</td>\n",
              "      <td>1996</td>\n",
              "      <td>SC</td>\n",
              "    </tr>\n",
              "    <tr>\n",
              "      <th>2</th>\n",
              "      <td>SUPERA EM AGILIDADE E PRATICIDADE OUTRAS PANEL...</td>\n",
              "      <td>1984</td>\n",
              "      <td>SP</td>\n",
              "    </tr>\n",
              "    <tr>\n",
              "      <th>3</th>\n",
              "      <td>MEU FILHO AMOU! PARECE DE VERDADE COM TANTOS D...</td>\n",
              "      <td>1985</td>\n",
              "      <td>SP</td>\n",
              "    </tr>\n",
              "    <tr>\n",
              "      <th>4</th>\n",
              "      <td>A entrega foi no prazo, as americanas estão de...</td>\n",
              "      <td>1994</td>\n",
              "      <td>MG</td>\n",
              "    </tr>\n",
              "    <tr>\n",
              "      <th>...</th>\n",
              "      <td>...</td>\n",
              "      <td>...</td>\n",
              "      <td>...</td>\n",
              "    </tr>\n",
              "    <tr>\n",
              "      <th>132368</th>\n",
              "      <td>Vale muito, estou usando no controle do Xbox e...</td>\n",
              "      <td>1988</td>\n",
              "      <td>RS</td>\n",
              "    </tr>\n",
              "    <tr>\n",
              "      <th>132369</th>\n",
              "      <td>Prático e barato, super indico o produto para ...</td>\n",
              "      <td>1979</td>\n",
              "      <td>SP</td>\n",
              "    </tr>\n",
              "    <tr>\n",
              "      <th>132370</th>\n",
              "      <td>Chegou antes do prazo previsto e corresponde a...</td>\n",
              "      <td>1979</td>\n",
              "      <td>PR</td>\n",
              "    </tr>\n",
              "    <tr>\n",
              "      <th>132371</th>\n",
              "      <td>Material fraco, poderia ser melhor. Ficou deve...</td>\n",
              "      <td>1991</td>\n",
              "      <td>RJ</td>\n",
              "    </tr>\n",
              "    <tr>\n",
              "      <th>132372</th>\n",
              "      <td>Comprei esse produto, quando chegou estava com...</td>\n",
              "      <td>1982</td>\n",
              "      <td>ES</td>\n",
              "    </tr>\n",
              "  </tbody>\n",
              "</table>\n",
              "<p>123321 rows × 3 columns</p>\n",
              "</div>"
            ],
            "text/plain": [
              "                                              review_text   \n",
              "0       Estou contente com a compra entrega rápida o ú...  \\\n",
              "1       Por apenas R$1994.20,eu consegui comprar esse ...   \n",
              "2       SUPERA EM AGILIDADE E PRATICIDADE OUTRAS PANEL...   \n",
              "3       MEU FILHO AMOU! PARECE DE VERDADE COM TANTOS D...   \n",
              "4       A entrega foi no prazo, as americanas estão de...   \n",
              "...                                                   ...   \n",
              "132368  Vale muito, estou usando no controle do Xbox e...   \n",
              "132369  Prático e barato, super indico o produto para ...   \n",
              "132370  Chegou antes do prazo previsto e corresponde a...   \n",
              "132371  Material fraco, poderia ser melhor. Ficou deve...   \n",
              "132372  Comprei esse produto, quando chegou estava com...   \n",
              "\n",
              "        reviewer_birth_year reviewer_state  \n",
              "0                      1958             RJ  \n",
              "1                      1996             SC  \n",
              "2                      1984             SP  \n",
              "3                      1985             SP  \n",
              "4                      1994             MG  \n",
              "...                     ...            ...  \n",
              "132368                 1988             RS  \n",
              "132369                 1979             SP  \n",
              "132370                 1979             PR  \n",
              "132371                 1991             RJ  \n",
              "132372                 1982             ES  \n",
              "\n",
              "[123321 rows x 3 columns]"
            ]
          },
          "execution_count": 34,
          "metadata": {},
          "output_type": "execute_result"
        }
      ],
      "source": [
        "X"
      ]
    },
    {
      "cell_type": "code",
<<<<<<< HEAD:ml/notebooks/chegei/pipel_mixto_cvli.ipynb
      "execution_count": null,
=======
      "execution_count": 32,
>>>>>>> 3daecee (Testes no notebooks):ml/notebooks/esmpu/curso_ml/Pipeline_mixto_v2.ipynb
      "metadata": {
        "id": "5XAOe4YakV2H"
      },
      "outputs": [],
      "source": [
        "X = sub[[\"review_text\", \"reviewer_birth_year\", \"reviewer_state\"]]\n",
        "y = sub[\"label\"]\n",
        "\n",
        "# X = sub[['review_text']]\n"
      ]
    },
    {
      "cell_type": "code",
<<<<<<< HEAD:ml/notebooks/chegei/pipel_mixto_cvli.ipynb
      "execution_count": null,
=======
      "execution_count": 33,
>>>>>>> 3daecee (Testes no notebooks):ml/notebooks/esmpu/curso_ml/Pipeline_mixto_v2.ipynb
      "metadata": {
        "colab": {
          "base_uri": "https://localhost:8080/"
        },
        "id": "PkEkl17KkV2J",
        "outputId": "3a204b9a-a8bb-4145-8300-877bc55abf1c"
      },
      "outputs": [
        {
          "name": "stdout",
          "output_type": "stream",
          "text": [
            "(123321, 3)\n",
            "(123321,)\n"
          ]
        }
      ],
      "source": [
        "print(X.shape)\n",
        "print(y.shape)\n"
      ]
    },
    {
      "cell_type": "code",
<<<<<<< HEAD:ml/notebooks/chegei/pipel_mixto_cvli.ipynb
      "execution_count": null,
=======
      "execution_count": 35,
>>>>>>> 3daecee (Testes no notebooks):ml/notebooks/esmpu/curso_ml/Pipeline_mixto_v2.ipynb
      "metadata": {
        "id": "AnITIChNkV2K"
      },
      "outputs": [],
      "source": [
        "# Partição treino/teste (20%)\n",
        "X_train, X_test, y_train, y_test = train_test_split(\n",
        "    X, y, test_size=0.2, random_state=42\n",
        ")\n"
      ]
    },
    {
      "cell_type": "code",
      "execution_count": null,
      "metadata": {
        "colab": {
          "base_uri": "https://localhost:8080/",
          "height": 165
        },
        "id": "P5HwIDLyg0Tr",
        "outputId": "1b5bb47f-8941-4570-9ab0-bd9d17de47c3"
      },
      "outputs": [],
      "source": [
        "# m.verbose = True\n"
      ]
    },
    {
      "cell_type": "code",
<<<<<<< HEAD:ml/notebooks/chegei/pipel_mixto_cvli.ipynb
      "execution_count": null,
=======
      "execution_count": 37,
>>>>>>> 3daecee (Testes no notebooks):ml/notebooks/esmpu/curso_ml/Pipeline_mixto_v2.ipynb
      "metadata": {
        "id": "2bZ5wKn5kV2M"
      },
      "outputs": [],
      "source": [
        "# Usando Regressão Logística\n",
        "m = pipe.fit(X_train, y_train)\n"
      ]
    },
    {
      "cell_type": "code",
<<<<<<< HEAD:ml/notebooks/chegei/pipel_mixto_cvli.ipynb
      "execution_count": null,
=======
      "execution_count": 39,
>>>>>>> 3daecee (Testes no notebooks):ml/notebooks/esmpu/curso_ml/Pipeline_mixto_v2.ipynb
      "metadata": {
        "id": "jFlTEYZJlbne"
      },
      "outputs": [],
      "source": [
        "# Usando SGDClassifier\n",
        "m = pipe.fit(X_train, y_train)\n"
      ]
    },
    {
      "cell_type": "code",
<<<<<<< HEAD:ml/notebooks/chegei/pipel_mixto_cvli.ipynb
      "execution_count": null,
=======
      "execution_count": 40,
>>>>>>> 3daecee (Testes no notebooks):ml/notebooks/esmpu/curso_ml/Pipeline_mixto_v2.ipynb
      "metadata": {
        "id": "EOK-YUAukV2O"
      },
      "outputs": [
        {
          "data": {
            "text/plain": [
              "0.8744374619906751"
            ]
          },
          "execution_count": 40,
          "metadata": {},
          "output_type": "execute_result"
        }
      ],
      "source": [
        "# Regressão Logística: Desempenho com texto da resenha, ano de nascimento e estado do autor da resenha\n",
        "m.score(X_test, y_test)\n"
      ]
    },
    {
      "cell_type": "code",
<<<<<<< HEAD:ml/notebooks/chegei/pipel_mixto_cvli.ipynb
      "execution_count": null,
=======
      "execution_count": 41,
>>>>>>> 3daecee (Testes no notebooks):ml/notebooks/esmpu/curso_ml/Pipeline_mixto_v2.ipynb
      "metadata": {
        "id": "QyWQFy9yluuV"
      },
      "outputs": [
        {
          "data": {
            "text/plain": [
              "0.8744374619906751"
            ]
          },
          "execution_count": 41,
          "metadata": {},
          "output_type": "execute_result"
        }
      ],
      "source": [
        "# SGDClassifier: Desempenho com texto da resenha, ano de nascimento e estado do autor da resenha\n",
        "m.score(X_test, y_test)\n"
      ]
    },
    {
      "cell_type": "code",
<<<<<<< HEAD:ml/notebooks/chegei/pipel_mixto_cvli.ipynb
      "execution_count": null,
=======
      "execution_count": 42,
>>>>>>> 3daecee (Testes no notebooks):ml/notebooks/esmpu/curso_ml/Pipeline_mixto_v2.ipynb
      "metadata": {
        "id": "yA9wXdFsemB_"
      },
      "outputs": [
        {
          "data": {
            "text/plain": [
              "0.8744374619906751"
            ]
          },
          "execution_count": 42,
          "metadata": {},
          "output_type": "execute_result"
        }
      ],
      "source": [
        "# Desempenho com texto da resenha\n",
        "m.score(X_test, y_test)\n"
      ]
    },
    {
      "cell_type": "code",
<<<<<<< HEAD:ml/notebooks/chegei/pipel_mixto_cvli.ipynb
      "execution_count": null,
=======
      "execution_count": 43,
>>>>>>> 3daecee (Testes no notebooks):ml/notebooks/esmpu/curso_ml/Pipeline_mixto_v2.ipynb
      "metadata": {
        "id": "dlHrcG1kkV2P"
      },
      "outputs": [
        {
          "data": {
            "text/plain": [
              "{'preprocessor': ColumnTransformer(transformers=[('text1', TfidfVectorizer(), 'review_text'),\n",
              "                                 ('integer', StandardScaler(),\n",
              "                                  ['reviewer_birth_year']),\n",
              "                                 ('category', OneHotEncoder(),\n",
              "                                  ['reviewer_state'])]),\n",
              " 'classifier': LogisticRegression(max_iter=1000)}"
            ]
          },
          "execution_count": 43,
          "metadata": {},
          "output_type": "execute_result"
        }
      ],
      "source": [
        "# Representação do pipeline\n",
        "# from sklearn import set_config\n",
        "# set_config()\n",
        "# set_config(display='diagram')\n",
        "m.named_steps\n"
      ]
    },
    {
      "cell_type": "code",
<<<<<<< HEAD:ml/notebooks/chegei/pipel_mixto_cvli.ipynb
      "execution_count": null,
=======
      "execution_count": 44,
>>>>>>> 3daecee (Testes no notebooks):ml/notebooks/esmpu/curso_ml/Pipeline_mixto_v2.ipynb
      "metadata": {
        "id": "-ZQpXwerkV2R"
      },
      "outputs": [],
      "source": [
        "# O pipeline definido anteriormente pode também ser utilizado em uma busca por hiper-parâmetros otimizados\n",
        "param_grid = {\"classifier__C\": [0.1, 1.0, 10],\n",
        "              \"classifier__penalty\": [\"l1\", \"l2\"]}\n"
      ]
    },
    {
      "cell_type": "code",
<<<<<<< HEAD:ml/notebooks/chegei/pipel_mixto_cvli.ipynb
      "execution_count": null,
=======
      "execution_count": 45,
>>>>>>> 3daecee (Testes no notebooks):ml/notebooks/esmpu/curso_ml/Pipeline_mixto_v2.ipynb
      "metadata": {
        "id": "g8ooZHbykV2T"
      },
      "outputs": [],
      "source": [
        "# GridSearch : pesquisa sistemática de todas as combinações de híper parâmetros.\n",
        "# Cuidado com a explosão combinatorial na pesquisa com múltiplos híper parâmetros com vários valores.\n",
        "grid_search = GridSearchCV(m, param_grid, n_jobs=-1, verbose=1, cv=3)\n"
      ]
    },
    {
      "attachments": {},
      "cell_type": "markdown",
      "metadata": {
        "id": "m3QCw-mYurYP"
      },
      "source": [
        "Solução alternativa a um Grid Search?\n",
        "\n",
        "https://scikit-learn.org/stable/modules/grid_search.html\n",
        "\n",
        "Random Search: https://scikit-learn.org/stable/modules/generated/sklearn.model_selection.RandomizedSearchCV.html\n",
        "\n",
        "Bayesian Search: https://towardsdatascience.com/hyperparameter-optimization-with-scikit-learn-scikit-opt-and-keras-f13367f3e796?gi=9e463b63d166\n"
      ]
    },
    {
      "cell_type": "code",
<<<<<<< HEAD:ml/notebooks/chegei/pipel_mixto_cvli.ipynb
<<<<<<< HEAD:ml/notebooks/chegei/pipel_mixto_cvli.ipynb
      "execution_count": 42,
=======
      "execution_count": null,
>>>>>>> 567897d (Ajustes):ml/notebooks/esmpu/curso_ml/Pipeline_mixto_v2.ipynb
      "metadata": {
        "id": "ezfNyLoInuHs"
      },
      "outputs": [
        {
          "name": "stdout",
          "output_type": "stream",
          "text": [
            "Fitting 3 folds for each of 6 candidates, totalling 18 fits\n"
          ]
        },
        {
          "name": "stderr",
          "output_type": "stream",
          "text": [
<<<<<<< HEAD:ml/notebooks/chegei/pipel_mixto_cvli.ipynb
            "/home/carlosroberto/Projetos/ai/Cursos/Esmpu/ia/.venv/lib/python3.10/site-packages/sklearn/model_selection/_validation.py:378: FitFailedWarning: \n",
=======
            "/Users/carlosroberto/anaconda3/lib/python3.10/site-packages/sklearn/model_selection/_validation.py:378: FitFailedWarning: \n",
>>>>>>> 567897d (Ajustes):ml/notebooks/esmpu/curso_ml/Pipeline_mixto_v2.ipynb
            "9 fits failed out of a total of 18.\n",
            "The score on these train-test partitions for these parameters will be set to nan.\n",
            "If these failures are not expected, you can try to debug them by setting error_score='raise'.\n",
            "\n",
            "Below are more details about the failures:\n",
            "--------------------------------------------------------------------------------\n",
            "9 fits failed with the following error:\n",
            "Traceback (most recent call last):\n",
<<<<<<< HEAD:ml/notebooks/chegei/pipel_mixto_cvli.ipynb
            "  File \"/home/carlosroberto/Projetos/ai/Cursos/Esmpu/ia/.venv/lib/python3.10/site-packages/sklearn/model_selection/_validation.py\", line 686, in _fit_and_score\n",
            "    estimator.fit(X_train, y_train, **fit_params)\n",
            "  File \"/home/carlosroberto/Projetos/ai/Cursos/Esmpu/ia/.venv/lib/python3.10/site-packages/sklearn/pipeline.py\", line 405, in fit\n",
            "    self._final_estimator.fit(Xt, y, **fit_params_last_step)\n",
            "  File \"/home/carlosroberto/Projetos/ai/Cursos/Esmpu/ia/.venv/lib/python3.10/site-packages/sklearn/linear_model/_logistic.py\", line 1162, in fit\n",
            "    solver = _check_solver(self.solver, self.penalty, self.dual)\n",
            "  File \"/home/carlosroberto/Projetos/ai/Cursos/Esmpu/ia/.venv/lib/python3.10/site-packages/sklearn/linear_model/_logistic.py\", line 54, in _check_solver\n",
=======
            "  File \"/Users/carlosroberto/anaconda3/lib/python3.10/site-packages/sklearn/model_selection/_validation.py\", line 686, in _fit_and_score\n",
            "    estimator.fit(X_train, y_train, **fit_params)\n",
            "  File \"/Users/carlosroberto/anaconda3/lib/python3.10/site-packages/sklearn/pipeline.py\", line 405, in fit\n",
            "    self._final_estimator.fit(Xt, y, **fit_params_last_step)\n",
            "  File \"/Users/carlosroberto/anaconda3/lib/python3.10/site-packages/sklearn/linear_model/_logistic.py\", line 1162, in fit\n",
            "    solver = _check_solver(self.solver, self.penalty, self.dual)\n",
            "  File \"/Users/carlosroberto/anaconda3/lib/python3.10/site-packages/sklearn/linear_model/_logistic.py\", line 54, in _check_solver\n",
>>>>>>> 567897d (Ajustes):ml/notebooks/esmpu/curso_ml/Pipeline_mixto_v2.ipynb
            "    raise ValueError(\n",
            "ValueError: Solver lbfgs supports only 'l2' or 'none' penalties, got l1 penalty.\n",
            "\n",
            "  warnings.warn(some_fits_failed_message, FitFailedWarning)\n",
<<<<<<< HEAD:ml/notebooks/chegei/pipel_mixto_cvli.ipynb
            "/home/carlosroberto/Projetos/ai/Cursos/Esmpu/ia/.venv/lib/python3.10/site-packages/sklearn/model_selection/_search.py:952: UserWarning: One or more of the test scores are non-finite: [       nan 0.86018081        nan 0.87068195        nan 0.86186345]\n",
=======
            "/Users/carlosroberto/anaconda3/lib/python3.10/site-packages/sklearn/model_selection/_search.py:952: UserWarning: One or more of the test scores are non-finite: [       nan 0.86018081        nan 0.87068195        nan 0.86186345]\n",
>>>>>>> 567897d (Ajustes):ml/notebooks/esmpu/curso_ml/Pipeline_mixto_v2.ipynb
            "  warnings.warn(\n"
          ]
        },
        {
          "data": {
            "text/html": [
              "<style>#sk-container-id-2 {color: black;background-color: white;}#sk-container-id-2 pre{padding: 0;}#sk-container-id-2 div.sk-toggleable {background-color: white;}#sk-container-id-2 label.sk-toggleable__label {cursor: pointer;display: block;width: 100%;margin-bottom: 0;padding: 0.3em;box-sizing: border-box;text-align: center;}#sk-container-id-2 label.sk-toggleable__label-arrow:before {content: \"▸\";float: left;margin-right: 0.25em;color: #696969;}#sk-container-id-2 label.sk-toggleable__label-arrow:hover:before {color: black;}#sk-container-id-2 div.sk-estimator:hover label.sk-toggleable__label-arrow:before {color: black;}#sk-container-id-2 div.sk-toggleable__content {max-height: 0;max-width: 0;overflow: hidden;text-align: left;background-color: #f0f8ff;}#sk-container-id-2 div.sk-toggleable__content pre {margin: 0.2em;color: black;border-radius: 0.25em;background-color: #f0f8ff;}#sk-container-id-2 input.sk-toggleable__control:checked~div.sk-toggleable__content {max-height: 200px;max-width: 100%;overflow: auto;}#sk-container-id-2 input.sk-toggleable__control:checked~label.sk-toggleable__label-arrow:before {content: \"▾\";}#sk-container-id-2 div.sk-estimator input.sk-toggleable__control:checked~label.sk-toggleable__label {background-color: #d4ebff;}#sk-container-id-2 div.sk-label input.sk-toggleable__control:checked~label.sk-toggleable__label {background-color: #d4ebff;}#sk-container-id-2 input.sk-hidden--visually {border: 0;clip: rect(1px 1px 1px 1px);clip: rect(1px, 1px, 1px, 1px);height: 1px;margin: -1px;overflow: hidden;padding: 0;position: absolute;width: 1px;}#sk-container-id-2 div.sk-estimator {font-family: monospace;background-color: #f0f8ff;border: 1px dotted black;border-radius: 0.25em;box-sizing: border-box;margin-bottom: 0.5em;}#sk-container-id-2 div.sk-estimator:hover {background-color: #d4ebff;}#sk-container-id-2 div.sk-parallel-item::after {content: \"\";width: 100%;border-bottom: 1px solid gray;flex-grow: 1;}#sk-container-id-2 div.sk-label:hover label.sk-toggleable__label {background-color: #d4ebff;}#sk-container-id-2 div.sk-serial::before {content: \"\";position: absolute;border-left: 1px solid gray;box-sizing: border-box;top: 0;bottom: 0;left: 50%;z-index: 0;}#sk-container-id-2 div.sk-serial {display: flex;flex-direction: column;align-items: center;background-color: white;padding-right: 0.2em;padding-left: 0.2em;position: relative;}#sk-container-id-2 div.sk-item {position: relative;z-index: 1;}#sk-container-id-2 div.sk-parallel {display: flex;align-items: stretch;justify-content: center;background-color: white;position: relative;}#sk-container-id-2 div.sk-item::before, #sk-container-id-2 div.sk-parallel-item::before {content: \"\";position: absolute;border-left: 1px solid gray;box-sizing: border-box;top: 0;bottom: 0;left: 50%;z-index: -1;}#sk-container-id-2 div.sk-parallel-item {display: flex;flex-direction: column;z-index: 1;position: relative;background-color: white;}#sk-container-id-2 div.sk-parallel-item:first-child::after {align-self: flex-end;width: 50%;}#sk-container-id-2 div.sk-parallel-item:last-child::after {align-self: flex-start;width: 50%;}#sk-container-id-2 div.sk-parallel-item:only-child::after {width: 0;}#sk-container-id-2 div.sk-dashed-wrapped {border: 1px dashed gray;margin: 0 0.4em 0.5em 0.4em;box-sizing: border-box;padding-bottom: 0.4em;background-color: white;}#sk-container-id-2 div.sk-label label {font-family: monospace;font-weight: bold;display: inline-block;line-height: 1.2em;}#sk-container-id-2 div.sk-label-container {text-align: center;}#sk-container-id-2 div.sk-container {/* jupyter's `normalize.less` sets `[hidden] { display: none; }` but bootstrap.min.css set `[hidden] { display: none !important; }` so we also need the `!important` here to be able to override the default hidden behavior on the sphinx rendered scikit-learn.org. See: https://github.com/scikit-learn/scikit-learn/issues/21755 */display: inline-block !important;position: relative;}#sk-container-id-2 div.sk-text-repr-fallback {display: none;}</style><div id=\"sk-container-id-2\" class=\"sk-top-container\"><div class=\"sk-text-repr-fallback\"><pre>GridSearchCV(cv=3,\n",
              "             estimator=Pipeline(steps=[(&#x27;preprocessor&#x27;,\n",
              "                                        ColumnTransformer(transformers=[(&#x27;text1&#x27;,\n",
              "                                                                         TfidfVectorizer(),\n",
              "                                                                         &#x27;review_text&#x27;),\n",
              "                                                                        (&#x27;integer&#x27;,\n",
              "                                                                         StandardScaler(),\n",
              "                                                                         [&#x27;reviewer_birth_year&#x27;]),\n",
              "                                                                        (&#x27;category&#x27;,\n",
              "                                                                         OneHotEncoder(),\n",
              "                                                                         [&#x27;reviewer_state&#x27;])])),\n",
              "                                       (&#x27;classifier&#x27;,\n",
              "                                        LogisticRegression(max_iter=1000))]),\n",
              "             n_jobs=-1,\n",
              "             param_grid={&#x27;classifier__C&#x27;: [0.1, 1.0, 10],\n",
              "                         &#x27;classifier__penalty&#x27;: [&#x27;l1&#x27;, &#x27;l2&#x27;]},\n",
              "             verbose=1)</pre><b>In a Jupyter environment, please rerun this cell to show the HTML representation or trust the notebook. <br />On GitHub, the HTML representation is unable to render, please try loading this page with nbviewer.org.</b></div><div class=\"sk-container\" hidden><div class=\"sk-item sk-dashed-wrapped\"><div class=\"sk-label-container\"><div class=\"sk-label sk-toggleable\"><input class=\"sk-toggleable__control sk-hidden--visually\" id=\"sk-estimator-id-11\" type=\"checkbox\" ><label for=\"sk-estimator-id-11\" class=\"sk-toggleable__label sk-toggleable__label-arrow\">GridSearchCV</label><div class=\"sk-toggleable__content\"><pre>GridSearchCV(cv=3,\n",
              "             estimator=Pipeline(steps=[(&#x27;preprocessor&#x27;,\n",
              "                                        ColumnTransformer(transformers=[(&#x27;text1&#x27;,\n",
              "                                                                         TfidfVectorizer(),\n",
              "                                                                         &#x27;review_text&#x27;),\n",
              "                                                                        (&#x27;integer&#x27;,\n",
              "                                                                         StandardScaler(),\n",
              "                                                                         [&#x27;reviewer_birth_year&#x27;]),\n",
              "                                                                        (&#x27;category&#x27;,\n",
              "                                                                         OneHotEncoder(),\n",
              "                                                                         [&#x27;reviewer_state&#x27;])])),\n",
              "                                       (&#x27;classifier&#x27;,\n",
              "                                        LogisticRegression(max_iter=1000))]),\n",
              "             n_jobs=-1,\n",
              "             param_grid={&#x27;classifier__C&#x27;: [0.1, 1.0, 10],\n",
              "                         &#x27;classifier__penalty&#x27;: [&#x27;l1&#x27;, &#x27;l2&#x27;]},\n",
              "             verbose=1)</pre></div></div></div><div class=\"sk-parallel\"><div class=\"sk-parallel-item\"><div class=\"sk-item\"><div class=\"sk-label-container\"><div class=\"sk-label sk-toggleable\"><input class=\"sk-toggleable__control sk-hidden--visually\" id=\"sk-estimator-id-12\" type=\"checkbox\" ><label for=\"sk-estimator-id-12\" class=\"sk-toggleable__label sk-toggleable__label-arrow\">estimator: Pipeline</label><div class=\"sk-toggleable__content\"><pre>Pipeline(steps=[(&#x27;preprocessor&#x27;,\n",
              "                 ColumnTransformer(transformers=[(&#x27;text1&#x27;, TfidfVectorizer(),\n",
              "                                                  &#x27;review_text&#x27;),\n",
              "                                                 (&#x27;integer&#x27;, StandardScaler(),\n",
              "                                                  [&#x27;reviewer_birth_year&#x27;]),\n",
              "                                                 (&#x27;category&#x27;, OneHotEncoder(),\n",
              "                                                  [&#x27;reviewer_state&#x27;])])),\n",
              "                (&#x27;classifier&#x27;, LogisticRegression(max_iter=1000))])</pre></div></div></div><div class=\"sk-serial\"><div class=\"sk-item\"><div class=\"sk-serial\"><div class=\"sk-item sk-dashed-wrapped\"><div class=\"sk-label-container\"><div class=\"sk-label sk-toggleable\"><input class=\"sk-toggleable__control sk-hidden--visually\" id=\"sk-estimator-id-13\" type=\"checkbox\" ><label for=\"sk-estimator-id-13\" class=\"sk-toggleable__label sk-toggleable__label-arrow\">preprocessor: ColumnTransformer</label><div class=\"sk-toggleable__content\"><pre>ColumnTransformer(transformers=[(&#x27;text1&#x27;, TfidfVectorizer(), &#x27;review_text&#x27;),\n",
              "                                (&#x27;integer&#x27;, StandardScaler(),\n",
              "                                 [&#x27;reviewer_birth_year&#x27;]),\n",
              "                                (&#x27;category&#x27;, OneHotEncoder(),\n",
              "                                 [&#x27;reviewer_state&#x27;])])</pre></div></div></div><div class=\"sk-parallel\"><div class=\"sk-parallel-item\"><div class=\"sk-item\"><div class=\"sk-label-container\"><div class=\"sk-label sk-toggleable\"><input class=\"sk-toggleable__control sk-hidden--visually\" id=\"sk-estimator-id-14\" type=\"checkbox\" ><label for=\"sk-estimator-id-14\" class=\"sk-toggleable__label sk-toggleable__label-arrow\">text1</label><div class=\"sk-toggleable__content\"><pre>review_text</pre></div></div></div><div class=\"sk-serial\"><div class=\"sk-item\"><div class=\"sk-estimator sk-toggleable\"><input class=\"sk-toggleable__control sk-hidden--visually\" id=\"sk-estimator-id-15\" type=\"checkbox\" ><label for=\"sk-estimator-id-15\" class=\"sk-toggleable__label sk-toggleable__label-arrow\">TfidfVectorizer</label><div class=\"sk-toggleable__content\"><pre>TfidfVectorizer()</pre></div></div></div></div></div></div><div class=\"sk-parallel-item\"><div class=\"sk-item\"><div class=\"sk-label-container\"><div class=\"sk-label sk-toggleable\"><input class=\"sk-toggleable__control sk-hidden--visually\" id=\"sk-estimator-id-16\" type=\"checkbox\" ><label for=\"sk-estimator-id-16\" class=\"sk-toggleable__label sk-toggleable__label-arrow\">integer</label><div class=\"sk-toggleable__content\"><pre>[&#x27;reviewer_birth_year&#x27;]</pre></div></div></div><div class=\"sk-serial\"><div class=\"sk-item\"><div class=\"sk-estimator sk-toggleable\"><input class=\"sk-toggleable__control sk-hidden--visually\" id=\"sk-estimator-id-17\" type=\"checkbox\" ><label for=\"sk-estimator-id-17\" class=\"sk-toggleable__label sk-toggleable__label-arrow\">StandardScaler</label><div class=\"sk-toggleable__content\"><pre>StandardScaler()</pre></div></div></div></div></div></div><div class=\"sk-parallel-item\"><div class=\"sk-item\"><div class=\"sk-label-container\"><div class=\"sk-label sk-toggleable\"><input class=\"sk-toggleable__control sk-hidden--visually\" id=\"sk-estimator-id-18\" type=\"checkbox\" ><label for=\"sk-estimator-id-18\" class=\"sk-toggleable__label sk-toggleable__label-arrow\">category</label><div class=\"sk-toggleable__content\"><pre>[&#x27;reviewer_state&#x27;]</pre></div></div></div><div class=\"sk-serial\"><div class=\"sk-item\"><div class=\"sk-estimator sk-toggleable\"><input class=\"sk-toggleable__control sk-hidden--visually\" id=\"sk-estimator-id-19\" type=\"checkbox\" ><label for=\"sk-estimator-id-19\" class=\"sk-toggleable__label sk-toggleable__label-arrow\">OneHotEncoder</label><div class=\"sk-toggleable__content\"><pre>OneHotEncoder()</pre></div></div></div></div></div></div></div></div><div class=\"sk-item\"><div class=\"sk-estimator sk-toggleable\"><input class=\"sk-toggleable__control sk-hidden--visually\" id=\"sk-estimator-id-20\" type=\"checkbox\" ><label for=\"sk-estimator-id-20\" class=\"sk-toggleable__label sk-toggleable__label-arrow\">LogisticRegression</label><div class=\"sk-toggleable__content\"><pre>LogisticRegression(max_iter=1000)</pre></div></div></div></div></div></div></div></div></div></div></div></div>"
            ],
            "text/plain": [
              "GridSearchCV(cv=3,\n",
              "             estimator=Pipeline(steps=[('preprocessor',\n",
              "                                        ColumnTransformer(transformers=[('text1',\n",
              "                                                                         TfidfVectorizer(),\n",
              "                                                                         'review_text'),\n",
              "                                                                        ('integer',\n",
              "                                                                         StandardScaler(),\n",
              "                                                                         ['reviewer_birth_year']),\n",
              "                                                                        ('category',\n",
              "                                                                         OneHotEncoder(),\n",
              "                                                                         ['reviewer_state'])])),\n",
              "                                       ('classifier',\n",
              "                                        LogisticRegression(max_iter=1000))]),\n",
              "             n_jobs=-1,\n",
              "             param_grid={'classifier__C': [0.1, 1.0, 10],\n",
              "                         'classifier__penalty': ['l1', 'l2']},\n",
              "             verbose=1)"
            ]
          },
          "execution_count": 42,
          "metadata": {},
          "output_type": "execute_result"
        }
      ],
=======
      "execution_count": null,
      "metadata": {
        "id": "ezfNyLoInuHs"
      },
      "outputs": [],
>>>>>>> 3daecee (Testes no notebooks):ml/notebooks/esmpu/curso_ml/Pipeline_mixto_v2.ipynb
      "source": [
        "grid_search.fit(X_train, y_train.values.ravel())\n"
      ]
    },
    {
      "cell_type": "code",
<<<<<<< HEAD:ml/notebooks/chegei/pipel_mixto_cvli.ipynb
<<<<<<< HEAD:ml/notebooks/chegei/pipel_mixto_cvli.ipynb
      "execution_count": 61,
=======
      "execution_count": null,
>>>>>>> 567897d (Ajustes):ml/notebooks/esmpu/curso_ml/Pipeline_mixto_v2.ipynb
      "metadata": {
        "id": "6hQyodbvkV2W"
      },
      "outputs": [
        {
          "data": {
            "text/plain": [
              "0.8744374619906751"
            ]
          },
          "execution_count": 61,
          "metadata": {},
          "output_type": "execute_result"
        }
      ],
=======
      "execution_count": null,
      "metadata": {
        "id": "6hQyodbvkV2W"
      },
      "outputs": [],
>>>>>>> 3daecee (Testes no notebooks):ml/notebooks/esmpu/curso_ml/Pipeline_mixto_v2.ipynb
      "source": [
        "grid_search.score(X_test, y_test)\n"
      ]
    },
    {
      "cell_type": "code",
<<<<<<< HEAD:ml/notebooks/chegei/pipel_mixto_cvli.ipynb
<<<<<<< HEAD:ml/notebooks/chegei/pipel_mixto_cvli.ipynb
      "execution_count": 60,
=======
      "execution_count": null,
>>>>>>> 567897d (Ajustes):ml/notebooks/esmpu/curso_ml/Pipeline_mixto_v2.ipynb
      "metadata": {
        "id": "mLG-wh97kV2Z"
      },
      "outputs": [
        {
          "data": {
            "text/plain": [
              "{'memory': None,\n",
              " 'steps': [('preprocessor',\n",
              "   ColumnTransformer(transformers=[('text1', TfidfVectorizer(), 'review_text'),\n",
              "                                   ('integer', StandardScaler(),\n",
              "                                    ['reviewer_birth_year']),\n",
              "                                   ('category', OneHotEncoder(),\n",
              "                                    ['reviewer_state'])])),\n",
              "  ('classifier', LogisticRegression(max_iter=1000))],\n",
              " 'verbose': False,\n",
              " 'preprocessor': ColumnTransformer(transformers=[('text1', TfidfVectorizer(), 'review_text'),\n",
              "                                 ('integer', StandardScaler(),\n",
              "                                  ['reviewer_birth_year']),\n",
              "                                 ('category', OneHotEncoder(),\n",
              "                                  ['reviewer_state'])]),\n",
              " 'classifier': LogisticRegression(max_iter=1000),\n",
              " 'preprocessor__n_jobs': None,\n",
              " 'preprocessor__remainder': 'drop',\n",
              " 'preprocessor__sparse_threshold': 0.3,\n",
              " 'preprocessor__transformer_weights': None,\n",
              " 'preprocessor__transformers': [('text1', TfidfVectorizer(), 'review_text'),\n",
              "  ('integer', StandardScaler(), ['reviewer_birth_year']),\n",
              "  ('category', OneHotEncoder(), ['reviewer_state'])],\n",
              " 'preprocessor__verbose': False,\n",
              " 'preprocessor__verbose_feature_names_out': True,\n",
              " 'preprocessor__text1': TfidfVectorizer(),\n",
              " 'preprocessor__integer': StandardScaler(),\n",
              " 'preprocessor__category': OneHotEncoder(),\n",
              " 'preprocessor__text1__analyzer': 'word',\n",
              " 'preprocessor__text1__binary': False,\n",
              " 'preprocessor__text1__decode_error': 'strict',\n",
              " 'preprocessor__text1__dtype': numpy.float64,\n",
              " 'preprocessor__text1__encoding': 'utf-8',\n",
              " 'preprocessor__text1__input': 'content',\n",
              " 'preprocessor__text1__lowercase': True,\n",
              " 'preprocessor__text1__max_df': 1.0,\n",
              " 'preprocessor__text1__max_features': None,\n",
              " 'preprocessor__text1__min_df': 1,\n",
              " 'preprocessor__text1__ngram_range': (1, 1),\n",
              " 'preprocessor__text1__norm': 'l2',\n",
              " 'preprocessor__text1__preprocessor': None,\n",
              " 'preprocessor__text1__smooth_idf': True,\n",
              " 'preprocessor__text1__stop_words': None,\n",
              " 'preprocessor__text1__strip_accents': None,\n",
              " 'preprocessor__text1__sublinear_tf': False,\n",
              " 'preprocessor__text1__token_pattern': '(?u)\\\\b\\\\w\\\\w+\\\\b',\n",
              " 'preprocessor__text1__tokenizer': None,\n",
              " 'preprocessor__text1__use_idf': True,\n",
              " 'preprocessor__text1__vocabulary': None,\n",
              " 'preprocessor__integer__copy': True,\n",
              " 'preprocessor__integer__with_mean': True,\n",
              " 'preprocessor__integer__with_std': True,\n",
              " 'preprocessor__category__categories': 'auto',\n",
              " 'preprocessor__category__drop': None,\n",
              " 'preprocessor__category__dtype': numpy.float64,\n",
              " 'preprocessor__category__handle_unknown': 'error',\n",
              " 'preprocessor__category__max_categories': None,\n",
              " 'preprocessor__category__min_frequency': None,\n",
              " 'preprocessor__category__sparse': 'deprecated',\n",
              " 'preprocessor__category__sparse_output': True,\n",
              " 'classifier__C': 1.0,\n",
              " 'classifier__class_weight': None,\n",
              " 'classifier__dual': False,\n",
              " 'classifier__fit_intercept': True,\n",
              " 'classifier__intercept_scaling': 1,\n",
              " 'classifier__l1_ratio': None,\n",
              " 'classifier__max_iter': 1000,\n",
              " 'classifier__multi_class': 'auto',\n",
              " 'classifier__n_jobs': None,\n",
              " 'classifier__penalty': 'l2',\n",
              " 'classifier__random_state': None,\n",
              " 'classifier__solver': 'lbfgs',\n",
              " 'classifier__tol': 0.0001,\n",
              " 'classifier__verbose': 0,\n",
              " 'classifier__warm_start': False}"
            ]
          },
<<<<<<< HEAD:ml/notebooks/chegei/pipel_mixto_cvli.ipynb
          "execution_count": 60,
=======
          "execution_count": 43,
>>>>>>> 567897d (Ajustes):ml/notebooks/esmpu/curso_ml/Pipeline_mixto_v2.ipynb
          "metadata": {},
          "output_type": "execute_result"
        }
      ],
=======
      "execution_count": null,
      "metadata": {
        "id": "mLG-wh97kV2Z"
      },
      "outputs": [],
>>>>>>> 3daecee (Testes no notebooks):ml/notebooks/esmpu/curso_ml/Pipeline_mixto_v2.ipynb
      "source": [
        "best = grid_search.best_estimator_.get_params()\n",
        "best\n"
      ]
    },
    {
      "cell_type": "code",
<<<<<<< HEAD:ml/notebooks/chegei/pipel_mixto_cvli.ipynb
<<<<<<< HEAD:ml/notebooks/chegei/pipel_mixto_cvli.ipynb
      "execution_count": 62,
=======
      "execution_count": null,
>>>>>>> 567897d (Ajustes):ml/notebooks/esmpu/curso_ml/Pipeline_mixto_v2.ipynb
=======
      "execution_count": null,
>>>>>>> 3daecee (Testes no notebooks):ml/notebooks/esmpu/curso_ml/Pipeline_mixto_v2.ipynb
      "metadata": {
        "id": "EcbQTMf4kV2b"
      },
      "outputs": [],
      "source": [
        "for p in sorted(param_grid.keys()):\n",
        "    print(f\"{p}: {best[p]}\")\n"
      ]
    },
    {
      "cell_type": "code",
<<<<<<< HEAD:ml/notebooks/chegei/pipel_mixto_cvli.ipynb
<<<<<<< HEAD:ml/notebooks/chegei/pipel_mixto_cvli.ipynb
      "execution_count": 37,
=======
      "execution_count": null,
>>>>>>> 3daecee (Testes no notebooks):ml/notebooks/esmpu/curso_ml/Pipeline_mixto_v2.ipynb
      "metadata": {
        "id": "YSzd3uxOwmje"
      },
      "outputs": [],
      "source": [
        "# Para combinações de diferentes métricas de desempenho (avaliação) do seu modelo, veja fonte: https://scikit-learn.org/stable/modules/model_evaluation.html"
      ]
    },
    {
      "cell_type": "code",
<<<<<<< HEAD:ml/notebooks/chegei/pipel_mixto_cvli.ipynb
=======
>>>>>>> 567897d (Ajustes):ml/notebooks/esmpu/curso_ml/Pipeline_mixto_v2.ipynb
=======
>>>>>>> 3daecee (Testes no notebooks):ml/notebooks/esmpu/curso_ml/Pipeline_mixto_v2.ipynb
      "execution_count": null,
      "metadata": {
        "id": "erMcGW8bkV2c"
      },
      "outputs": [],
<<<<<<< HEAD:ml/notebooks/chegei/pipel_mixto_cvli.ipynb
<<<<<<< HEAD:ml/notebooks/chegei/pipel_mixto_cvli.ipynb
=======
>>>>>>> 3daecee (Testes no notebooks):ml/notebooks/esmpu/curso_ml/Pipeline_mixto_v2.ipynb
      "source": [
        "# from sklearn.metrics import plot_confusion_matrix\n",
        "# plot_confusion_matrix(grid_search, X_test, y_test.values.ravel(), values_format=\"d\")"
=======
      "source": [
        "# from sklearn.metrics import plot_confusion_matrix\\import\n",
        "import matplotlib.pyplot as plt\n",
        "from sklearn.metrics import confusion_matrix, ConfusionMatrixDisplay\n"
      ]
    },
    {
      "cell_type": "code",
      "execution_count": null,
      "metadata": {
        "id": "bR_8ftz4kV2e"
      },
      "outputs": [
        {
          "ename": "TypeError",
          "evalue": "confusion_matrix() got an unexpected keyword argument 'values_format'",
          "output_type": "error",
          "traceback": [
            "\u001b[0;31m---------------------------------------------------------------------------\u001b[0m",
            "\u001b[0;31mTypeError\u001b[0m                                 Traceback (most recent call last)",
            "Cell \u001b[0;32mIn[42], line 1\u001b[0m\n\u001b[0;32m----> 1\u001b[0m confusion_matrix(grid_search, X_test,\n\u001b[1;32m      2\u001b[0m                       y_test\u001b[39m.\u001b[39;49mvalues\u001b[39m.\u001b[39;49mravel(), values_format\u001b[39m=\u001b[39;49m\u001b[39m\"\u001b[39;49m\u001b[39md\u001b[39;49m\u001b[39m\"\u001b[39;49m)\n",
            "\u001b[0;31mTypeError\u001b[0m: confusion_matrix() got an unexpected keyword argument 'values_format'"
          ]
        }
      ],
      "source": [
        "plot_confusion_matrix(grid_search, X_test,\n",
        "                      y_test.values.ravel(), values_format=\"d\")\n"
>>>>>>> 567897d (Ajustes):ml/notebooks/esmpu/curso_ml/Pipeline_mixto_v2.ipynb
      ]
    },
    {
      "cell_type": "code",
      "execution_count": null,
      "metadata": {
        "id": "BRwpkkUQu8ws"
      },
      "outputs": [],
      "source": [
        "import joblib\n",
        "from joblib import dump, load\n"
      ]
    },
    {
      "cell_type": "code",
      "execution_count": null,
      "metadata": {
        "id": "hfYHiEobuFW4"
      },
      "outputs": [],
      "source": [
        "best_model = joblib.dump(grid_search, \"best_model.pkl\")\n"
      ]
    },
    {
      "cell_type": "code",
      "execution_count": null,
      "metadata": {
        "id": "mSFZjV3rtYnL"
      },
      "outputs": [],
      "source": [
        "best_model = joblib.load(\"best_model.pkl\")\n"
      ]
    },
    {
      "cell_type": "code",
      "execution_count": null,
      "metadata": {
        "id": "gk2_NUdKuuTQ"
      },
      "outputs": [],
      "source": [
        "preds = best_model.predict(X_test)\n"
      ]
    },
    {
      "cell_type": "code",
      "execution_count": null,
      "metadata": {
        "id": "JdsU8Cc8u0er"
      },
      "outputs": [],
      "source": [
        "preds\n"
      ]
    },
    {
      "cell_type": "code",
      "execution_count": null,
      "metadata": {
        "id": "sRNn9JgFsYBT"
      },
      "outputs": [],
      "source": [
        "# Melhor resultado após GridSearchCV em modelo de regressão logística\n",
        "best_model.best_score_\n"
      ]
    },
    {
      "cell_type": "code",
      "execution_count": null,
      "metadata": {
        "id": "pwSwaJu2u3K7"
      },
      "outputs": [],
      "source": [
<<<<<<< HEAD:ml/notebooks/chegei/pipel_mixto_cvli.ipynb
        "#plot_confusion_matrix(best_model, X_test, y_test.values.ravel(), values_format=\"d\")"
      ]
    },
    {
      "cell_type": "code",
      "execution_count": null,
      "metadata": {},
      "outputs": [],
      "source": [
        "# >>> import matplotlib.pyplot as plt\n",
        "# >>> from sklearn.datasets import make_classification\n",
        "# >>> from sklearn.metrics import confusion_matrix, ConfusionMatrixDisplay\n",
        "# >>> from sklearn.model_selection import train_test_split\n",
        "# >>> from sklearn.svm import SVC\n",
        "# >>> X, y = make_classification(random_state=0)\n",
        "# >>> X_train, X_test, y_train, y_test = train_test_split(X, y,\n",
        "# ...                                                     random_state=0)\n",
        "# >>> clf = SVC(random_state=0)\n",
        "# >>> clf.fit(X_train, y_train)\n",
        "# SVC(random_state=0)\n",
        "# >>> predictions = clf.predict(X_test)\n",
        "# >>> cm = confusion_matrix(y_test, predictions, labels=clf.classes_)\n",
        "# >>> disp = ConfusionMatrixDisplay(confusion_matrix=cm,\n",
        "# ...                               display_labels=clf.classes_)\n",
        "# >>> disp.plot()\n",
        "# <...>\n",
        "# >>> plt.show()\n",
        "\n",
        "import matplotlib.pyplot as plt\n",
        "from sklearn.datasets import make_classification\n",
        "from sklearn.metrics import confusion_matrix, ConfusionMatrixDisplay\n",
        "from sklearn.model_selection import train_test_split\n",
        "from sklearn.svm import SVC\n",
        "\n",
        "predictions = preds\n",
        "cm = confusion_matrix(best_model, predictions, labels=clf.classes_)\n",
        "disp = ConfusionMatrixDisplay(confusion_matrix=cm, display_labels=clf.classes_)\n",
        "disp.plot()\n",
        "plt.show()"
=======
        "plot_confusion_matrix(best_model, X_test,\n",
        "                      y_test.values.ravel(), values_format=\"d\")\n"
>>>>>>> 567897d (Ajustes):ml/notebooks/esmpu/curso_ml/Pipeline_mixto_v2.ipynb
      ]
    },
    {
      "attachments": {},
      "cell_type": "markdown",
      "metadata": {
        "id": "Led0_RO7ze60"
      },
      "source": [
        "### Teste de xgboost (XGBClassifier)\n"
      ]
    },
    {
      "cell_type": "code",
      "execution_count": null,
      "metadata": {
        "id": "Hu6Sgpc9v0Aq"
      },
      "outputs": [],
      "source": [
        "from xgboost import XGBClassifier\n",
        "\n",
        "# altera o pipeline\n",
        "pipe = Pipeline(\n",
        "    steps=[\n",
        "        (\"preprocessor\", preprocessor),\n",
        "        (\"classifier\", XGBClassifier(n_estimators=150, max_depth=4)),\n",
        "    ],\n",
        ")\n",
        "\n",
        "# model_xgboost = XGBClassifier()\n",
        "model_xgboost = pipe.fit(X_train, y_train)\n",
        "model_xgboost.score(X_test, y_test)\n"
      ]
    },
    {
      "cell_type": "code",
      "execution_count": null,
      "metadata": {
        "id": "SQpqZSJdylQ5"
      },
      "outputs": [],
      "source": [
        "# xgboost_preds = model_xgboost.predict(X_test)\n",
        "plot_confusion_matrix(model_xgboost, X_test,\n",
        "                      y_test.values.ravel(), values_format=\"d\")\n"
      ]
    },
    {
      "cell_type": "code",
      "execution_count": null,
      "metadata": {
        "id": "TDWfLDqaz9nR"
      },
      "outputs": [],
      "source": []
    }
  ],
  "metadata": {
    "colab": {
      "provenance": []
    },
    "kernelspec": {
      "display_name": "Python 3",
      "language": "python",
      "name": "python3"
    },
    "language_info": {
      "codemirror_mode": {
        "name": "ipython",
        "version": 3
      },
      "file_extension": ".py",
      "mimetype": "text/x-python",
      "name": "python",
      "nbconvert_exporter": "python",
      "pygments_lexer": "ipython3",
      "version": "3.10.9"
    }
  },
  "nbformat": 4,
  "nbformat_minor": 0
}
