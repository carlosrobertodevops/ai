{
 "cells": [
  {
   "cell_type": "code",
   "execution_count": 1,
   "metadata": {},
   "outputs": [],
   "source": [
    "import sys\n",
    "import os\n",
    "# add library module to PYTHONPATH\n",
    "sys.path.append(f\"{os.getcwd()}/../\")\n",
    "\n",
    "import sklearn\n",
    "from sklearn.tree import DecisionTreeClassifier, DecisionTreeRegressor\n",
    "from dtreeviz.trees import *\n",
    "\n",
    "import dtreeviz\n",
    "\n",
    "import pandas as pd\n",
    "\n",
    "from dtreeviz.trees import *\n",
    "from IPython.display import Image, display_svg, SVG\n",
    "\n",
    "%load_ext autoreload\n",
    "%autoreload 2\n",
    "\n"
   ]
  },
  {
   "cell_type": "code",
   "execution_count": 2,
   "metadata": {},
   "outputs": [],
   "source": [
    "%matplotlib inline"
   ]
  },
  {
   "cell_type": "markdown",
   "metadata": {},
   "source": [
    "# Issue #86\n",
    "https://github.com/parrt/dtreeviz/issues/86"
   ]
  },
  {
   "cell_type": "code",
   "execution_count": 3,
   "metadata": {},
   "outputs": [
    {
     "ename": "TypeError",
     "evalue": "'module' object is not callable",
     "output_type": "error",
     "traceback": [
      "\u001b[1;31m---------------------------------------------------------------------------\u001b[0m",
      "\u001b[1;31mTypeError\u001b[0m                                 Traceback (most recent call last)",
      "Cell \u001b[1;32mIn[3], line 11\u001b[0m\n\u001b[0;32m      8\u001b[0m classifier\u001b[39m.\u001b[39mfit(df[[\u001b[39m\"\u001b[39m\u001b[39mfeature_1_converted\u001b[39m\u001b[39m\"\u001b[39m, \u001b[39m\"\u001b[39m\u001b[39mfeature_2\u001b[39m\u001b[39m\"\u001b[39m]], \n\u001b[0;32m      9\u001b[0m                df[\u001b[39m\"\u001b[39m\u001b[39mtarget\u001b[39m\u001b[39m\"\u001b[39m])\n\u001b[0;32m     10\u001b[0m \u001b[39m# try to plot the tree with original features\u001b[39;00m\n\u001b[1;32m---> 11\u001b[0m viz \u001b[39m=\u001b[39m dtreeviz(classifier, df[[\u001b[39m\"\u001b[39;49m\u001b[39mfeature_1_converted\u001b[39;49m\u001b[39m\"\u001b[39;49m, \u001b[39m\"\u001b[39;49m\u001b[39mfeature_2\u001b[39;49m\u001b[39m\"\u001b[39;49m]],\n\u001b[0;32m     12\u001b[0m                df[\u001b[39m\"\u001b[39;49m\u001b[39mtarget\u001b[39;49m\u001b[39m\"\u001b[39;49m], \n\u001b[0;32m     13\u001b[0m                target_name\u001b[39m=\u001b[39;49m\u001b[39m'\u001b[39;49m\u001b[39mtarget\u001b[39;49m\u001b[39m'\u001b[39;49m,  \n\u001b[0;32m     14\u001b[0m                feature_names\u001b[39m=\u001b[39;49m[\u001b[39m\"\u001b[39;49m\u001b[39mfeature_1\u001b[39;49m\u001b[39m\"\u001b[39;49m, \u001b[39m\"\u001b[39;49m\u001b[39mfeature_2\u001b[39;49m\u001b[39m\"\u001b[39;49m], \n\u001b[0;32m     15\u001b[0m                class_names\u001b[39m=\u001b[39;49m[\u001b[39m\"\u001b[39;49m\u001b[39m0\u001b[39;49m\u001b[39m\"\u001b[39;49m, \u001b[39m\"\u001b[39;49m\u001b[39m1\u001b[39;49m\u001b[39m\"\u001b[39;49m])\n\u001b[0;32m     16\u001b[0m viz\n",
      "\u001b[1;31mTypeError\u001b[0m: 'module' object is not callable"
     ]
    }
   ],
   "source": [
    "df = pd.DataFrame({\"feature_1\": [\"a\",\"a\",\"a\",\"a\",\"a\",\"b\",\"b\",\"b\",\"b\",\"b\"], \n",
    "                   \"feature_2\": [0,0,0,0,1,0,1,1,1,1], \n",
    "                   \"target\": [0,0,0,0,0,1,1,1,1,1]})\n",
    "# apply categorical conversion\n",
    "df[\"feature_1_converted\"] = [0,0,0,0,0,1,1,1,1,1]\n",
    "# train the tree with converted feature\n",
    "classifier = tree.DecisionTreeClassifier(max_depth=3)   \n",
    "classifier.fit(df[[\"feature_1_converted\", \"feature_2\"]], \n",
    "               df[\"target\"])\n",
    "# try to plot the tree with original features\n",
    "viz = dtreeviz(classifier, df[[\"feature_1_converted\", \"feature_2\"]],\n",
    "               df[\"target\"], \n",
    "               target_name='target',  \n",
    "               feature_names=[\"feature_1\", \"feature_2\"], \n",
    "               class_names=[\"0\", \"1\"])\n",
    "viz"
   ]
  }
 ],
 "metadata": {
  "kernelspec": {
   "display_name": "Python 3",
   "language": "python",
   "name": "python3"
  },
  "language_info": {
   "codemirror_mode": {
    "name": "ipython",
    "version": 3
   },
   "file_extension": ".py",
   "mimetype": "text/x-python",
   "name": "python",
   "nbconvert_exporter": "python",
   "pygments_lexer": "ipython3",
   "version": "3.10.11"
  },
  "toc": {
   "base_numbering": 1,
   "nav_menu": {},
   "number_sections": true,
   "sideBar": true,
   "skip_h1_title": false,
   "title_cell": "Table of Contents",
   "title_sidebar": "Contents",
   "toc_cell": false,
   "toc_position": {},
   "toc_section_display": true,
   "toc_window_display": false
  }
 },
 "nbformat": 4,
 "nbformat_minor": 4
}
