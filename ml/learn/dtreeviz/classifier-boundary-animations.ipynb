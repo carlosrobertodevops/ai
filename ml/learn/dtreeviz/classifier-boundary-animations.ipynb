{
 "cells": [
  {
   "attachments": {},
   "cell_type": "markdown",
   "metadata": {},
   "source": [
    "# Animations showing feature space and classification boundaries\n",
    "\n",
    "While dtreeviz is dedicated primarily to showing decision trees, we have also provided a way to show the decision boundaries for one- and two- variable classifiers. The `decision_boundaries()` function will work with any model that answers method `predict_proba()` and with Keras, for which we provided a special adapter (since that method is deprecated).\n",
    "\n",
    "Using a silly little `pltvid` library I built, we can do some simple animations. I think it doesn't work on Windows because I directly relied on `/tmp` dir. Sorry.\n",
    "\n",
    "## Requirements\n",
    "\n",
    "**This notebook requires poppler lib due to pltvid lib**\n",
    "\n",
    "On mac:\n",
    "\n",
    "```\n",
    "brew install poppler\n",
    "```\n",
    "\n",
    "Also needs my helper lib:\n"
   ]
  },
  {
   "cell_type": "code",
   "execution_count": 1,
   "metadata": {},
   "outputs": [],
   "source": [
    "! pip install --quiet -U pltvid  # simple animation support by parrt"
   ]
  },
  {
   "cell_type": "code",
   "execution_count": 2,
   "metadata": {},
   "outputs": [
    {
     "ename": "ImportError",
     "evalue": "\n`load_boston` has been removed from scikit-learn since version 1.2.\n\nThe Boston housing prices dataset has an ethical problem: as\ninvestigated in [1], the authors of this dataset engineered a\nnon-invertible variable \"B\" assuming that racial self-segregation had a\npositive impact on house prices [2]. Furthermore the goal of the\nresearch that led to the creation of this dataset was to study the\nimpact of air quality but it did not give adequate demonstration of the\nvalidity of this assumption.\n\nThe scikit-learn maintainers therefore strongly discourage the use of\nthis dataset unless the purpose of the code is to study and educate\nabout ethical issues in data science and machine learning.\n\nIn this special case, you can fetch the dataset from the original\nsource::\n\n    import pandas as pd\n    import numpy as np\n\n    data_url = \"http://lib.stat.cmu.edu/datasets/boston\"\n    raw_df = pd.read_csv(data_url, sep=\"\\s+\", skiprows=22, header=None)\n    data = np.hstack([raw_df.values[::2, :], raw_df.values[1::2, :2]])\n    target = raw_df.values[1::2, 2]\n\nAlternative datasets include the California housing dataset and the\nAmes housing dataset. You can load the datasets as follows::\n\n    from sklearn.datasets import fetch_california_housing\n    housing = fetch_california_housing()\n\nfor the California housing dataset and::\n\n    from sklearn.datasets import fetch_openml\n    housing = fetch_openml(name=\"house_prices\", as_frame=True)\n\nfor the Ames housing dataset.\n\n[1] M Carlisle.\n\"Racist data destruction?\"\n<https://medium.com/@docintangible/racist-data-destruction-113e3eff54a8>\n\n[2] Harrison Jr, David, and Daniel L. Rubinfeld.\n\"Hedonic housing prices and the demand for clean air.\"\nJournal of environmental economics and management 5.1 (1978): 81-102.\n<https://www.researchgate.net/publication/4974606_Hedonic_housing_prices_and_the_demand_for_clean_air>\n",
     "output_type": "error",
     "traceback": [
      "\u001b[0;31m---------------------------------------------------------------------------\u001b[0m",
      "\u001b[0;31mImportError\u001b[0m                               Traceback (most recent call last)",
      "Cell \u001b[0;32mIn[2], line 8\u001b[0m\n\u001b[1;32m      5\u001b[0m \u001b[39mfrom\u001b[39;00m \u001b[39msklearn\u001b[39;00m\u001b[39m.\u001b[39;00m\u001b[39mtree\u001b[39;00m \u001b[39mimport\u001b[39;00m DecisionTreeClassifier, DecisionTreeRegressor\n\u001b[1;32m      7\u001b[0m \u001b[39mfrom\u001b[39;00m \u001b[39msklearn\u001b[39;00m\u001b[39m.\u001b[39;00m\u001b[39mensemble\u001b[39;00m \u001b[39mimport\u001b[39;00m RandomForestClassifier, RandomForestRegressor\n\u001b[0;32m----> 8\u001b[0m \u001b[39mfrom\u001b[39;00m \u001b[39msklearn\u001b[39;00m\u001b[39m.\u001b[39;00m\u001b[39mdatasets\u001b[39;00m \u001b[39mimport\u001b[39;00m load_boston, load_iris, load_wine, load_digits, \\\n\u001b[1;32m      9\u001b[0m                              load_breast_cancer, load_diabetes\n\u001b[1;32m     10\u001b[0m \u001b[39mfrom\u001b[39;00m \u001b[39msklearn\u001b[39;00m\u001b[39m.\u001b[39;00m\u001b[39mmodel_selection\u001b[39;00m \u001b[39mimport\u001b[39;00m train_test_split\n\u001b[1;32m     11\u001b[0m \u001b[39mfrom\u001b[39;00m \u001b[39msklearn\u001b[39;00m\u001b[39m.\u001b[39;00m\u001b[39mmetrics\u001b[39;00m \u001b[39mimport\u001b[39;00m confusion_matrix, precision_score, recall_score\n",
      "File \u001b[0;32m~/Documentos/Projetos/.conda/lib/python3.11/site-packages/sklearn/datasets/__init__.py:157\u001b[0m, in \u001b[0;36m__getattr__\u001b[0;34m(name)\u001b[0m\n\u001b[1;32m    108\u001b[0m \u001b[39mif\u001b[39;00m name \u001b[39m==\u001b[39m \u001b[39m\"\u001b[39m\u001b[39mload_boston\u001b[39m\u001b[39m\"\u001b[39m:\n\u001b[1;32m    109\u001b[0m     msg \u001b[39m=\u001b[39m textwrap\u001b[39m.\u001b[39mdedent(\u001b[39m\"\"\"\u001b[39m\n\u001b[1;32m    110\u001b[0m \u001b[39m        `load_boston` has been removed from scikit-learn since version 1.2.\u001b[39m\n\u001b[1;32m    111\u001b[0m \n\u001b[0;32m   (...)\u001b[0m\n\u001b[1;32m    155\u001b[0m \u001b[39m        <https://www.researchgate.net/publication/4974606_Hedonic_housing_prices_and_the_demand_for_clean_air>\u001b[39m\n\u001b[1;32m    156\u001b[0m \u001b[39m        \u001b[39m\u001b[39m\"\"\"\u001b[39m)\n\u001b[0;32m--> 157\u001b[0m     \u001b[39mraise\u001b[39;00m \u001b[39mImportError\u001b[39;00m(msg)\n\u001b[1;32m    158\u001b[0m \u001b[39mtry\u001b[39;00m:\n\u001b[1;32m    159\u001b[0m     \u001b[39mreturn\u001b[39;00m \u001b[39mglobals\u001b[39m()[name]\n",
      "\u001b[0;31mImportError\u001b[0m: \n`load_boston` has been removed from scikit-learn since version 1.2.\n\nThe Boston housing prices dataset has an ethical problem: as\ninvestigated in [1], the authors of this dataset engineered a\nnon-invertible variable \"B\" assuming that racial self-segregation had a\npositive impact on house prices [2]. Furthermore the goal of the\nresearch that led to the creation of this dataset was to study the\nimpact of air quality but it did not give adequate demonstration of the\nvalidity of this assumption.\n\nThe scikit-learn maintainers therefore strongly discourage the use of\nthis dataset unless the purpose of the code is to study and educate\nabout ethical issues in data science and machine learning.\n\nIn this special case, you can fetch the dataset from the original\nsource::\n\n    import pandas as pd\n    import numpy as np\n\n    data_url = \"http://lib.stat.cmu.edu/datasets/boston\"\n    raw_df = pd.read_csv(data_url, sep=\"\\s+\", skiprows=22, header=None)\n    data = np.hstack([raw_df.values[::2, :], raw_df.values[1::2, :2]])\n    target = raw_df.values[1::2, 2]\n\nAlternative datasets include the California housing dataset and the\nAmes housing dataset. You can load the datasets as follows::\n\n    from sklearn.datasets import fetch_california_housing\n    housing = fetch_california_housing()\n\nfor the California housing dataset and::\n\n    from sklearn.datasets import fetch_openml\n    housing = fetch_openml(name=\"house_prices\", as_frame=True)\n\nfor the Ames housing dataset.\n\n[1] M Carlisle.\n\"Racist data destruction?\"\n<https://medium.com/@docintangible/racist-data-destruction-113e3eff54a8>\n\n[2] Harrison Jr, David, and Daniel L. Rubinfeld.\n\"Hedonic housing prices and the demand for clean air.\"\nJournal of environmental economics and management 5.1 (1978): 81-102.\n<https://www.researchgate.net/publication/4974606_Hedonic_housing_prices_and_the_demand_for_clean_air>\n"
     ]
    }
   ],
   "source": [
    "import numpy as np\n",
    "import pandas as pd\n",
    "\n",
    "from sklearn.linear_model import LinearRegression, Ridge, Lasso, LogisticRegression\n",
    "from sklearn.tree import DecisionTreeClassifier, DecisionTreeRegressor\n",
    "\n",
    "from sklearn.ensemble import RandomForestClassifier, RandomForestRegressor\n",
    "from sklearn.datasets import load_boston, load_iris, load_wine, load_digits, \\\n",
    "                             load_breast_cancer, load_diabetes\n",
    "from sklearn.model_selection import train_test_split\n",
    "from sklearn.metrics import confusion_matrix, precision_score, recall_score\n",
    "\n",
    "import matplotlib.pyplot as plt\n",
    "from matplotlib.collections import PatchCollection\n",
    "%config InlineBackend.figure_format = 'svg'  # Looks MUCH better than retina\n",
    "# %config InlineBackend.figure_format = 'retina'\n",
    "\n",
    "from rfpimp import *   # pip install rfpimp\n",
    "\n",
    "from sklearn import tree\n",
    "\n",
    "import dtreeviz\n",
    "from dtreeviz import decision_boundaries"
   ]
  },
  {
   "attachments": {},
   "cell_type": "markdown",
   "metadata": {},
   "source": [
    "## Wine data set\n"
   ]
  },
  {
   "cell_type": "code",
   "execution_count": 3,
   "metadata": {},
   "outputs": [
    {
     "ename": "NameError",
     "evalue": "name 'load_wine' is not defined",
     "output_type": "error",
     "traceback": [
      "\u001b[0;31m---------------------------------------------------------------------------\u001b[0m",
      "\u001b[0;31mNameError\u001b[0m                                 Traceback (most recent call last)",
      "Cell \u001b[0;32mIn[3], line 1\u001b[0m\n\u001b[0;32m----> 1\u001b[0m wine \u001b[39m=\u001b[39m load_wine()\n\u001b[1;32m      2\u001b[0m X \u001b[39m=\u001b[39m wine\u001b[39m.\u001b[39mdata\n\u001b[1;32m      3\u001b[0m X \u001b[39m=\u001b[39m X[:,[\u001b[39m12\u001b[39m,\u001b[39m6\u001b[39m]]\n",
      "\u001b[0;31mNameError\u001b[0m: name 'load_wine' is not defined"
     ]
    }
   ],
   "source": [
    "wine = load_wine()\n",
    "X = wine.data\n",
    "X = X[:, [12, 6]]\n",
    "y = wine.target"
   ]
  },
  {
   "cell_type": "code",
   "execution_count": null,
   "metadata": {},
   "outputs": [
    {
     "data": {
      "text/plain": [
       "RandomForestClassifier(min_samples_leaf=20, n_estimators=50, n_jobs=-1)"
      ]
     },
     "execution_count": 4,
     "metadata": {},
     "output_type": "execute_result"
    }
   ],
   "source": [
    "rf = RandomForestClassifier(n_estimators=50, min_samples_leaf=20, n_jobs=-1)\n",
    "rf.fit(X, y)"
   ]
  },
  {
   "cell_type": "code",
   "execution_count": null,
   "metadata": {},
   "outputs": [],
   "source": [
    "import pltvid\n",
    "\n",
    "dpi = 300\n",
    "camera = pltvid.Capture(dpi=dpi)\n",
    "max = 10\n",
    "for depth in range(1, max + 1):\n",
    "    t = DecisionTreeClassifier(max_depth=depth)\n",
    "    t.fit(X, y)\n",
    "\n",
    "    fig, ax = plt.subplots(1, 1, figsize=(4, 3.5), dpi=dpi)\n",
    "    decision_boundaries(\n",
    "        t, X, y, feature_names=[\"proline\", \"flavanoid\"], target_name=\"wine\", ax=ax\n",
    "    )\n",
    "    plt.title(f\"Wine tree depth {depth}\")\n",
    "    plt.tight_layout()\n",
    "    if depth >= max:\n",
    "        camera.snap(8)\n",
    "    else:\n",
    "        camera.snap()\n",
    "    # plt.show()\n",
    "\n",
    "camera.save(\"wine-dtree-maxdepth.png\", duration=500)  # animated png"
   ]
  },
  {
   "attachments": {},
   "cell_type": "markdown",
   "metadata": {},
   "source": [
    "## Synthetic data set\n"
   ]
  },
  {
   "cell_type": "code",
   "execution_count": null,
   "metadata": {},
   "outputs": [],
   "source": [
    "def smiley(n=1000):\n",
    "    # mouth\n",
    "    x1 = np.random.normal(1.0, 0.2, n).reshape(-1, 1)\n",
    "    x2 = np.random.normal(0.4, 0.05, n).reshape(-1, 1)\n",
    "    cl = np.full(shape=(n, 1), fill_value=0, dtype=int)\n",
    "    d = np.hstack([x1, x2, cl])\n",
    "    data = d\n",
    "\n",
    "    # left eye\n",
    "    x1 = np.random.normal(0.7, 0.2, n).reshape(-1, 1)\n",
    "    x2 = x1 + 0.3 + np.random.normal(0, 0.1, n).reshape(-1, 1)\n",
    "    cl = np.full(shape=(n, 1), fill_value=1, dtype=int)\n",
    "    d = np.hstack([x1, x2, cl])\n",
    "    data = np.vstack([data, d])\n",
    "\n",
    "    # right eye\n",
    "    x1 = np.random.normal(1.3, 0.2, n).reshape(-1, 1)\n",
    "    x2 = np.random.normal(0.8, 0.1, n).reshape(-1, 1)\n",
    "    x2 = x1 - 0.5 + 0.3 + np.random.normal(0, 0.1, n).reshape(-1, 1)\n",
    "    cl = np.full(shape=(n, 1), fill_value=2, dtype=int)\n",
    "    d = np.hstack([x1, x2, cl])\n",
    "    data = np.vstack([data, d])\n",
    "\n",
    "    # face outline\n",
    "    noise = np.random.normal(0, 0.1, n).reshape(-1, 1)\n",
    "    x1 = np.linspace(0, 2, n).reshape(-1, 1)\n",
    "    x2 = (x1 - 1) ** 2 + noise\n",
    "    cl = np.full(shape=(n, 1), fill_value=3, dtype=int)\n",
    "    d = np.hstack([x1, x2, cl])\n",
    "    data = np.vstack([data, d])\n",
    "\n",
    "    df = pd.DataFrame(data, columns=[\"x1\", \"x2\", \"class\"])\n",
    "    return df"
   ]
  },
  {
   "attachments": {},
   "cell_type": "markdown",
   "metadata": {},
   "source": [
    "### Animate num trees in RF\n"
   ]
  },
  {
   "cell_type": "code",
   "execution_count": null,
   "metadata": {},
   "outputs": [],
   "source": [
    "import pltvid\n",
    "\n",
    "df = smiley(n=100)\n",
    "X = df[[\"x1\", \"x2\"]]\n",
    "y = df[\"class\"]\n",
    "rf = RandomForestClassifier(n_estimators=10, min_samples_leaf=1, n_jobs=-1)\n",
    "rf.fit(X, y)\n",
    "\n",
    "dpi = 300\n",
    "camera = pltvid.Capture(dpi=dpi)\n",
    "max = 100\n",
    "tree_sizes = [*range(1, 10)] + [*range(10, max + 1, 5)]\n",
    "for nt in tree_sizes:\n",
    "    np.random.seed(1)  # use same bagging sets for animation\n",
    "    rf = RandomForestClassifier(n_estimators=nt, min_samples_leaf=1, n_jobs=-1)\n",
    "    rf.fit(X.values, y.values)\n",
    "\n",
    "    fig, ax = plt.subplots(1, 1, figsize=(5, 3.5), dpi=dpi)\n",
    "    decision_boundaries(\n",
    "        rf,\n",
    "        X.values,\n",
    "        y,\n",
    "        feature_names=[\"x1\", \"x2\"],\n",
    "        ntiles=70,\n",
    "        dot_w=15,\n",
    "        boundary_markersize=0.4,\n",
    "        ax=ax,\n",
    "    )\n",
    "    plt.title(f\"Synthetic dataset, {nt} trees\")\n",
    "    plt.tight_layout()\n",
    "    if nt >= tree_sizes[-1]:\n",
    "        camera.snap(5)\n",
    "    else:\n",
    "        camera.snap()\n",
    "    # plt.show()\n",
    "\n",
    "camera.save(\"smiley-numtrees.png\", duration=500)"
   ]
  },
  {
   "attachments": {},
   "cell_type": "markdown",
   "metadata": {},
   "source": [
    "### Animate decision tree max depth\n"
   ]
  },
  {
   "cell_type": "code",
   "execution_count": null,
   "metadata": {},
   "outputs": [],
   "source": [
    "import pltvid\n",
    "\n",
    "df = smiley(n=100)  # more stark changes with fewer\n",
    "X = df[[\"x1\", \"x2\"]]\n",
    "y = df[\"class\"]\n",
    "\n",
    "dpi = 300\n",
    "camera = pltvid.Capture(dpi=dpi)\n",
    "max = 10\n",
    "for depth in range(1, max + 1):\n",
    "    t = DecisionTreeClassifier(max_depth=depth)\n",
    "    t.fit(X.values, y.values)\n",
    "\n",
    "    fig, ax = plt.subplots(1, 1, figsize=(5, 3.5), dpi=dpi)\n",
    "    decision_boundaries(\n",
    "        t,\n",
    "        X,\n",
    "        y,\n",
    "        feature_names=[\"x1\", \"x2\"],\n",
    "        target_name=\"class\",\n",
    "        colors={\"scatter_edge\": \"black\", \"tessellation_alpha\": 0.6},\n",
    "        ax=ax,\n",
    "    )\n",
    "    plt.title(f\"Synthetic dataset, tree depth {depth}\")\n",
    "    plt.tight_layout()\n",
    "    if depth >= max:\n",
    "        camera.snap(8)\n",
    "    else:\n",
    "        camera.snap()\n",
    "    # plt.show()\n",
    "\n",
    "camera.save(\"smiley-dtree-maxdepth.png\", duration=500)"
   ]
  },
  {
   "attachments": {},
   "cell_type": "markdown",
   "metadata": {},
   "source": [
    "### Animate decision tree min samples per leaf\n"
   ]
  },
  {
   "cell_type": "code",
   "execution_count": null,
   "metadata": {},
   "outputs": [],
   "source": [
    "import pltvid\n",
    "\n",
    "df = smiley(n=100)\n",
    "X = df[[\"x1\", \"x2\"]]\n",
    "y = df[\"class\"]\n",
    "\n",
    "dpi = 300\n",
    "camera = pltvid.Capture(dpi=dpi)\n",
    "max = 20\n",
    "for leafsz in range(1, max + 1):\n",
    "    t = DecisionTreeClassifier(min_samples_leaf=leafsz)\n",
    "    t.fit(X.values, y.values)\n",
    "\n",
    "    fig, ax = plt.subplots(1, 1, figsize=(5, 3.5), dpi=dpi)\n",
    "    decision_boundaries(\n",
    "        t,\n",
    "        X,\n",
    "        y,\n",
    "        feature_names=[\"x1\", \"x2\"],\n",
    "        target_name=\"class\",\n",
    "        colors={\"scatter_edge\": \"black\", \"tessellation_alpha\": 0.4},\n",
    "        ax=ax,\n",
    "    )\n",
    "    plt.title(f\"Synthetic dataset, {leafsz} samples/leaf\")\n",
    "    plt.tight_layout()\n",
    "    if leafsz >= max:\n",
    "        camera.snap(8)\n",
    "    else:\n",
    "        camera.snap()\n",
    "    # plt.show()\n",
    "\n",
    "camera.save(\"smiley-dtree-minsamplesleaf.png\", duration=500)"
   ]
  }
 ],
 "metadata": {
  "kernelspec": {
   "display_name": "Python 3 (ipykernel)",
   "language": "python",
   "name": "python3"
  },
  "language_info": {
   "codemirror_mode": {
    "name": "ipython",
    "version": 3
   },
   "file_extension": ".py",
   "mimetype": "text/x-python",
   "name": "python",
   "nbconvert_exporter": "python",
   "pygments_lexer": "ipython3",
   "version": "3.11.3"
  }
 },
 "nbformat": 4,
 "nbformat_minor": 4
}
