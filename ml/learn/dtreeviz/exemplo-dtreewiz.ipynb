{
 "cells": [
  {
   "cell_type": "code",
   "execution_count": 30,
   "metadata": {},
   "outputs": [],
   "source": [
    "# !pip install IPython graphviz"
   ]
  },
  {
   "cell_type": "code",
   "execution_count": 31,
   "metadata": {},
   "outputs": [],
   "source": [
    "import pandas as pd\n",
    "import numpy as np\n",
    "import IPython, graphviz, re\n",
    "from io import StringIO\n",
    "from IPython.display import Image\n",
    "\n",
    "import math\n",
    "from sklearn import tree\n",
    "from sklearn.datasets import load_iris, load_wine, load_breast_cancer\n",
    "\n",
    "from collections import defaultdict\n",
    "import string\n",
    "import re\n",
    "import numpy as np\n",
    "import matplotlib.pyplot as plt"
   ]
  },
  {
   "cell_type": "code",
   "execution_count": 32,
   "metadata": {},
   "outputs": [],
   "source": [
    "#data_url = \"http://lib.stat.cmu.edu/datasets/boston\"\n",
    "url = \"https://archive.ics.uci.edu/ml/machine-learning-databases/housing/housing.data\"\n",
    "column_names = [\n",
    "    \"CRIM\",\n",
    "    \"ZN\",\n",
    "    \"INDUS\",\n",
    "    \"CHAS\",\n",
    "    \"NOX\",\n",
    "    \"RM\",\n",
    "    \"AGE\",\n",
    "    \"DIS\",\n",
    "    \"RAD\",\n",
    "    \"TAX\",\n",
    "    \"PTRATIO\",\n",
    "    \"B\",\n",
    "    \"LSTAT\",\n",
    "    \"MEDV\",\n",
    "]\n",
    "\n",
    "boston = pd.read_csv(url, header=None, delimiter=r\"\\s+\", names=column_names)\n",
    "#boston = pd.read_csv(data_url, sep=\"\\s+\", skiprows=22, header=None)\n",
    "#boston = pd.read_csv(data_url, sep=\"\\s+\", skiprows=22)\n",
    "data = np.hstack([boston.values[::2, :], boston.values[1::2, :2]])\n",
    "target = boston.values[1::2, 2]"
   ]
  },
  {
   "cell_type": "code",
   "execution_count": 33,
   "metadata": {},
   "outputs": [
    {
     "data": {
      "text/html": [
       "<div>\n",
       "<style scoped>\n",
       "    .dataframe tbody tr th:only-of-type {\n",
       "        vertical-align: middle;\n",
       "    }\n",
       "\n",
       "    .dataframe tbody tr th {\n",
       "        vertical-align: top;\n",
       "    }\n",
       "\n",
       "    .dataframe thead th {\n",
       "        text-align: right;\n",
       "    }\n",
       "</style>\n",
       "<table border=\"1\" class=\"dataframe\">\n",
       "  <thead>\n",
       "    <tr style=\"text-align: right;\">\n",
       "      <th></th>\n",
       "      <th>CRIM</th>\n",
       "      <th>ZN</th>\n",
       "      <th>INDUS</th>\n",
       "      <th>CHAS</th>\n",
       "      <th>NOX</th>\n",
       "      <th>RM</th>\n",
       "      <th>AGE</th>\n",
       "      <th>DIS</th>\n",
       "      <th>RAD</th>\n",
       "      <th>TAX</th>\n",
       "      <th>PTRATIO</th>\n",
       "      <th>B</th>\n",
       "      <th>LSTAT</th>\n",
       "      <th>MEDV</th>\n",
       "    </tr>\n",
       "  </thead>\n",
       "  <tbody>\n",
       "    <tr>\n",
       "      <th>0</th>\n",
       "      <td>0.00632</td>\n",
       "      <td>18.0</td>\n",
       "      <td>2.31</td>\n",
       "      <td>0</td>\n",
       "      <td>0.538</td>\n",
       "      <td>6.575</td>\n",
       "      <td>65.2</td>\n",
       "      <td>4.0900</td>\n",
       "      <td>1</td>\n",
       "      <td>296.0</td>\n",
       "      <td>15.3</td>\n",
       "      <td>396.90</td>\n",
       "      <td>4.98</td>\n",
       "      <td>24.0</td>\n",
       "    </tr>\n",
       "    <tr>\n",
       "      <th>1</th>\n",
       "      <td>0.02731</td>\n",
       "      <td>0.0</td>\n",
       "      <td>7.07</td>\n",
       "      <td>0</td>\n",
       "      <td>0.469</td>\n",
       "      <td>6.421</td>\n",
       "      <td>78.9</td>\n",
       "      <td>4.9671</td>\n",
       "      <td>2</td>\n",
       "      <td>242.0</td>\n",
       "      <td>17.8</td>\n",
       "      <td>396.90</td>\n",
       "      <td>9.14</td>\n",
       "      <td>21.6</td>\n",
       "    </tr>\n",
       "    <tr>\n",
       "      <th>2</th>\n",
       "      <td>0.02729</td>\n",
       "      <td>0.0</td>\n",
       "      <td>7.07</td>\n",
       "      <td>0</td>\n",
       "      <td>0.469</td>\n",
       "      <td>7.185</td>\n",
       "      <td>61.1</td>\n",
       "      <td>4.9671</td>\n",
       "      <td>2</td>\n",
       "      <td>242.0</td>\n",
       "      <td>17.8</td>\n",
       "      <td>392.83</td>\n",
       "      <td>4.03</td>\n",
       "      <td>34.7</td>\n",
       "    </tr>\n",
       "  </tbody>\n",
       "</table>\n",
       "</div>"
      ],
      "text/plain": [
       "      CRIM    ZN  INDUS  CHAS    NOX     RM   AGE     DIS  RAD    TAX  \\\n",
       "0  0.00632  18.0   2.31     0  0.538  6.575  65.2  4.0900    1  296.0   \n",
       "1  0.02731   0.0   7.07     0  0.469  6.421  78.9  4.9671    2  242.0   \n",
       "2  0.02729   0.0   7.07     0  0.469  7.185  61.1  4.9671    2  242.0   \n",
       "\n",
       "   PTRATIO       B  LSTAT  MEDV  \n",
       "0     15.3  396.90   4.98  24.0  \n",
       "1     17.8  396.90   9.14  21.6  \n",
       "2     17.8  392.83   4.03  34.7  "
      ]
     },
     "execution_count": 33,
     "metadata": {},
     "output_type": "execute_result"
    }
   ],
   "source": [
    "boston.head(3)"
   ]
  },
  {
   "cell_type": "code",
   "execution_count": 34,
   "metadata": {},
   "outputs": [
    {
     "data": {
      "text/plain": [
       "'\\nSave a sparkline image\\n'"
      ]
     },
     "execution_count": 34,
     "metadata": {},
     "output_type": "execute_result"
    }
   ],
   "source": [
    "# inspired by Mark Needham's blog\n",
    "# https://markhneedham.com/blog/2017/09/23/python-3-create-sparklines-using-matplotlib/\n",
    "\n",
    "#def sparkline(data, filename, fill=False, figsize=(4, 0.25), **kwags):\n",
    "\"\"\"\n",
    "Save a sparkline image\n",
    "\"\"\"\n",
    "\n",
    "#boston = load_boston()"
   ]
  },
  {
   "cell_type": "code",
   "execution_count": 35,
   "metadata": {
    "scrolled": true
   },
   "outputs": [
    {
     "data": {
      "image/png": "[encoded data removed]",
      "text/plain": [
       "<Figure size 1000x200 with 1 Axes>"
      ]
     },
     "metadata": {},
     "output_type": "display_data"
    }
   ],
   "source": [
    "data = data\n",
    "feature_names = column_names\n",
    "target = target\n",
    "\n",
    "fig, ax = plt.subplots(1, 1, figsize=(10,2))\n",
    "ax.scatter(data[:,0], target, s=2, alpha=.5)\n",
    "# ax.scatter(data[:,1], target, s=2)\n",
    "# ax.scatter(data[:,2], target, s=2)\n",
    "for k,v in ax.spines.items():\n",
    "    v.set_visible(False)\n",
    "ax.set_xticks([])\n",
    "ax.set_yticks([])\n",
    "\n",
    "plt.show()"
   ]
  },
  {
   "cell_type": "code",
   "execution_count": 36,
   "metadata": {
    "scrolled": true
   },
   "outputs": [
    {
     "data": {
      "image/png": "[encoded data removed]",
      "text/plain": [
       "<Figure size 1000x200 with 1 Axes>"
      ]
     },
     "metadata": {},
     "output_type": "display_data"
    }
   ],
   "source": [
    "fig, ax = plt.subplots(1, 1, figsize=(10,2))\n",
    "ax.scatter(data[:,1], target, s=2)\n",
    "for k,v in ax.spines.items():\n",
    "    v.set_visible(False)\n",
    "ax.set_xticks([])\n",
    "ax.set_yticks([])\n",
    "\n",
    "plt.show()"
   ]
  },
  {
   "cell_type": "code",
   "execution_count": 37,
   "metadata": {
    "scrolled": true
   },
   "outputs": [
    {
     "data": {
      "image/png": "[encoded data removed]",
      "text/plain": [
       "<Figure size 80x500 with 1 Axes>"
      ]
     },
     "metadata": {},
     "output_type": "display_data"
    }
   ],
   "source": [
    "y = np.array([16.2, 18., 14.3, 18.4, 15.6, 18.1, 17.4, 17.1, 13.3, 17.8, 14., 14.4, 13.4, 15.6\n",
    ", 11.8, 13.8, 15.6, 14.6, 17.8, 15.4, 19.4, 17., 15.6, 13.1, 17.8, 16.8, 13.8, 13.8\n",
    ", 13.9, 13.3, 13.1, 10.2, 10.9, 11.3, 12.3, 8.8, 7.2, 10.5, 7.4, 10.2, 11.5, 15.1\n",
    ", 23.2, 9.7, 13.8, 12.7, 13.1, 12.5, 8.5, 5., 6.3, 5.6, 7.2, 12.1, 8.3, 8.5\n",
    ", 5., 11.9, 7., 7.2, 7.5, 10.4, 8.8, 8.4, 16.7, 14.2, 13.4, 8.3, 10.9, 11.\n",
    ", 9.5, 14.3, 11.7, 13.4, 9.6, 8.7, 8.4, 12.8, 10.5, 17.1, 18.4, 15.4, 10.8, 11.8\n",
    ", 14.9, 12.6, 14.1, 13., 13.4, 15.2, 16.1, 14.9, 14.1, 12.7, 13.5, 14.9, 20., 16.4\n",
    ", 17.7, 19., 16.7, 12., 14.6, 15.2, 7., 8.1, 13.6])\n",
    "\n",
    "fig, ax = plt.subplots(1, 1, figsize=(.8,5))\n",
    "ax.xaxis.set_visible(False)\n",
    "ax.set_xticks([])\n",
    "#ax.set_xlim(0,.2)\n",
    "\n",
    "y_range = (3,50)\n",
    "ax.set_ylim(y_range)\n",
    "ax.tick_params(axis='both', which='major', labelsize=18)\n",
    "meanprops = {'linewidth':1.2,'linestyle':'-','color':'black'}\n",
    "bp =ax.boxplot(y, notch=False, medianprops={'linewidth':0}, meanprops=meanprops,\n",
    "           widths=[.9], showmeans=True, meanline=True, sym='', patch_artist=True)\n",
    "BLUE = \"#D9E6F5\"\n",
    "YELLOW = \"#fefecd\"\n",
    "for patch in bp['boxes']:\n",
    "    patch.set(facecolor=BLUE)       \n",
    "plt.show()"
   ]
  },
  {
   "cell_type": "code",
   "execution_count": 38,
   "metadata": {},
   "outputs": [
    {
     "data": {
      "image/png": "[encoded data removed]",
      "text/plain": [
       "<Figure size 80x500 with 1 Axes>"
      ]
     },
     "metadata": {},
     "output_type": "display_data"
    }
   ],
   "source": [
    "import seaborn as sns\n",
    "\n",
    "fig, ax = plt.subplots(1, 1, figsize=(.8,5))\n",
    "sns.set(style=\"white\")\n",
    "ax.set_ylim(3,50)\n",
    "#ax.set_ylim('', fontsize=28, fontname=\"Arial)\n",
    "#plt.xticks(fontsize=38)\n",
    "plt.tick_params(axis='both', which='major', labelsize=18)\n",
    "ax = sns.boxplot(y=y, color='#fee090', ax=ax, linewidth=1, sym='')"
   ]
  },
  {
   "cell_type": "code",
   "execution_count": 39,
   "metadata": {},
   "outputs": [
    {
     "name": "stderr",
     "output_type": "stream",
     "text": [
      "C:\\Users\\carlo\\AppData\\Local\\Temp\\ipykernel_14052\\2546904253.py:15: UserWarning: FixedFormatter should only be used together with FixedLocator\n",
      "  ax0.set_xticklabels(['ss','abc'])\n",
      "C:\\Users\\carlo\\AppData\\Local\\Temp\\ipykernel_14052\\2546904253.py:39: UserWarning: FixedFormatter should only be used together with FixedLocator\n",
      "  ax1.set_xticklabels(['foo'])\n"
     ]
    },
    {
     "data": {
      "image/png": "[encoded data removed]",
      "text/plain": [
       "<Figure size 380x500 with 2 Axes>"
      ]
     },
     "metadata": {},
     "output_type": "display_data"
    }
   ],
   "source": [
    "y = np.array([16.2, 18., 14.3, 18.4, 15.6, 18.1, 17.4, 17.1, 13.3, 17.8, 14., 14.4, 13.4, 15.6\n",
    ", 11.8, 13.8, 15.6, 14.6, 17.8, 15.4, 19.4, 17., 15.6, 13.1, 17.8, 16.8, 13.8, 13.8\n",
    ", 13.9, 13.3, 13.1, 10.2, 10.9, 11.3, 12.3, 8.8, 7.2, 10.5, 7.4, 10.2, 11.5, 15.1\n",
    ", 23.2, 9.7, 13.8, 12.7, 13.1, 12.5, 8.5, 5., 6.3, 5.6, 7.2, 12.1, 8.3, 8.5\n",
    ", 5., 11.9, 7., 7.2, 7.5, 10.4, 8.8, 8.4, 16.7, 14.2, 13.4, 8.3, 10.9, 11.\n",
    ", 9.5, 14.3, 11.7, 13.4, 9.6, 8.7, 8.4, 12.8, 10.5, 17.1, 18.4, 15.4, 10.8, 11.8\n",
    ", 14.9, 12.6, 14.1, 13., 13.4, 15.2, 16.1, 14.9, 14.1, 12.7, 13.5, 14.9, 20., 16.4\n",
    ", 17.7, 19., 16.7, 12., 14.6, 15.2, 7., 8.1, 13.6])\n",
    "\n",
    "fig, axes = plt.subplots(1, 2, figsize=(3.8,5))\n",
    "plt.subplots_adjust(wspace=.2)\n",
    "ax0 = axes[0]\n",
    "#ax0.xaxis.set_visible(False)\n",
    "#ax0.set_xlabel(\"price\", fontsize=18)\n",
    "ax0.set_xticklabels(['ss','abc'])\n",
    "#ax0.set_xticks([3], minor=True)\n",
    "\n",
    "y_range = (3,50)\n",
    "ax0.set_ylim(y_range)\n",
    "ax0.tick_params(axis='both', which='major', labelsize=18)\n",
    "meanprops = {'linewidth':1.2,'linestyle':'-','color':'black'}\n",
    "bp =ax0.boxplot(y, notch=False,\n",
    "                medianprops={'linewidth':0}, \n",
    "                meanprops=meanprops,\n",
    "                widths=[.9],\n",
    "                showmeans=True,\n",
    "                meanline=True,\n",
    "                sym='',\n",
    "                labels=[\"price\"],\n",
    "                patch_artist=True)\n",
    "\n",
    "BLUE = \"#D9E6F5\"\n",
    "YELLOW = \"#fefecd\"\n",
    "for patch in bp['boxes']:\n",
    "    patch.set(facecolor='#a6bddb')       \n",
    "    \n",
    "ax1 = axes[1]\n",
    "#ax1.xaxis.set_visible(False)\n",
    "ax1.set_xticklabels(['foo'])\n",
    "# ax1.set_xticklabels(['ff'], minor=False)\n",
    "#ax1.set_xlabel(\"n\", fontsize=18)\n",
    "ax1.yaxis.tick_right()\n",
    "ax1.set_ylim(0,350)\n",
    "ax1.tick_params(axis='both', which='major', labelsize=18)\n",
    "ax1.bar(0,223,color='yellow',tick_label='foo', linewidth=0)\n",
    "ax1.axhline(223, color=\"grey\")\n",
    "plt.show()"
   ]
  },
  {
   "cell_type": "code",
   "execution_count": 41,
   "metadata": {},
   "outputs": [
    {
     "ename": "TypeError",
     "evalue": "Can't instantiate abstract class ShadowDecTree with abstract methods classes, criterion, get_children_left, get_children_right, get_class_weight, get_class_weights, get_feature_path_importance, get_features, get_max_depth, get_min_samples_leaf, get_node_criterion, get_node_feature, get_node_nsamples, get_node_nsamples_by_class, get_node_samples, get_node_split, get_prediction, get_score, get_split_samples, get_thresholds, is_classifier, is_fit, nclasses, nnodes, shouldGoLeftAtSplit",
     "output_type": "error",
     "traceback": [
      "\u001b[1;31m---------------------------------------------------------------------------\u001b[0m",
      "\u001b[1;31mTypeError\u001b[0m                                 Traceback (most recent call last)",
      "Cell \u001b[1;32mIn[41], line 25\u001b[0m\n\u001b[0;32m     22\u001b[0m mycolors \u001b[39m=\u001b[39m [YELLOW,BLUE,GREEN]\n\u001b[0;32m     24\u001b[0m class_names\u001b[39m=\u001b[39m[\u001b[39m\"\u001b[39m\u001b[39msetosa\u001b[39m\u001b[39m\"\u001b[39m, \u001b[39m\"\u001b[39m\u001b[39mversicolor\u001b[39m\u001b[39m\"\u001b[39m, \u001b[39m\"\u001b[39m\u001b[39mvirginica\u001b[39m\u001b[39m\"\u001b[39m]\n\u001b[1;32m---> 25\u001b[0m shadow_tree \u001b[39m=\u001b[39m ShadowDecTree(clf, data, iris\u001b[39m.\u001b[39;49mtarget,\n\u001b[0;32m     26\u001b[0m                             feature_names\u001b[39m=\u001b[39;49miris\u001b[39m.\u001b[39;49mfeature_names, \n\u001b[0;32m     27\u001b[0m                             class_names\u001b[39m=\u001b[39;49mclass_names)\n\u001b[0;32m     29\u001b[0m node \u001b[39m=\u001b[39m shadow_tree\u001b[39m.\u001b[39mroot\n\u001b[0;32m     31\u001b[0m fig, ax \u001b[39m=\u001b[39m plt\u001b[39m.\u001b[39msubplots(\u001b[39m1\u001b[39m, \u001b[39m1\u001b[39m, figsize\u001b[39m=\u001b[39m(\u001b[39m15\u001b[39m,\u001b[39m7\u001b[39m))\n",
      "\u001b[1;31mTypeError\u001b[0m: Can't instantiate abstract class ShadowDecTree with abstract methods classes, criterion, get_children_left, get_children_right, get_class_weight, get_class_weights, get_feature_path_importance, get_features, get_max_depth, get_min_samples_leaf, get_node_criterion, get_node_feature, get_node_nsamples, get_node_nsamples_by_class, get_node_samples, get_node_split, get_prediction, get_score, get_split_samples, get_thresholds, is_classifier, is_fit, nclasses, nnodes, shouldGoLeftAtSplit"
     ]
    }
   ],
   "source": [
    "from dtreeviz.trees import *\n",
    "\n",
    "precision = 1\n",
    "GREY = '#444443'\n",
    "\n",
    "iris = load_iris()\n",
    "data = pd.DataFrame(iris.data)\n",
    "data.columns = iris.feature_names\n",
    "\n",
    "clf = tree.DecisionTreeClassifier(max_depth=2, random_state=666)\n",
    "clf = clf.fit(data, iris.target)\n",
    "\n",
    "YELLOW = \"#fefecd\" # \"#fbfbd0\" # \"#FBFEB0\"\n",
    "BLUE = \"#D9E6F5\"\n",
    "GREEN = \"#cfe2d4\"\n",
    "DARKBLUE = '#313695'\n",
    "DARKGREEN = '#006400'\n",
    "LIGHTORANGE = '#fee090'\n",
    "LIGHTBLUE = '#a6bddb'\n",
    "GREY = '#444443'\n",
    "dark_colors = [DARKBLUE, DARKGREEN, '#a50026', '#fdae61', '#c51b7d', '#fee090']\n",
    "mycolors = [YELLOW,BLUE,GREEN]\n",
    "\n",
    "class_names=[\"setosa\", \"versicolor\", \"virginica\"]\n",
    "shadow_tree = ShadowDecTree(clf, data, iris.target,\n",
    "                            feature_names=iris.feature_names, \n",
    "                            class_names=class_names)\n",
    "\n",
    "node = shadow_tree.root\n",
    "    \n",
    "fig, ax = plt.subplots(1, 1, figsize=(15,7))\n",
    "ax.set_xlabel(f\"variety\", fontsize=18, fontname=\"Arial\",\n",
    "              color='grey')\n",
    "ax.spines['top'].set_visible(False)\n",
    "ax.spines['right'].set_visible(False)\n",
    "ax.spines['left'].set_visible(False)\n",
    "\n",
    "n_classes = 3\n",
    "class_names = ['A','B','C']\n",
    "\n",
    "X = iris.data\n",
    "y = iris.target\n",
    "X = X[:,node.feature()]\n",
    "X, y = X[node.samples()], y[node.samples()]\n",
    "\n",
    "X_hist = [X[y==cl] for cl in range(n_classes)]\n",
    "\n",
    "binwidth = 30\n",
    "hist,bins,barcontainers = ax.hist(X_hist,\n",
    "              color=mycolors,\n",
    "               #bins=np.arange(min(X), max(X) + binwidth , binwidth),\n",
    "               label=class_names,\n",
    "               linewidth=3,\n",
    "              alpha=.85)\n",
    "#ax.legend(prop={'size': 18})\n",
    "\n",
    "for area in [100, 300, 500]:\n",
    "    plt.scatter([], [], c='k', alpha=0.3, s=area,\n",
    "                label=str(area) + ' km$^2$')\n",
    "plt.legend(scatterpoints=1, labelspacing=1)\n",
    "\n",
    "for patch in barcontainers:\n",
    "    for rect in patch.patches:\n",
    "#         rect.linestyle='solid'\n",
    "        rect.set_linewidth(1.2)\n",
    "        rect.set_edgecolor(GREY)\n",
    "    \n",
    "#    print(patch)\n",
    "#    patch.set(facecolor='#a6bddb')   \n",
    "    \n",
    "ax.set_xticks([round(node.split(),precision)])\n",
    "ax.set_ylabel(\"n\", fontsize=24)\n",
    "ax.tick_params(axis='x', direction='out', length=15, width=10, color=GREY,\n",
    "               labelsize=24)\n",
    "ax.tick_params(axis='y', color=GREY, labelsize=24)\n",
    "plt.show()"
   ]
  },
  {
   "cell_type": "code",
   "execution_count": null,
   "metadata": {},
   "outputs": [
    {
     "data": {
      "image/png": "[encoded data removed]",
      "text/plain": [
       "<Figure size 72x72 with 1 Axes>"
      ]
     },
     "metadata": {},
     "output_type": "display_data"
    }
   ],
   "source": [
    "import matplotlib.patches as patches\n",
    "from matplotlib.patches import FancyBboxPatch\n",
    "from matplotlib.transforms import Bbox\n",
    "from matplotlib.figure import figaspect\n",
    "import matplotlib.font_manager as font_manager\n",
    "\n",
    "GREY = '#444443'\n",
    "\n",
    "def draw_legend():\n",
    "    box1 = patches.Rectangle((0, 0), 20, 10, linewidth=.4, edgecolor=GREY,\n",
    "                             facecolor=\"#D9E6F5\", label='malignant')\n",
    "    #ax.add_patch(box1)\n",
    "    box2 = patches.Rectangle((0, 0), 0, 0, linewidth=.4, edgecolor=GREY,\n",
    "                             facecolor='#fee090', label='benign')\n",
    "\n",
    "\n",
    "    # font = font_manager.FontProperties(family='Arial',\n",
    "    #                                    style='normal',\n",
    "    #                                    size=16)\n",
    "\n",
    "    fs = figaspect(1/3)\n",
    "    fs = (1,1)\n",
    "    fig, ax = plt.subplots(1, 1, figsize=fs)\n",
    "    leg = ax.legend(handles=[box1,box2],\n",
    "                    frameon=True,\n",
    "                    loc='center',\n",
    "                    title='Price',\n",
    "                    handletextpad=.35,\n",
    "                    borderpad=.8,\n",
    "                    #          bbox_to_anchor=(0.0, 0.0),\n",
    "                    edgecolor=GREY,\n",
    "                    )\n",
    "\n",
    "    leg.get_title().set_color(GREY)\n",
    "    leg.get_title().set_fontsize(12)\n",
    "    leg.get_title().set_fontweight('bold')\n",
    "    for text in leg.get_texts():\n",
    "        text.set_color(GREY)\n",
    "        text.set_fontsize(12)\n",
    "\n",
    "    ax.set_xlim(0,20)\n",
    "    ax.set_ylim(0,10)\n",
    "    ax.axis('off')\n",
    "    ax.xaxis.set_visible(False)\n",
    "    ax.yaxis.set_visible(False)\n",
    "\n",
    "    plt.tight_layout()\n",
    "\n",
    "    plt.savefig(\"/tmp/legend.svg\", bbox_inches='tight', pad_inches=0)\n",
    "\n",
    "draw_legend()\n",
    "plt.show()"
   ]
  },
  {
   "cell_type": "code",
   "execution_count": null,
   "metadata": {},
   "outputs": [
    {
     "data": {
      "image/png": "[encoded data removed]",
      "text/plain": [
       "<Figure size 72x43.2 with 1 Axes>"
      ]
     },
     "metadata": {},
     "output_type": "display_data"
    }
   ],
   "source": [
    "import matplotlib.patches as patches\n",
    "from matplotlib.patches import FancyBboxPatch\n",
    "from matplotlib.transforms import Bbox\n",
    "from matplotlib.figure import figaspect\n",
    "\n",
    "fs = (1,1)\n",
    "fig, ax = plt.subplots(1, 1, figsize=(1,.6))\n",
    "box1 = patches.Rectangle((0, 0), 2, 1, linewidth=1.2, edgecolor='grey',\n",
    "                         facecolor='red', label='one')\n",
    "ax.add_patch(box1)\n",
    "\n",
    "ax.set_xlim(0,2)\n",
    "ax.set_ylim(0,1)\n",
    "ax.axis('off')\n",
    "ax.xaxis.set_visible(False)\n",
    "ax.yaxis.set_visible(False)\n",
    "\n",
    "plt.tight_layout()\n",
    "\n",
    "plt.savefig(\"/tmp/legend.svg\", bbox_inches='tight', pad_inches=0)\n",
    "\n",
    "plt.show()"
   ]
  },
  {
   "cell_type": "code",
   "execution_count": null,
   "metadata": {},
   "outputs": [
    {
     "data": {
      "text/plain": [
       "[array([0.2, 0.2, 0.2, 0.2, 0.2, 0.4, 0.3, 0.2, 0.2, 0.1, 0.2, 0.2, 0.1,\n",
       "        0.1, 0.2, 0.4, 0.4, 0.3, 0.3, 0.3, 0.2, 0.4, 0.2, 0.5, 0.2, 0.2,\n",
       "        0.4, 0.2, 0.2, 0.2, 0.2, 0.4, 0.1, 0.2, 0.2, 0.2, 0.2, 0.1, 0.2,\n",
       "        0.2, 0.3, 0.3, 0.2, 0.6, 0.4, 0.3, 0.2, 0.2, 0.2, 0.2]),\n",
       " array([1.4, 1.5, 1.5, 1.3, 1.5, 1.3, 1.6, 1. , 1.3, 1.4, 1. , 1.5, 1. ,\n",
       "        1.4, 1.3, 1.4, 1.5, 1. , 1.5, 1.1, 1.8, 1.3, 1.5, 1.2, 1.3, 1.4,\n",
       "        1.4, 1.7, 1.5, 1. , 1.1, 1. , 1.2, 1.6, 1.5, 1.6, 1.5, 1.3, 1.3,\n",
       "        1.3, 1.2, 1.4, 1.2, 1. , 1.3, 1.2, 1.3, 1.3, 1.1, 1.3]),\n",
       " array([2.5, 1.9, 2.1, 1.8, 2.2, 2.1, 1.7, 1.8, 1.8, 2.5, 2. , 1.9, 2.1,\n",
       "        2. , 2.4, 2.3, 1.8, 2.2, 2.3, 1.5, 2.3, 2. , 2. , 1.8, 2.1, 1.8,\n",
       "        1.8, 1.8, 2.1, 1.6, 1.9, 2. , 2.2, 1.5, 1.4, 2.3, 2.4, 1.8, 1.8,\n",
       "        2.1, 2.4, 2.3, 1.9, 2.3, 2.5, 2.3, 1.9, 2. , 2.3, 1.8])]"
      ]
     },
     "execution_count": 11,
     "metadata": {},
     "output_type": "execute_result"
    }
   ],
   "source": [
    "X_hist"
   ]
  },
  {
   "cell_type": "code",
   "execution_count": null,
   "metadata": {
    "scrolled": true
   },
   "outputs": [
    {
     "ename": "NameError",
     "evalue": "name 'iris' is not defined",
     "output_type": "error",
     "traceback": [
      "\u001b[1;31m---------------------------------------------------------------------------\u001b[0m",
      "\u001b[1;31mNameError\u001b[0m                                 Traceback (most recent call last)",
      "Cell \u001b[1;32mIn[28], line 5\u001b[0m\n\u001b[0;32m      2\u001b[0m \u001b[39mfrom\u001b[39;00m \u001b[39msklearn\u001b[39;00m\u001b[39m.\u001b[39;00m\u001b[39mneighbors\u001b[39;00m \u001b[39mimport\u001b[39;00m KernelDensity\n\u001b[0;32m      4\u001b[0m fig, ax \u001b[39m=\u001b[39m plt\u001b[39m.\u001b[39msubplots(\u001b[39m1\u001b[39m, \u001b[39m1\u001b[39m, figsize\u001b[39m=\u001b[39m(\u001b[39m12\u001b[39m,\u001b[39m3\u001b[39m))\n\u001b[1;32m----> 5\u001b[0m X \u001b[39m=\u001b[39m iris\u001b[39m.\u001b[39mdata\n\u001b[0;32m      6\u001b[0m y \u001b[39m=\u001b[39m iris\u001b[39m.\u001b[39mtarget\n\u001b[0;32m      7\u001b[0m n_cols \u001b[39m=\u001b[39m X\u001b[39m.\u001b[39mshape[\u001b[39m1\u001b[39m]\n",
      "\u001b[1;31mNameError\u001b[0m: name 'iris' is not defined"
     ]
    },
    {
     "data": {
      "image/png": "[encoded data removed]",
      "text/plain": [
       "<Figure size 1200x300 with 1 Axes>"
      ]
     },
     "metadata": {},
     "output_type": "display_data"
    }
   ],
   "source": [
    "from scipy import stats\n",
    "from sklearn.neighbors import KernelDensity\n",
    "\n",
    "fig, ax = plt.subplots(1, 1, figsize=(12,3))\n",
    "X = iris.data\n",
    "y = iris.target\n",
    "n_cols = X.shape[1]\n",
    "X_hist = [X[y==cl] for cl in range(n_classes)]\n",
    "\n",
    "i_splitvar = 3\n",
    "\n",
    "ranges = [(np.min(X_hist[cl][:,i_splitvar]),np.max(X_hist[cl][:,i_splitvar])) for cl in range(n_classes)]\n",
    "print(ranges)\n",
    "\n",
    "for cl in range(n_classes):\n",
    "    r=ranges[cl]\n",
    "    print(r)\n",
    "    X = X_hist[cl][:,i_splitvar]\n",
    "    x_grid = np.linspace(r[0]-r[0]*.25, r[1]*1.25, 1000)\n",
    "    if False:\n",
    "        kernel = stats.gaussian_kde(X)\n",
    "        heights = kernel.evaluate(x_grid)\n",
    "    n = len(X)\n",
    "    d = 1\n",
    "    print(n)\n",
    "    bw = n**(-1./(3))\n",
    "    bw = (n * (d + 2) / 4.)**(-1. / (d + 4))\n",
    "    bw /= 6\n",
    "    kde = KernelDensity(kernel='gaussian', bandwidth=bw).fit(X.reshape(-1, 1))\n",
    "    log_dens = kde.score_samples(x_grid.reshape(-1, 1))\n",
    "    heights = np.exp(log_dens)\n",
    "#     print(heights)\n",
    "    plt.plot(x_grid, heights, linewidth=1, c='black')\n",
    "    plt.fill(x_grid, heights, alpha=.6)\n",
    "#    plt.ylim(0.0,3)\n",
    "\n",
    "\n",
    "x = 2.5\n",
    "xaxis_y = bbox.y0\n",
    "\n",
    "#tria = np.array([[x,xaxis_y],[x-10,xaxis_y-10],[x+10,xaxis_y-10]])\n",
    "tria = np.array([[x,0],[x-.2,-.3],[x+.2,-0.3]])\n",
    "t = patches.Polygon(tria, linewidth=1.2, edgecolor='orange',\n",
    "                      facecolor='orange', label='foo')\n",
    "t.set_clip_on(False)\n",
    "ax.set_xlabel(f'petal length')\n",
    "#ax.add_patch(t)\n",
    "#ax.set_xticks([])\n",
    "#ax.yaxis.set_visible(False)\n",
    "ax.spines['top'].set_visible(False)\n",
    "ax.spines['right'].set_visible(False)\n",
    "ax.spines['left'].set_visible(False)\n",
    "plt.show()"
   ]
  },
  {
   "cell_type": "code",
   "execution_count": null,
   "metadata": {
    "scrolled": true
   },
   "outputs": [
    {
     "ename": "NameError",
     "evalue": "name 'iris' is not defined",
     "output_type": "error",
     "traceback": [
      "\u001b[1;31m---------------------------------------------------------------------------\u001b[0m",
      "\u001b[1;31mNameError\u001b[0m                                 Traceback (most recent call last)",
      "Cell \u001b[1;32mIn[27], line 5\u001b[0m\n\u001b[0;32m      2\u001b[0m \u001b[39mfrom\u001b[39;00m \u001b[39msklearn\u001b[39;00m\u001b[39m.\u001b[39;00m\u001b[39mneighbors\u001b[39;00m \u001b[39mimport\u001b[39;00m KernelDensity\n\u001b[0;32m      4\u001b[0m fig, ax \u001b[39m=\u001b[39m plt\u001b[39m.\u001b[39msubplots(\u001b[39m1\u001b[39m, \u001b[39m1\u001b[39m, figsize\u001b[39m=\u001b[39m(\u001b[39m12\u001b[39m,\u001b[39m3\u001b[39m))\n\u001b[1;32m----> 5\u001b[0m X \u001b[39m=\u001b[39m iris\u001b[39m.\u001b[39mdata\n\u001b[0;32m      6\u001b[0m y \u001b[39m=\u001b[39m iris\u001b[39m.\u001b[39mtarget\n\u001b[0;32m      7\u001b[0m n_cols \u001b[39m=\u001b[39m X\u001b[39m.\u001b[39mshape[\u001b[39m1\u001b[39m]\n",
      "\u001b[1;31mNameError\u001b[0m: name 'iris' is not defined"
     ]
    },
    {
     "data": {
      "image/png": "[encoded data removed]",
      "text/plain": [
       "<Figure size 1200x300 with 1 Axes>"
      ]
     },
     "metadata": {},
     "output_type": "display_data"
    }
   ],
   "source": [
    "from scipy import stats\n",
    "from sklearn.neighbors import KernelDensity\n",
    "\n",
    "fig, ax = plt.subplots(1, 1, figsize=(12,3))\n",
    "X = iris.data\n",
    "y = iris.target\n",
    "n_cols = X.shape[1]\n",
    "X_hist = [X[y==cl] for cl in range(n_classes)]\n",
    "\n",
    "i_splitvar = 3\n",
    "\n",
    "ranges = [(np.min(X_hist[cl][:,i_splitvar]),np.max(X_hist[cl][:,i_splitvar])) for cl in range(n_classes)]\n",
    "\n",
    "\n",
    "colors = [\"#fefecd\",\"#D9E6F5\",'#a1dab4']\n",
    "\n",
    "for cl in range(n_classes):\n",
    "    X = X_hist[cl][:,i_splitvar]\n",
    "    hist, bin_edges = np.histogram(X, density=False)\n",
    "#     print(hist, bin_edges)\n",
    "    print(X)\n",
    "#     plt.scatter(X, [0]*len(X), s=50, alpha=.1, c=colors[cl], linewidth=.5, edgecolor='grey')\n",
    "    plt.scatter(bin_edges, [0]*len(bin_edges), s=hist**2*20, alpha=.7, c=colors[cl], linewidth=1.2, edgecolor='grey')\n",
    "\n",
    "x = 2.5\n",
    "xaxis_y = bbox.y0\n",
    "ax.set_ylim(-10,10)\n",
    "#tria = np.array([[x,xaxis_y],[x-10,xaxis_y-10],[x+10,xaxis_y-10]])\n",
    "tria = np.array([[x,0],[x-.2,-.3],[x+.2,-0.3]])\n",
    "t = patches.Polygon(tria, linewidth=1.2, edgecolor='orange',\n",
    "                      facecolor='orange', label='foo')\n",
    "t.set_clip_on(False)\n",
    "ax.set_xlabel(f'petal length')\n",
    "#ax.add_patch(t)\n",
    "#ax.set_xticks([])\n",
    "#ax.yaxis.set_visible(False)\n",
    "ax.spines['top'].set_visible(False)\n",
    "ax.spines['right'].set_visible(False)\n",
    "ax.spines['left'].set_visible(False)\n",
    "plt.show()"
   ]
  },
  {
   "cell_type": "code",
   "execution_count": null,
   "metadata": {},
   "outputs": [],
   "source": [
    "import matplotlib.patches as patches\n",
    "from matplotlib.patches import FancyBboxPatch\n",
    "from matplotlib.transforms import Bbox\n",
    "from matplotlib.figure import figaspect\n",
    "\n",
    "size = 1\n",
    "fig, ax = plt.subplots(1, 1, figsize=(size,size), subplot_kw=dict(aspect=\"equal\"))\n",
    "\n",
    "ratios = [50, 4, 0, 19]\n",
    "#ax.axis('equal')  # Equal aspect ratio ensures that pie is drawn as a circle.\n",
    "patches, _ = ax.pie(ratios, radius=1, shadow=False)\n",
    "for patch in patches:\n",
    "    print(patch)\n",
    "    patch.set_linewidth(.5)\n",
    "    patch.set_edgecolor('black')\n",
    "\n",
    "plt.show()"
   ]
  },
  {
   "cell_type": "code",
   "execution_count": null,
   "metadata": {
    "scrolled": true
   },
   "outputs": [],
   "source": [
    "data = boston.data\n",
    "feature_names = boston.feature_names\n",
    "target = boston.target\n",
    "\n",
    "fig, ax = plt.subplots(1, 1, figsize=(6,2))\n",
    "mu = 0\n",
    "sigma=.2\n",
    "x = np.random.normal(mu, sigma, size=len(target))\n",
    "ax.scatter(x, target, s=5, alpha=.7)\n",
    "# ax.scatter(data[:,1], target, s=2)\n",
    "# ax.scatter(data[:,2], target, s=2)\n",
    "\n",
    "plt.show()"
   ]
  },
  {
   "cell_type": "code",
   "execution_count": null,
   "metadata": {},
   "outputs": [],
   "source": [
    "data = pd.DataFrame(boston.data)\n",
    "data.columns = boston.feature_names\n",
    "data"
   ]
  },
  {
   "attachments": {},
   "cell_type": "markdown",
   "metadata": {},
   "source": [
    "# Generate table\n"
   ]
  }
 ],
 "metadata": {
  "kernelspec": {
   "display_name": "Python 3",
   "language": "python",
   "name": "python3"
  },
  "language_info": {
   "codemirror_mode": {
    "name": "ipython",
    "version": 3
   },
   "file_extension": ".py",
   "mimetype": "text/x-python",
   "name": "python",
   "nbconvert_exporter": "python",
   "pygments_lexer": "ipython3",
   "version": "3.10.9"
  },
  "toc": {
   "nav_menu": {
    "height": "12px",
    "width": "252px"
   },
   "number_sections": true,
   "sideBar": true,
   "skip_h1_title": false,
   "toc_cell": false,
   "toc_position": {},
   "toc_section_display": "block",
   "toc_window_display": false
  }
 },
 "nbformat": 4,
 "nbformat_minor": 2
}
