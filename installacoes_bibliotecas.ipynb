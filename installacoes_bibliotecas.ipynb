{
 "cells": [
  {
   "attachments": {},
   "cell_type": "markdown",
   "metadata": {},
   "source": [
    "# Instalações das bibliotecas\n"
   ]
  },
  {
   "cell_type": "code",
   "execution_count": 1,
   "metadata": {},
   "outputs": [],
   "source": [
    "# !pip install dtreeviz             # install dtreeviz for sklearn\n",
    "# !pip install dtreeviz[xgboost]    # install XGBoost related dependency\n",
    "# !pip install dtreeviz[pyspark]    # install pyspark related dependency\n",
    "# !pip install dtreeviz[lightgbm]   # install LightGBM related dependency\n",
    "# !pip install dtreeviz[tensorflow_decision_forests]   # install tensorflow_decision_forests related dependency\n",
    "# #!pip install dtreeviz[all]        # install all related dependencies\n",
    "\n",
    "! pip install -U sklearn\n",
    "! pip install -U graphviz\n",
    "! pip install -U pandas\n",
    "! pip install -U dtreeviz\n",
    "\n",
    "! pip install -U scikit_learn\n",
    "! pip install -U ydata-profiling\n",
    "! pip install -U plotly\n",
    "! pip install -U nbformat\n",
    "! pip install -U pandas\n",
    "! pip install -U matplotlib\n",
    "! pip install -U regex"
   ]
  },
  {
   "cell_type": "code",
   "execution_count": 1,
   "metadata": {},
   "outputs": [],
   "source": [
    "! pip install --quiet -U sklearn\n",
    "! pip install --quiet -U graphviz\n",
    "! pip install --quiet -U pandas\n",
    "! pip install --quiet -U dtreeviz\n",
    "\n",
    "! pip install --quiet -U scikit_learn\n",
    "! pip install --quiet -U ydata-profiling\n",
    "! pip install --quiet -U plotly\n",
    "! pip install --quiet -U nbformat\n",
    "! pip install --quiet -U pandas\n",
    "! pip install --quiet -U matplotlib\n",
    "! pip install --quiet -U regex"
   ]
  },
  {
   "attachments": {},
   "cell_type": "markdown",
   "metadata": {},
   "source": [
    "# Tirar as mensagens\n"
   ]
  },
  {
   "cell_type": "code",
   "execution_count": null,
   "metadata": {},
   "outputs": [],
   "source": [
    "import warnings\n",
    "from sklearn.exceptions import ConvergenceWarning\n",
    "\n",
    "warnings.simplefilter(action=\"ignore\", category=FutureWarning)\n",
    "warnings.simplefilter(\"ignore\", category=ConvergenceWarning)\n",
    "\n",
    "pd.set_option(\"display.max_columns\", None)\n",
    "pd.set_option(\"display.max_rows\", None)\n",
    "pd.set_option(\"display.width\", None)"
   ]
  }
 ],
 "metadata": {
  "kernelspec": {
   "display_name": "Python 3 (ipykernel)",
   "language": "python",
   "name": "python3"
  },
  "language_info": {
   "codemirror_mode": {
    "name": "ipython",
    "version": 3
   },
   "file_extension": ".py",
   "mimetype": "text/x-python",
   "name": "python",
   "nbconvert_exporter": "python",
   "pygments_lexer": "ipython3",
   "version": "3.11.3"
  }
 },
 "nbformat": 4,
 "nbformat_minor": 4
}
